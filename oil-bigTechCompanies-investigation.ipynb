{
 "cells": [
  {
   "cell_type": "markdown",
   "metadata": {
    "id": "GNIwe5N7s0e_"
   },
   "source": [
    "<div align=\"center\"> \n",
    "\n",
    "# Investigating Oil prices and Big Tech. Companies Stock Market \n",
    "\n",
    "<p>Between 2001-1-1 - 2023-12-31</p>\n",
    "</div>"
   ]
  },
  {
   "cell_type": "markdown",
   "metadata": {
    "id": "_BG63Tpg8ep_"
   },
   "source": [
    "In this project, the skills acquired from advanced data wrangling course are applied to gather and wrangle real-world data with two datasets. They are retrieved and extractd, then assessed programmatically and visually, accross elements of data quality and structure, and a cleaning strategy for the data was implemented. Then the updated data is stored into the directiry ./data as a data store, combined the data, and tried to answer a research question with these datasets."
   ]
  },
  {
   "cell_type": "markdown",
   "metadata": {
    "id": "LbN7z7rcuqpO"
   },
   "source": [
    "## **1.** Problem Statement\n",
    "\n",
    "In this reserach, the stock prices of major tech companies (such as Apple, Microsoft, Google, Amazon, and META) and oil prices over the period spanning from January 2001 to December 2023 are investigated. By examining historical data for both sectors, the aim is to uncover insights into how changes in oil prices impact the financial performance of big tech companies, and vice versa.\n",
    "The datasets would include the stock market data for:\n",
    "- META\n",
    "- AMazon\n",
    "- Google\n",
    "- Apple"
   ]
  },
  {
   "cell_type": "markdown",
   "metadata": {},
   "source": [
    "## **2.** Solution Pipeline\n",
    "1. Gather Data\n",
    "2. Asses Data\n",
    "3. Clean Data\n",
    "4. Store Data\n",
    "5. Answering Research Questions"
   ]
  },
  {
   "cell_type": "markdown",
   "metadata": {},
   "source": [
    "### Neccessary Imports"
   ]
  },
  {
   "cell_type": "code",
   "execution_count": 1,
   "metadata": {},
   "outputs": [],
   "source": [
    "## Run this cell to successfully run this notebook\n",
    "## !pip install yfinance"
   ]
  },
  {
   "cell_type": "code",
   "execution_count": 94,
   "metadata": {},
   "outputs": [],
   "source": [
    "import requests\n",
    "import pandas as pd\n",
    "import yfinance as yf\n",
    "import requests\n",
    "import config\n",
    "import seaborn as sns\n",
    "import matplotlib.pyplot as plt\n",
    "import numpy as np\n",
    "from sklearn.preprocessing import StandardScaler"
   ]
  },
  {
   "cell_type": "markdown",
   "metadata": {
    "id": "lDYDkH-Zs7Nn"
   },
   "source": [
    "## 3. Gather data\n",
    "\n",
    "In this section, data using two different (data gathering methods) are extractand and then combined. Two different types of data-gathering methods are use:\n",
    "- Programmatically downloading files\n",
    "- Gathering data by accessing APIs"
   ]
  },
  {
   "cell_type": "markdown",
   "metadata": {
    "id": "8AQfBAdUypMm"
   },
   "source": [
    "### **3.1.** Gathering Data Methods and Code\n",
    "\n",
    "In this project, two types of data gathering are use: \n",
    "- Programmatically downloading files\n",
    "- Gathering data by accessing APIs\n",
    "\n",
    "Each of the datasets have at least two variables, and have greater than 500 data samples within."
   ]
  },
  {
   "cell_type": "markdown",
   "metadata": {
    "id": "7e6gS0wL1KTu"
   },
   "source": [
    "#### **Dataset 1**: Oils and Petroleum dataset "
   ]
  },
  {
   "cell_type": "markdown",
   "metadata": {},
   "source": [
    "##### *About this dataset*\n",
    "\n",
    "**Type:** JSON response\n",
    "\n",
    "**Method:** The data was gathered using the \"by accessing APIs\" method from https://api.eia.gov/v2/petroleum/pri/spt/data/\n",
    "\n",
    "**Dataset variables:**\n",
    "\n",
    "| Column Name | Description |\n",
    "|---|---|\n",
    "| period |  date associated with the data point |\n",
    "| duoarea | identifier for a specific geographical area |\n",
    "| area-name | area name |\n",
    "| product | identifier for the specific petroleum product |\n",
    "| product-name | name of the product |\n",
    "| process | identifier for the specific process |\n",
    "| process-name | The name of the process used |\n",
    "| series | identifier for the specific data series |\n",
    "| series-description | descriptive text name or label for the data |\n",
    "|value| The price|\n",
    "|units| unit of the price |"
   ]
  },
  {
   "cell_type": "markdown",
   "metadata": {},
   "source": [
    "##### *Gathering by API*"
   ]
  },
  {
   "cell_type": "code",
   "execution_count": 3,
   "metadata": {
    "id": "Su8E0uLuYkHU"
   },
   "outputs": [
    {
     "data": {
      "text/html": [
       "<div>\n",
       "<style scoped>\n",
       "    .dataframe tbody tr th:only-of-type {\n",
       "        vertical-align: middle;\n",
       "    }\n",
       "\n",
       "    .dataframe tbody tr th {\n",
       "        vertical-align: top;\n",
       "    }\n",
       "\n",
       "    .dataframe thead th {\n",
       "        text-align: right;\n",
       "    }\n",
       "</style>\n",
       "<table border=\"1\" class=\"dataframe\">\n",
       "  <thead>\n",
       "    <tr style=\"text-align: right;\">\n",
       "      <th></th>\n",
       "      <th>period</th>\n",
       "      <th>duoarea</th>\n",
       "      <th>area-name</th>\n",
       "      <th>product</th>\n",
       "      <th>product-name</th>\n",
       "      <th>process</th>\n",
       "      <th>process-name</th>\n",
       "      <th>series</th>\n",
       "      <th>series-description</th>\n",
       "      <th>value</th>\n",
       "      <th>units</th>\n",
       "    </tr>\n",
       "  </thead>\n",
       "  <tbody>\n",
       "    <tr>\n",
       "      <th>562</th>\n",
       "      <td>2010-09-20</td>\n",
       "      <td>R1X</td>\n",
       "      <td>PADD 1A</td>\n",
       "      <td>EPD2DXL0</td>\n",
       "      <td>No 2 Diesel Low Sulfur (0-15 ppm)</td>\n",
       "      <td>PTE</td>\n",
       "      <td>Retail Sales</td>\n",
       "      <td>EMD_EPD2DXL0_PTE_R1X_DPG</td>\n",
       "      <td>New England (PADD 1A) No 2 Diesel Ultra Low Su...</td>\n",
       "      <td>2.997</td>\n",
       "      <td>$/GAL</td>\n",
       "    </tr>\n",
       "    <tr>\n",
       "      <th>2534</th>\n",
       "      <td>2016-04-18</td>\n",
       "      <td>YMIA</td>\n",
       "      <td>MIAMI</td>\n",
       "      <td>EPM0</td>\n",
       "      <td>Total Gasoline</td>\n",
       "      <td>PTE</td>\n",
       "      <td>Retail Sales</td>\n",
       "      <td>EMM_EPM0_PTE_YMIA_DPG</td>\n",
       "      <td>Miami, FL All Grades All Formulations Retail G...</td>\n",
       "      <td>2.435</td>\n",
       "      <td>$/GAL</td>\n",
       "    </tr>\n",
       "    <tr>\n",
       "      <th>2134</th>\n",
       "      <td>2015-02-02</td>\n",
       "      <td>R1X</td>\n",
       "      <td>PADD 1A</td>\n",
       "      <td>EPM0</td>\n",
       "      <td>Total Gasoline</td>\n",
       "      <td>PTE</td>\n",
       "      <td>Retail Sales</td>\n",
       "      <td>EMM_EPM0_PTE_R1X_DPG</td>\n",
       "      <td>New England (PADD 1A) All Grades All Formulati...</td>\n",
       "      <td>2.242</td>\n",
       "      <td>$/GAL</td>\n",
       "    </tr>\n",
       "    <tr>\n",
       "      <th>1514</th>\n",
       "      <td>2014-05-12</td>\n",
       "      <td>R10</td>\n",
       "      <td>PADD 1</td>\n",
       "      <td>EPM0</td>\n",
       "      <td>Total Gasoline</td>\n",
       "      <td>PTE</td>\n",
       "      <td>Retail Sales</td>\n",
       "      <td>EMM_EPM0_PTE_R10_DPG</td>\n",
       "      <td>East Coast All Grades All Formulations Retail ...</td>\n",
       "      <td>3.779</td>\n",
       "      <td>$/GAL</td>\n",
       "    </tr>\n",
       "    <tr>\n",
       "      <th>108</th>\n",
       "      <td>2021-12-06</td>\n",
       "      <td>R1Z</td>\n",
       "      <td>PADD 1C</td>\n",
       "      <td>EPD2DXL0</td>\n",
       "      <td>No 2 Diesel Low Sulfur (0-15 ppm)</td>\n",
       "      <td>PTE</td>\n",
       "      <td>Retail Sales</td>\n",
       "      <td>EMD_EPD2DXL0_PTE_R1Z_DPG</td>\n",
       "      <td>Lower Atlantic (PADD 1C) No 2 Diesel Ultra Low...</td>\n",
       "      <td>3.556</td>\n",
       "      <td>$/GAL</td>\n",
       "    </tr>\n",
       "  </tbody>\n",
       "</table>\n",
       "</div>"
      ],
      "text/plain": [
       "          period duoarea area-name   product  \\\n",
       "562   2010-09-20     R1X   PADD 1A  EPD2DXL0   \n",
       "2534  2016-04-18    YMIA     MIAMI      EPM0   \n",
       "2134  2015-02-02     R1X   PADD 1A      EPM0   \n",
       "1514  2014-05-12     R10    PADD 1      EPM0   \n",
       "108   2021-12-06     R1Z   PADD 1C  EPD2DXL0   \n",
       "\n",
       "                           product-name process  process-name  \\\n",
       "562   No 2 Diesel Low Sulfur (0-15 ppm)     PTE  Retail Sales   \n",
       "2534                     Total Gasoline     PTE  Retail Sales   \n",
       "2134                     Total Gasoline     PTE  Retail Sales   \n",
       "1514                     Total Gasoline     PTE  Retail Sales   \n",
       "108   No 2 Diesel Low Sulfur (0-15 ppm)     PTE  Retail Sales   \n",
       "\n",
       "                        series  \\\n",
       "562   EMD_EPD2DXL0_PTE_R1X_DPG   \n",
       "2534     EMM_EPM0_PTE_YMIA_DPG   \n",
       "2134      EMM_EPM0_PTE_R1X_DPG   \n",
       "1514      EMM_EPM0_PTE_R10_DPG   \n",
       "108   EMD_EPD2DXL0_PTE_R1Z_DPG   \n",
       "\n",
       "                                     series-description  value  units  \n",
       "562   New England (PADD 1A) No 2 Diesel Ultra Low Su...  2.997  $/GAL  \n",
       "2534  Miami, FL All Grades All Formulations Retail G...  2.435  $/GAL  \n",
       "2134  New England (PADD 1A) All Grades All Formulati...  2.242  $/GAL  \n",
       "1514  East Coast All Grades All Formulations Retail ...  3.779  $/GAL  \n",
       "108   Lower Atlantic (PADD 1C) No 2 Diesel Ultra Low...  3.556  $/GAL  "
      ]
     },
     "execution_count": 3,
     "metadata": {},
     "output_type": "execute_result"
    }
   ],
   "source": [
    "## Gather the data using the \"Gather data by accessing APIs\" method from https://api.eia.gov\n",
    "api_key = config.EIA_API_KEY\n",
    "url = f'https://api.eia.gov/v2/petroleum/pri/gnd/data/?'\n",
    "\n",
    "params = {\n",
    "    'api_key':api_key,\n",
    "    \"frequency\": \"weekly\",\n",
    "    \"data[0]\": \"value\",\n",
    "    \"facets\": {},\n",
    "    \"start\": \"2005-01-01\",\n",
    "    \"end\": \"2023-12-31\",\n",
    "    \"offset\": 0,\n",
    "    \"length\": 5000\n",
    "}\n",
    "\n",
    "response = requests.get(url, params=params)\n",
    "data = response.json()\n",
    "oil_data =pd.DataFrame(data['response']['data'])\n",
    "oil_data.sample(5)"
   ]
  },
  {
   "cell_type": "code",
   "execution_count": 4,
   "metadata": {},
   "outputs": [
    {
     "data": {
      "text/plain": [
       "(5000, 11)"
      ]
     },
     "execution_count": 4,
     "metadata": {},
     "output_type": "execute_result"
    }
   ],
   "source": [
    "oil_data.shape"
   ]
  },
  {
   "cell_type": "markdown",
   "metadata": {},
   "source": [
    "> The gathered dataset have 5000 rows and 11 features."
   ]
  },
  {
   "cell_type": "code",
   "execution_count": 5,
   "metadata": {},
   "outputs": [],
   "source": [
    "oil_data.to_csv('data/oil_data_api.csv', index=False) ## store to cvs file"
   ]
  },
  {
   "cell_type": "markdown",
   "metadata": {},
   "source": [
    "> Storing step: the dataset is saved to the local data store directory before moving to the next step."
   ]
  },
  {
   "cell_type": "markdown",
   "metadata": {
    "id": "hoUjq1tPzz7P"
   },
   "source": [
    "#### **Dataset 2**: Stocks Dataset"
   ]
  },
  {
   "cell_type": "markdown",
   "metadata": {},
   "source": [
    "##### *About this dataset*\n",
    "**Type:** Pandas.DataFrame\n",
    "\n",
    "**Method:** The data was gathered using the \"Programmatically downloading files\" method from Yahoo Finance using the yfinance library\n",
    "\n",
    "**Dataset variables:**\n",
    "\n",
    "| Column Name | Description |\n",
    "|---|---|\n",
    "| Date | date associated with the data point |\n",
    "| Open | The opening price of the stock on that date. |\n",
    "| High | The highest price reached by the stock on that date. |\n",
    "| Low | The lowest price reached by the stock on that date. |\n",
    "| Close | The closing price of the stock on that date. |\n",
    "| Adj Close | The adjusted closing price, adjusted for dividends and splits. |\n",
    "| Volume | The number of shares traded on that date. |"
   ]
  },
  {
   "cell_type": "markdown",
   "metadata": {},
   "source": [
    "##### *Gathering by Programmatically Downloading*"
   ]
  },
  {
   "cell_type": "code",
   "execution_count": 6,
   "metadata": {
    "id": "6zT0QxRyYmm7"
   },
   "outputs": [
    {
     "name": "stderr",
     "output_type": "stream",
     "text": [
      "[*********************100%%**********************]  5 of 5 completed\n"
     ]
    },
    {
     "data": {
      "text/html": [
       "<div>\n",
       "<style scoped>\n",
       "    .dataframe tbody tr th:only-of-type {\n",
       "        vertical-align: middle;\n",
       "    }\n",
       "\n",
       "    .dataframe tbody tr th {\n",
       "        vertical-align: top;\n",
       "    }\n",
       "\n",
       "    .dataframe thead tr th {\n",
       "        text-align: left;\n",
       "    }\n",
       "</style>\n",
       "<table border=\"1\" class=\"dataframe\">\n",
       "  <thead>\n",
       "    <tr>\n",
       "      <th>Price</th>\n",
       "      <th>Date</th>\n",
       "      <th colspan=\"5\" halign=\"left\">Adj Close</th>\n",
       "      <th colspan=\"4\" halign=\"left\">Close</th>\n",
       "      <th>...</th>\n",
       "      <th colspan=\"5\" halign=\"left\">Open</th>\n",
       "      <th colspan=\"5\" halign=\"left\">Volume</th>\n",
       "    </tr>\n",
       "    <tr>\n",
       "      <th>Ticker</th>\n",
       "      <th></th>\n",
       "      <th>AAPL</th>\n",
       "      <th>AMZN</th>\n",
       "      <th>GOOGL</th>\n",
       "      <th>META</th>\n",
       "      <th>MSFT</th>\n",
       "      <th>AAPL</th>\n",
       "      <th>AMZN</th>\n",
       "      <th>GOOGL</th>\n",
       "      <th>META</th>\n",
       "      <th>...</th>\n",
       "      <th>AAPL</th>\n",
       "      <th>AMZN</th>\n",
       "      <th>GOOGL</th>\n",
       "      <th>META</th>\n",
       "      <th>MSFT</th>\n",
       "      <th>AAPL</th>\n",
       "      <th>AMZN</th>\n",
       "      <th>GOOGL</th>\n",
       "      <th>META</th>\n",
       "      <th>MSFT</th>\n",
       "    </tr>\n",
       "  </thead>\n",
       "  <tbody>\n",
       "    <tr>\n",
       "      <th>896</th>\n",
       "      <td>2008-07-25</td>\n",
       "      <td>4.895171</td>\n",
       "      <td>3.915500</td>\n",
       "      <td>12.297698</td>\n",
       "      <td>NaN</td>\n",
       "      <td>19.110313</td>\n",
       "      <td>5.790000</td>\n",
       "      <td>3.915500</td>\n",
       "      <td>12.311812</td>\n",
       "      <td>NaN</td>\n",
       "      <td>...</td>\n",
       "      <td>5.728571</td>\n",
       "      <td>3.9815</td>\n",
       "      <td>12.174424</td>\n",
       "      <td>NaN</td>\n",
       "      <td>25.639999</td>\n",
       "      <td>633637200</td>\n",
       "      <td>183014000</td>\n",
       "      <td>127212660</td>\n",
       "      <td>NaN</td>\n",
       "      <td>58682300</td>\n",
       "    </tr>\n",
       "    <tr>\n",
       "      <th>2299</th>\n",
       "      <td>2014-02-21</td>\n",
       "      <td>16.500769</td>\n",
       "      <td>17.337999</td>\n",
       "      <td>30.090340</td>\n",
       "      <td>68.449341</td>\n",
       "      <td>32.103741</td>\n",
       "      <td>18.758928</td>\n",
       "      <td>17.337999</td>\n",
       "      <td>30.124874</td>\n",
       "      <td>68.589996</td>\n",
       "      <td>...</td>\n",
       "      <td>19.028214</td>\n",
       "      <td>17.6220</td>\n",
       "      <td>30.225475</td>\n",
       "      <td>69.690002</td>\n",
       "      <td>37.939999</td>\n",
       "      <td>278784800</td>\n",
       "      <td>84200000</td>\n",
       "      <td>74417508</td>\n",
       "      <td>70932400.0</td>\n",
       "      <td>38021300</td>\n",
       "    </tr>\n",
       "    <tr>\n",
       "      <th>2135</th>\n",
       "      <td>2013-06-27</td>\n",
       "      <td>12.145449</td>\n",
       "      <td>13.877500</td>\n",
       "      <td>21.923538</td>\n",
       "      <td>24.609428</td>\n",
       "      <td>28.625465</td>\n",
       "      <td>14.063571</td>\n",
       "      <td>13.877500</td>\n",
       "      <td>21.948700</td>\n",
       "      <td>24.660000</td>\n",
       "      <td>...</td>\n",
       "      <td>14.258929</td>\n",
       "      <td>13.9590</td>\n",
       "      <td>21.991993</td>\n",
       "      <td>24.240000</td>\n",
       "      <td>34.520000</td>\n",
       "      <td>337246000</td>\n",
       "      <td>50390000</td>\n",
       "      <td>76982940</td>\n",
       "      <td>34694100.0</td>\n",
       "      <td>28993100</td>\n",
       "    </tr>\n",
       "    <tr>\n",
       "      <th>1237</th>\n",
       "      <td>2009-12-01</td>\n",
       "      <td>5.947461</td>\n",
       "      <td>6.925000</td>\n",
       "      <td>14.744590</td>\n",
       "      <td>NaN</td>\n",
       "      <td>22.679029</td>\n",
       "      <td>7.034643</td>\n",
       "      <td>6.925000</td>\n",
       "      <td>14.761512</td>\n",
       "      <td>NaN</td>\n",
       "      <td>...</td>\n",
       "      <td>7.222857</td>\n",
       "      <td>6.8470</td>\n",
       "      <td>14.717968</td>\n",
       "      <td>NaN</td>\n",
       "      <td>29.520000</td>\n",
       "      <td>465763200</td>\n",
       "      <td>193152000</td>\n",
       "      <td>92719188</td>\n",
       "      <td>NaN</td>\n",
       "      <td>49904200</td>\n",
       "    </tr>\n",
       "    <tr>\n",
       "      <th>1309</th>\n",
       "      <td>2010-03-17</td>\n",
       "      <td>6.767248</td>\n",
       "      <td>6.567000</td>\n",
       "      <td>14.136929</td>\n",
       "      <td>NaN</td>\n",
       "      <td>22.496574</td>\n",
       "      <td>8.004286</td>\n",
       "      <td>6.567000</td>\n",
       "      <td>14.153153</td>\n",
       "      <td>NaN</td>\n",
       "      <td>...</td>\n",
       "      <td>8.032143</td>\n",
       "      <td>6.6205</td>\n",
       "      <td>14.221722</td>\n",
       "      <td>NaN</td>\n",
       "      <td>29.500000</td>\n",
       "      <td>450956800</td>\n",
       "      <td>87176000</td>\n",
       "      <td>132731136</td>\n",
       "      <td>NaN</td>\n",
       "      <td>50385700</td>\n",
       "    </tr>\n",
       "  </tbody>\n",
       "</table>\n",
       "<p>5 rows × 31 columns</p>\n",
       "</div>"
      ],
      "text/plain": [
       "Price        Date  Adj Close                                              \\\n",
       "Ticker                  AAPL       AMZN      GOOGL       META       MSFT   \n",
       "896    2008-07-25   4.895171   3.915500  12.297698        NaN  19.110313   \n",
       "2299   2014-02-21  16.500769  17.337999  30.090340  68.449341  32.103741   \n",
       "2135   2013-06-27  12.145449  13.877500  21.923538  24.609428  28.625465   \n",
       "1237   2009-12-01   5.947461   6.925000  14.744590        NaN  22.679029   \n",
       "1309   2010-03-17   6.767248   6.567000  14.136929        NaN  22.496574   \n",
       "\n",
       "Price       Close                                   ...       Open           \\\n",
       "Ticker       AAPL       AMZN      GOOGL       META  ...       AAPL     AMZN   \n",
       "896      5.790000   3.915500  12.311812        NaN  ...   5.728571   3.9815   \n",
       "2299    18.758928  17.337999  30.124874  68.589996  ...  19.028214  17.6220   \n",
       "2135    14.063571  13.877500  21.948700  24.660000  ...  14.258929  13.9590   \n",
       "1237     7.034643   6.925000  14.761512        NaN  ...   7.222857   6.8470   \n",
       "1309     8.004286   6.567000  14.153153        NaN  ...   8.032143   6.6205   \n",
       "\n",
       "Price                                       Volume                        \\\n",
       "Ticker      GOOGL       META       MSFT       AAPL       AMZN      GOOGL   \n",
       "896     12.174424        NaN  25.639999  633637200  183014000  127212660   \n",
       "2299    30.225475  69.690002  37.939999  278784800   84200000   74417508   \n",
       "2135    21.991993  24.240000  34.520000  337246000   50390000   76982940   \n",
       "1237    14.717968        NaN  29.520000  465763200  193152000   92719188   \n",
       "1309    14.221722        NaN  29.500000  450956800   87176000  132731136   \n",
       "\n",
       "Price                         \n",
       "Ticker        META      MSFT  \n",
       "896            NaN  58682300  \n",
       "2299    70932400.0  38021300  \n",
       "2135    34694100.0  28993100  \n",
       "1237           NaN  49904200  \n",
       "1309           NaN  50385700  \n",
       "\n",
       "[5 rows x 31 columns]"
      ]
     },
     "execution_count": 6,
     "metadata": {},
     "output_type": "execute_result"
    }
   ],
   "source": [
    "## 2nd data gathering was downloaded programitticallly from Yahoo Finance using the yfinance library\n",
    "companies = ['AAPL', 'MSFT', 'GOOGL', 'AMZN', 'META']\n",
    "stocks_data = yf.download(companies, start='2005-01-01', end='2023-12-31')\n",
    "stocks_data.reset_index(inplace=True)\n",
    "stocks_data.sample(5)"
   ]
  },
  {
   "cell_type": "code",
   "execution_count": 7,
   "metadata": {},
   "outputs": [
    {
     "data": {
      "text/plain": [
       "(4781, 31)"
      ]
     },
     "execution_count": 7,
     "metadata": {},
     "output_type": "execute_result"
    }
   ],
   "source": [
    "stocks_data.shape"
   ]
  },
  {
   "cell_type": "markdown",
   "metadata": {},
   "source": [
    "> The gathered data has 5785 data points and 31 features."
   ]
  },
  {
   "cell_type": "code",
   "execution_count": 8,
   "metadata": {},
   "outputs": [],
   "source": [
    "stocks_data.to_csv('data/stock_data.csv', index=False) ## store to cvs file"
   ]
  },
  {
   "cell_type": "markdown",
   "metadata": {},
   "source": [
    "> Storing step: the dataset is saved to the local data store directory before moving to the next step."
   ]
  },
  {
   "cell_type": "markdown",
   "metadata": {
    "id": "QwSWIVmotLgV"
   },
   "source": [
    "## 4. Assess data\n",
    "Now that we have gathered the datasets, let's assess the dataset for data quality and structural issues. In this section, the data is assessed according to data quality and tidiness metrics. Where two data quality issues and two tidiness issues are assessed. Each are assess visually and programmatically, then the issue is described. Justifications for the methods used for the assessment are also included.\n",
    "Issues assessed:\n",
    "- Completness\n",
    "- Validity\n",
    "- Columns Names\n",
    "- Inexing of the data"
   ]
  },
  {
   "cell_type": "markdown",
   "metadata": {
    "id": "adaK2iPNzVu4"
   },
   "source": [
    "### **Completeness (Quality Issue #1):**\n",
    "This is the issue of having missing data in the datsets. It affects good analysis and will be assessed for both datasets programmatically and visualy."
   ]
  },
  {
   "cell_type": "markdown",
   "metadata": {},
   "source": [
    "#### **Stocks Dataset**"
   ]
  },
  {
   "cell_type": "markdown",
   "metadata": {},
   "source": [
    "##### *Inspecting the dataframe visually*\n",
    "To inspcet the data qaulity issue of completeness, let's visualize the ddata frame into a heatmap. It will be showing the missing data with a diffrent color."
   ]
  },
  {
   "cell_type": "code",
   "execution_count": 9,
   "metadata": {},
   "outputs": [],
   "source": [
    "nan = ['NA','NaN','-', '0',0, np.nan] ## possible null vlaues"
   ]
  },
  {
   "cell_type": "code",
   "execution_count": 10,
   "metadata": {},
   "outputs": [
    {
     "data": {
      "image/png": "[encoded data removed]",
      "text/plain": [
       "<Figure size 1000x600 with 2 Axes>"
      ]
     },
     "metadata": {},
     "output_type": "display_data"
    }
   ],
   "source": [
    "plt.figure(figsize=(10,6))\n",
    "sns.heatmap(stocks_data.isin(nan).transpose(), cbar_kws={'label': 'Missing Data'}) ## visualize the missing data transposed\n",
    "plt.title('Missing Values from the Stocks Dataframe')\n",
    "plt.xlabel('Values Count');"
   ]
  },
  {
   "cell_type": "markdown",
   "metadata": {},
   "source": [
    "> Almost half of the data from the META company are missing. The other missing values are from Google company."
   ]
  },
  {
   "cell_type": "markdown",
   "metadata": {},
   "source": [
    "##### Inspecting the dataframe programmatically\n",
    "To inspect for missing values programmatically the `.info()` is used alongside checking the `.isna()` methos."
   ]
  },
  {
   "cell_type": "code",
   "execution_count": 11,
   "metadata": {
    "id": "SpW59kh-zl8d"
   },
   "outputs": [
    {
     "name": "stdout",
     "output_type": "stream",
     "text": [
      "<class 'pandas.core.frame.DataFrame'>\n",
      "RangeIndex: 4781 entries, 0 to 4780\n",
      "Data columns (total 31 columns):\n",
      " #   Column              Non-Null Count  Dtype         \n",
      "---  ------              --------------  -----         \n",
      " 0   (Date, )            4781 non-null   datetime64[ns]\n",
      " 1   (Adj Close, AAPL)   4781 non-null   float64       \n",
      " 2   (Adj Close, AMZN)   4781 non-null   float64       \n",
      " 3   (Adj Close, GOOGL)  4781 non-null   float64       \n",
      " 4   (Adj Close, META)   2923 non-null   float64       \n",
      " 5   (Adj Close, MSFT)   4781 non-null   float64       \n",
      " 6   (Close, AAPL)       4781 non-null   float64       \n",
      " 7   (Close, AMZN)       4781 non-null   float64       \n",
      " 8   (Close, GOOGL)      4781 non-null   float64       \n",
      " 9   (Close, META)       2923 non-null   float64       \n",
      " 10  (Close, MSFT)       4781 non-null   float64       \n",
      " 11  (High, AAPL)        4781 non-null   float64       \n",
      " 12  (High, AMZN)        4781 non-null   float64       \n",
      " 13  (High, GOOGL)       4781 non-null   float64       \n",
      " 14  (High, META)        2923 non-null   float64       \n",
      " 15  (High, MSFT)        4781 non-null   float64       \n",
      " 16  (Low, AAPL)         4781 non-null   float64       \n",
      " 17  (Low, AMZN)         4781 non-null   float64       \n",
      " 18  (Low, GOOGL)        4781 non-null   float64       \n",
      " 19  (Low, META)         2923 non-null   float64       \n",
      " 20  (Low, MSFT)         4781 non-null   float64       \n",
      " 21  (Open, AAPL)        4781 non-null   float64       \n",
      " 22  (Open, AMZN)        4781 non-null   float64       \n",
      " 23  (Open, GOOGL)       4781 non-null   float64       \n",
      " 24  (Open, META)        2923 non-null   float64       \n",
      " 25  (Open, MSFT)        4781 non-null   float64       \n",
      " 26  (Volume, AAPL)      4781 non-null   int64         \n",
      " 27  (Volume, AMZN)      4781 non-null   int64         \n",
      " 28  (Volume, GOOGL)     4781 non-null   int64         \n",
      " 29  (Volume, META)      2923 non-null   float64       \n",
      " 30  (Volume, MSFT)      4781 non-null   int64         \n",
      "dtypes: datetime64[ns](1), float64(26), int64(4)\n",
      "memory usage: 1.1 MB\n"
     ]
    }
   ],
   "source": [
    "stocks_data.info()"
   ]
  },
  {
   "cell_type": "markdown",
   "metadata": {},
   "source": [
    "> While the range index is from 0 to 4781, some the columns arn't complete such as (Adj Close, GOOGL), (Adj Close, META), (Close, GOOGL), (Close, META),  (High, GOOGL), (High, META),  (Low, GOOGL),  (Low, META), (Open, GOOGL),  (Open, META),  (Volume, GOOGL), (Volume, META) and (Volume, MSFT).\n",
    "> These missing data are specifically in data regarding the Google, and the META big tech companies."
   ]
  },
  {
   "cell_type": "code",
   "execution_count": 12,
   "metadata": {},
   "outputs": [
    {
     "data": {
      "text/plain": [
       "Price      Ticker\n",
       "Open       META      1858\n",
       "Volume     META      1858\n",
       "Low        META      1858\n",
       "Adj Close  META      1858\n",
       "High       META      1858\n",
       "Close      META      1858\n",
       "Open       GOOGL        0\n",
       "Low        MSFT         0\n",
       "Open       AAPL         0\n",
       "           AMZN         0\n",
       "Date                    0\n",
       "Low        AMZN         0\n",
       "Open       MSFT         0\n",
       "Volume     AAPL         0\n",
       "           AMZN         0\n",
       "           GOOGL        0\n",
       "Low        GOOGL        0\n",
       "High       MSFT         0\n",
       "Low        AAPL         0\n",
       "Adj Close  AAPL         0\n",
       "High       GOOGL        0\n",
       "           AMZN         0\n",
       "           AAPL         0\n",
       "Close      MSFT         0\n",
       "           GOOGL        0\n",
       "           AMZN         0\n",
       "           AAPL         0\n",
       "Adj Close  MSFT         0\n",
       "           GOOGL        0\n",
       "           AMZN         0\n",
       "Volume     MSFT         0\n",
       "dtype: int64"
      ]
     },
     "execution_count": 12,
     "metadata": {},
     "output_type": "execute_result"
    }
   ],
   "source": [
    "stocks_data.isna().sum().sort_values(ascending=False) "
   ]
  },
  {
   "cell_type": "markdown",
   "metadata": {},
   "source": [
    "> There are 1858 missing records from the META Datasets."
   ]
  },
  {
   "cell_type": "markdown",
   "metadata": {},
   "source": [
    "#### **Oil Dataset**"
   ]
  },
  {
   "cell_type": "markdown",
   "metadata": {},
   "source": [
    "##### *Inspecting the dataframe visually*\n",
    "To inspcet the data qaulity issue of completeness, let's visualize the ddata frame into a heatmap. It will be showing the missing data with a diffrent color."
   ]
  },
  {
   "cell_type": "code",
   "execution_count": 13,
   "metadata": {},
   "outputs": [
    {
     "data": {
      "image/png": "[encoded data removed]",
      "text/plain": [
       "<Figure size 1000x600 with 2 Axes>"
      ]
     },
     "metadata": {},
     "output_type": "display_data"
    }
   ],
   "source": [
    "plt.figure(figsize=(10,6))\n",
    "sns.heatmap(oil_data.isin(nan).transpose(), cbar_kws={'label': 'Missing Data'}) ## visualize the missing data transposed\n",
    "plt.title('Missing Values from the Oils Dataframe')\n",
    "plt.xlabel('Values Count');"
   ]
  },
  {
   "cell_type": "markdown",
   "metadata": {},
   "source": [
    "> The only column that has missing values in the oils dataframe is the area-name. It seems to have missing values alongside diffrent dates."
   ]
  },
  {
   "cell_type": "markdown",
   "metadata": {},
   "source": [
    "##### *Inspecting the dataframe programmatically*\n",
    "To inspect for missing values programmatically the `.info()` is used alongside checking the `.isna()` methos. However, some missing values wesn't detected using these methods so there had to use the `.isin()` method to check if there are missing values programmatically."
   ]
  },
  {
   "cell_type": "code",
   "execution_count": 14,
   "metadata": {},
   "outputs": [
    {
     "name": "stdout",
     "output_type": "stream",
     "text": [
      "<class 'pandas.core.frame.DataFrame'>\n",
      "RangeIndex: 5000 entries, 0 to 4999\n",
      "Data columns (total 11 columns):\n",
      " #   Column              Non-Null Count  Dtype \n",
      "---  ------              --------------  ----- \n",
      " 0   period              5000 non-null   object\n",
      " 1   duoarea             5000 non-null   object\n",
      " 2   area-name           5000 non-null   object\n",
      " 3   product             5000 non-null   object\n",
      " 4   product-name        5000 non-null   object\n",
      " 5   process             5000 non-null   object\n",
      " 6   process-name        5000 non-null   object\n",
      " 7   series              5000 non-null   object\n",
      " 8   series-description  5000 non-null   object\n",
      " 9   value               5000 non-null   object\n",
      " 10  units               5000 non-null   object\n",
      "dtypes: object(11)\n",
      "memory usage: 429.8+ KB\n"
     ]
    }
   ],
   "source": [
    "oil_data.info()"
   ]
  },
  {
   "cell_type": "markdown",
   "metadata": {},
   "source": [
    "> The data have 0 to 4999 indices, and all the columns non-null counts are full except the value column it has three NAN values."
   ]
  },
  {
   "cell_type": "code",
   "execution_count": 15,
   "metadata": {},
   "outputs": [
    {
     "data": {
      "text/html": [
       "<div>\n",
       "<style scoped>\n",
       "    .dataframe tbody tr th:only-of-type {\n",
       "        vertical-align: middle;\n",
       "    }\n",
       "\n",
       "    .dataframe tbody tr th {\n",
       "        vertical-align: top;\n",
       "    }\n",
       "\n",
       "    .dataframe thead th {\n",
       "        text-align: right;\n",
       "    }\n",
       "</style>\n",
       "<table border=\"1\" class=\"dataframe\">\n",
       "  <thead>\n",
       "    <tr style=\"text-align: right;\">\n",
       "      <th></th>\n",
       "      <th>period</th>\n",
       "      <th>duoarea</th>\n",
       "      <th>area-name</th>\n",
       "      <th>product</th>\n",
       "      <th>product-name</th>\n",
       "      <th>process</th>\n",
       "      <th>process-name</th>\n",
       "      <th>series</th>\n",
       "      <th>series-description</th>\n",
       "      <th>value</th>\n",
       "      <th>units</th>\n",
       "    </tr>\n",
       "  </thead>\n",
       "  <tbody>\n",
       "    <tr>\n",
       "      <th>217</th>\n",
       "      <td>2018-02-05</td>\n",
       "      <td>R20</td>\n",
       "      <td>PADD 2</td>\n",
       "      <td>EPD2DXL0</td>\n",
       "      <td>No 2 Diesel Low Sulfur (0-15 ppm)</td>\n",
       "      <td>PTE</td>\n",
       "      <td>Retail Sales</td>\n",
       "      <td>EMD_EPD2DXL0_PTE_R20_DPG</td>\n",
       "      <td>Midwest No 2 Diesel Ultra Low Sulfur (0-15 ppm...</td>\n",
       "      <td>3.044</td>\n",
       "      <td>$/GAL</td>\n",
       "    </tr>\n",
       "    <tr>\n",
       "      <th>3265</th>\n",
       "      <td>2014-03-17</td>\n",
       "      <td>SCO</td>\n",
       "      <td>COLORADO</td>\n",
       "      <td>EPM0</td>\n",
       "      <td>Total Gasoline</td>\n",
       "      <td>PTE</td>\n",
       "      <td>Retail Sales</td>\n",
       "      <td>EMM_EPM0_PTE_SCO_DPG</td>\n",
       "      <td>Colorado All Grades All Formulations Retail Ga...</td>\n",
       "      <td>3.652</td>\n",
       "      <td>$/GAL</td>\n",
       "    </tr>\n",
       "    <tr>\n",
       "      <th>2970</th>\n",
       "      <td>2008-11-03</td>\n",
       "      <td>YDEN</td>\n",
       "      <td>DENVER</td>\n",
       "      <td>EPM0</td>\n",
       "      <td>Total Gasoline</td>\n",
       "      <td>PTE</td>\n",
       "      <td>Retail Sales</td>\n",
       "      <td>EMM_EPM0_PTE_YDEN_DPG</td>\n",
       "      <td>Denver All Grades All Formulations Retail Gaso...</td>\n",
       "      <td>2.423</td>\n",
       "      <td>$/GAL</td>\n",
       "    </tr>\n",
       "    <tr>\n",
       "      <th>2156</th>\n",
       "      <td>2018-11-05</td>\n",
       "      <td>R1X</td>\n",
       "      <td>PADD 1A</td>\n",
       "      <td>EPM0</td>\n",
       "      <td>Total Gasoline</td>\n",
       "      <td>PTE</td>\n",
       "      <td>Retail Sales</td>\n",
       "      <td>EMM_EPM0_PTE_R1X_DPG</td>\n",
       "      <td>New England (PADD 1A) All Grades All Formulati...</td>\n",
       "      <td>2.849</td>\n",
       "      <td>$/GAL</td>\n",
       "    </tr>\n",
       "    <tr>\n",
       "      <th>2140</th>\n",
       "      <td>2015-12-14</td>\n",
       "      <td>R1X</td>\n",
       "      <td>PADD 1A</td>\n",
       "      <td>EPM0</td>\n",
       "      <td>Total Gasoline</td>\n",
       "      <td>PTE</td>\n",
       "      <td>Retail Sales</td>\n",
       "      <td>EMM_EPM0_PTE_R1X_DPG</td>\n",
       "      <td>New England (PADD 1A) All Grades All Formulati...</td>\n",
       "      <td>2.211</td>\n",
       "      <td>$/GAL</td>\n",
       "    </tr>\n",
       "  </tbody>\n",
       "</table>\n",
       "</div>"
      ],
      "text/plain": [
       "          period duoarea area-name   product  \\\n",
       "217   2018-02-05     R20    PADD 2  EPD2DXL0   \n",
       "3265  2014-03-17     SCO  COLORADO      EPM0   \n",
       "2970  2008-11-03    YDEN    DENVER      EPM0   \n",
       "2156  2018-11-05     R1X   PADD 1A      EPM0   \n",
       "2140  2015-12-14     R1X   PADD 1A      EPM0   \n",
       "\n",
       "                           product-name process  process-name  \\\n",
       "217   No 2 Diesel Low Sulfur (0-15 ppm)     PTE  Retail Sales   \n",
       "3265                     Total Gasoline     PTE  Retail Sales   \n",
       "2970                     Total Gasoline     PTE  Retail Sales   \n",
       "2156                     Total Gasoline     PTE  Retail Sales   \n",
       "2140                     Total Gasoline     PTE  Retail Sales   \n",
       "\n",
       "                        series  \\\n",
       "217   EMD_EPD2DXL0_PTE_R20_DPG   \n",
       "3265      EMM_EPM0_PTE_SCO_DPG   \n",
       "2970     EMM_EPM0_PTE_YDEN_DPG   \n",
       "2156      EMM_EPM0_PTE_R1X_DPG   \n",
       "2140      EMM_EPM0_PTE_R1X_DPG   \n",
       "\n",
       "                                     series-description  value  units  \n",
       "217   Midwest No 2 Diesel Ultra Low Sulfur (0-15 ppm...  3.044  $/GAL  \n",
       "3265  Colorado All Grades All Formulations Retail Ga...  3.652  $/GAL  \n",
       "2970  Denver All Grades All Formulations Retail Gaso...  2.423  $/GAL  \n",
       "2156  New England (PADD 1A) All Grades All Formulati...  2.849  $/GAL  \n",
       "2140  New England (PADD 1A) All Grades All Formulati...  2.211  $/GAL  "
      ]
     },
     "execution_count": 15,
     "metadata": {},
     "output_type": "execute_result"
    }
   ],
   "source": [
    "oil_data.sample(5) ## take a sample of 5"
   ]
  },
  {
   "cell_type": "markdown",
   "metadata": {},
   "source": [
    "> However with further looking, it was noticed that there are NA values used to presnet the null values."
   ]
  },
  {
   "cell_type": "code",
   "execution_count": 16,
   "metadata": {},
   "outputs": [
    {
     "data": {
      "text/plain": [
       "period                0\n",
       "duoarea               0\n",
       "area-name             0\n",
       "product               0\n",
       "product-name          0\n",
       "process               0\n",
       "process-name          0\n",
       "series                0\n",
       "series-description    0\n",
       "value                 0\n",
       "units                 0\n",
       "dtype: int64"
      ]
     },
     "execution_count": 16,
     "metadata": {},
     "output_type": "execute_result"
    }
   ],
   "source": [
    "oil_data.isin(nan).sum() ## to check if some values are not detected using isna"
   ]
  },
  {
   "cell_type": "markdown",
   "metadata": {},
   "source": [
    "> In the oil dataset there are no NAN values from the area-name column. The other columns doesn't have NA values. "
   ]
  },
  {
   "cell_type": "markdown",
   "metadata": {
    "id": "8Be77N4I1AmE"
   },
   "source": [
    "### **Validity (Quality Issue #2):**"
   ]
  },
  {
   "cell_type": "markdown",
   "metadata": {},
   "source": [
    "#### **Stocks Dataset**"
   ]
  },
  {
   "cell_type": "markdown",
   "metadata": {},
   "source": [
    "##### *Inspecting the dataframe programmatically*\n",
    "To inspect the validity of the dataframe programmatically, let's take a look into the datatypes of the dataset using the `.datatype` attribute of the datasets."
   ]
  },
  {
   "cell_type": "code",
   "execution_count": 17,
   "metadata": {},
   "outputs": [
    {
     "data": {
      "text/plain": [
       "Price      Ticker\n",
       "Date                 datetime64[ns]\n",
       "Adj Close  AAPL             float64\n",
       "           AMZN             float64\n",
       "           GOOGL            float64\n",
       "           META             float64\n",
       "           MSFT             float64\n",
       "Close      AAPL             float64\n",
       "           AMZN             float64\n",
       "           GOOGL            float64\n",
       "           META             float64\n",
       "           MSFT             float64\n",
       "High       AAPL             float64\n",
       "           AMZN             float64\n",
       "           GOOGL            float64\n",
       "           META             float64\n",
       "           MSFT             float64\n",
       "Low        AAPL             float64\n",
       "           AMZN             float64\n",
       "           GOOGL            float64\n",
       "           META             float64\n",
       "           MSFT             float64\n",
       "Open       AAPL             float64\n",
       "           AMZN             float64\n",
       "           GOOGL            float64\n",
       "           META             float64\n",
       "           MSFT             float64\n",
       "Volume     AAPL               int64\n",
       "           AMZN               int64\n",
       "           GOOGL              int64\n",
       "           META             float64\n",
       "           MSFT               int64\n",
       "dtype: object"
      ]
     },
     "execution_count": 17,
     "metadata": {},
     "output_type": "execute_result"
    }
   ],
   "source": [
    "stocks_data.dtypes ## looking into datatypes"
   ]
  },
  {
   "cell_type": "markdown",
   "metadata": {},
   "source": [
    "> The datastypes are all valid. Let's take a look into why For the volume some of the columns have integer values."
   ]
  },
  {
   "cell_type": "code",
   "execution_count": 18,
   "metadata": {},
   "outputs": [
    {
     "data": {
      "text/plain": [
       "2638   2015-06-26\n",
       "957    2008-10-21\n",
       "605    2007-05-31\n",
       "1447   2010-10-01\n",
       "3256   2017-12-07\n",
       "Name: Date, dtype: datetime64[ns]"
      ]
     },
     "execution_count": 18,
     "metadata": {},
     "output_type": "execute_result"
    }
   ],
   "source": [
    "stocks_data['Date'].sample(5) ## Take a sample of 5"
   ]
  },
  {
   "cell_type": "markdown",
   "metadata": {},
   "source": [
    "> The datetime64 is actuualy only the date of the record there is no timestamps."
   ]
  },
  {
   "cell_type": "code",
   "execution_count": 19,
   "metadata": {},
   "outputs": [
    {
     "name": "stdout",
     "output_type": "stream",
     "text": [
      "1870    401455600\n",
      "2042    475207600\n",
      "4293    122848900\n",
      "1169    324354800\n",
      "3536    121576000\n",
      "Name: (Volume, AAPL), dtype: int64\n",
      "3133     79498000\n",
      "2556     42784000\n",
      "1131    139624000\n",
      "840     130914000\n",
      "4627     70741100\n",
      "Name: (Volume, AMZN), dtype: int64\n",
      "294     357230412\n",
      "3890     30610000\n",
      "4662     44297900\n",
      "4339     34318000\n",
      "130     335276388\n",
      "Name: (Volume, GOOGL), dtype: int64\n",
      "3869    35264500\n",
      "1600    78600000\n",
      "3069    14280200\n",
      "1545    60889000\n",
      "1185    42428800\n",
      "Name: (Volume, MSFT), dtype: int64\n"
     ]
    }
   ],
   "source": [
    "int_col= list(stocks_data.dtypes[stocks_data.dtypes == 'int64']['Volume'].index) ## take the values where the datatypes are integers\n",
    "for col in int_col:\n",
    "    print(stocks_data['Volume',col].sample(5))"
   ]
  },
  {
   "cell_type": "markdown",
   "metadata": {},
   "source": [
    "> The dataset is valid in terms of data types for the integers columns."
   ]
  },
  {
   "cell_type": "markdown",
   "metadata": {},
   "source": [
    "##### *Inspecting the dataframe visually*\n",
    "The visualization used to check for datatypes validity is a summary statics table."
   ]
  },
  {
   "cell_type": "code",
   "execution_count": 20,
   "metadata": {
    "id": "bnviRCUI-bb7"
   },
   "outputs": [
    {
     "data": {
      "text/html": [
       "<div>\n",
       "<style scoped>\n",
       "    .dataframe tbody tr th:only-of-type {\n",
       "        vertical-align: middle;\n",
       "    }\n",
       "\n",
       "    .dataframe tbody tr th {\n",
       "        vertical-align: top;\n",
       "    }\n",
       "\n",
       "    .dataframe thead th {\n",
       "        text-align: right;\n",
       "    }\n",
       "</style>\n",
       "<table border=\"1\" class=\"dataframe\">\n",
       "  <thead>\n",
       "    <tr style=\"text-align: right;\">\n",
       "      <th></th>\n",
       "      <th></th>\n",
       "      <th>count</th>\n",
       "      <th>mean</th>\n",
       "      <th>min</th>\n",
       "      <th>25%</th>\n",
       "      <th>50%</th>\n",
       "      <th>75%</th>\n",
       "      <th>max</th>\n",
       "      <th>std</th>\n",
       "    </tr>\n",
       "    <tr>\n",
       "      <th>Price</th>\n",
       "      <th>Ticker</th>\n",
       "      <th></th>\n",
       "      <th></th>\n",
       "      <th></th>\n",
       "      <th></th>\n",
       "      <th></th>\n",
       "      <th></th>\n",
       "      <th></th>\n",
       "      <th></th>\n",
       "    </tr>\n",
       "  </thead>\n",
       "  <tbody>\n",
       "    <tr>\n",
       "      <th>Date</th>\n",
       "      <th></th>\n",
       "      <td>4781</td>\n",
       "      <td>2014-07-01 15:02:04.241790208</td>\n",
       "      <td>2005-01-03 00:00:00</td>\n",
       "      <td>2009-10-01 00:00:00</td>\n",
       "      <td>2014-07-02 00:00:00</td>\n",
       "      <td>2019-04-02 00:00:00</td>\n",
       "      <td>2023-12-29 00:00:00</td>\n",
       "      <td>NaN</td>\n",
       "    </tr>\n",
       "    <tr>\n",
       "      <th rowspan=\"5\" valign=\"top\">Adj Close</th>\n",
       "      <th>AAPL</th>\n",
       "      <td>4781.0</td>\n",
       "      <td>43.406251</td>\n",
       "      <td>0.955513</td>\n",
       "      <td>5.748777</td>\n",
       "      <td>20.945791</td>\n",
       "      <td>49.082428</td>\n",
       "      <td>197.589523</td>\n",
       "      <td>53.512731</td>\n",
       "    </tr>\n",
       "    <tr>\n",
       "      <th>AMZN</th>\n",
       "      <td>4781.0</td>\n",
       "      <td>47.456018</td>\n",
       "      <td>1.3035</td>\n",
       "      <td>4.7205</td>\n",
       "      <td>16.6425</td>\n",
       "      <td>88.806</td>\n",
       "      <td>186.570496</td>\n",
       "      <td>54.003279</td>\n",
       "    </tr>\n",
       "    <tr>\n",
       "      <th>GOOGL</th>\n",
       "      <td>4781.0</td>\n",
       "      <td>42.617377</td>\n",
       "      <td>4.374109</td>\n",
       "      <td>13.190316</td>\n",
       "      <td>27.369587</td>\n",
       "      <td>58.646194</td>\n",
       "      <td>149.666733</td>\n",
       "      <td>38.617765</td>\n",
       "    </tr>\n",
       "    <tr>\n",
       "      <th>META</th>\n",
       "      <td>2923.0</td>\n",
       "      <td>157.370234</td>\n",
       "      <td>17.69364</td>\n",
       "      <td>80.604355</td>\n",
       "      <td>153.205185</td>\n",
       "      <td>204.38501</td>\n",
       "      <td>381.39624</td>\n",
       "      <td>90.7394</td>\n",
       "    </tr>\n",
       "    <tr>\n",
       "      <th>MSFT</th>\n",
       "      <td>4781.0</td>\n",
       "      <td>85.750155</td>\n",
       "      <td>11.263443</td>\n",
       "      <td>20.658804</td>\n",
       "      <td>35.504242</td>\n",
       "      <td>113.337303</td>\n",
       "      <td>381.305817</td>\n",
       "      <td>96.422986</td>\n",
       "    </tr>\n",
       "    <tr>\n",
       "      <th rowspan=\"5\" valign=\"top\">Close</th>\n",
       "      <th>AAPL</th>\n",
       "      <td>4781.0</td>\n",
       "      <td>45.151456</td>\n",
       "      <td>1.130179</td>\n",
       "      <td>6.799643</td>\n",
       "      <td>23.620001</td>\n",
       "      <td>50.965</td>\n",
       "      <td>198.110001</td>\n",
       "      <td>53.62873</td>\n",
       "    </tr>\n",
       "    <tr>\n",
       "      <th>AMZN</th>\n",
       "      <td>4781.0</td>\n",
       "      <td>47.456018</td>\n",
       "      <td>1.3035</td>\n",
       "      <td>4.7205</td>\n",
       "      <td>16.6425</td>\n",
       "      <td>88.806</td>\n",
       "      <td>186.570496</td>\n",
       "      <td>54.003279</td>\n",
       "    </tr>\n",
       "    <tr>\n",
       "      <th>GOOGL</th>\n",
       "      <td>4781.0</td>\n",
       "      <td>42.666289</td>\n",
       "      <td>4.379129</td>\n",
       "      <td>13.205455</td>\n",
       "      <td>27.400999</td>\n",
       "      <td>58.713501</td>\n",
       "      <td>149.838501</td>\n",
       "      <td>38.662086</td>\n",
       "    </tr>\n",
       "    <tr>\n",
       "      <th>META</th>\n",
       "      <td>2923.0</td>\n",
       "      <td>157.69362</td>\n",
       "      <td>17.73</td>\n",
       "      <td>80.769997</td>\n",
       "      <td>153.520004</td>\n",
       "      <td>204.805</td>\n",
       "      <td>382.179993</td>\n",
       "      <td>90.925863</td>\n",
       "    </tr>\n",
       "    <tr>\n",
       "      <th>MSFT</th>\n",
       "      <td>4781.0</td>\n",
       "      <td>91.896614</td>\n",
       "      <td>15.15</td>\n",
       "      <td>27.690001</td>\n",
       "      <td>41.459999</td>\n",
       "      <td>119.279999</td>\n",
       "      <td>382.700012</td>\n",
       "      <td>95.785255</td>\n",
       "    </tr>\n",
       "    <tr>\n",
       "      <th rowspan=\"5\" valign=\"top\">High</th>\n",
       "      <th>AAPL</th>\n",
       "      <td>4781.0</td>\n",
       "      <td>45.611048</td>\n",
       "      <td>1.159107</td>\n",
       "      <td>6.881429</td>\n",
       "      <td>23.887501</td>\n",
       "      <td>51.334999</td>\n",
       "      <td>199.619995</td>\n",
       "      <td>54.173137</td>\n",
       "    </tr>\n",
       "    <tr>\n",
       "      <th>AMZN</th>\n",
       "      <td>4781.0</td>\n",
       "      <td>48.02516</td>\n",
       "      <td>1.315</td>\n",
       "      <td>4.7925</td>\n",
       "      <td>16.829</td>\n",
       "      <td>89.649498</td>\n",
       "      <td>188.654007</td>\n",
       "      <td>54.674486</td>\n",
       "    </tr>\n",
       "    <tr>\n",
       "      <th>GOOGL</th>\n",
       "      <td>4781.0</td>\n",
       "      <td>43.102564</td>\n",
       "      <td>4.464464</td>\n",
       "      <td>13.343343</td>\n",
       "      <td>27.627001</td>\n",
       "      <td>59.25</td>\n",
       "      <td>151.546494</td>\n",
       "      <td>39.078927</td>\n",
       "    </tr>\n",
       "    <tr>\n",
       "      <th>META</th>\n",
       "      <td>2923.0</td>\n",
       "      <td>159.668765</td>\n",
       "      <td>18.27</td>\n",
       "      <td>81.470001</td>\n",
       "      <td>155.589996</td>\n",
       "      <td>207.645004</td>\n",
       "      <td>384.329987</td>\n",
       "      <td>92.034626</td>\n",
       "    </tr>\n",
       "    <tr>\n",
       "      <th>MSFT</th>\n",
       "      <td>4781.0</td>\n",
       "      <td>92.781004</td>\n",
       "      <td>15.62</td>\n",
       "      <td>27.93</td>\n",
       "      <td>41.66</td>\n",
       "      <td>119.589996</td>\n",
       "      <td>384.299988</td>\n",
       "      <td>96.728997</td>\n",
       "    </tr>\n",
       "    <tr>\n",
       "      <th rowspan=\"5\" valign=\"top\">Low</th>\n",
       "      <th>AAPL</th>\n",
       "      <td>4781.0</td>\n",
       "      <td>44.649769</td>\n",
       "      <td>1.117857</td>\n",
       "      <td>6.738571</td>\n",
       "      <td>23.407499</td>\n",
       "      <td>50.549999</td>\n",
       "      <td>197.0</td>\n",
       "      <td>53.026181</td>\n",
       "    </tr>\n",
       "    <tr>\n",
       "      <th>AMZN</th>\n",
       "      <td>4781.0</td>\n",
       "      <td>46.862393</td>\n",
       "      <td>1.288</td>\n",
       "      <td>4.6535</td>\n",
       "      <td>16.441</td>\n",
       "      <td>87.800003</td>\n",
       "      <td>184.839493</td>\n",
       "      <td>53.333407</td>\n",
       "    </tr>\n",
       "    <tr>\n",
       "      <th>GOOGL</th>\n",
       "      <td>4781.0</td>\n",
       "      <td>42.210375</td>\n",
       "      <td>4.318569</td>\n",
       "      <td>13.075075</td>\n",
       "      <td>27.222</td>\n",
       "      <td>58.174</td>\n",
       "      <td>148.899002</td>\n",
       "      <td>38.227936</td>\n",
       "    </tr>\n",
       "    <tr>\n",
       "      <th>META</th>\n",
       "      <td>2923.0</td>\n",
       "      <td>155.638686</td>\n",
       "      <td>17.549999</td>\n",
       "      <td>80.154999</td>\n",
       "      <td>151.660004</td>\n",
       "      <td>201.785004</td>\n",
       "      <td>378.809998</td>\n",
       "      <td>89.773014</td>\n",
       "    </tr>\n",
       "    <tr>\n",
       "      <th>MSFT</th>\n",
       "      <td>4781.0</td>\n",
       "      <td>90.932192</td>\n",
       "      <td>14.87</td>\n",
       "      <td>27.41</td>\n",
       "      <td>41.040001</td>\n",
       "      <td>118.379997</td>\n",
       "      <td>378.160004</td>\n",
       "      <td>94.736781</td>\n",
       "    </tr>\n",
       "    <tr>\n",
       "      <th rowspan=\"5\" valign=\"top\">Open</th>\n",
       "      <th>AAPL</th>\n",
       "      <td>4781.0</td>\n",
       "      <td>45.120857</td>\n",
       "      <td>1.139107</td>\n",
       "      <td>6.809286</td>\n",
       "      <td>23.66</td>\n",
       "      <td>50.865002</td>\n",
       "      <td>198.020004</td>\n",
       "      <td>53.576141</td>\n",
       "    </tr>\n",
       "    <tr>\n",
       "      <th>AMZN</th>\n",
       "      <td>4781.0</td>\n",
       "      <td>47.467806</td>\n",
       "      <td>1.3045</td>\n",
       "      <td>4.7495</td>\n",
       "      <td>16.715</td>\n",
       "      <td>88.786499</td>\n",
       "      <td>187.199997</td>\n",
       "      <td>54.034916</td>\n",
       "    </tr>\n",
       "    <tr>\n",
       "      <th>GOOGL</th>\n",
       "      <td>4781.0</td>\n",
       "      <td>42.655534</td>\n",
       "      <td>4.386887</td>\n",
       "      <td>13.217217</td>\n",
       "      <td>27.4</td>\n",
       "      <td>58.7495</td>\n",
       "      <td>151.25</td>\n",
       "      <td>38.641589</td>\n",
       "    </tr>\n",
       "    <tr>\n",
       "      <th>META</th>\n",
       "      <td>2923.0</td>\n",
       "      <td>157.61935</td>\n",
       "      <td>18.08</td>\n",
       "      <td>80.77</td>\n",
       "      <td>153.639999</td>\n",
       "      <td>204.214996</td>\n",
       "      <td>381.679993</td>\n",
       "      <td>90.865561</td>\n",
       "    </tr>\n",
       "    <tr>\n",
       "      <th>MSFT</th>\n",
       "      <td>4781.0</td>\n",
       "      <td>91.865313</td>\n",
       "      <td>15.2</td>\n",
       "      <td>27.68</td>\n",
       "      <td>41.369999</td>\n",
       "      <td>119.059998</td>\n",
       "      <td>383.76001</td>\n",
       "      <td>95.751817</td>\n",
       "    </tr>\n",
       "    <tr>\n",
       "      <th rowspan=\"5\" valign=\"top\">Volume</th>\n",
       "      <th>AAPL</th>\n",
       "      <td>4781.0</td>\n",
       "      <td>403190325.831416</td>\n",
       "      <td>24048300.0</td>\n",
       "      <td>108953300.0</td>\n",
       "      <td>258322400.0</td>\n",
       "      <td>581148400.0</td>\n",
       "      <td>3372969600.0</td>\n",
       "      <td>398702935.886029</td>\n",
       "    </tr>\n",
       "    <tr>\n",
       "      <th>AMZN</th>\n",
       "      <td>4781.0</td>\n",
       "      <td>108328400.397406</td>\n",
       "      <td>17626000.0</td>\n",
       "      <td>60214000.0</td>\n",
       "      <td>86388000.0</td>\n",
       "      <td>129110000.0</td>\n",
       "      <td>2086584000.0</td>\n",
       "      <td>91519691.093599</td>\n",
       "    </tr>\n",
       "    <tr>\n",
       "      <th>GOOGL</th>\n",
       "      <td>4781.0</td>\n",
       "      <td>115393301.946873</td>\n",
       "      <td>9312000.0</td>\n",
       "      <td>31586000.0</td>\n",
       "      <td>61402000.0</td>\n",
       "      <td>139016844.0</td>\n",
       "      <td>1643023332.0</td>\n",
       "      <td>142627540.065058</td>\n",
       "    </tr>\n",
       "    <tr>\n",
       "      <th>META</th>\n",
       "      <td>2923.0</td>\n",
       "      <td>30604724.769073</td>\n",
       "      <td>5467500.0</td>\n",
       "      <td>16337300.0</td>\n",
       "      <td>22948700.0</td>\n",
       "      <td>35204400.0</td>\n",
       "      <td>573576400.0</td>\n",
       "      <td>26371567.151792</td>\n",
       "    </tr>\n",
       "    <tr>\n",
       "      <th>MSFT</th>\n",
       "      <td>4781.0</td>\n",
       "      <td>45513886.467266</td>\n",
       "      <td>7425600.0</td>\n",
       "      <td>26091000.0</td>\n",
       "      <td>38153000.0</td>\n",
       "      <td>57376800.0</td>\n",
       "      <td>591052200.0</td>\n",
       "      <td>28421310.332875</td>\n",
       "    </tr>\n",
       "  </tbody>\n",
       "</table>\n",
       "</div>"
      ],
      "text/plain": [
       "                   count                           mean                  min  \\\n",
       "Price     Ticker                                                               \n",
       "Date                4781  2014-07-01 15:02:04.241790208  2005-01-03 00:00:00   \n",
       "Adj Close AAPL    4781.0                      43.406251             0.955513   \n",
       "          AMZN    4781.0                      47.456018               1.3035   \n",
       "          GOOGL   4781.0                      42.617377             4.374109   \n",
       "          META    2923.0                     157.370234             17.69364   \n",
       "          MSFT    4781.0                      85.750155            11.263443   \n",
       "Close     AAPL    4781.0                      45.151456             1.130179   \n",
       "          AMZN    4781.0                      47.456018               1.3035   \n",
       "          GOOGL   4781.0                      42.666289             4.379129   \n",
       "          META    2923.0                      157.69362                17.73   \n",
       "          MSFT    4781.0                      91.896614                15.15   \n",
       "High      AAPL    4781.0                      45.611048             1.159107   \n",
       "          AMZN    4781.0                       48.02516                1.315   \n",
       "          GOOGL   4781.0                      43.102564             4.464464   \n",
       "          META    2923.0                     159.668765                18.27   \n",
       "          MSFT    4781.0                      92.781004                15.62   \n",
       "Low       AAPL    4781.0                      44.649769             1.117857   \n",
       "          AMZN    4781.0                      46.862393                1.288   \n",
       "          GOOGL   4781.0                      42.210375             4.318569   \n",
       "          META    2923.0                     155.638686            17.549999   \n",
       "          MSFT    4781.0                      90.932192                14.87   \n",
       "Open      AAPL    4781.0                      45.120857             1.139107   \n",
       "          AMZN    4781.0                      47.467806               1.3045   \n",
       "          GOOGL   4781.0                      42.655534             4.386887   \n",
       "          META    2923.0                      157.61935                18.08   \n",
       "          MSFT    4781.0                      91.865313                 15.2   \n",
       "Volume    AAPL    4781.0               403190325.831416           24048300.0   \n",
       "          AMZN    4781.0               108328400.397406           17626000.0   \n",
       "          GOOGL   4781.0               115393301.946873            9312000.0   \n",
       "          META    2923.0                30604724.769073            5467500.0   \n",
       "          MSFT    4781.0                45513886.467266            7425600.0   \n",
       "\n",
       "                                  25%                  50%  \\\n",
       "Price     Ticker                                             \n",
       "Date              2009-10-01 00:00:00  2014-07-02 00:00:00   \n",
       "Adj Close AAPL               5.748777            20.945791   \n",
       "          AMZN                 4.7205              16.6425   \n",
       "          GOOGL             13.190316            27.369587   \n",
       "          META              80.604355           153.205185   \n",
       "          MSFT              20.658804            35.504242   \n",
       "Close     AAPL               6.799643            23.620001   \n",
       "          AMZN                 4.7205              16.6425   \n",
       "          GOOGL             13.205455            27.400999   \n",
       "          META              80.769997           153.520004   \n",
       "          MSFT              27.690001            41.459999   \n",
       "High      AAPL               6.881429            23.887501   \n",
       "          AMZN                 4.7925               16.829   \n",
       "          GOOGL             13.343343            27.627001   \n",
       "          META              81.470001           155.589996   \n",
       "          MSFT                  27.93                41.66   \n",
       "Low       AAPL               6.738571            23.407499   \n",
       "          AMZN                 4.6535               16.441   \n",
       "          GOOGL             13.075075               27.222   \n",
       "          META              80.154999           151.660004   \n",
       "          MSFT                  27.41            41.040001   \n",
       "Open      AAPL               6.809286                23.66   \n",
       "          AMZN                 4.7495               16.715   \n",
       "          GOOGL             13.217217                 27.4   \n",
       "          META                  80.77           153.639999   \n",
       "          MSFT                  27.68            41.369999   \n",
       "Volume    AAPL            108953300.0          258322400.0   \n",
       "          AMZN             60214000.0           86388000.0   \n",
       "          GOOGL            31586000.0           61402000.0   \n",
       "          META             16337300.0           22948700.0   \n",
       "          MSFT             26091000.0           38153000.0   \n",
       "\n",
       "                                  75%                  max               std  \n",
       "Price     Ticker                                                              \n",
       "Date              2019-04-02 00:00:00  2023-12-29 00:00:00               NaN  \n",
       "Adj Close AAPL              49.082428           197.589523         53.512731  \n",
       "          AMZN                 88.806           186.570496         54.003279  \n",
       "          GOOGL             58.646194           149.666733         38.617765  \n",
       "          META              204.38501            381.39624           90.7394  \n",
       "          MSFT             113.337303           381.305817         96.422986  \n",
       "Close     AAPL                 50.965           198.110001          53.62873  \n",
       "          AMZN                 88.806           186.570496         54.003279  \n",
       "          GOOGL             58.713501           149.838501         38.662086  \n",
       "          META                204.805           382.179993         90.925863  \n",
       "          MSFT             119.279999           382.700012         95.785255  \n",
       "High      AAPL              51.334999           199.619995         54.173137  \n",
       "          AMZN              89.649498           188.654007         54.674486  \n",
       "          GOOGL                 59.25           151.546494         39.078927  \n",
       "          META             207.645004           384.329987         92.034626  \n",
       "          MSFT             119.589996           384.299988         96.728997  \n",
       "Low       AAPL              50.549999                197.0         53.026181  \n",
       "          AMZN              87.800003           184.839493         53.333407  \n",
       "          GOOGL                58.174           148.899002         38.227936  \n",
       "          META             201.785004           378.809998         89.773014  \n",
       "          MSFT             118.379997           378.160004         94.736781  \n",
       "Open      AAPL              50.865002           198.020004         53.576141  \n",
       "          AMZN              88.786499           187.199997         54.034916  \n",
       "          GOOGL               58.7495               151.25         38.641589  \n",
       "          META             204.214996           381.679993         90.865561  \n",
       "          MSFT             119.059998            383.76001         95.751817  \n",
       "Volume    AAPL            581148400.0         3372969600.0  398702935.886029  \n",
       "          AMZN            129110000.0         2086584000.0   91519691.093599  \n",
       "          GOOGL           139016844.0         1643023332.0  142627540.065058  \n",
       "          META             35204400.0          573576400.0   26371567.151792  \n",
       "          MSFT             57376800.0          591052200.0   28421310.332875  "
      ]
     },
     "execution_count": 20,
     "metadata": {},
     "output_type": "execute_result"
    }
   ],
   "source": [
    "## Inspecting the dataframe visually\n",
    "stocks_data.describe().T"
   ]
  },
  {
   "cell_type": "markdown",
   "metadata": {},
   "source": [
    "> As noticed in the Date columns there is no need for the timestamped column datatype. Will be axtracting the year and month from it as integers after mereg."
   ]
  },
  {
   "cell_type": "markdown",
   "metadata": {},
   "source": [
    "#### **Oil Dataset**"
   ]
  },
  {
   "cell_type": "markdown",
   "metadata": {},
   "source": [
    "##### *Inspecting the dataframe programmatically*\n",
    "To inspect the validity of the dataframe programmatically, let's take a look into the datatypes of the datasets using the `.datatype` attribute of the datasets."
   ]
  },
  {
   "cell_type": "code",
   "execution_count": 21,
   "metadata": {},
   "outputs": [
    {
     "data": {
      "text/plain": [
       "period                object\n",
       "duoarea               object\n",
       "area-name             object\n",
       "product               object\n",
       "product-name          object\n",
       "process               object\n",
       "process-name          object\n",
       "series                object\n",
       "series-description    object\n",
       "value                 object\n",
       "units                 object\n",
       "dtype: object"
      ]
     },
     "execution_count": 21,
     "metadata": {},
     "output_type": "execute_result"
    }
   ],
   "source": [
    "oil_data.dtypes"
   ]
  },
  {
   "cell_type": "markdown",
   "metadata": {},
   "source": [
    "> All the datatypes in oil data are seen as objects. But as seen in the sample of the data some are dates and numers."
   ]
  },
  {
   "cell_type": "code",
   "execution_count": 22,
   "metadata": {},
   "outputs": [
    {
     "data": {
      "text/html": [
       "<div>\n",
       "<style scoped>\n",
       "    .dataframe tbody tr th:only-of-type {\n",
       "        vertical-align: middle;\n",
       "    }\n",
       "\n",
       "    .dataframe tbody tr th {\n",
       "        vertical-align: top;\n",
       "    }\n",
       "\n",
       "    .dataframe thead th {\n",
       "        text-align: right;\n",
       "    }\n",
       "</style>\n",
       "<table border=\"1\" class=\"dataframe\">\n",
       "  <thead>\n",
       "    <tr style=\"text-align: right;\">\n",
       "      <th></th>\n",
       "      <th>2847</th>\n",
       "      <th>4572</th>\n",
       "    </tr>\n",
       "  </thead>\n",
       "  <tbody>\n",
       "    <tr>\n",
       "      <th>period</th>\n",
       "      <td>2006-04-17</td>\n",
       "      <td>2019-07-22</td>\n",
       "    </tr>\n",
       "    <tr>\n",
       "      <th>duoarea</th>\n",
       "      <td>YCLE</td>\n",
       "      <td>Y05SF</td>\n",
       "    </tr>\n",
       "    <tr>\n",
       "      <th>area-name</th>\n",
       "      <td>CLEVELAND</td>\n",
       "      <td>SAN FRANCISCO</td>\n",
       "    </tr>\n",
       "    <tr>\n",
       "      <th>product</th>\n",
       "      <td>EPM0</td>\n",
       "      <td>EPM0</td>\n",
       "    </tr>\n",
       "    <tr>\n",
       "      <th>product-name</th>\n",
       "      <td>Total Gasoline</td>\n",
       "      <td>Total Gasoline</td>\n",
       "    </tr>\n",
       "    <tr>\n",
       "      <th>process</th>\n",
       "      <td>PTE</td>\n",
       "      <td>PTE</td>\n",
       "    </tr>\n",
       "    <tr>\n",
       "      <th>process-name</th>\n",
       "      <td>Retail Sales</td>\n",
       "      <td>Retail Sales</td>\n",
       "    </tr>\n",
       "    <tr>\n",
       "      <th>series</th>\n",
       "      <td>EMM_EPM0_PTE_YCLE_DPG</td>\n",
       "      <td>EMM_EPM0_PTE_Y05SF_DPG</td>\n",
       "    </tr>\n",
       "    <tr>\n",
       "      <th>series-description</th>\n",
       "      <td>Cleveland, OH All Grades All Formulations Reta...</td>\n",
       "      <td>San Francisco All Grades All Formulations Reta...</td>\n",
       "    </tr>\n",
       "    <tr>\n",
       "      <th>value</th>\n",
       "      <td>2.818</td>\n",
       "      <td>3.733</td>\n",
       "    </tr>\n",
       "    <tr>\n",
       "      <th>units</th>\n",
       "      <td>$/GAL</td>\n",
       "      <td>$/GAL</td>\n",
       "    </tr>\n",
       "  </tbody>\n",
       "</table>\n",
       "</div>"
      ],
      "text/plain": [
       "                                                                 2847  \\\n",
       "period                                                     2006-04-17   \n",
       "duoarea                                                          YCLE   \n",
       "area-name                                                   CLEVELAND   \n",
       "product                                                          EPM0   \n",
       "product-name                                           Total Gasoline   \n",
       "process                                                           PTE   \n",
       "process-name                                             Retail Sales   \n",
       "series                                          EMM_EPM0_PTE_YCLE_DPG   \n",
       "series-description  Cleveland, OH All Grades All Formulations Reta...   \n",
       "value                                                           2.818   \n",
       "units                                                           $/GAL   \n",
       "\n",
       "                                                                 4572  \n",
       "period                                                     2019-07-22  \n",
       "duoarea                                                         Y05SF  \n",
       "area-name                                               SAN FRANCISCO  \n",
       "product                                                          EPM0  \n",
       "product-name                                           Total Gasoline  \n",
       "process                                                           PTE  \n",
       "process-name                                             Retail Sales  \n",
       "series                                         EMM_EPM0_PTE_Y05SF_DPG  \n",
       "series-description  San Francisco All Grades All Formulations Reta...  \n",
       "value                                                           3.733  \n",
       "units                                                           $/GAL  "
      ]
     },
     "execution_count": 22,
     "metadata": {},
     "output_type": "execute_result"
    }
   ],
   "source": [
    "oil_data.sample(2).T"
   ]
  },
  {
   "cell_type": "markdown",
   "metadata": {},
   "source": [
    "> So most of the data here are categorical. The value column is a numerical one."
   ]
  },
  {
   "cell_type": "code",
   "execution_count": 23,
   "metadata": {},
   "outputs": [
    {
     "data": {
      "text/plain": [
       "period                 989\n",
       "duoarea                 29\n",
       "area-name               29\n",
       "product                  4\n",
       "product-name             4\n",
       "process                  1\n",
       "process-name             1\n",
       "series                  43\n",
       "series-description      43\n",
       "value                 2313\n",
       "units                    1\n",
       "dtype: int64"
      ]
     },
     "execution_count": 23,
     "metadata": {},
     "output_type": "execute_result"
    }
   ],
   "source": [
    "oil_data.nunique()"
   ]
  },
  {
   "cell_type": "markdown",
   "metadata": {},
   "source": [
    "> The date column is named period instead of date. Each of the process and the process-name and the units have only one unique value that is, they don't bring a value to the dataset."
   ]
  },
  {
   "cell_type": "markdown",
   "metadata": {},
   "source": [
    "##### *Inspecting the dataframe visually*\n",
    "The inspecting visually is using the summary statistics table."
   ]
  },
  {
   "cell_type": "code",
   "execution_count": 24,
   "metadata": {},
   "outputs": [
    {
     "data": {
      "text/html": [
       "<div>\n",
       "<style scoped>\n",
       "    .dataframe tbody tr th:only-of-type {\n",
       "        vertical-align: middle;\n",
       "    }\n",
       "\n",
       "    .dataframe tbody tr th {\n",
       "        vertical-align: top;\n",
       "    }\n",
       "\n",
       "    .dataframe thead th {\n",
       "        text-align: right;\n",
       "    }\n",
       "</style>\n",
       "<table border=\"1\" class=\"dataframe\">\n",
       "  <thead>\n",
       "    <tr style=\"text-align: right;\">\n",
       "      <th></th>\n",
       "      <th>count</th>\n",
       "      <th>unique</th>\n",
       "      <th>top</th>\n",
       "      <th>freq</th>\n",
       "    </tr>\n",
       "  </thead>\n",
       "  <tbody>\n",
       "    <tr>\n",
       "      <th>period</th>\n",
       "      <td>5000</td>\n",
       "      <td>989</td>\n",
       "      <td>2020-08-17</td>\n",
       "      <td>13</td>\n",
       "    </tr>\n",
       "    <tr>\n",
       "      <th>duoarea</th>\n",
       "      <td>5000</td>\n",
       "      <td>29</td>\n",
       "      <td>R1X</td>\n",
       "      <td>374</td>\n",
       "    </tr>\n",
       "    <tr>\n",
       "      <th>area-name</th>\n",
       "      <td>5000</td>\n",
       "      <td>29</td>\n",
       "      <td>PADD 1A</td>\n",
       "      <td>374</td>\n",
       "    </tr>\n",
       "    <tr>\n",
       "      <th>product</th>\n",
       "      <td>5000</td>\n",
       "      <td>4</td>\n",
       "      <td>EPM0</td>\n",
       "      <td>3655</td>\n",
       "    </tr>\n",
       "    <tr>\n",
       "      <th>product-name</th>\n",
       "      <td>5000</td>\n",
       "      <td>4</td>\n",
       "      <td>Total Gasoline</td>\n",
       "      <td>3655</td>\n",
       "    </tr>\n",
       "    <tr>\n",
       "      <th>process</th>\n",
       "      <td>5000</td>\n",
       "      <td>1</td>\n",
       "      <td>PTE</td>\n",
       "      <td>5000</td>\n",
       "    </tr>\n",
       "    <tr>\n",
       "      <th>process-name</th>\n",
       "      <td>5000</td>\n",
       "      <td>1</td>\n",
       "      <td>Retail Sales</td>\n",
       "      <td>5000</td>\n",
       "    </tr>\n",
       "    <tr>\n",
       "      <th>series</th>\n",
       "      <td>5000</td>\n",
       "      <td>43</td>\n",
       "      <td>EMM_EPM0_PTE_SCO_DPG</td>\n",
       "      <td>145</td>\n",
       "    </tr>\n",
       "    <tr>\n",
       "      <th>series-description</th>\n",
       "      <td>5000</td>\n",
       "      <td>43</td>\n",
       "      <td>Colorado All Grades All Formulations Retail Ga...</td>\n",
       "      <td>145</td>\n",
       "    </tr>\n",
       "    <tr>\n",
       "      <th>value</th>\n",
       "      <td>5000</td>\n",
       "      <td>2313</td>\n",
       "      <td>2.853</td>\n",
       "      <td>10</td>\n",
       "    </tr>\n",
       "    <tr>\n",
       "      <th>units</th>\n",
       "      <td>5000</td>\n",
       "      <td>1</td>\n",
       "      <td>$/GAL</td>\n",
       "      <td>5000</td>\n",
       "    </tr>\n",
       "  </tbody>\n",
       "</table>\n",
       "</div>"
      ],
      "text/plain": [
       "                   count unique  \\\n",
       "period              5000    989   \n",
       "duoarea             5000     29   \n",
       "area-name           5000     29   \n",
       "product             5000      4   \n",
       "product-name        5000      4   \n",
       "process             5000      1   \n",
       "process-name        5000      1   \n",
       "series              5000     43   \n",
       "series-description  5000     43   \n",
       "value               5000   2313   \n",
       "units               5000      1   \n",
       "\n",
       "                                                                  top  freq  \n",
       "period                                                     2020-08-17    13  \n",
       "duoarea                                                           R1X   374  \n",
       "area-name                                                     PADD 1A   374  \n",
       "product                                                          EPM0  3655  \n",
       "product-name                                           Total Gasoline  3655  \n",
       "process                                                           PTE  5000  \n",
       "process-name                                             Retail Sales  5000  \n",
       "series                                           EMM_EPM0_PTE_SCO_DPG   145  \n",
       "series-description  Colorado All Grades All Formulations Retail Ga...   145  \n",
       "value                                                           2.853    10  \n",
       "units                                                           $/GAL  5000  "
      ]
     },
     "execution_count": 24,
     "metadata": {},
     "output_type": "execute_result"
    }
   ],
   "source": [
    "oil_data.describe().T"
   ]
  },
  {
   "cell_type": "markdown",
   "metadata": {},
   "source": [
    "> Note that we have only one unique value for both of the process name and the process columns, they don't bring a value to the dataset."
   ]
  },
  {
   "cell_type": "markdown",
   "metadata": {
    "id": "lXhGiYyiwwKN"
   },
   "source": [
    "### **Columns Names: (Tidiness Issue #1):**"
   ]
  },
  {
   "cell_type": "markdown",
   "metadata": {},
   "source": [
    "#### **Stocks Dataset**"
   ]
  },
  {
   "cell_type": "markdown",
   "metadata": {},
   "source": [
    "##### *Inspecting the dataframe programmatically*\n",
    "The method used to inspect the dataframe programmatically, is calling the `.columns` attribute to look into the names of the columns."
   ]
  },
  {
   "cell_type": "code",
   "execution_count": 25,
   "metadata": {},
   "outputs": [
    {
     "data": {
      "text/plain": [
       "MultiIndex([(     'Date',      ''),\n",
       "            ('Adj Close',  'AAPL'),\n",
       "            ('Adj Close',  'AMZN'),\n",
       "            ('Adj Close', 'GOOGL'),\n",
       "            ('Adj Close',  'META'),\n",
       "            ('Adj Close',  'MSFT'),\n",
       "            (    'Close',  'AAPL'),\n",
       "            (    'Close',  'AMZN'),\n",
       "            (    'Close', 'GOOGL'),\n",
       "            (    'Close',  'META'),\n",
       "            (    'Close',  'MSFT'),\n",
       "            (     'High',  'AAPL'),\n",
       "            (     'High',  'AMZN'),\n",
       "            (     'High', 'GOOGL'),\n",
       "            (     'High',  'META'),\n",
       "            (     'High',  'MSFT'),\n",
       "            (      'Low',  'AAPL'),\n",
       "            (      'Low',  'AMZN'),\n",
       "            (      'Low', 'GOOGL'),\n",
       "            (      'Low',  'META'),\n",
       "            (      'Low',  'MSFT'),\n",
       "            (     'Open',  'AAPL'),\n",
       "            (     'Open',  'AMZN'),\n",
       "            (     'Open', 'GOOGL'),\n",
       "            (     'Open',  'META'),\n",
       "            (     'Open',  'MSFT'),\n",
       "            (   'Volume',  'AAPL'),\n",
       "            (   'Volume',  'AMZN'),\n",
       "            (   'Volume', 'GOOGL'),\n",
       "            (   'Volume',  'META'),\n",
       "            (   'Volume',  'MSFT')],\n",
       "           names=['Price', 'Ticker'])"
      ]
     },
     "execution_count": 25,
     "metadata": {},
     "output_type": "execute_result"
    }
   ],
   "source": [
    "stocks_data.columns"
   ]
  },
  {
   "cell_type": "markdown",
   "metadata": {},
   "source": [
    "> The columns names have to converted to the appropriate and by the convintion naming of columns."
   ]
  },
  {
   "cell_type": "markdown",
   "metadata": {},
   "source": [
    "#### **Oil Dataset**"
   ]
  },
  {
   "cell_type": "markdown",
   "metadata": {},
   "source": [
    "##### *Inspecting the dataframe programmatically*\n",
    "The method used to inspect the dataframe programmatically, is calling the `.columns` attribute to look into the names of the columns."
   ]
  },
  {
   "cell_type": "code",
   "execution_count": 26,
   "metadata": {},
   "outputs": [
    {
     "data": {
      "text/plain": [
       "Index(['period', 'duoarea', 'area-name', 'product', 'product-name', 'process',\n",
       "       'process-name', 'series', 'series-description', 'value', 'units'],\n",
       "      dtype='object')"
      ]
     },
     "execution_count": 26,
     "metadata": {},
     "output_type": "execute_result"
    }
   ],
   "source": [
    "oil_data.columns"
   ]
  },
  {
   "cell_type": "markdown",
   "metadata": {},
   "source": [
    "> The names of these columns would be better mapped for the merging, the column of date is named period. other coulmns could use a more meaningful name and using the convention of columns naming."
   ]
  },
  {
   "cell_type": "markdown",
   "metadata": {
    "id": "4ffMoRGSwzYj"
   },
   "source": [
    "### **Indexing (Tidiness Issue #2):**"
   ]
  },
  {
   "cell_type": "markdown",
   "metadata": {},
   "source": [
    "#### **Stocks Dataset**"
   ]
  },
  {
   "cell_type": "markdown",
   "metadata": {},
   "source": [
    "##### *Inspecting the dataframe programmatically*\n",
    "To inspect the dataframe programmatically in terms of indexing two atttributes are called `.index` and `.columns` it is because they can show the columns and the indecies used in the dataframe."
   ]
  },
  {
   "cell_type": "code",
   "execution_count": 27,
   "metadata": {},
   "outputs": [
    {
     "name": "stdout",
     "output_type": "stream",
     "text": [
      "RangeIndex(start=0, stop=4781, step=1)\n"
     ]
    },
    {
     "data": {
      "text/plain": [
       "MultiIndex([(     'Date',      ''),\n",
       "            ('Adj Close',  'AAPL'),\n",
       "            ('Adj Close',  'AMZN'),\n",
       "            ('Adj Close', 'GOOGL'),\n",
       "            ('Adj Close',  'META'),\n",
       "            ('Adj Close',  'MSFT'),\n",
       "            (    'Close',  'AAPL'),\n",
       "            (    'Close',  'AMZN'),\n",
       "            (    'Close', 'GOOGL'),\n",
       "            (    'Close',  'META'),\n",
       "            (    'Close',  'MSFT'),\n",
       "            (     'High',  'AAPL'),\n",
       "            (     'High',  'AMZN'),\n",
       "            (     'High', 'GOOGL'),\n",
       "            (     'High',  'META'),\n",
       "            (     'High',  'MSFT'),\n",
       "            (      'Low',  'AAPL'),\n",
       "            (      'Low',  'AMZN'),\n",
       "            (      'Low', 'GOOGL'),\n",
       "            (      'Low',  'META'),\n",
       "            (      'Low',  'MSFT'),\n",
       "            (     'Open',  'AAPL'),\n",
       "            (     'Open',  'AMZN'),\n",
       "            (     'Open', 'GOOGL'),\n",
       "            (     'Open',  'META'),\n",
       "            (     'Open',  'MSFT'),\n",
       "            (   'Volume',  'AAPL'),\n",
       "            (   'Volume',  'AMZN'),\n",
       "            (   'Volume', 'GOOGL'),\n",
       "            (   'Volume',  'META'),\n",
       "            (   'Volume',  'MSFT')],\n",
       "           names=['Price', 'Ticker'])"
      ]
     },
     "execution_count": 27,
     "metadata": {},
     "output_type": "execute_result"
    }
   ],
   "source": [
    "print(stocks_data.index)\n",
    "stocks_data.columns"
   ]
  },
  {
   "cell_type": "markdown",
   "metadata": {},
   "source": [
    "> This dataset is multi-indexed. It would be difficult to deal with. Since we have to have one observation per row, let's better take the decision to handle this case into one observation per row."
   ]
  },
  {
   "cell_type": "markdown",
   "metadata": {},
   "source": [
    "#### **Oil Dataset**"
   ]
  },
  {
   "cell_type": "markdown",
   "metadata": {},
   "source": [
    "##### *Inspecting the dataframe programmatically*\n",
    "To inspect the dataframe programmatically in terms of indexing two atttributes are called `.index` and `.columns` it is because they can show the columns and the indecies used in the dataframe."
   ]
  },
  {
   "cell_type": "code",
   "execution_count": 28,
   "metadata": {},
   "outputs": [
    {
     "name": "stdout",
     "output_type": "stream",
     "text": [
      "RangeIndex(start=0, stop=5000, step=1)\n"
     ]
    },
    {
     "data": {
      "text/plain": [
       "Index(['period', 'duoarea', 'area-name', 'product', 'product-name', 'process',\n",
       "       'process-name', 'series', 'series-description', 'value', 'units'],\n",
       "      dtype='object')"
      ]
     },
     "execution_count": 28,
     "metadata": {},
     "output_type": "execute_result"
    }
   ],
   "source": [
    "print(oil_data.index)\n",
    "oil_data.columns"
   ]
  },
  {
   "cell_type": "markdown",
   "metadata": {},
   "source": [
    "> The index of the second dataset is a range index starting from 0 to 5000."
   ]
  },
  {
   "cell_type": "markdown",
   "metadata": {
    "id": "D6gmLnBttpCh"
   },
   "source": [
    "## 5. Clean data\n",
    "It's time to address the issues found during assessment to clean and polish your data.\n",
    "\n",
    "Clean the data to solve the 4 issues corresponding to data quality and tidiness found in the assessing step. **Make sure you include justifications for your cleaning decisions.**\n",
    "\n",
    "After the cleaning for each issue, please use **either** the visually or programatical method to validate the cleaning was succesful.\n",
    "\n",
    "At this stage, you are also expected to remove variables that are unnecessary for your analysis and combine your datasets. Depending on your datasets, you may choose to perform variable combination and elimination before or after the cleaning stage. Your dataset must have **at least** 4 variables after combining the data."
   ]
  },
  {
   "cell_type": "code",
   "execution_count": 55,
   "metadata": {},
   "outputs": [],
   "source": [
    "## Making copies of the datasets to ensure the raw dataframes are not impacted\n",
    "oil_data_cleaned = oil_data.copy()\n",
    "stocks_data_cleaned = stocks_data.copy()"
   ]
  },
  {
   "cell_type": "markdown",
   "metadata": {
    "id": "FmFhN52Yyn3l"
   },
   "source": [
    "### **Completeness (Quality Issue #1):**\n",
    "\n",
    "There was missing values in both of the datasets."
   ]
  },
  {
   "cell_type": "markdown",
   "metadata": {},
   "source": [
    "#### **Stocks Dataset**\n",
    "For the stocks datsaets, the method chosen for handling missing values is to use the fillin method using the backward startegy since as shown in the heatmap for misisng values it(missing values) starts from the first index. "
   ]
  },
  {
   "cell_type": "markdown",
   "metadata": {},
   "source": [
    "> Justification: *For the META facebook before, there seems to be missing values for some reason, however it was checked if the stock nasdaq name used to be FB so did that affect the way the data was gathered and it turned out to not. FB was created in 2005 and it's supposed to have these stocks too,*"
   ]
  },
  {
   "cell_type": "code",
   "execution_count": 56,
   "metadata": {
    "id": "9UejDWrNMW4a"
   },
   "outputs": [
    {
     "name": "stderr",
     "output_type": "stream",
     "text": [
      "C:\\Users\\SS\\AppData\\Local\\Temp\\ipykernel_17520\\3280220914.py:2: FutureWarning: DataFrame.fillna with 'method' is deprecated and will raise in a future version. Use obj.ffill() or obj.bfill() instead.\n",
      "  stocks_data_cleaned.fillna(method='bfill', inplace=True) ## fillna with backward fill for META FB\n"
     ]
    },
    {
     "data": {
      "text/html": [
       "<div>\n",
       "<style scoped>\n",
       "    .dataframe tbody tr th:only-of-type {\n",
       "        vertical-align: middle;\n",
       "    }\n",
       "\n",
       "    .dataframe tbody tr th {\n",
       "        vertical-align: top;\n",
       "    }\n",
       "\n",
       "    .dataframe thead tr th {\n",
       "        text-align: left;\n",
       "    }\n",
       "</style>\n",
       "<table border=\"1\" class=\"dataframe\">\n",
       "  <thead>\n",
       "    <tr>\n",
       "      <th>Price</th>\n",
       "      <th>Date</th>\n",
       "      <th colspan=\"5\" halign=\"left\">Adj Close</th>\n",
       "      <th colspan=\"4\" halign=\"left\">Close</th>\n",
       "      <th>...</th>\n",
       "      <th colspan=\"5\" halign=\"left\">Open</th>\n",
       "      <th colspan=\"5\" halign=\"left\">Volume</th>\n",
       "    </tr>\n",
       "    <tr>\n",
       "      <th>Ticker</th>\n",
       "      <th></th>\n",
       "      <th>AAPL</th>\n",
       "      <th>AMZN</th>\n",
       "      <th>GOOGL</th>\n",
       "      <th>META</th>\n",
       "      <th>MSFT</th>\n",
       "      <th>AAPL</th>\n",
       "      <th>AMZN</th>\n",
       "      <th>GOOGL</th>\n",
       "      <th>META</th>\n",
       "      <th>...</th>\n",
       "      <th>AAPL</th>\n",
       "      <th>AMZN</th>\n",
       "      <th>GOOGL</th>\n",
       "      <th>META</th>\n",
       "      <th>MSFT</th>\n",
       "      <th>AAPL</th>\n",
       "      <th>AMZN</th>\n",
       "      <th>GOOGL</th>\n",
       "      <th>META</th>\n",
       "      <th>MSFT</th>\n",
       "    </tr>\n",
       "  </thead>\n",
       "  <tbody>\n",
       "    <tr>\n",
       "      <th>1728</th>\n",
       "      <td>2011-11-10</td>\n",
       "      <td>11.631618</td>\n",
       "      <td>10.539500</td>\n",
       "      <td>14.874821</td>\n",
       "      <td>38.151604</td>\n",
       "      <td>20.656912</td>\n",
       "      <td>13.757857</td>\n",
       "      <td>10.539500</td>\n",
       "      <td>14.891892</td>\n",
       "      <td>38.230000</td>\n",
       "      <td>...</td>\n",
       "      <td>14.179643</td>\n",
       "      <td>10.675000</td>\n",
       "      <td>15.163413</td>\n",
       "      <td>42.049999</td>\n",
       "      <td>26.469999</td>\n",
       "      <td>744752400</td>\n",
       "      <td>100892000</td>\n",
       "      <td>114621264</td>\n",
       "      <td>573576400.0</td>\n",
       "      <td>32514400</td>\n",
       "    </tr>\n",
       "    <tr>\n",
       "      <th>2833</th>\n",
       "      <td>2016-04-06</td>\n",
       "      <td>25.324635</td>\n",
       "      <td>30.104000</td>\n",
       "      <td>38.359474</td>\n",
       "      <td>113.476814</td>\n",
       "      <td>49.155212</td>\n",
       "      <td>27.740000</td>\n",
       "      <td>30.104000</td>\n",
       "      <td>38.403500</td>\n",
       "      <td>113.709999</td>\n",
       "      <td>...</td>\n",
       "      <td>27.557501</td>\n",
       "      <td>29.375999</td>\n",
       "      <td>37.891998</td>\n",
       "      <td>112.470001</td>\n",
       "      <td>54.360001</td>\n",
       "      <td>105616400</td>\n",
       "      <td>56998000</td>\n",
       "      <td>25312000</td>\n",
       "      <td>20814600.0</td>\n",
       "      <td>21188700</td>\n",
       "    </tr>\n",
       "    <tr>\n",
       "      <th>4726</th>\n",
       "      <td>2023-10-12</td>\n",
       "      <td>179.998108</td>\n",
       "      <td>132.330002</td>\n",
       "      <td>138.810684</td>\n",
       "      <td>323.495239</td>\n",
       "      <td>329.285248</td>\n",
       "      <td>180.710007</td>\n",
       "      <td>132.330002</td>\n",
       "      <td>138.970001</td>\n",
       "      <td>324.160004</td>\n",
       "      <td>...</td>\n",
       "      <td>180.070007</td>\n",
       "      <td>132.169998</td>\n",
       "      <td>141.050003</td>\n",
       "      <td>328.000000</td>\n",
       "      <td>330.570007</td>\n",
       "      <td>56743100</td>\n",
       "      <td>55528600</td>\n",
       "      <td>24765500</td>\n",
       "      <td>20530500.0</td>\n",
       "      <td>19313100</td>\n",
       "    </tr>\n",
       "    <tr>\n",
       "      <th>4292</th>\n",
       "      <td>2022-01-20</td>\n",
       "      <td>162.224258</td>\n",
       "      <td>151.667496</td>\n",
       "      <td>133.154678</td>\n",
       "      <td>315.910828</td>\n",
       "      <td>295.095093</td>\n",
       "      <td>164.509995</td>\n",
       "      <td>151.667496</td>\n",
       "      <td>133.307495</td>\n",
       "      <td>316.559998</td>\n",
       "      <td>...</td>\n",
       "      <td>166.979996</td>\n",
       "      <td>156.766006</td>\n",
       "      <td>136.250000</td>\n",
       "      <td>323.899994</td>\n",
       "      <td>309.070007</td>\n",
       "      <td>91420500</td>\n",
       "      <td>71974000</td>\n",
       "      <td>29908000</td>\n",
       "      <td>16925000.0</td>\n",
       "      <td>35380700</td>\n",
       "    </tr>\n",
       "    <tr>\n",
       "      <th>2128</th>\n",
       "      <td>2013-06-18</td>\n",
       "      <td>13.317185</td>\n",
       "      <td>14.088000</td>\n",
       "      <td>22.512201</td>\n",
       "      <td>24.160351</td>\n",
       "      <td>28.923132</td>\n",
       "      <td>15.420357</td>\n",
       "      <td>14.088000</td>\n",
       "      <td>22.538038</td>\n",
       "      <td>24.209999</td>\n",
       "      <td>...</td>\n",
       "      <td>15.412857</td>\n",
       "      <td>13.954000</td>\n",
       "      <td>22.238487</td>\n",
       "      <td>24.090000</td>\n",
       "      <td>34.970001</td>\n",
       "      <td>195025600</td>\n",
       "      <td>42922000</td>\n",
       "      <td>86589324</td>\n",
       "      <td>36709100.0</td>\n",
       "      <td>28616500</td>\n",
       "    </tr>\n",
       "  </tbody>\n",
       "</table>\n",
       "<p>5 rows × 31 columns</p>\n",
       "</div>"
      ],
      "text/plain": [
       "Price        Date   Adj Close                                                  \\\n",
       "Ticker                   AAPL        AMZN       GOOGL        META        MSFT   \n",
       "1728   2011-11-10   11.631618   10.539500   14.874821   38.151604   20.656912   \n",
       "2833   2016-04-06   25.324635   30.104000   38.359474  113.476814   49.155212   \n",
       "4726   2023-10-12  179.998108  132.330002  138.810684  323.495239  329.285248   \n",
       "4292   2022-01-20  162.224258  151.667496  133.154678  315.910828  295.095093   \n",
       "2128   2013-06-18   13.317185   14.088000   22.512201   24.160351   28.923132   \n",
       "\n",
       "Price        Close                                      ...        Open  \\\n",
       "Ticker        AAPL        AMZN       GOOGL        META  ...        AAPL   \n",
       "1728     13.757857   10.539500   14.891892   38.230000  ...   14.179643   \n",
       "2833     27.740000   30.104000   38.403500  113.709999  ...   27.557501   \n",
       "4726    180.710007  132.330002  138.970001  324.160004  ...  180.070007   \n",
       "4292    164.509995  151.667496  133.307495  316.559998  ...  166.979996   \n",
       "2128     15.420357   14.088000   22.538038   24.209999  ...   15.412857   \n",
       "\n",
       "Price                                                      Volume             \\\n",
       "Ticker        AMZN       GOOGL        META        MSFT       AAPL       AMZN   \n",
       "1728     10.675000   15.163413   42.049999   26.469999  744752400  100892000   \n",
       "2833     29.375999   37.891998  112.470001   54.360001  105616400   56998000   \n",
       "4726    132.169998  141.050003  328.000000  330.570007   56743100   55528600   \n",
       "4292    156.766006  136.250000  323.899994  309.070007   91420500   71974000   \n",
       "2128     13.954000   22.238487   24.090000   34.970001  195025600   42922000   \n",
       "\n",
       "Price                                     \n",
       "Ticker      GOOGL         META      MSFT  \n",
       "1728    114621264  573576400.0  32514400  \n",
       "2833     25312000   20814600.0  21188700  \n",
       "4726     24765500   20530500.0  19313100  \n",
       "4292     29908000   16925000.0  35380700  \n",
       "2128     86589324   36709100.0  28616500  \n",
       "\n",
       "[5 rows x 31 columns]"
      ]
     },
     "execution_count": 56,
     "metadata": {},
     "output_type": "execute_result"
    }
   ],
   "source": [
    "## apply the fill in backward way for META\n",
    "stocks_data_cleaned.fillna(method='bfill', inplace=True) ## fillna with backward fill for META FB\n",
    "stocks_data_cleaned.sample(5)"
   ]
  },
  {
   "cell_type": "code",
   "execution_count": 57,
   "metadata": {
    "id": "oUBee-LPytkv"
   },
   "outputs": [
    {
     "data": {
      "text/plain": [
       "Price      Ticker\n",
       "Date                 0\n",
       "Adj Close  AAPL      0\n",
       "           AMZN      0\n",
       "           GOOGL     0\n",
       "           META      0\n",
       "           MSFT      0\n",
       "Close      AAPL      0\n",
       "           AMZN      0\n",
       "           GOOGL     0\n",
       "           META      0\n",
       "           MSFT      0\n",
       "High       AAPL      0\n",
       "           AMZN      0\n",
       "           GOOGL     0\n",
       "           META      0\n",
       "           MSFT      0\n",
       "Low        AAPL      0\n",
       "           AMZN      0\n",
       "           GOOGL     0\n",
       "           META      0\n",
       "           MSFT      0\n",
       "Open       AAPL      0\n",
       "           AMZN      0\n",
       "           GOOGL     0\n",
       "           META      0\n",
       "           MSFT      0\n",
       "Volume     AAPL      0\n",
       "           AMZN      0\n",
       "           GOOGL     0\n",
       "           META      0\n",
       "           MSFT      0\n",
       "dtype: int64"
      ]
     },
     "execution_count": 57,
     "metadata": {},
     "output_type": "execute_result"
    }
   ],
   "source": [
    "## Let's validate the cleaning was successful\n",
    "stocks_data_cleaned.isin(nan).sum()"
   ]
  },
  {
   "cell_type": "markdown",
   "metadata": {},
   "source": [
    "> Now the dataset contains zero missing values and the completness issue for the first dataset is handled."
   ]
  },
  {
   "cell_type": "markdown",
   "metadata": {},
   "source": [
    "#### **Oil Dataset**\n",
    "For the oil dataset we have missing values in the values they are only three values so they will be filled by backward method."
   ]
  },
  {
   "cell_type": "code",
   "execution_count": 58,
   "metadata": {},
   "outputs": [
    {
     "name": "stderr",
     "output_type": "stream",
     "text": [
      "C:\\Users\\SS\\AppData\\Local\\Temp\\ipykernel_17520\\179560191.py:2: FutureWarning: DataFrame.fillna with 'method' is deprecated and will raise in a future version. Use obj.ffill() or obj.bfill() instead.\n",
      "  oil_data_cleaned.fillna(method='bfill', inplace=True) ## fillna with backward fill for META FB\n"
     ]
    },
    {
     "data": {
      "text/html": [
       "<div>\n",
       "<style scoped>\n",
       "    .dataframe tbody tr th:only-of-type {\n",
       "        vertical-align: middle;\n",
       "    }\n",
       "\n",
       "    .dataframe tbody tr th {\n",
       "        vertical-align: top;\n",
       "    }\n",
       "\n",
       "    .dataframe thead th {\n",
       "        text-align: right;\n",
       "    }\n",
       "</style>\n",
       "<table border=\"1\" class=\"dataframe\">\n",
       "  <thead>\n",
       "    <tr style=\"text-align: right;\">\n",
       "      <th></th>\n",
       "      <th>period</th>\n",
       "      <th>duoarea</th>\n",
       "      <th>area-name</th>\n",
       "      <th>product</th>\n",
       "      <th>product-name</th>\n",
       "      <th>process</th>\n",
       "      <th>process-name</th>\n",
       "      <th>series</th>\n",
       "      <th>series-description</th>\n",
       "      <th>value</th>\n",
       "      <th>units</th>\n",
       "    </tr>\n",
       "  </thead>\n",
       "  <tbody>\n",
       "    <tr>\n",
       "      <th>1487</th>\n",
       "      <td>2009-10-26</td>\n",
       "      <td>R10</td>\n",
       "      <td>PADD 1</td>\n",
       "      <td>EPM0</td>\n",
       "      <td>Total Gasoline</td>\n",
       "      <td>PTE</td>\n",
       "      <td>Retail Sales</td>\n",
       "      <td>EMM_EPM0_PTE_R10_DPG</td>\n",
       "      <td>East Coast All Grades All Formulations Retail ...</td>\n",
       "      <td>2.719</td>\n",
       "      <td>$/GAL</td>\n",
       "    </tr>\n",
       "    <tr>\n",
       "      <th>3592</th>\n",
       "      <td>2005-07-25</td>\n",
       "      <td>R1Z</td>\n",
       "      <td>PADD 1C</td>\n",
       "      <td>EPM0</td>\n",
       "      <td>Total Gasoline</td>\n",
       "      <td>PTE</td>\n",
       "      <td>Retail Sales</td>\n",
       "      <td>EMM_EPM0_PTE_R1Z_DPG</td>\n",
       "      <td>Lower Atlantic (PADD 1C) All Grades All Formul...</td>\n",
       "      <td>2.297</td>\n",
       "      <td>$/GAL</td>\n",
       "    </tr>\n",
       "    <tr>\n",
       "      <th>2231</th>\n",
       "      <td>2008-11-10</td>\n",
       "      <td>SNY</td>\n",
       "      <td>NEW YORK</td>\n",
       "      <td>EPM0</td>\n",
       "      <td>Total Gasoline</td>\n",
       "      <td>PTE</td>\n",
       "      <td>Retail Sales</td>\n",
       "      <td>EMM_EPM0_PTE_SNY_DPG</td>\n",
       "      <td>New York All Grades All Formulations Retail Ga...</td>\n",
       "      <td>2.661</td>\n",
       "      <td>$/GAL</td>\n",
       "    </tr>\n",
       "    <tr>\n",
       "      <th>386</th>\n",
       "      <td>2011-11-21</td>\n",
       "      <td>R30</td>\n",
       "      <td>PADD 3</td>\n",
       "      <td>EPD2DXL0</td>\n",
       "      <td>No 2 Diesel Low Sulfur (0-15 ppm)</td>\n",
       "      <td>PTE</td>\n",
       "      <td>Retail Sales</td>\n",
       "      <td>EMD_EPD2DXL0_PTE_R30_DPG</td>\n",
       "      <td>Gulf Coast No 2 Diesel Ultra Low Sulfur (0-15 ...</td>\n",
       "      <td>3.903</td>\n",
       "      <td>$/GAL</td>\n",
       "    </tr>\n",
       "    <tr>\n",
       "      <th>328</th>\n",
       "      <td>2019-04-15</td>\n",
       "      <td>SCA</td>\n",
       "      <td>CALIFORNIA</td>\n",
       "      <td>EPD2DXL0</td>\n",
       "      <td>No 2 Diesel Low Sulfur (0-15 ppm)</td>\n",
       "      <td>PTE</td>\n",
       "      <td>Retail Sales</td>\n",
       "      <td>EMD_EPD2DXL0_PTE_SCA_DPG</td>\n",
       "      <td>California No 2 Diesel Ultra Low Sulfur (0-15 ...</td>\n",
       "      <td>3.967</td>\n",
       "      <td>$/GAL</td>\n",
       "    </tr>\n",
       "  </tbody>\n",
       "</table>\n",
       "</div>"
      ],
      "text/plain": [
       "          period duoarea   area-name   product  \\\n",
       "1487  2009-10-26     R10      PADD 1      EPM0   \n",
       "3592  2005-07-25     R1Z     PADD 1C      EPM0   \n",
       "2231  2008-11-10     SNY    NEW YORK      EPM0   \n",
       "386   2011-11-21     R30      PADD 3  EPD2DXL0   \n",
       "328   2019-04-15     SCA  CALIFORNIA  EPD2DXL0   \n",
       "\n",
       "                           product-name process  process-name  \\\n",
       "1487                     Total Gasoline     PTE  Retail Sales   \n",
       "3592                     Total Gasoline     PTE  Retail Sales   \n",
       "2231                     Total Gasoline     PTE  Retail Sales   \n",
       "386   No 2 Diesel Low Sulfur (0-15 ppm)     PTE  Retail Sales   \n",
       "328   No 2 Diesel Low Sulfur (0-15 ppm)     PTE  Retail Sales   \n",
       "\n",
       "                        series  \\\n",
       "1487      EMM_EPM0_PTE_R10_DPG   \n",
       "3592      EMM_EPM0_PTE_R1Z_DPG   \n",
       "2231      EMM_EPM0_PTE_SNY_DPG   \n",
       "386   EMD_EPD2DXL0_PTE_R30_DPG   \n",
       "328   EMD_EPD2DXL0_PTE_SCA_DPG   \n",
       "\n",
       "                                     series-description  value  units  \n",
       "1487  East Coast All Grades All Formulations Retail ...  2.719  $/GAL  \n",
       "3592  Lower Atlantic (PADD 1C) All Grades All Formul...  2.297  $/GAL  \n",
       "2231  New York All Grades All Formulations Retail Ga...  2.661  $/GAL  \n",
       "386   Gulf Coast No 2 Diesel Ultra Low Sulfur (0-15 ...  3.903  $/GAL  \n",
       "328   California No 2 Diesel Ultra Low Sulfur (0-15 ...  3.967  $/GAL  "
      ]
     },
     "execution_count": 58,
     "metadata": {},
     "output_type": "execute_result"
    }
   ],
   "source": [
    "## Let's apply the mapping into the area-name column\n",
    "oil_data_cleaned.fillna(method='bfill', inplace=True) ## fillna with backward fill for META FB\n",
    "oil_data_cleaned.sample(5)"
   ]
  },
  {
   "cell_type": "code",
   "execution_count": 59,
   "metadata": {},
   "outputs": [
    {
     "data": {
      "text/plain": [
       "period                0\n",
       "duoarea               0\n",
       "area-name             0\n",
       "product               0\n",
       "product-name          0\n",
       "process               0\n",
       "process-name          0\n",
       "series                0\n",
       "series-description    0\n",
       "value                 0\n",
       "units                 0\n",
       "dtype: int64"
      ]
     },
     "execution_count": 59,
     "metadata": {},
     "output_type": "execute_result"
    }
   ],
   "source": [
    "## Let's validate the cleaning was successful\n",
    "oil_data_cleaned.isna().sum()"
   ]
  },
  {
   "cell_type": "markdown",
   "metadata": {},
   "source": [
    "> Now the dataset contains zero missing values and the completness issue for the first dataset is handled."
   ]
  },
  {
   "cell_type": "markdown",
   "metadata": {},
   "source": [
    "### **Validity (Quality Issue #2):**"
   ]
  },
  {
   "cell_type": "markdown",
   "metadata": {},
   "source": [
    "#### **Stocks Dataset**\n",
    "In the stocks dataset the datatypes were accurate, only the datetime only contains teh date so it is storing unnecceray data of 00:00:00 time."
   ]
  },
  {
   "cell_type": "markdown",
   "metadata": {},
   "source": [
    "> All the datatypes are valid for the stocks datasets."
   ]
  },
  {
   "cell_type": "markdown",
   "metadata": {},
   "source": [
    "> *The decsision will be to extract teh months, years and days after the merge. To make more sense when visualization and answering the reswarch question.*"
   ]
  },
  {
   "cell_type": "markdown",
   "metadata": {},
   "source": [
    "#### **Oils Dataset**\n",
    "In the oil datsaet there were all of the datatypes are objects."
   ]
  },
  {
   "cell_type": "code",
   "execution_count": 60,
   "metadata": {},
   "outputs": [],
   "source": [
    "## Apply the cleaning strategy which is use teh to_datetime\n",
    "oil_data_cleaned['period'] = pd.to_datetime(oil_data_cleaned['period'])"
   ]
  },
  {
   "cell_type": "code",
   "execution_count": 61,
   "metadata": {},
   "outputs": [],
   "source": [
    "## change the datatype of the value column to numerical \n",
    "oil_data_cleaned['value'] = pd.to_numeric(oil_data_cleaned['value'])"
   ]
  },
  {
   "cell_type": "code",
   "execution_count": 62,
   "metadata": {},
   "outputs": [
    {
     "name": "stdout",
     "output_type": "stream",
     "text": [
      "<class 'pandas.core.frame.DataFrame'>\n",
      "RangeIndex: 5000 entries, 0 to 4999\n",
      "Data columns (total 11 columns):\n",
      " #   Column              Non-Null Count  Dtype         \n",
      "---  ------              --------------  -----         \n",
      " 0   period              5000 non-null   datetime64[ns]\n",
      " 1   duoarea             5000 non-null   object        \n",
      " 2   area-name           5000 non-null   object        \n",
      " 3   product             5000 non-null   object        \n",
      " 4   product-name        5000 non-null   object        \n",
      " 5   process             5000 non-null   object        \n",
      " 6   process-name        5000 non-null   object        \n",
      " 7   series              5000 non-null   object        \n",
      " 8   series-description  5000 non-null   object        \n",
      " 9   value               5000 non-null   float64       \n",
      " 10  units               5000 non-null   object        \n",
      "dtypes: datetime64[ns](1), float64(1), object(9)\n",
      "memory usage: 429.8+ KB\n"
     ]
    }
   ],
   "source": [
    "## to Validate the cleaning was successful used info\n",
    "oil_data_cleaned.info()"
   ]
  },
  {
   "cell_type": "markdown",
   "metadata": {},
   "source": [
    "> We can see the period successfully changed into the datetime datatype and the value is changed successfully to float64."
   ]
  },
  {
   "cell_type": "markdown",
   "metadata": {},
   "source": [
    "### **Columns Names: (Tidiness Issue #1):**\n",
    "This issue includes the columns names and renaming to the convention."
   ]
  },
  {
   "cell_type": "markdown",
   "metadata": {},
   "source": [
    "#### **Stocks Dataset**\n",
    "The cleaning here is done by applying the new mapping following the convention to the dataset."
   ]
  },
  {
   "cell_type": "code",
   "execution_count": 63,
   "metadata": {},
   "outputs": [
    {
     "data": {
      "text/plain": [
       "{('Date', ''): 'date',\n",
       " ('Adj Close', 'AAPL'): 'adj_close_aapl',\n",
       " ('Adj Close', 'AMZN'): 'adj_close_amzn',\n",
       " ('Adj Close', 'GOOGL'): 'adj_close_googl',\n",
       " ('Adj Close', 'META'): 'adj_close_meta',\n",
       " ('Adj Close', 'MSFT'): 'adj_close_msft',\n",
       " ('Close', 'AAPL'): 'close_aapl',\n",
       " ('Close', 'AMZN'): 'close_amzn',\n",
       " ('Close', 'GOOGL'): 'close_googl',\n",
       " ('Close', 'META'): 'close_meta',\n",
       " ('Close', 'MSFT'): 'close_msft',\n",
       " ('High', 'AAPL'): 'high_aapl',\n",
       " ('High', 'AMZN'): 'high_amzn',\n",
       " ('High', 'GOOGL'): 'high_googl',\n",
       " ('High', 'META'): 'high_meta',\n",
       " ('High', 'MSFT'): 'high_msft',\n",
       " ('Low', 'AAPL'): 'low_aapl',\n",
       " ('Low', 'AMZN'): 'low_amzn',\n",
       " ('Low', 'GOOGL'): 'low_googl',\n",
       " ('Low', 'META'): 'low_meta',\n",
       " ('Low', 'MSFT'): 'low_msft',\n",
       " ('Open', 'AAPL'): 'open_aapl',\n",
       " ('Open', 'AMZN'): 'open_amzn',\n",
       " ('Open', 'GOOGL'): 'open_googl',\n",
       " ('Open', 'META'): 'open_meta',\n",
       " ('Open', 'MSFT'): 'open_msft',\n",
       " ('Volume', 'AAPL'): 'volume_aapl',\n",
       " ('Volume', 'AMZN'): 'volume_amzn',\n",
       " ('Volume', 'GOOGL'): 'volume_googl',\n",
       " ('Volume', 'META'): 'volume_meta',\n",
       " ('Volume', 'MSFT'): 'volume_msft'}"
      ]
     },
     "execution_count": 63,
     "metadata": {},
     "output_type": "execute_result"
    }
   ],
   "source": [
    "new_stocks_names = {\n",
    "    col: ('_'.join([col[0].lower(), col[1].lower()])).replace(' ', '_') if col[0] != 'Date' else 'date'\n",
    "    for col in stocks_data_cleaned.columns\n",
    "}\n",
    "new_stocks_names"
   ]
  },
  {
   "cell_type": "code",
   "execution_count": 64,
   "metadata": {},
   "outputs": [],
   "source": [
    "stocks_data_cleaned.columns = stocks_data_cleaned.columns.map(new_stocks_names)"
   ]
  },
  {
   "cell_type": "code",
   "execution_count": 65,
   "metadata": {
    "id": "yhrnUGY_Nk8B"
   },
   "outputs": [
    {
     "data": {
      "text/plain": [
       "Index(['date', 'adj_close_aapl', 'adj_close_amzn', 'adj_close_googl',\n",
       "       'adj_close_meta', 'adj_close_msft', 'close_aapl', 'close_amzn',\n",
       "       'close_googl', 'close_meta', 'close_msft', 'high_aapl', 'high_amzn',\n",
       "       'high_googl', 'high_meta', 'high_msft', 'low_aapl', 'low_amzn',\n",
       "       'low_googl', 'low_meta', 'low_msft', 'open_aapl', 'open_amzn',\n",
       "       'open_googl', 'open_meta', 'open_msft', 'volume_aapl', 'volume_amzn',\n",
       "       'volume_googl', 'volume_meta', 'volume_msft'],\n",
       "      dtype='object')"
      ]
     },
     "execution_count": 65,
     "metadata": {},
     "output_type": "execute_result"
    }
   ],
   "source": [
    "## Validate the cleaning was successful by calling the .columns\n",
    "stocks_data_cleaned.columns"
   ]
  },
  {
   "cell_type": "code",
   "execution_count": 66,
   "metadata": {},
   "outputs": [
    {
     "data": {
      "text/html": [
       "<div>\n",
       "<style scoped>\n",
       "    .dataframe tbody tr th:only-of-type {\n",
       "        vertical-align: middle;\n",
       "    }\n",
       "\n",
       "    .dataframe tbody tr th {\n",
       "        vertical-align: top;\n",
       "    }\n",
       "\n",
       "    .dataframe thead th {\n",
       "        text-align: right;\n",
       "    }\n",
       "</style>\n",
       "<table border=\"1\" class=\"dataframe\">\n",
       "  <thead>\n",
       "    <tr style=\"text-align: right;\">\n",
       "      <th></th>\n",
       "      <th>774</th>\n",
       "    </tr>\n",
       "  </thead>\n",
       "  <tbody>\n",
       "    <tr>\n",
       "      <th>date</th>\n",
       "      <td>2008-01-31 00:00:00</td>\n",
       "    </tr>\n",
       "    <tr>\n",
       "      <th>adj_close_aapl</th>\n",
       "      <td>4.08716</td>\n",
       "    </tr>\n",
       "    <tr>\n",
       "      <th>adj_close_amzn</th>\n",
       "      <td>3.885</td>\n",
       "    </tr>\n",
       "    <tr>\n",
       "      <th>adj_close_googl</th>\n",
       "      <td>14.105433</td>\n",
       "    </tr>\n",
       "    <tr>\n",
       "      <th>adj_close_meta</th>\n",
       "      <td>38.151604</td>\n",
       "    </tr>\n",
       "    <tr>\n",
       "      <th>adj_close_msft</th>\n",
       "      <td>23.635649</td>\n",
       "    </tr>\n",
       "    <tr>\n",
       "      <th>close_aapl</th>\n",
       "      <td>4.834286</td>\n",
       "    </tr>\n",
       "    <tr>\n",
       "      <th>close_amzn</th>\n",
       "      <td>3.885</td>\n",
       "    </tr>\n",
       "    <tr>\n",
       "      <th>close_googl</th>\n",
       "      <td>14.121622</td>\n",
       "    </tr>\n",
       "    <tr>\n",
       "      <th>close_meta</th>\n",
       "      <td>38.23</td>\n",
       "    </tr>\n",
       "    <tr>\n",
       "      <th>close_msft</th>\n",
       "      <td>32.599998</td>\n",
       "    </tr>\n",
       "    <tr>\n",
       "      <th>high_aapl</th>\n",
       "      <td>4.880357</td>\n",
       "    </tr>\n",
       "    <tr>\n",
       "      <th>high_amzn</th>\n",
       "      <td>3.9435</td>\n",
       "    </tr>\n",
       "    <tr>\n",
       "      <th>high_googl</th>\n",
       "      <td>14.339339</td>\n",
       "    </tr>\n",
       "    <tr>\n",
       "      <th>high_meta</th>\n",
       "      <td>45.0</td>\n",
       "    </tr>\n",
       "    <tr>\n",
       "      <th>high_msft</th>\n",
       "      <td>32.740002</td>\n",
       "    </tr>\n",
       "    <tr>\n",
       "      <th>low_aapl</th>\n",
       "      <td>4.621429</td>\n",
       "    </tr>\n",
       "    <tr>\n",
       "      <th>low_amzn</th>\n",
       "      <td>3.442</td>\n",
       "    </tr>\n",
       "    <tr>\n",
       "      <th>low_googl</th>\n",
       "      <td>13.370621</td>\n",
       "    </tr>\n",
       "    <tr>\n",
       "      <th>low_meta</th>\n",
       "      <td>38.0</td>\n",
       "    </tr>\n",
       "    <tr>\n",
       "      <th>low_msft</th>\n",
       "      <td>31.719999</td>\n",
       "    </tr>\n",
       "    <tr>\n",
       "      <th>open_aapl</th>\n",
       "      <td>4.623214</td>\n",
       "    </tr>\n",
       "    <tr>\n",
       "      <th>open_amzn</th>\n",
       "      <td>3.4455</td>\n",
       "    </tr>\n",
       "    <tr>\n",
       "      <th>open_googl</th>\n",
       "      <td>13.488739</td>\n",
       "    </tr>\n",
       "    <tr>\n",
       "      <th>open_meta</th>\n",
       "      <td>42.049999</td>\n",
       "    </tr>\n",
       "    <tr>\n",
       "      <th>open_msft</th>\n",
       "      <td>31.91</td>\n",
       "    </tr>\n",
       "    <tr>\n",
       "      <th>volume_aapl</th>\n",
       "      <td>1345674400</td>\n",
       "    </tr>\n",
       "    <tr>\n",
       "      <th>volume_amzn</th>\n",
       "      <td>857718000</td>\n",
       "    </tr>\n",
       "    <tr>\n",
       "      <th>volume_googl</th>\n",
       "      <td>594257148</td>\n",
       "    </tr>\n",
       "    <tr>\n",
       "      <th>volume_meta</th>\n",
       "      <td>573576400.0</td>\n",
       "    </tr>\n",
       "    <tr>\n",
       "      <th>volume_msft</th>\n",
       "      <td>103642200</td>\n",
       "    </tr>\n",
       "  </tbody>\n",
       "</table>\n",
       "</div>"
      ],
      "text/plain": [
       "                                 774\n",
       "date             2008-01-31 00:00:00\n",
       "adj_close_aapl               4.08716\n",
       "adj_close_amzn                 3.885\n",
       "adj_close_googl            14.105433\n",
       "adj_close_meta             38.151604\n",
       "adj_close_msft             23.635649\n",
       "close_aapl                  4.834286\n",
       "close_amzn                     3.885\n",
       "close_googl                14.121622\n",
       "close_meta                     38.23\n",
       "close_msft                 32.599998\n",
       "high_aapl                   4.880357\n",
       "high_amzn                     3.9435\n",
       "high_googl                 14.339339\n",
       "high_meta                       45.0\n",
       "high_msft                  32.740002\n",
       "low_aapl                    4.621429\n",
       "low_amzn                       3.442\n",
       "low_googl                  13.370621\n",
       "low_meta                        38.0\n",
       "low_msft                   31.719999\n",
       "open_aapl                   4.623214\n",
       "open_amzn                     3.4455\n",
       "open_googl                 13.488739\n",
       "open_meta                  42.049999\n",
       "open_msft                      31.91\n",
       "volume_aapl               1345674400\n",
       "volume_amzn                857718000\n",
       "volume_googl               594257148\n",
       "volume_meta              573576400.0\n",
       "volume_msft                103642200"
      ]
     },
     "execution_count": 66,
     "metadata": {},
     "output_type": "execute_result"
    }
   ],
   "source": [
    "stocks_data_cleaned.sample(1).T"
   ]
  },
  {
   "cell_type": "markdown",
   "metadata": {},
   "source": [
    "> Justification: *It is the best practice to follow the naming conventions of the dataset columns and for ease of use.*\n",
    "We can see that the names are changed by looking at the head and the columns."
   ]
  },
  {
   "cell_type": "markdown",
   "metadata": {},
   "source": [
    "#### **Oil Dataset**\n",
    "The cleaning here is done by applying the new mapping following the convention to the dataset."
   ]
  },
  {
   "cell_type": "code",
   "execution_count": 67,
   "metadata": {},
   "outputs": [
    {
     "data": {
      "text/plain": [
       "{'period': 'date',\n",
       " 'duoarea': 'duoarea_oil',\n",
       " 'area-name': 'area_name_oil',\n",
       " 'product': 'oil_product_code',\n",
       " 'product-name': 'oil_product_name',\n",
       " 'series': 'oil_series',\n",
       " 'process-name': 'process_name',\n",
       " 'process': 'process',\n",
       " 'series-description': 'oil_series_description',\n",
       " 'value': 'price_oil',\n",
       " 'units': 'units'}"
      ]
     },
     "execution_count": 67,
     "metadata": {},
     "output_type": "execute_result"
    }
   ],
   "source": [
    "## axtracting the new names\n",
    "new_oils_names = {\n",
    "    'period': 'date',\n",
    "    'duoarea': 'duoarea_oil',\n",
    "    'area-name': 'area_name_oil',\n",
    "    'product': 'oil_product_code',\n",
    "    'product-name': 'oil_product_name',\n",
    "    'series': 'oil_series',\n",
    "    'process-name': 'process_name',\n",
    "    'process': 'process',\n",
    "    'series-description': 'oil_series_description',\n",
    "    'value':'price_oil',\n",
    "    'units':'units'\n",
    "}\n",
    "new_oils_names"
   ]
  },
  {
   "cell_type": "code",
   "execution_count": 68,
   "metadata": {},
   "outputs": [],
   "source": [
    "oil_data_cleaned.columns = oil_data_cleaned.columns.map(new_oils_names)"
   ]
  },
  {
   "cell_type": "code",
   "execution_count": 69,
   "metadata": {},
   "outputs": [
    {
     "data": {
      "text/plain": [
       "Index(['date', 'duoarea_oil', 'area_name_oil', 'oil_product_code',\n",
       "       'oil_product_name', 'process', 'process_name', 'oil_series',\n",
       "       'oil_series_description', 'price_oil', 'units'],\n",
       "      dtype='object')"
      ]
     },
     "execution_count": 69,
     "metadata": {},
     "output_type": "execute_result"
    }
   ],
   "source": [
    "## Validating the cleaning step for renaming to conventional names\n",
    "oil_data_cleaned.columns"
   ]
  },
  {
   "cell_type": "markdown",
   "metadata": {},
   "source": [
    "> We can see that the new names are applied."
   ]
  },
  {
   "cell_type": "markdown",
   "metadata": {},
   "source": [
    "### **Indexing (Tidiness Issue #2):**\n",
    "The indexing in the dataframes are checked in the assessing and were decided to be simplified from multi-indexing."
   ]
  },
  {
   "cell_type": "markdown",
   "metadata": {
    "id": "7zW8O5yx4Y9O"
   },
   "source": [
    "> *The renaming of the columns to conventional have actually fixed the problem of multiindexing and simplidied the dataset.*"
   ]
  },
  {
   "cell_type": "code",
   "execution_count": 70,
   "metadata": {},
   "outputs": [
    {
     "data": {
      "text/plain": [
       "RangeIndex(start=0, stop=4781, step=1)"
      ]
     },
     "execution_count": 70,
     "metadata": {},
     "output_type": "execute_result"
    }
   ],
   "source": [
    "stocks_data_cleaned.index"
   ]
  },
  {
   "cell_type": "code",
   "execution_count": 71,
   "metadata": {},
   "outputs": [
    {
     "data": {
      "text/plain": [
       "RangeIndex(start=0, stop=5000, step=1)"
      ]
     },
     "execution_count": 71,
     "metadata": {},
     "output_type": "execute_result"
    }
   ],
   "source": [
    "oil_data_cleaned.index"
   ]
  },
  {
   "cell_type": "markdown",
   "metadata": {},
   "source": [
    "### **Remove unnecessary variables and combine datasets**\n",
    "\n",
    "Now let's peform the combination and remove unnecessary variables in the final dataset."
   ]
  },
  {
   "cell_type": "markdown",
   "metadata": {},
   "source": [
    "#### **Oil Dataset**\n",
    "In the oil satasets the process-name and the process and the units have only one unique value, that is they will be dropped because they don't change by the observations."
   ]
  },
  {
   "cell_type": "code",
   "execution_count": 72,
   "metadata": {},
   "outputs": [],
   "source": [
    "oil_data_cleaned.drop(columns=['process','process_name','units'],inplace=True)"
   ]
  },
  {
   "cell_type": "code",
   "execution_count": 73,
   "metadata": {},
   "outputs": [
    {
     "data": {
      "text/plain": [
       "Index(['date', 'duoarea_oil', 'area_name_oil', 'oil_product_code',\n",
       "       'oil_product_name', 'oil_series', 'oil_series_description',\n",
       "       'price_oil'],\n",
       "      dtype='object')"
      ]
     },
     "execution_count": 73,
     "metadata": {},
     "output_type": "execute_result"
    }
   ],
   "source": [
    "oil_data_cleaned.columns"
   ]
  },
  {
   "cell_type": "markdown",
   "metadata": {},
   "source": [
    "> They were validated to be dropped ffrom the cleaned datset."
   ]
  },
  {
   "cell_type": "markdown",
   "metadata": {},
   "source": [
    "#### **Combined Dataset**"
   ]
  },
  {
   "cell_type": "code",
   "execution_count": 74,
   "metadata": {},
   "outputs": [
    {
     "data": {
      "text/html": [
       "<div>\n",
       "<style scoped>\n",
       "    .dataframe tbody tr th:only-of-type {\n",
       "        vertical-align: middle;\n",
       "    }\n",
       "\n",
       "    .dataframe tbody tr th {\n",
       "        vertical-align: top;\n",
       "    }\n",
       "\n",
       "    .dataframe thead th {\n",
       "        text-align: right;\n",
       "    }\n",
       "</style>\n",
       "<table border=\"1\" class=\"dataframe\">\n",
       "  <thead>\n",
       "    <tr style=\"text-align: right;\">\n",
       "      <th></th>\n",
       "      <th>2838</th>\n",
       "      <th>3533</th>\n",
       "      <th>753</th>\n",
       "      <th>3265</th>\n",
       "      <th>1689</th>\n",
       "    </tr>\n",
       "  </thead>\n",
       "  <tbody>\n",
       "    <tr>\n",
       "      <th>date</th>\n",
       "      <td>2016-03-07 00:00:00</td>\n",
       "      <td>2013-07-08 00:00:00</td>\n",
       "      <td>2019-07-29 00:00:00</td>\n",
       "      <td>2007-08-27 00:00:00</td>\n",
       "      <td>2011-04-25 00:00:00</td>\n",
       "    </tr>\n",
       "    <tr>\n",
       "      <th>duoarea_oil</th>\n",
       "      <td>R20</td>\n",
       "      <td>SMN</td>\n",
       "      <td>R40</td>\n",
       "      <td>R1Z</td>\n",
       "      <td>R50</td>\n",
       "    </tr>\n",
       "    <tr>\n",
       "      <th>area_name_oil</th>\n",
       "      <td>PADD 2</td>\n",
       "      <td>MINNESOTA</td>\n",
       "      <td>PADD 4</td>\n",
       "      <td>PADD 1C</td>\n",
       "      <td>PADD 5</td>\n",
       "    </tr>\n",
       "    <tr>\n",
       "      <th>oil_product_code</th>\n",
       "      <td>EPM0</td>\n",
       "      <td>EPM0</td>\n",
       "      <td>EPD2DXL0</td>\n",
       "      <td>EPM0</td>\n",
       "      <td>EPM0</td>\n",
       "    </tr>\n",
       "    <tr>\n",
       "      <th>oil_product_name</th>\n",
       "      <td>Total Gasoline</td>\n",
       "      <td>Total Gasoline</td>\n",
       "      <td>No 2 Diesel Low Sulfur (0-15 ppm)</td>\n",
       "      <td>Total Gasoline</td>\n",
       "      <td>Total Gasoline</td>\n",
       "    </tr>\n",
       "    <tr>\n",
       "      <th>oil_series</th>\n",
       "      <td>EMM_EPM0_PTE_R20_DPG</td>\n",
       "      <td>EMM_EPM0_PTE_SMN_DPG</td>\n",
       "      <td>EMD_EPD2DXL0_PTE_R40_DPG</td>\n",
       "      <td>EMM_EPM0_PTE_R1Z_DPG</td>\n",
       "      <td>EMM_EPM0_PTE_R50_DPG</td>\n",
       "    </tr>\n",
       "    <tr>\n",
       "      <th>oil_series_description</th>\n",
       "      <td>Midwest All Grades All Formulations Retail Gas...</td>\n",
       "      <td>Minnesota All Grades All Formulations Retail G...</td>\n",
       "      <td>Rocky Mountain No 2 Diesel Ultra Low Sulfur (0...</td>\n",
       "      <td>Lower Atlantic (PADD 1C) All Grades All Formul...</td>\n",
       "      <td>West Coast All Grades All Formulations Retail ...</td>\n",
       "    </tr>\n",
       "    <tr>\n",
       "      <th>price_oil</th>\n",
       "      <td>1.896</td>\n",
       "      <td>3.395</td>\n",
       "      <td>2.967</td>\n",
       "      <td>2.73</td>\n",
       "      <td>4.151</td>\n",
       "    </tr>\n",
       "    <tr>\n",
       "      <th>adj_close_aapl</th>\n",
       "      <td>23.249998</td>\n",
       "      <td>12.801485</td>\n",
       "      <td>50.590397</td>\n",
       "      <td>3.993256</td>\n",
       "      <td>10.659049</td>\n",
       "    </tr>\n",
       "    <tr>\n",
       "      <th>adj_close_amzn</th>\n",
       "      <td>28.139999</td>\n",
       "      <td>14.5295</td>\n",
       "      <td>95.622498</td>\n",
       "      <td>3.9325</td>\n",
       "      <td>9.271</td>\n",
       "    </tr>\n",
       "    <tr>\n",
       "      <th>adj_close_googl</th>\n",
       "      <td>35.599144</td>\n",
       "      <td>22.623936</td>\n",
       "      <td>62.020817</td>\n",
       "      <td>12.829619</td>\n",
       "      <td>13.124327</td>\n",
       "    </tr>\n",
       "    <tr>\n",
       "      <th>adj_close_meta</th>\n",
       "      <td>105.513176</td>\n",
       "      <td>24.659327</td>\n",
       "      <td>195.538177</td>\n",
       "      <td>38.151604</td>\n",
       "      <td>38.151604</td>\n",
       "    </tr>\n",
       "    <tr>\n",
       "      <th>adj_close_msft</th>\n",
       "      <td>45.50782</td>\n",
       "      <td>28.385672</td>\n",
       "      <td>134.499725</td>\n",
       "      <td>20.587757</td>\n",
       "      <td>19.873749</td>\n",
       "    </tr>\n",
       "    <tr>\n",
       "      <th>close_aapl</th>\n",
       "      <td>25.467501</td>\n",
       "      <td>14.823214</td>\n",
       "      <td>52.419998</td>\n",
       "      <td>4.723214</td>\n",
       "      <td>12.6075</td>\n",
       "    </tr>\n",
       "    <tr>\n",
       "      <th>close_amzn</th>\n",
       "      <td>28.139999</td>\n",
       "      <td>14.5295</td>\n",
       "      <td>95.622498</td>\n",
       "      <td>3.9325</td>\n",
       "      <td>9.271</td>\n",
       "    </tr>\n",
       "    <tr>\n",
       "      <th>close_googl</th>\n",
       "      <td>35.639999</td>\n",
       "      <td>22.6499</td>\n",
       "      <td>62.091999</td>\n",
       "      <td>12.844344</td>\n",
       "      <td>13.139389</td>\n",
       "    </tr>\n",
       "    <tr>\n",
       "      <th>close_meta</th>\n",
       "      <td>105.730003</td>\n",
       "      <td>24.709999</td>\n",
       "      <td>195.940002</td>\n",
       "      <td>38.23</td>\n",
       "      <td>38.23</td>\n",
       "    </tr>\n",
       "    <tr>\n",
       "      <th>close_msft</th>\n",
       "      <td>51.029999</td>\n",
       "      <td>34.330002</td>\n",
       "      <td>141.029999</td>\n",
       "      <td>28.49</td>\n",
       "      <td>25.610001</td>\n",
       "    </tr>\n",
       "    <tr>\n",
       "      <th>high_aapl</th>\n",
       "      <td>25.7075</td>\n",
       "      <td>15.035714</td>\n",
       "      <td>52.66</td>\n",
       "      <td>4.809286</td>\n",
       "      <td>12.633929</td>\n",
       "    </tr>\n",
       "    <tr>\n",
       "      <th>high_amzn</th>\n",
       "      <td>28.681499</td>\n",
       "      <td>14.5835</td>\n",
       "      <td>96.611504</td>\n",
       "      <td>4.04</td>\n",
       "      <td>9.3175</td>\n",
       "    </tr>\n",
       "    <tr>\n",
       "      <th>high_googl</th>\n",
       "      <td>36.3605</td>\n",
       "      <td>22.679428</td>\n",
       "      <td>62.449501</td>\n",
       "      <td>12.949199</td>\n",
       "      <td>13.188188</td>\n",
       "    </tr>\n",
       "    <tr>\n",
       "      <th>high_meta</th>\n",
       "      <td>108.07</td>\n",
       "      <td>25.040001</td>\n",
       "      <td>199.630005</td>\n",
       "      <td>45.0</td>\n",
       "      <td>45.0</td>\n",
       "    </tr>\n",
       "    <tr>\n",
       "      <th>high_msft</th>\n",
       "      <td>51.799999</td>\n",
       "      <td>34.59</td>\n",
       "      <td>141.509995</td>\n",
       "      <td>28.77</td>\n",
       "      <td>25.620001</td>\n",
       "    </tr>\n",
       "    <tr>\n",
       "      <th>low_aapl</th>\n",
       "      <td>25.24</td>\n",
       "      <td>14.666071</td>\n",
       "      <td>52.110001</td>\n",
       "      <td>4.717857</td>\n",
       "      <td>12.510714</td>\n",
       "    </tr>\n",
       "    <tr>\n",
       "      <th>low_amzn</th>\n",
       "      <td>27.7775</td>\n",
       "      <td>14.307</td>\n",
       "      <td>94.527</td>\n",
       "      <td>3.921</td>\n",
       "      <td>9.1885</td>\n",
       "    </tr>\n",
       "    <tr>\n",
       "      <th>low_googl</th>\n",
       "      <td>35.257</td>\n",
       "      <td>22.44945</td>\n",
       "      <td>61.509998</td>\n",
       "      <td>12.797798</td>\n",
       "      <td>13.063313</td>\n",
       "    </tr>\n",
       "    <tr>\n",
       "      <th>low_meta</th>\n",
       "      <td>104.720001</td>\n",
       "      <td>24.42</td>\n",
       "      <td>195.300003</td>\n",
       "      <td>38.0</td>\n",
       "      <td>38.0</td>\n",
       "    </tr>\n",
       "    <tr>\n",
       "      <th>low_msft</th>\n",
       "      <td>50.580002</td>\n",
       "      <td>33.98</td>\n",
       "      <td>139.369995</td>\n",
       "      <td>28.4</td>\n",
       "      <td>25.34</td>\n",
       "    </tr>\n",
       "    <tr>\n",
       "      <th>open_aapl</th>\n",
       "      <td>25.5975</td>\n",
       "      <td>15.003929</td>\n",
       "      <td>52.115002</td>\n",
       "      <td>4.763929</td>\n",
       "      <td>12.512143</td>\n",
       "    </tr>\n",
       "    <tr>\n",
       "      <th>open_amzn</th>\n",
       "      <td>28.677</td>\n",
       "      <td>14.321</td>\n",
       "      <td>96.5</td>\n",
       "      <td>4.028</td>\n",
       "      <td>9.2825</td>\n",
       "    </tr>\n",
       "    <tr>\n",
       "      <th>open_googl</th>\n",
       "      <td>36.2575</td>\n",
       "      <td>22.502752</td>\n",
       "      <td>62.125</td>\n",
       "      <td>12.873624</td>\n",
       "      <td>13.144394</td>\n",
       "    </tr>\n",
       "    <tr>\n",
       "      <th>open_meta</th>\n",
       "      <td>108.07</td>\n",
       "      <td>24.469999</td>\n",
       "      <td>199.0</td>\n",
       "      <td>42.049999</td>\n",
       "      <td>42.049999</td>\n",
       "    </tr>\n",
       "    <tr>\n",
       "      <th>open_msft</th>\n",
       "      <td>51.560001</td>\n",
       "      <td>34.349998</td>\n",
       "      <td>141.5</td>\n",
       "      <td>28.610001</td>\n",
       "      <td>25.559999</td>\n",
       "    </tr>\n",
       "    <tr>\n",
       "      <th>volume_aapl</th>\n",
       "      <td>143315600</td>\n",
       "      <td>298138400</td>\n",
       "      <td>86693600</td>\n",
       "      <td>707439600</td>\n",
       "      <td>266546000</td>\n",
       "    </tr>\n",
       "    <tr>\n",
       "      <th>volume_amzn</th>\n",
       "      <td>98538000</td>\n",
       "      <td>60934000</td>\n",
       "      <td>89864000</td>\n",
       "      <td>139026000</td>\n",
       "      <td>68762000</td>\n",
       "    </tr>\n",
       "    <tr>\n",
       "      <th>volume_googl</th>\n",
       "      <td>61690000</td>\n",
       "      <td>78701220</td>\n",
       "      <td>41382000</td>\n",
       "      <td>92910996</td>\n",
       "      <td>65166768</td>\n",
       "    </tr>\n",
       "    <tr>\n",
       "      <th>volume_meta</th>\n",
       "      <td>31436400.0</td>\n",
       "      <td>27064600.0</td>\n",
       "      <td>16530800.0</td>\n",
       "      <td>573576400.0</td>\n",
       "      <td>573576400.0</td>\n",
       "    </tr>\n",
       "    <tr>\n",
       "      <th>volume_msft</th>\n",
       "      <td>38407800</td>\n",
       "      <td>32396900</td>\n",
       "      <td>16605900</td>\n",
       "      <td>32789500</td>\n",
       "      <td>33525100</td>\n",
       "    </tr>\n",
       "  </tbody>\n",
       "</table>\n",
       "</div>"
      ],
      "text/plain": [
       "                                                                     2838  \\\n",
       "date                                                  2016-03-07 00:00:00   \n",
       "duoarea_oil                                                           R20   \n",
       "area_name_oil                                                      PADD 2   \n",
       "oil_product_code                                                     EPM0   \n",
       "oil_product_name                                           Total Gasoline   \n",
       "oil_series                                           EMM_EPM0_PTE_R20_DPG   \n",
       "oil_series_description  Midwest All Grades All Formulations Retail Gas...   \n",
       "price_oil                                                           1.896   \n",
       "adj_close_aapl                                                  23.249998   \n",
       "adj_close_amzn                                                  28.139999   \n",
       "adj_close_googl                                                 35.599144   \n",
       "adj_close_meta                                                 105.513176   \n",
       "adj_close_msft                                                   45.50782   \n",
       "close_aapl                                                      25.467501   \n",
       "close_amzn                                                      28.139999   \n",
       "close_googl                                                     35.639999   \n",
       "close_meta                                                     105.730003   \n",
       "close_msft                                                      51.029999   \n",
       "high_aapl                                                         25.7075   \n",
       "high_amzn                                                       28.681499   \n",
       "high_googl                                                        36.3605   \n",
       "high_meta                                                          108.07   \n",
       "high_msft                                                       51.799999   \n",
       "low_aapl                                                            25.24   \n",
       "low_amzn                                                          27.7775   \n",
       "low_googl                                                          35.257   \n",
       "low_meta                                                       104.720001   \n",
       "low_msft                                                        50.580002   \n",
       "open_aapl                                                         25.5975   \n",
       "open_amzn                                                          28.677   \n",
       "open_googl                                                        36.2575   \n",
       "open_meta                                                          108.07   \n",
       "open_msft                                                       51.560001   \n",
       "volume_aapl                                                     143315600   \n",
       "volume_amzn                                                      98538000   \n",
       "volume_googl                                                     61690000   \n",
       "volume_meta                                                    31436400.0   \n",
       "volume_msft                                                      38407800   \n",
       "\n",
       "                                                                     3533  \\\n",
       "date                                                  2013-07-08 00:00:00   \n",
       "duoarea_oil                                                           SMN   \n",
       "area_name_oil                                                   MINNESOTA   \n",
       "oil_product_code                                                     EPM0   \n",
       "oil_product_name                                           Total Gasoline   \n",
       "oil_series                                           EMM_EPM0_PTE_SMN_DPG   \n",
       "oil_series_description  Minnesota All Grades All Formulations Retail G...   \n",
       "price_oil                                                           3.395   \n",
       "adj_close_aapl                                                  12.801485   \n",
       "adj_close_amzn                                                    14.5295   \n",
       "adj_close_googl                                                 22.623936   \n",
       "adj_close_meta                                                  24.659327   \n",
       "adj_close_msft                                                  28.385672   \n",
       "close_aapl                                                      14.823214   \n",
       "close_amzn                                                        14.5295   \n",
       "close_googl                                                       22.6499   \n",
       "close_meta                                                      24.709999   \n",
       "close_msft                                                      34.330002   \n",
       "high_aapl                                                       15.035714   \n",
       "high_amzn                                                         14.5835   \n",
       "high_googl                                                      22.679428   \n",
       "high_meta                                                       25.040001   \n",
       "high_msft                                                           34.59   \n",
       "low_aapl                                                        14.666071   \n",
       "low_amzn                                                           14.307   \n",
       "low_googl                                                        22.44945   \n",
       "low_meta                                                            24.42   \n",
       "low_msft                                                            33.98   \n",
       "open_aapl                                                       15.003929   \n",
       "open_amzn                                                          14.321   \n",
       "open_googl                                                      22.502752   \n",
       "open_meta                                                       24.469999   \n",
       "open_msft                                                       34.349998   \n",
       "volume_aapl                                                     298138400   \n",
       "volume_amzn                                                      60934000   \n",
       "volume_googl                                                     78701220   \n",
       "volume_meta                                                    27064600.0   \n",
       "volume_msft                                                      32396900   \n",
       "\n",
       "                                                                     753   \\\n",
       "date                                                  2019-07-29 00:00:00   \n",
       "duoarea_oil                                                           R40   \n",
       "area_name_oil                                                      PADD 4   \n",
       "oil_product_code                                                 EPD2DXL0   \n",
       "oil_product_name                        No 2 Diesel Low Sulfur (0-15 ppm)   \n",
       "oil_series                                       EMD_EPD2DXL0_PTE_R40_DPG   \n",
       "oil_series_description  Rocky Mountain No 2 Diesel Ultra Low Sulfur (0...   \n",
       "price_oil                                                           2.967   \n",
       "adj_close_aapl                                                  50.590397   \n",
       "adj_close_amzn                                                  95.622498   \n",
       "adj_close_googl                                                 62.020817   \n",
       "adj_close_meta                                                 195.538177   \n",
       "adj_close_msft                                                 134.499725   \n",
       "close_aapl                                                      52.419998   \n",
       "close_amzn                                                      95.622498   \n",
       "close_googl                                                     62.091999   \n",
       "close_meta                                                     195.940002   \n",
       "close_msft                                                     141.029999   \n",
       "high_aapl                                                           52.66   \n",
       "high_amzn                                                       96.611504   \n",
       "high_googl                                                      62.449501   \n",
       "high_meta                                                      199.630005   \n",
       "high_msft                                                      141.509995   \n",
       "low_aapl                                                        52.110001   \n",
       "low_amzn                                                           94.527   \n",
       "low_googl                                                       61.509998   \n",
       "low_meta                                                       195.300003   \n",
       "low_msft                                                       139.369995   \n",
       "open_aapl                                                       52.115002   \n",
       "open_amzn                                                            96.5   \n",
       "open_googl                                                         62.125   \n",
       "open_meta                                                           199.0   \n",
       "open_msft                                                           141.5   \n",
       "volume_aapl                                                      86693600   \n",
       "volume_amzn                                                      89864000   \n",
       "volume_googl                                                     41382000   \n",
       "volume_meta                                                    16530800.0   \n",
       "volume_msft                                                      16605900   \n",
       "\n",
       "                                                                     3265  \\\n",
       "date                                                  2007-08-27 00:00:00   \n",
       "duoarea_oil                                                           R1Z   \n",
       "area_name_oil                                                     PADD 1C   \n",
       "oil_product_code                                                     EPM0   \n",
       "oil_product_name                                           Total Gasoline   \n",
       "oil_series                                           EMM_EPM0_PTE_R1Z_DPG   \n",
       "oil_series_description  Lower Atlantic (PADD 1C) All Grades All Formul...   \n",
       "price_oil                                                            2.73   \n",
       "adj_close_aapl                                                   3.993256   \n",
       "adj_close_amzn                                                     3.9325   \n",
       "adj_close_googl                                                 12.829619   \n",
       "adj_close_meta                                                  38.151604   \n",
       "adj_close_msft                                                  20.587757   \n",
       "close_aapl                                                       4.723214   \n",
       "close_amzn                                                         3.9325   \n",
       "close_googl                                                     12.844344   \n",
       "close_meta                                                          38.23   \n",
       "close_msft                                                          28.49   \n",
       "high_aapl                                                        4.809286   \n",
       "high_amzn                                                            4.04   \n",
       "high_googl                                                      12.949199   \n",
       "high_meta                                                            45.0   \n",
       "high_msft                                                           28.77   \n",
       "low_aapl                                                         4.717857   \n",
       "low_amzn                                                            3.921   \n",
       "low_googl                                                       12.797798   \n",
       "low_meta                                                             38.0   \n",
       "low_msft                                                             28.4   \n",
       "open_aapl                                                        4.763929   \n",
       "open_amzn                                                           4.028   \n",
       "open_googl                                                      12.873624   \n",
       "open_meta                                                       42.049999   \n",
       "open_msft                                                       28.610001   \n",
       "volume_aapl                                                     707439600   \n",
       "volume_amzn                                                     139026000   \n",
       "volume_googl                                                     92910996   \n",
       "volume_meta                                                   573576400.0   \n",
       "volume_msft                                                      32789500   \n",
       "\n",
       "                                                                     1689  \n",
       "date                                                  2011-04-25 00:00:00  \n",
       "duoarea_oil                                                           R50  \n",
       "area_name_oil                                                      PADD 5  \n",
       "oil_product_code                                                     EPM0  \n",
       "oil_product_name                                           Total Gasoline  \n",
       "oil_series                                           EMM_EPM0_PTE_R50_DPG  \n",
       "oil_series_description  West Coast All Grades All Formulations Retail ...  \n",
       "price_oil                                                           4.151  \n",
       "adj_close_aapl                                                  10.659049  \n",
       "adj_close_amzn                                                      9.271  \n",
       "adj_close_googl                                                 13.124327  \n",
       "adj_close_meta                                                  38.151604  \n",
       "adj_close_msft                                                  19.873749  \n",
       "close_aapl                                                        12.6075  \n",
       "close_amzn                                                          9.271  \n",
       "close_googl                                                     13.139389  \n",
       "close_meta                                                          38.23  \n",
       "close_msft                                                      25.610001  \n",
       "high_aapl                                                       12.633929  \n",
       "high_amzn                                                          9.3175  \n",
       "high_googl                                                      13.188188  \n",
       "high_meta                                                            45.0  \n",
       "high_msft                                                       25.620001  \n",
       "low_aapl                                                        12.510714  \n",
       "low_amzn                                                           9.1885  \n",
       "low_googl                                                       13.063313  \n",
       "low_meta                                                             38.0  \n",
       "low_msft                                                            25.34  \n",
       "open_aapl                                                       12.512143  \n",
       "open_amzn                                                          9.2825  \n",
       "open_googl                                                      13.144394  \n",
       "open_meta                                                       42.049999  \n",
       "open_msft                                                       25.559999  \n",
       "volume_aapl                                                     266546000  \n",
       "volume_amzn                                                      68762000  \n",
       "volume_googl                                                     65166768  \n",
       "volume_meta                                                   573576400.0  \n",
       "volume_msft                                                      33525100  "
      ]
     },
     "execution_count": 74,
     "metadata": {},
     "output_type": "execute_result"
    }
   ],
   "source": [
    "## combine datasets using merege on the date column\n",
    "merged_data = pd.merge(oil_data_cleaned, stocks_data_cleaned, on='date')\n",
    "merged_data.sample(5).T"
   ]
  },
  {
   "cell_type": "markdown",
   "metadata": {},
   "source": [
    "> Now the datasets are ready to be stored cleaned to further invesigate the research questions."
   ]
  },
  {
   "cell_type": "markdown",
   "metadata": {
    "id": "F42urHuzttjF"
   },
   "source": [
    "## 6. Update the data store\n",
    "In this section, the local database/data store in the directory data are updated with the cleaned data too, with best practices for storing cleaned data:\n",
    "- Maintained different instances / versions of data (raw and cleaned data)\n",
    "- Named the dataset files informatively\n",
    "- Ensure both the raw and cleaned data are saved to the database/data store directory."
   ]
  },
  {
   "cell_type": "markdown",
   "metadata": {},
   "source": [
    "> Now the datasets are cleaned they are saved to separete file."
   ]
  },
  {
   "cell_type": "code",
   "execution_count": 75,
   "metadata": {
    "id": "V3uay7EJUV_L"
   },
   "outputs": [],
   "source": [
    "oil_data_cleaned.to_csv('data/oil_data_api_cleaned.csv', index=False) ## store to cvs file"
   ]
  },
  {
   "cell_type": "code",
   "execution_count": 76,
   "metadata": {},
   "outputs": [],
   "source": [
    "stocks_data_cleaned.to_csv('data/stock_data_cleaned.csv', index=False) ## store to cvs file"
   ]
  },
  {
   "cell_type": "markdown",
   "metadata": {
    "id": "cGy_yddGtzhM"
   },
   "source": [
    "## 7. Research\n",
    "\n",
    "### **7.1:** Oil Prices and Big Tech. Stocks \n",
    "In this section the merged data willl be used to answer the questions raised."
   ]
  },
  {
   "cell_type": "markdown",
   "metadata": {
    "id": "gjedE4s4ZkEd"
   },
   "source": [
    "*Research question:* \n",
    "\n",
    "How does the stocks of the big Tech. Companies such as Google and Amazon, META and Micorsoft and prices of oils changes or correlates in the same year?"
   ]
  },
  {
   "cell_type": "markdown",
   "metadata": {},
   "source": [
    "*Answer to research question:* FILL IN"
   ]
  },
  {
   "cell_type": "code",
   "execution_count": 131,
   "metadata": {},
   "outputs": [],
   "source": [
    "merged_data['year_month'] = merged_data['date'].dt.to_period('M')\n",
    "numeric_cols = merged_data.select_dtypes(include='number').columns\n",
    "merged_data['year'] = merged_data['date'].dt.year\n",
    "\n",
    "## Grouping by 'year_month' and calculate the mean\n",
    "monthly_data = merged_data.groupby('year')[numeric_cols].mean().reset_index()\n",
    "yearly_data = merged_data.groupby('year')[numeric_cols].mean().reset_index()"
   ]
  },
  {
   "cell_type": "code",
   "execution_count": 138,
   "metadata": {},
   "outputs": [
    {
     "data": {
      "image/png": "[encoded data removed]",
      "text/plain": [
       "<Figure size 1400x800 with 1 Axes>"
      ]
     },
     "metadata": {},
     "output_type": "display_data"
    }
   ],
   "source": [
    "plt.figure(figsize=(14, 8))\n",
    "plt.plot(monthly_data['year'].astype(str), monthly_data['adj_close_aapl'], label='Apple', linestyle='-', marker='o')\n",
    "plt.plot(monthly_data['year'].astype(str), monthly_data['adj_close_amzn'], label='Amazon', linestyle='-', marker='o')\n",
    "plt.plot(monthly_data['year'].astype(str), monthly_data['adj_close_googl'], label='Google', linestyle='-', marker='o')\n",
    "plt.plot(monthly_data['year'].astype(str), monthly_data['adj_close_meta'], label='Meta', linestyle='-', marker='o')\n",
    "plt.plot(monthly_data['year'].astype(str), monthly_data['adj_close_msft'], label='Microsoft', linestyle='-', marker='o')\n",
    "\n",
    "plt.xlabel('Date (Year-Month)')\n",
    "plt.ylabel('Price')\n",
    "plt.title('Monthly Average Prices of Big Tech Companies and Oil')\n",
    "plt.legend()\n",
    "plt.grid(True)\n",
    "plt.xticks(rotation=45)\n",
    "plt.show()"
   ]
  },
  {
   "cell_type": "markdown",
   "metadata": {},
   "source": [
    "> It is noticed that the year 2014 started an increase in stock prices for all the high tech companies. The stock prices was following a postive trend until the year 2022 it got lower especially META. This was the years of COVID, then it went up again the follwing year 2023."
   ]
  },
  {
   "cell_type": "code",
   "execution_count": 139,
   "metadata": {},
   "outputs": [
    {
     "data": {
      "image/png": "[encoded data removed]",
      "text/plain": [
       "<Figure size 1400x800 with 1 Axes>"
      ]
     },
     "metadata": {},
     "output_type": "display_data"
    }
   ],
   "source": [
    "plt.figure(figsize=(14, 8))\n",
    "plt.plot(monthly_data['year'].astype(str), monthly_data['price_oil'], label='Oil Price', linestyle='-', marker='o')\n",
    "\n",
    "plt.xlabel('Date (Year-Month)')\n",
    "plt.ylabel('Price')\n",
    "plt.title('Monthly Average Prices of Big Tech Companies and Oil')\n",
    "plt.legend()\n",
    "plt.grid(True)\n",
    "plt.xticks(rotation=45)\n",
    "plt.show()"
   ]
  },
  {
   "cell_type": "markdown",
   "metadata": {},
   "source": [
    "> It is noticed that in 2014 the stock prices values for the petrolium gets noticabilly low and lowe the next two years. Then it gets up again. It is very intresting that it wents up in teh years of 2020-2022 these were the times of covid."
   ]
  },
  {
   "cell_type": "markdown",
   "metadata": {},
   "source": [
    "> This is not a conclusion, but an intresting insight there could be a negative correlation between the petrolum rpices and the high companies tech prices that is worth looking further into."
   ]
  },
  {
   "cell_type": "markdown",
   "metadata": {},
   "source": [
    "- Let's now look at the correlation:"
   ]
  },
  {
   "cell_type": "code",
   "execution_count": 148,
   "metadata": {},
   "outputs": [],
   "source": [
    "columns_of_interest = [ 'price_oil',\n",
    "       'adj_close_aapl', 'adj_close_amzn', 'adj_close_googl', 'adj_close_meta',\n",
    "       'adj_close_msft']\n",
    "\n",
    "correlation_matrix = monthly_data[columns_of_interest].corr()"
   ]
  },
  {
   "cell_type": "code",
   "execution_count": 149,
   "metadata": {},
   "outputs": [
    {
     "data": {
      "image/png": "[encoded data removed]",
      "text/plain": [
       "<Figure size 1000x800 with 2 Axes>"
      ]
     },
     "metadata": {},
     "output_type": "display_data"
    }
   ],
   "source": [
    "## Plotting the correlation matrix\n",
    "plt.figure(figsize=(10, 8))\n",
    "sns.heatmap(correlation_matrix, annot=True, cmap='coolwarm', linewidths=0.5)\n",
    "plt.title('Correlation Heatmap between Big Tech Companies and Oil Prices (Monthly Averages)')\n",
    "plt.show()"
   ]
  },
  {
   "cell_type": "markdown",
   "metadata": {},
   "source": [
    "> It is noticed that the price_oil have cold correlation with all the next columns of the adj-close. However there are no negative correlation in value they were all positive but low correlation values. That's also intresting."
   ]
  },
  {
   "cell_type": "markdown",
   "metadata": {},
   "source": [
    "> As for answering the research question, many insghits are stated. However, from the analyst point of view, this notebook serves as a strater for a compelete reserach on such stock market of teh petrolum oil prices and the big tech. companies stock prices."
   ]
  },
  {
   "cell_type": "markdown",
   "metadata": {
    "id": "0ezWXXZVj-TP"
   },
   "source": [
    "### **7.2:** Reflection\n",
    "If the reasearcher had more time to complete the project, I would take more actions. I would have spend more time on gathering the data from resources and using new ways to do so. For the quakity issues I would have looked into the ditribution of the data and studied the outliers or anomiles on the data becuase it's stocks numerical data. Other research questions that I would have furtehr explored would include COVID-19 and how have covid affected the oil prices and the big tech companies stocks."
   ]
  }
 ],
 "metadata": {
  "colab": {
   "provenance": []
  },
  "kernelspec": {
   "display_name": "Python 3 (ipykernel)",
   "language": "python",
   "name": "python3"
  },
  "language_info": {
   "codemirror_mode": {
    "name": "ipython",
    "version": 3
   },
   "file_extension": ".py",
   "mimetype": "text/x-python",
   "name": "python",
   "nbconvert_exporter": "python",
   "pygments_lexer": "ipython3",
   "version": "3.11.0"
  }
 },
 "nbformat": 4,
 "nbformat_minor": 1
}
