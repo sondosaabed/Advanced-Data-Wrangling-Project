{
 "cells": [
  {
   "cell_type": "markdown",
   "metadata": {
    "id": "GNIwe5N7s0e_"
   },
   "source": [
    "<div align=\"center\"> \n",
    "\n",
    "# Investigating Oil prices and Big Tech. Companies Stock Market \n",
    "\n",
    "<p>Between 2001-1-1 - 2023-12-31</p>\n",
    "</div>"
   ]
  },
  {
   "cell_type": "markdown",
   "metadata": {
    "id": "_BG63Tpg8ep_"
   },
   "source": [
    "In this project, you will apply the skills you acquired in the course to gather and wrangle real-world data with two datasets of your choice.\n",
    "\n",
    "You will retrieve and extract the data, assess the data programmatically and visually, accross elements of data quality and structure, and implement a cleaning strategy for the data. You will then store the updated data into your selected database/data store, combine the data, and answer a research question with the datasets."
   ]
  },
  {
   "cell_type": "markdown",
   "metadata": {
    "id": "LbN7z7rcuqpO"
   },
   "source": [
    "## **1.** Problem Statement\n",
    "\n",
    "In this reserach, the stock prices of major tech companies (such as Apple, Microsoft, Google, Amazon, and META) and oil prices over the period spanning from January 2001 to December 2023 are investigated. By examining historical data for both sectors, the aim is to uncover insights into how changes in oil prices impact the financial performance of big tech companies, and vice versa.\n",
    "The datasets would include the stock market data for:\n",
    "- META\n",
    "- AMazon\n",
    "- Google\n",
    "- Apple"
   ]
  },
  {
   "cell_type": "markdown",
   "metadata": {},
   "source": [
    "## **2.** Solution Pipeline\n",
    "1. Gather Data\n",
    "2. Asses Data\n",
    "3. Clean Data\n",
    "4. Store Data\n",
    "5. Answering Research Questions"
   ]
  },
  {
   "cell_type": "markdown",
   "metadata": {},
   "source": [
    "### Neccessary Imports"
   ]
  },
  {
   "cell_type": "code",
   "execution_count": 1,
   "metadata": {},
   "outputs": [],
   "source": [
    "## Run this cell to successfully run this notebook\n",
    "## !pip install yfinance"
   ]
  },
  {
   "cell_type": "code",
   "execution_count": 2,
   "metadata": {},
   "outputs": [
    {
     "name": "stderr",
     "output_type": "stream",
     "text": [
      "c:\\Users\\SS\\AppData\\Local\\Programs\\Python\\Python311\\Lib\\site-packages\\scipy\\__init__.py:169: UserWarning: A NumPy version >=1.18.5 and <1.26.0 is required for this version of SciPy (detected version 1.26.4\n",
      "  warnings.warn(f\"A NumPy version >={np_minversion} and <{np_maxversion}\"\n"
     ]
    }
   ],
   "source": [
    "import requests\n",
    "import pandas as pd\n",
    "import yfinance as yf\n",
    "import requests\n",
    "import config\n",
    "import seaborn as sns\n",
    "import matplotlib.pyplot as plt\n",
    "import numpy as np"
   ]
  },
  {
   "cell_type": "markdown",
   "metadata": {
    "id": "lDYDkH-Zs7Nn"
   },
   "source": [
    "## 3. Gather data\n",
    "\n",
    "In this section, data using two different (data gathering methods) are extractand and then combined. Two different types of data-gathering methods are use:\n",
    "- Programmatically downloading files\n",
    "- Gathering data by accessing APIs"
   ]
  },
  {
   "cell_type": "markdown",
   "metadata": {
    "id": "8AQfBAdUypMm"
   },
   "source": [
    "### **3.1.** Gathering Data Methods and Code\n",
    "\n",
    "In this project, two types of data gathering are use: \n",
    "- Programmatically downloading files\n",
    "- Gathering data by accessing APIs\n",
    "\n",
    "Each of the datasets have at least two variables, and have greater than 500 data samples within."
   ]
  },
  {
   "cell_type": "markdown",
   "metadata": {
    "id": "7e6gS0wL1KTu"
   },
   "source": [
    "#### **Dataset 1**: Oils and Petroleum dataset "
   ]
  },
  {
   "cell_type": "markdown",
   "metadata": {},
   "source": [
    "##### *About this dataset*\n",
    "\n",
    "**Type:** JSON response\n",
    "\n",
    "**Method:** The data was gathered using the \"by accessing APIs\" method from https://api.eia.gov/v2/petroleum/pri/spt/data/\n",
    "\n",
    "**Dataset variables:**\n",
    "\n",
    "| Column Name | Description |\n",
    "|---|---|\n",
    "| period |  date associated with the data point |\n",
    "| duoarea | identifier for a specific geographical area |\n",
    "| area-name | area name |\n",
    "| product | identifier for the specific petroleum product |\n",
    "| product-name | name of the product |\n",
    "| process | identifier for the specific process |\n",
    "| process-name | The name of the process used |\n",
    "| series | identifier for the specific data series |\n",
    "| series-description | descriptive text name or label for the data |"
   ]
  },
  {
   "cell_type": "markdown",
   "metadata": {},
   "source": [
    "##### *Gathering by API*"
   ]
  },
  {
   "cell_type": "code",
   "execution_count": 3,
   "metadata": {
    "id": "Su8E0uLuYkHU"
   },
   "outputs": [
    {
     "data": {
      "text/html": [
       "<div>\n",
       "<style scoped>\n",
       "    .dataframe tbody tr th:only-of-type {\n",
       "        vertical-align: middle;\n",
       "    }\n",
       "\n",
       "    .dataframe tbody tr th {\n",
       "        vertical-align: top;\n",
       "    }\n",
       "\n",
       "    .dataframe thead th {\n",
       "        text-align: right;\n",
       "    }\n",
       "</style>\n",
       "<table border=\"1\" class=\"dataframe\">\n",
       "  <thead>\n",
       "    <tr style=\"text-align: right;\">\n",
       "      <th></th>\n",
       "      <th>period</th>\n",
       "      <th>duoarea</th>\n",
       "      <th>area-name</th>\n",
       "      <th>product</th>\n",
       "      <th>product-name</th>\n",
       "      <th>process</th>\n",
       "      <th>process-name</th>\n",
       "      <th>series</th>\n",
       "      <th>series-description</th>\n",
       "    </tr>\n",
       "  </thead>\n",
       "  <tbody>\n",
       "    <tr>\n",
       "      <th>2616</th>\n",
       "      <td>2006-09-15</td>\n",
       "      <td>RGC</td>\n",
       "      <td>NA</td>\n",
       "      <td>EPD2DXL0</td>\n",
       "      <td>No 2 Diesel Low Sulfur (0-15 ppm)</td>\n",
       "      <td>PF4</td>\n",
       "      <td>Spot Price FOB</td>\n",
       "      <td>EER_EPD2DXL0_PF4_RGC_DPG</td>\n",
       "      <td>U.S. Gulf Coast Ultra-Low Sulfur No 2 Diesel S...</td>\n",
       "    </tr>\n",
       "    <tr>\n",
       "      <th>1708</th>\n",
       "      <td>2019-04-19</td>\n",
       "      <td>RGC</td>\n",
       "      <td>NA</td>\n",
       "      <td>EPJK</td>\n",
       "      <td>Kerosene-Type Jet Fuel</td>\n",
       "      <td>PF4</td>\n",
       "      <td>Spot Price FOB</td>\n",
       "      <td>EER_EPJK_PF4_RGC_DPG</td>\n",
       "      <td>U.S. Gulf Coast Kerosene-Type Jet Fuel Spot Pr...</td>\n",
       "    </tr>\n",
       "    <tr>\n",
       "      <th>1209</th>\n",
       "      <td>2014-04-11</td>\n",
       "      <td>Y05LA</td>\n",
       "      <td>LOS ANGELES</td>\n",
       "      <td>EPD2DC</td>\n",
       "      <td>Carb Diesel</td>\n",
       "      <td>PF4</td>\n",
       "      <td>Spot Price FOB</td>\n",
       "      <td>EER_EPD2DC_PF4_Y05LA_DPG</td>\n",
       "      <td>Los Angeles, CA Ultra-Low Sulfur CARB Diesel S...</td>\n",
       "    </tr>\n",
       "    <tr>\n",
       "      <th>1213</th>\n",
       "      <td>2015-01-16</td>\n",
       "      <td>Y05LA</td>\n",
       "      <td>LOS ANGELES</td>\n",
       "      <td>EPD2DC</td>\n",
       "      <td>Carb Diesel</td>\n",
       "      <td>PF4</td>\n",
       "      <td>Spot Price FOB</td>\n",
       "      <td>EER_EPD2DC_PF4_Y05LA_DPG</td>\n",
       "      <td>Los Angeles, CA Ultra-Low Sulfur CARB Diesel S...</td>\n",
       "    </tr>\n",
       "    <tr>\n",
       "      <th>2115</th>\n",
       "      <td>2019-04-05</td>\n",
       "      <td>RGC</td>\n",
       "      <td>NA</td>\n",
       "      <td>EPMRU</td>\n",
       "      <td>Conventional Regular Gasoline</td>\n",
       "      <td>PF4</td>\n",
       "      <td>Spot Price FOB</td>\n",
       "      <td>EER_EPMRU_PF4_RGC_DPG</td>\n",
       "      <td>U.S. Gulf Coast Conventional Gasoline Regular ...</td>\n",
       "    </tr>\n",
       "  </tbody>\n",
       "</table>\n",
       "</div>"
      ],
      "text/plain": [
       "          period duoarea    area-name   product  \\\n",
       "2616  2006-09-15     RGC           NA  EPD2DXL0   \n",
       "1708  2019-04-19     RGC           NA      EPJK   \n",
       "1209  2014-04-11   Y05LA  LOS ANGELES    EPD2DC   \n",
       "1213  2015-01-16   Y05LA  LOS ANGELES    EPD2DC   \n",
       "2115  2019-04-05     RGC           NA     EPMRU   \n",
       "\n",
       "                           product-name process    process-name  \\\n",
       "2616  No 2 Diesel Low Sulfur (0-15 ppm)     PF4  Spot Price FOB   \n",
       "1708             Kerosene-Type Jet Fuel     PF4  Spot Price FOB   \n",
       "1209                        Carb Diesel     PF4  Spot Price FOB   \n",
       "1213                        Carb Diesel     PF4  Spot Price FOB   \n",
       "2115      Conventional Regular Gasoline     PF4  Spot Price FOB   \n",
       "\n",
       "                        series  \\\n",
       "2616  EER_EPD2DXL0_PF4_RGC_DPG   \n",
       "1708      EER_EPJK_PF4_RGC_DPG   \n",
       "1209  EER_EPD2DC_PF4_Y05LA_DPG   \n",
       "1213  EER_EPD2DC_PF4_Y05LA_DPG   \n",
       "2115     EER_EPMRU_PF4_RGC_DPG   \n",
       "\n",
       "                                     series-description  \n",
       "2616  U.S. Gulf Coast Ultra-Low Sulfur No 2 Diesel S...  \n",
       "1708  U.S. Gulf Coast Kerosene-Type Jet Fuel Spot Pr...  \n",
       "1209  Los Angeles, CA Ultra-Low Sulfur CARB Diesel S...  \n",
       "1213  Los Angeles, CA Ultra-Low Sulfur CARB Diesel S...  \n",
       "2115  U.S. Gulf Coast Conventional Gasoline Regular ...  "
      ]
     },
     "execution_count": 3,
     "metadata": {},
     "output_type": "execute_result"
    }
   ],
   "source": [
    "## Gather the data using the \"Gather data by accessing APIs\" method from https://api.eia.gov\n",
    "api_key = config.EIA_API_KEY\n",
    "url = f'https://api.eia.gov/v2/petroleum/pri/spt/data/?'\n",
    "\n",
    "params = {\n",
    "    'api_key':api_key,\n",
    "    'start':'2005-01-01', \n",
    "    'end':'2023-12-31'\n",
    "}\n",
    "\n",
    "response = requests.get(url, params=params)\n",
    "data = response.json()\n",
    "oil_data =pd.DataFrame(data['response']['data'])\n",
    "oil_data.sample(5)"
   ]
  },
  {
   "cell_type": "code",
   "execution_count": 4,
   "metadata": {},
   "outputs": [
    {
     "data": {
      "text/plain": [
       "(5000, 9)"
      ]
     },
     "execution_count": 4,
     "metadata": {},
     "output_type": "execute_result"
    }
   ],
   "source": [
    "oil_data.shape"
   ]
  },
  {
   "cell_type": "markdown",
   "metadata": {},
   "source": [
    "> The gathered dataset have 5000 rows and 9 features."
   ]
  },
  {
   "cell_type": "code",
   "execution_count": 5,
   "metadata": {},
   "outputs": [],
   "source": [
    "oil_data.to_csv('data/oil_data_api.csv', index=False) ## store to cvs file"
   ]
  },
  {
   "cell_type": "markdown",
   "metadata": {},
   "source": [
    "> Storing step: the dataset is saved to the local data store directory before moving to the next step."
   ]
  },
  {
   "cell_type": "markdown",
   "metadata": {
    "id": "hoUjq1tPzz7P"
   },
   "source": [
    "#### **Dataset 2**: Stocks Dataset"
   ]
  },
  {
   "cell_type": "markdown",
   "metadata": {},
   "source": [
    "##### *About this dataset*\n",
    "**Type:** Pandas.DataFrame\n",
    "\n",
    "**Method:** The data was gathered using the \"Programmatically downloading files\" method from Yahoo Finance using the yfinance library\n",
    "\n",
    "**Dataset variables:**\n",
    "\n",
    "| Column Name | Description |\n",
    "|---|---|\n",
    "| Date | date associated with the data point |\n",
    "| Open | The opening price of the stock on that date. |\n",
    "| High | The highest price reached by the stock on that date. |\n",
    "| Low | The lowest price reached by the stock on that date. |\n",
    "| Close | The closing price of the stock on that date. |\n",
    "| Adj Close | The adjusted closing price, adjusted for dividends and splits. |\n",
    "| Volume | The number of shares traded on that date. |"
   ]
  },
  {
   "cell_type": "markdown",
   "metadata": {},
   "source": [
    "##### *Gathering by Programmatically Downloading*"
   ]
  },
  {
   "cell_type": "code",
   "execution_count": 6,
   "metadata": {
    "id": "6zT0QxRyYmm7"
   },
   "outputs": [
    {
     "name": "stderr",
     "output_type": "stream",
     "text": [
      "[*********************100%%**********************]  5 of 5 completed\n"
     ]
    },
    {
     "data": {
      "text/html": [
       "<div>\n",
       "<style scoped>\n",
       "    .dataframe tbody tr th:only-of-type {\n",
       "        vertical-align: middle;\n",
       "    }\n",
       "\n",
       "    .dataframe tbody tr th {\n",
       "        vertical-align: top;\n",
       "    }\n",
       "\n",
       "    .dataframe thead tr th {\n",
       "        text-align: left;\n",
       "    }\n",
       "</style>\n",
       "<table border=\"1\" class=\"dataframe\">\n",
       "  <thead>\n",
       "    <tr>\n",
       "      <th>Price</th>\n",
       "      <th>Date</th>\n",
       "      <th colspan=\"5\" halign=\"left\">Adj Close</th>\n",
       "      <th colspan=\"4\" halign=\"left\">Close</th>\n",
       "      <th>...</th>\n",
       "      <th colspan=\"5\" halign=\"left\">Open</th>\n",
       "      <th colspan=\"5\" halign=\"left\">Volume</th>\n",
       "    </tr>\n",
       "    <tr>\n",
       "      <th>Ticker</th>\n",
       "      <th></th>\n",
       "      <th>AAPL</th>\n",
       "      <th>AMZN</th>\n",
       "      <th>GOOGL</th>\n",
       "      <th>META</th>\n",
       "      <th>MSFT</th>\n",
       "      <th>AAPL</th>\n",
       "      <th>AMZN</th>\n",
       "      <th>GOOGL</th>\n",
       "      <th>META</th>\n",
       "      <th>...</th>\n",
       "      <th>AAPL</th>\n",
       "      <th>AMZN</th>\n",
       "      <th>GOOGL</th>\n",
       "      <th>META</th>\n",
       "      <th>MSFT</th>\n",
       "      <th>AAPL</th>\n",
       "      <th>AMZN</th>\n",
       "      <th>GOOGL</th>\n",
       "      <th>META</th>\n",
       "      <th>MSFT</th>\n",
       "    </tr>\n",
       "  </thead>\n",
       "  <tbody>\n",
       "    <tr>\n",
       "      <th>4503</th>\n",
       "      <td>2022-11-21</td>\n",
       "      <td>146.800598</td>\n",
       "      <td>92.459999</td>\n",
       "      <td>95.490402</td>\n",
       "      <td>109.634705</td>\n",
       "      <td>239.048599</td>\n",
       "      <td>148.009995</td>\n",
       "      <td>92.459999</td>\n",
       "      <td>95.599998</td>\n",
       "      <td>109.860001</td>\n",
       "      <td>...</td>\n",
       "      <td>150.160004</td>\n",
       "      <td>93.970001</td>\n",
       "      <td>97.290001</td>\n",
       "      <td>111.519997</td>\n",
       "      <td>241.429993</td>\n",
       "      <td>58724100</td>\n",
       "      <td>84330300</td>\n",
       "      <td>21647400</td>\n",
       "      <td>24351100.0</td>\n",
       "      <td>26394700</td>\n",
       "    </tr>\n",
       "    <tr>\n",
       "      <th>847</th>\n",
       "      <td>2008-05-15</td>\n",
       "      <td>5.728848</td>\n",
       "      <td>3.806000</td>\n",
       "      <td>14.522873</td>\n",
       "      <td>NaN</td>\n",
       "      <td>22.244223</td>\n",
       "      <td>6.776071</td>\n",
       "      <td>3.806000</td>\n",
       "      <td>14.539540</td>\n",
       "      <td>NaN</td>\n",
       "      <td>...</td>\n",
       "      <td>6.671786</td>\n",
       "      <td>3.694500</td>\n",
       "      <td>14.489489</td>\n",
       "      <td>NaN</td>\n",
       "      <td>29.980000</td>\n",
       "      <td>873208000</td>\n",
       "      <td>138354000</td>\n",
       "      <td>173534292</td>\n",
       "      <td>NaN</td>\n",
       "      <td>53355800</td>\n",
       "    </tr>\n",
       "    <tr>\n",
       "      <th>2102</th>\n",
       "      <td>2013-05-10</td>\n",
       "      <td>13.971061</td>\n",
       "      <td>13.181500</td>\n",
       "      <td>22.002527</td>\n",
       "      <td>26.625288</td>\n",
       "      <td>26.841425</td>\n",
       "      <td>16.177500</td>\n",
       "      <td>13.181500</td>\n",
       "      <td>22.027779</td>\n",
       "      <td>26.680000</td>\n",
       "      <td>...</td>\n",
       "      <td>16.356071</td>\n",
       "      <td>13.044000</td>\n",
       "      <td>21.904655</td>\n",
       "      <td>27.139999</td>\n",
       "      <td>32.669998</td>\n",
       "      <td>334852000</td>\n",
       "      <td>62906000</td>\n",
       "      <td>75832092</td>\n",
       "      <td>30847100.0</td>\n",
       "      <td>36394900</td>\n",
       "    </tr>\n",
       "    <tr>\n",
       "      <th>4488</th>\n",
       "      <td>2022-10-31</td>\n",
       "      <td>151.835175</td>\n",
       "      <td>102.440002</td>\n",
       "      <td>94.401657</td>\n",
       "      <td>92.968956</td>\n",
       "      <td>228.607361</td>\n",
       "      <td>153.339996</td>\n",
       "      <td>102.440002</td>\n",
       "      <td>94.510002</td>\n",
       "      <td>93.160004</td>\n",
       "      <td>...</td>\n",
       "      <td>153.160004</td>\n",
       "      <td>103.559998</td>\n",
       "      <td>95.419998</td>\n",
       "      <td>98.220001</td>\n",
       "      <td>233.759995</td>\n",
       "      <td>97943200</td>\n",
       "      <td>99251400</td>\n",
       "      <td>31675000</td>\n",
       "      <td>121361400.0</td>\n",
       "      <td>28357300</td>\n",
       "    </tr>\n",
       "    <tr>\n",
       "      <th>1330</th>\n",
       "      <td>2010-04-16</td>\n",
       "      <td>7.470179</td>\n",
       "      <td>7.108500</td>\n",
       "      <td>13.751736</td>\n",
       "      <td>NaN</td>\n",
       "      <td>23.286184</td>\n",
       "      <td>8.835714</td>\n",
       "      <td>7.108500</td>\n",
       "      <td>13.767518</td>\n",
       "      <td>NaN</td>\n",
       "      <td>...</td>\n",
       "      <td>8.877500</td>\n",
       "      <td>7.244000</td>\n",
       "      <td>14.089089</td>\n",
       "      <td>NaN</td>\n",
       "      <td>30.790001</td>\n",
       "      <td>750545600</td>\n",
       "      <td>167936000</td>\n",
       "      <td>488930580</td>\n",
       "      <td>NaN</td>\n",
       "      <td>88703100</td>\n",
       "    </tr>\n",
       "  </tbody>\n",
       "</table>\n",
       "<p>5 rows × 31 columns</p>\n",
       "</div>"
      ],
      "text/plain": [
       "Price        Date   Adj Close                                                 \\\n",
       "Ticker                   AAPL        AMZN      GOOGL        META        MSFT   \n",
       "4503   2022-11-21  146.800598   92.459999  95.490402  109.634705  239.048599   \n",
       "847    2008-05-15    5.728848    3.806000  14.522873         NaN   22.244223   \n",
       "2102   2013-05-10   13.971061   13.181500  22.002527   26.625288   26.841425   \n",
       "4488   2022-10-31  151.835175  102.440002  94.401657   92.968956  228.607361   \n",
       "1330   2010-04-16    7.470179    7.108500  13.751736         NaN   23.286184   \n",
       "\n",
       "Price        Close                                     ...        Open  \\\n",
       "Ticker        AAPL        AMZN      GOOGL        META  ...        AAPL   \n",
       "4503    148.009995   92.459999  95.599998  109.860001  ...  150.160004   \n",
       "847       6.776071    3.806000  14.539540         NaN  ...    6.671786   \n",
       "2102     16.177500   13.181500  22.027779   26.680000  ...   16.356071   \n",
       "4488    153.339996  102.440002  94.510002   93.160004  ...  153.160004   \n",
       "1330      8.835714    7.108500  13.767518         NaN  ...    8.877500   \n",
       "\n",
       "Price                                                     Volume             \\\n",
       "Ticker        AMZN      GOOGL        META        MSFT       AAPL       AMZN   \n",
       "4503     93.970001  97.290001  111.519997  241.429993   58724100   84330300   \n",
       "847       3.694500  14.489489         NaN   29.980000  873208000  138354000   \n",
       "2102     13.044000  21.904655   27.139999   32.669998  334852000   62906000   \n",
       "4488    103.559998  95.419998   98.220001  233.759995   97943200   99251400   \n",
       "1330      7.244000  14.089089         NaN   30.790001  750545600  167936000   \n",
       "\n",
       "Price                                     \n",
       "Ticker      GOOGL         META      MSFT  \n",
       "4503     21647400   24351100.0  26394700  \n",
       "847     173534292          NaN  53355800  \n",
       "2102     75832092   30847100.0  36394900  \n",
       "4488     31675000  121361400.0  28357300  \n",
       "1330    488930580          NaN  88703100  \n",
       "\n",
       "[5 rows x 31 columns]"
      ]
     },
     "execution_count": 6,
     "metadata": {},
     "output_type": "execute_result"
    }
   ],
   "source": [
    "## 2nd data gathering was downloaded programitticallly from Yahoo Finance using the yfinance library\n",
    "companies = ['AAPL', 'MSFT', 'GOOGL', 'AMZN', 'META']\n",
    "stocks_data = yf.download(companies, start='2005-01-01', end='2023-12-31')\n",
    "stocks_data.reset_index(inplace=True)\n",
    "stocks_data.sample(5)"
   ]
  },
  {
   "cell_type": "code",
   "execution_count": 7,
   "metadata": {},
   "outputs": [
    {
     "data": {
      "text/plain": [
       "(4781, 31)"
      ]
     },
     "execution_count": 7,
     "metadata": {},
     "output_type": "execute_result"
    }
   ],
   "source": [
    "stocks_data.shape"
   ]
  },
  {
   "cell_type": "markdown",
   "metadata": {},
   "source": [
    "> The gathered data has 5785 data points and 31 features."
   ]
  },
  {
   "cell_type": "code",
   "execution_count": 8,
   "metadata": {},
   "outputs": [],
   "source": [
    "stocks_data.to_csv('data/stock_data.csv', index=False) ## store to cvs file"
   ]
  },
  {
   "cell_type": "markdown",
   "metadata": {},
   "source": [
    "> Storing step: the dataset is saved to the local data store directory before moving to the next step."
   ]
  },
  {
   "cell_type": "markdown",
   "metadata": {
    "id": "QwSWIVmotLgV"
   },
   "source": [
    "## 4. Assess data\n",
    "Now that we have gathered the datasets, let's assess the dataset for data quality and structural issues. In this section, the data is assessed according to data quality and tidiness metrics. Where two data quality issues and two tidiness issues are assessed. Each are assess visually and programmatically, then the issue is described. Justifications for the methods used for the assessment are also included.\n",
    "Issues assessed:\n",
    "- Completness\n",
    "- Validity\n",
    "- Columns Names\n",
    "- Inexing of the data"
   ]
  },
  {
   "cell_type": "markdown",
   "metadata": {
    "id": "adaK2iPNzVu4"
   },
   "source": [
    "### **Completeness (Quality Issue #1):**\n",
    "This is the issue of having missing data in the datsets. It affects good analysis and will be assessed for both datasets programmatically and visualy."
   ]
  },
  {
   "cell_type": "markdown",
   "metadata": {},
   "source": [
    "#### **Stocks Dataset**"
   ]
  },
  {
   "cell_type": "markdown",
   "metadata": {},
   "source": [
    "##### *Inspecting the dataframe visually*\n",
    "To inspcet the data qaulity issue of completeness, let's visualize the ddata frame into a heatmap. It will be showing the missing data with a diffrent color."
   ]
  },
  {
   "cell_type": "code",
   "execution_count": 9,
   "metadata": {},
   "outputs": [],
   "source": [
    "nan = ['NA','NaN','-', '0',0, np.nan] ## possible null vlaues"
   ]
  },
  {
   "cell_type": "code",
   "execution_count": 10,
   "metadata": {},
   "outputs": [
    {
     "data": {
      "image/png": "[encoded data removed]",
      "text/plain": [
       "<Figure size 1000x600 with 2 Axes>"
      ]
     },
     "metadata": {},
     "output_type": "display_data"
    }
   ],
   "source": [
    "plt.figure(figsize=(10,6))\n",
    "sns.heatmap(stocks_data.isin(nan).transpose(), cbar_kws={'label': 'Missing Data'}) ## visualize the missing data transposed\n",
    "plt.title('Missing Values from the Stocks Dataframe')\n",
    "plt.xlabel('Values Count');"
   ]
  },
  {
   "cell_type": "markdown",
   "metadata": {},
   "source": [
    "> Almost half of the data from the META company are missing. The other missing values are from Google company."
   ]
  },
  {
   "cell_type": "markdown",
   "metadata": {},
   "source": [
    "##### Inspecting the dataframe programmatically\n",
    "To inspect for missing values programmatically the `.info()` is used alongside checking the `.isna()` methos."
   ]
  },
  {
   "cell_type": "code",
   "execution_count": 11,
   "metadata": {
    "id": "SpW59kh-zl8d"
   },
   "outputs": [
    {
     "name": "stdout",
     "output_type": "stream",
     "text": [
      "<class 'pandas.core.frame.DataFrame'>\n",
      "RangeIndex: 4781 entries, 0 to 4780\n",
      "Data columns (total 31 columns):\n",
      " #   Column              Non-Null Count  Dtype         \n",
      "---  ------              --------------  -----         \n",
      " 0   (Date, )            4781 non-null   datetime64[ns]\n",
      " 1   (Adj Close, AAPL)   4781 non-null   float64       \n",
      " 2   (Adj Close, AMZN)   4781 non-null   float64       \n",
      " 3   (Adj Close, GOOGL)  4781 non-null   float64       \n",
      " 4   (Adj Close, META)   2923 non-null   float64       \n",
      " 5   (Adj Close, MSFT)   4781 non-null   float64       \n",
      " 6   (Close, AAPL)       4781 non-null   float64       \n",
      " 7   (Close, AMZN)       4781 non-null   float64       \n",
      " 8   (Close, GOOGL)      4781 non-null   float64       \n",
      " 9   (Close, META)       2923 non-null   float64       \n",
      " 10  (Close, MSFT)       4781 non-null   float64       \n",
      " 11  (High, AAPL)        4781 non-null   float64       \n",
      " 12  (High, AMZN)        4781 non-null   float64       \n",
      " 13  (High, GOOGL)       4781 non-null   float64       \n",
      " 14  (High, META)        2923 non-null   float64       \n",
      " 15  (High, MSFT)        4781 non-null   float64       \n",
      " 16  (Low, AAPL)         4781 non-null   float64       \n",
      " 17  (Low, AMZN)         4781 non-null   float64       \n",
      " 18  (Low, GOOGL)        4781 non-null   float64       \n",
      " 19  (Low, META)         2923 non-null   float64       \n",
      " 20  (Low, MSFT)         4781 non-null   float64       \n",
      " 21  (Open, AAPL)        4781 non-null   float64       \n",
      " 22  (Open, AMZN)        4781 non-null   float64       \n",
      " 23  (Open, GOOGL)       4781 non-null   float64       \n",
      " 24  (Open, META)        2923 non-null   float64       \n",
      " 25  (Open, MSFT)        4781 non-null   float64       \n",
      " 26  (Volume, AAPL)      4781 non-null   int64         \n",
      " 27  (Volume, AMZN)      4781 non-null   int64         \n",
      " 28  (Volume, GOOGL)     4781 non-null   int64         \n",
      " 29  (Volume, META)      2923 non-null   float64       \n",
      " 30  (Volume, MSFT)      4781 non-null   int64         \n",
      "dtypes: datetime64[ns](1), float64(26), int64(4)\n",
      "memory usage: 1.1 MB\n"
     ]
    }
   ],
   "source": [
    "stocks_data.info()"
   ]
  },
  {
   "cell_type": "markdown",
   "metadata": {},
   "source": [
    "> While the range index is from 0 to 4781, some the columns arn't complete such as (Adj Close, GOOGL), (Adj Close, META), (Close, GOOGL), (Close, META),  (High, GOOGL), (High, META),  (Low, GOOGL),  (Low, META), (Open, GOOGL),  (Open, META),  (Volume, GOOGL), (Volume, META) and (Volume, MSFT).\n",
    "> These missing data are specifically in data regarding the Google, and the META big tech companies."
   ]
  },
  {
   "cell_type": "code",
   "execution_count": 12,
   "metadata": {},
   "outputs": [
    {
     "data": {
      "text/plain": [
       "Price      Ticker\n",
       "Open       META      1858\n",
       "Volume     META      1858\n",
       "Low        META      1858\n",
       "Adj Close  META      1858\n",
       "High       META      1858\n",
       "Close      META      1858\n",
       "Open       GOOGL        0\n",
       "Low        MSFT         0\n",
       "Open       AAPL         0\n",
       "           AMZN         0\n",
       "Date                    0\n",
       "Low        AMZN         0\n",
       "Open       MSFT         0\n",
       "Volume     AAPL         0\n",
       "           AMZN         0\n",
       "           GOOGL        0\n",
       "Low        GOOGL        0\n",
       "High       MSFT         0\n",
       "Low        AAPL         0\n",
       "Adj Close  AAPL         0\n",
       "High       GOOGL        0\n",
       "           AMZN         0\n",
       "           AAPL         0\n",
       "Close      MSFT         0\n",
       "           GOOGL        0\n",
       "           AMZN         0\n",
       "           AAPL         0\n",
       "Adj Close  MSFT         0\n",
       "           GOOGL        0\n",
       "           AMZN         0\n",
       "Volume     MSFT         0\n",
       "dtype: int64"
      ]
     },
     "execution_count": 12,
     "metadata": {},
     "output_type": "execute_result"
    }
   ],
   "source": [
    "stocks_data.isna().sum().sort_values(ascending=False) "
   ]
  },
  {
   "cell_type": "markdown",
   "metadata": {},
   "source": [
    "> There are 1858 missing records from the META Datasets."
   ]
  },
  {
   "cell_type": "markdown",
   "metadata": {},
   "source": [
    "#### **Oil Dataset**"
   ]
  },
  {
   "cell_type": "markdown",
   "metadata": {},
   "source": [
    "##### *Inspecting the dataframe visually*\n",
    "To inspcet the data qaulity issue of completeness, let's visualize the ddata frame into a heatmap. It will be showing the missing data with a diffrent color."
   ]
  },
  {
   "cell_type": "code",
   "execution_count": 13,
   "metadata": {},
   "outputs": [
    {
     "data": {
      "image/png": "[encoded data removed]",
      "text/plain": [
       "<Figure size 1000x600 with 2 Axes>"
      ]
     },
     "metadata": {},
     "output_type": "display_data"
    }
   ],
   "source": [
    "plt.figure(figsize=(10,6))\n",
    "sns.heatmap(oil_data.isin(nan).transpose(), cbar_kws={'label': 'Missing Data'}) ## visualize the missing data transposed\n",
    "plt.title('Missing Values from the Oils Dataframe')\n",
    "plt.xlabel('Values Count');"
   ]
  },
  {
   "cell_type": "markdown",
   "metadata": {},
   "source": [
    "> The only column that has missing values in the oils dataframe is the area-name. It seems to have missing values alongside diffrent dates."
   ]
  },
  {
   "cell_type": "markdown",
   "metadata": {},
   "source": [
    "##### *Inspecting the dataframe programmatically*\n",
    "To inspect for missing values programmatically the `.info()` is used alongside checking the `.isna()` methos. However, some missing values wesn't detected using these methods so there had to use the `.isin()` method to check if there are missing values programmatically."
   ]
  },
  {
   "cell_type": "code",
   "execution_count": 14,
   "metadata": {},
   "outputs": [
    {
     "name": "stdout",
     "output_type": "stream",
     "text": [
      "<class 'pandas.core.frame.DataFrame'>\n",
      "RangeIndex: 5000 entries, 0 to 4999\n",
      "Data columns (total 9 columns):\n",
      " #   Column              Non-Null Count  Dtype \n",
      "---  ------              --------------  ----- \n",
      " 0   period              5000 non-null   object\n",
      " 1   duoarea             5000 non-null   object\n",
      " 2   area-name           5000 non-null   object\n",
      " 3   product             5000 non-null   object\n",
      " 4   product-name        5000 non-null   object\n",
      " 5   process             5000 non-null   object\n",
      " 6   process-name        5000 non-null   object\n",
      " 7   series              5000 non-null   object\n",
      " 8   series-description  5000 non-null   object\n",
      "dtypes: object(9)\n",
      "memory usage: 351.7+ KB\n"
     ]
    }
   ],
   "source": [
    "oil_data.info()"
   ]
  },
  {
   "cell_type": "markdown",
   "metadata": {},
   "source": [
    "> The data have 0 to 4999 indices, and all the columns non-null counts are full. "
   ]
  },
  {
   "cell_type": "code",
   "execution_count": 15,
   "metadata": {},
   "outputs": [
    {
     "data": {
      "text/html": [
       "<div>\n",
       "<style scoped>\n",
       "    .dataframe tbody tr th:only-of-type {\n",
       "        vertical-align: middle;\n",
       "    }\n",
       "\n",
       "    .dataframe tbody tr th {\n",
       "        vertical-align: top;\n",
       "    }\n",
       "\n",
       "    .dataframe thead th {\n",
       "        text-align: right;\n",
       "    }\n",
       "</style>\n",
       "<table border=\"1\" class=\"dataframe\">\n",
       "  <thead>\n",
       "    <tr style=\"text-align: right;\">\n",
       "      <th></th>\n",
       "      <th>period</th>\n",
       "      <th>duoarea</th>\n",
       "      <th>area-name</th>\n",
       "      <th>product</th>\n",
       "      <th>product-name</th>\n",
       "      <th>process</th>\n",
       "      <th>process-name</th>\n",
       "      <th>series</th>\n",
       "      <th>series-description</th>\n",
       "    </tr>\n",
       "  </thead>\n",
       "  <tbody>\n",
       "    <tr>\n",
       "      <th>4406</th>\n",
       "      <td>2014-05-30</td>\n",
       "      <td>RGC</td>\n",
       "      <td>NA</td>\n",
       "      <td>EPJK</td>\n",
       "      <td>Kerosene-Type Jet Fuel</td>\n",
       "      <td>PF4</td>\n",
       "      <td>Spot Price FOB</td>\n",
       "      <td>EER_EPJK_PF4_RGC_DPG</td>\n",
       "      <td>U.S. Gulf Coast Kerosene-Type Jet Fuel Spot Pr...</td>\n",
       "    </tr>\n",
       "    <tr>\n",
       "      <th>189</th>\n",
       "      <td>2020-11-20</td>\n",
       "      <td>Y35NY</td>\n",
       "      <td>NEW YORK CITY</td>\n",
       "      <td>EPD2DXL0</td>\n",
       "      <td>No 2 Diesel Low Sulfur (0-15 ppm)</td>\n",
       "      <td>PF4</td>\n",
       "      <td>Spot Price FOB</td>\n",
       "      <td>EER_EPD2DXL0_PF4_Y35NY_DPG</td>\n",
       "      <td>New York Harbor Ultra-Low Sulfur No 2 Diesel S...</td>\n",
       "    </tr>\n",
       "    <tr>\n",
       "      <th>2949</th>\n",
       "      <td>2019-11-22</td>\n",
       "      <td>Y35NY</td>\n",
       "      <td>NEW YORK CITY</td>\n",
       "      <td>EPD2F</td>\n",
       "      <td>No 2 Fuel Oil / Heating Oil</td>\n",
       "      <td>PF4</td>\n",
       "      <td>Spot Price FOB</td>\n",
       "      <td>EER_EPD2F_PF4_Y35NY_DPG</td>\n",
       "      <td>New York Harbor No. 2 Heating Oil Spot Price F...</td>\n",
       "    </tr>\n",
       "    <tr>\n",
       "      <th>2172</th>\n",
       "      <td>2009-10-09</td>\n",
       "      <td>Y35NY</td>\n",
       "      <td>NEW YORK CITY</td>\n",
       "      <td>EPMRU</td>\n",
       "      <td>Conventional Regular Gasoline</td>\n",
       "      <td>PF4</td>\n",
       "      <td>Spot Price FOB</td>\n",
       "      <td>EER_EPMRU_PF4_Y35NY_DPG</td>\n",
       "      <td>New York Harbor Conventional Gasoline Regular ...</td>\n",
       "    </tr>\n",
       "    <tr>\n",
       "      <th>4921</th>\n",
       "      <td>2019-12-13</td>\n",
       "      <td>Y35NY</td>\n",
       "      <td>NEW YORK CITY</td>\n",
       "      <td>EPMRU</td>\n",
       "      <td>Conventional Regular Gasoline</td>\n",
       "      <td>PF4</td>\n",
       "      <td>Spot Price FOB</td>\n",
       "      <td>EER_EPMRU_PF4_Y35NY_DPG</td>\n",
       "      <td>New York Harbor Conventional Gasoline Regular ...</td>\n",
       "    </tr>\n",
       "  </tbody>\n",
       "</table>\n",
       "</div>"
      ],
      "text/plain": [
       "          period duoarea      area-name   product  \\\n",
       "4406  2014-05-30     RGC             NA      EPJK   \n",
       "189   2020-11-20   Y35NY  NEW YORK CITY  EPD2DXL0   \n",
       "2949  2019-11-22   Y35NY  NEW YORK CITY     EPD2F   \n",
       "2172  2009-10-09   Y35NY  NEW YORK CITY     EPMRU   \n",
       "4921  2019-12-13   Y35NY  NEW YORK CITY     EPMRU   \n",
       "\n",
       "                           product-name process    process-name  \\\n",
       "4406             Kerosene-Type Jet Fuel     PF4  Spot Price FOB   \n",
       "189   No 2 Diesel Low Sulfur (0-15 ppm)     PF4  Spot Price FOB   \n",
       "2949        No 2 Fuel Oil / Heating Oil     PF4  Spot Price FOB   \n",
       "2172      Conventional Regular Gasoline     PF4  Spot Price FOB   \n",
       "4921      Conventional Regular Gasoline     PF4  Spot Price FOB   \n",
       "\n",
       "                          series  \\\n",
       "4406        EER_EPJK_PF4_RGC_DPG   \n",
       "189   EER_EPD2DXL0_PF4_Y35NY_DPG   \n",
       "2949     EER_EPD2F_PF4_Y35NY_DPG   \n",
       "2172     EER_EPMRU_PF4_Y35NY_DPG   \n",
       "4921     EER_EPMRU_PF4_Y35NY_DPG   \n",
       "\n",
       "                                     series-description  \n",
       "4406  U.S. Gulf Coast Kerosene-Type Jet Fuel Spot Pr...  \n",
       "189   New York Harbor Ultra-Low Sulfur No 2 Diesel S...  \n",
       "2949  New York Harbor No. 2 Heating Oil Spot Price F...  \n",
       "2172  New York Harbor Conventional Gasoline Regular ...  \n",
       "4921  New York Harbor Conventional Gasoline Regular ...  "
      ]
     },
     "execution_count": 15,
     "metadata": {},
     "output_type": "execute_result"
    }
   ],
   "source": [
    "oil_data.sample(5) ## take a sample of 5"
   ]
  },
  {
   "cell_type": "markdown",
   "metadata": {},
   "source": [
    "> However with further looking, it was noticed that there are NA values used to presnet the null values."
   ]
  },
  {
   "cell_type": "code",
   "execution_count": 16,
   "metadata": {},
   "outputs": [
    {
     "data": {
      "text/plain": [
       "period                   0\n",
       "duoarea                  0\n",
       "area-name             2743\n",
       "product                  0\n",
       "product-name             0\n",
       "process                  0\n",
       "process-name             0\n",
       "series                   0\n",
       "series-description       0\n",
       "dtype: int64"
      ]
     },
     "execution_count": 16,
     "metadata": {},
     "output_type": "execute_result"
    }
   ],
   "source": [
    "oil_data.isin(nan).sum() ## to check if some values are not detected using isna"
   ]
  },
  {
   "cell_type": "markdown",
   "metadata": {},
   "source": [
    "> In the oil dataset there appears to be 2743 NA values from the area-name column. The other columns doesn't have NA values. However, the duoarea have no missing values."
   ]
  },
  {
   "cell_type": "markdown",
   "metadata": {
    "id": "8Be77N4I1AmE"
   },
   "source": [
    "### **Validity (Quality Issue #2):**"
   ]
  },
  {
   "cell_type": "markdown",
   "metadata": {},
   "source": [
    "#### **Stocks Dataset**"
   ]
  },
  {
   "cell_type": "markdown",
   "metadata": {},
   "source": [
    "##### *Inspecting the dataframe programmatically*\n",
    "To inspect the validity of the dataframe programmatically, let's take a look into the datatypes of the dataset using the `.datatype` attribute of the datasets."
   ]
  },
  {
   "cell_type": "code",
   "execution_count": 17,
   "metadata": {},
   "outputs": [
    {
     "data": {
      "text/plain": [
       "Price      Ticker\n",
       "Date                 datetime64[ns]\n",
       "Adj Close  AAPL             float64\n",
       "           AMZN             float64\n",
       "           GOOGL            float64\n",
       "           META             float64\n",
       "           MSFT             float64\n",
       "Close      AAPL             float64\n",
       "           AMZN             float64\n",
       "           GOOGL            float64\n",
       "           META             float64\n",
       "           MSFT             float64\n",
       "High       AAPL             float64\n",
       "           AMZN             float64\n",
       "           GOOGL            float64\n",
       "           META             float64\n",
       "           MSFT             float64\n",
       "Low        AAPL             float64\n",
       "           AMZN             float64\n",
       "           GOOGL            float64\n",
       "           META             float64\n",
       "           MSFT             float64\n",
       "Open       AAPL             float64\n",
       "           AMZN             float64\n",
       "           GOOGL            float64\n",
       "           META             float64\n",
       "           MSFT             float64\n",
       "Volume     AAPL               int64\n",
       "           AMZN               int64\n",
       "           GOOGL              int64\n",
       "           META             float64\n",
       "           MSFT               int64\n",
       "dtype: object"
      ]
     },
     "execution_count": 17,
     "metadata": {},
     "output_type": "execute_result"
    }
   ],
   "source": [
    "stocks_data.dtypes ## looking into datatypes"
   ]
  },
  {
   "cell_type": "markdown",
   "metadata": {},
   "source": [
    "> The datastypes are all valid. Let's take a look into why For the volume some of the columns have integer values."
   ]
  },
  {
   "cell_type": "code",
   "execution_count": 18,
   "metadata": {},
   "outputs": [
    {
     "data": {
      "text/plain": [
       "3222   2017-10-19\n",
       "895    2008-07-24\n",
       "60     2005-03-31\n",
       "2692   2015-09-14\n",
       "2003   2012-12-17\n",
       "Name: Date, dtype: datetime64[ns]"
      ]
     },
     "execution_count": 18,
     "metadata": {},
     "output_type": "execute_result"
    }
   ],
   "source": [
    "stocks_data['Date'].sample(5) ## Take a sample of 5"
   ]
  },
  {
   "cell_type": "markdown",
   "metadata": {},
   "source": [
    "> The datetime64 is actuualy only the date of the record there is no timestamps."
   ]
  },
  {
   "cell_type": "code",
   "execution_count": 19,
   "metadata": {},
   "outputs": [
    {
     "name": "stdout",
     "output_type": "stream",
     "text": [
      "414     655191600\n",
      "4218     80861100\n",
      "3161     75415600\n",
      "2713    132197200\n",
      "2446    211153600\n",
      "Name: (Volume, AAPL), dtype: int64\n",
      "3543    218206000\n",
      "3344    102288000\n",
      "2102     62906000\n",
      "326     107752000\n",
      "3604     70120000\n",
      "Name: (Volume, AMZN), dtype: int64\n",
      "259     404606988\n",
      "2352     49040000\n",
      "464     196111692\n",
      "666      92910996\n",
      "2193     63852084\n",
      "Name: (Volume, GOOGL), dtype: int64\n",
      "626     71193900\n",
      "3789    19680800\n",
      "430     49135000\n",
      "1700    64592500\n",
      "4076    26034900\n",
      "Name: (Volume, MSFT), dtype: int64\n"
     ]
    }
   ],
   "source": [
    "int_col= list(stocks_data.dtypes[stocks_data.dtypes == 'int64']['Volume'].index) ## take the values where the datatypes are integers\n",
    "for col in int_col:\n",
    "    print(stocks_data['Volume',col].sample(5))"
   ]
  },
  {
   "cell_type": "markdown",
   "metadata": {},
   "source": [
    "> The dataset is valid in terms of data types for the integers columns."
   ]
  },
  {
   "cell_type": "markdown",
   "metadata": {},
   "source": [
    "##### *Inspecting the dataframe visually*\n",
    "The visualization used to check for datatypes validity is a summary statics table."
   ]
  },
  {
   "cell_type": "code",
   "execution_count": 20,
   "metadata": {
    "id": "bnviRCUI-bb7"
   },
   "outputs": [
    {
     "data": {
      "text/html": [
       "<div>\n",
       "<style scoped>\n",
       "    .dataframe tbody tr th:only-of-type {\n",
       "        vertical-align: middle;\n",
       "    }\n",
       "\n",
       "    .dataframe tbody tr th {\n",
       "        vertical-align: top;\n",
       "    }\n",
       "\n",
       "    .dataframe thead th {\n",
       "        text-align: right;\n",
       "    }\n",
       "</style>\n",
       "<table border=\"1\" class=\"dataframe\">\n",
       "  <thead>\n",
       "    <tr style=\"text-align: right;\">\n",
       "      <th></th>\n",
       "      <th></th>\n",
       "      <th>count</th>\n",
       "      <th>mean</th>\n",
       "      <th>min</th>\n",
       "      <th>25%</th>\n",
       "      <th>50%</th>\n",
       "      <th>75%</th>\n",
       "      <th>max</th>\n",
       "      <th>std</th>\n",
       "    </tr>\n",
       "    <tr>\n",
       "      <th>Price</th>\n",
       "      <th>Ticker</th>\n",
       "      <th></th>\n",
       "      <th></th>\n",
       "      <th></th>\n",
       "      <th></th>\n",
       "      <th></th>\n",
       "      <th></th>\n",
       "      <th></th>\n",
       "      <th></th>\n",
       "    </tr>\n",
       "  </thead>\n",
       "  <tbody>\n",
       "    <tr>\n",
       "      <th>Date</th>\n",
       "      <th></th>\n",
       "      <td>4781</td>\n",
       "      <td>2014-07-01 15:02:04.241790208</td>\n",
       "      <td>2005-01-03 00:00:00</td>\n",
       "      <td>2009-10-01 00:00:00</td>\n",
       "      <td>2014-07-02 00:00:00</td>\n",
       "      <td>2019-04-02 00:00:00</td>\n",
       "      <td>2023-12-29 00:00:00</td>\n",
       "      <td>NaN</td>\n",
       "    </tr>\n",
       "    <tr>\n",
       "      <th rowspan=\"5\" valign=\"top\">Adj Close</th>\n",
       "      <th>AAPL</th>\n",
       "      <td>4781.0</td>\n",
       "      <td>43.406251</td>\n",
       "      <td>0.955513</td>\n",
       "      <td>5.748776</td>\n",
       "      <td>20.945789</td>\n",
       "      <td>49.082432</td>\n",
       "      <td>197.589523</td>\n",
       "      <td>53.512731</td>\n",
       "    </tr>\n",
       "    <tr>\n",
       "      <th>AMZN</th>\n",
       "      <td>4781.0</td>\n",
       "      <td>47.456018</td>\n",
       "      <td>1.3035</td>\n",
       "      <td>4.7205</td>\n",
       "      <td>16.6425</td>\n",
       "      <td>88.806</td>\n",
       "      <td>186.570496</td>\n",
       "      <td>54.003279</td>\n",
       "    </tr>\n",
       "    <tr>\n",
       "      <th>GOOGL</th>\n",
       "      <td>4781.0</td>\n",
       "      <td>42.617377</td>\n",
       "      <td>4.374109</td>\n",
       "      <td>13.190316</td>\n",
       "      <td>27.369587</td>\n",
       "      <td>58.646194</td>\n",
       "      <td>149.666733</td>\n",
       "      <td>38.617765</td>\n",
       "    </tr>\n",
       "    <tr>\n",
       "      <th>META</th>\n",
       "      <td>2923.0</td>\n",
       "      <td>157.370234</td>\n",
       "      <td>17.69364</td>\n",
       "      <td>80.604355</td>\n",
       "      <td>153.205185</td>\n",
       "      <td>204.38501</td>\n",
       "      <td>381.39624</td>\n",
       "      <td>90.7394</td>\n",
       "    </tr>\n",
       "    <tr>\n",
       "      <th>MSFT</th>\n",
       "      <td>4781.0</td>\n",
       "      <td>85.750155</td>\n",
       "      <td>11.263439</td>\n",
       "      <td>20.658804</td>\n",
       "      <td>35.504246</td>\n",
       "      <td>113.337265</td>\n",
       "      <td>381.305817</td>\n",
       "      <td>96.422985</td>\n",
       "    </tr>\n",
       "    <tr>\n",
       "      <th rowspan=\"5\" valign=\"top\">Close</th>\n",
       "      <th>AAPL</th>\n",
       "      <td>4781.0</td>\n",
       "      <td>45.151456</td>\n",
       "      <td>1.130179</td>\n",
       "      <td>6.799643</td>\n",
       "      <td>23.620001</td>\n",
       "      <td>50.965</td>\n",
       "      <td>198.110001</td>\n",
       "      <td>53.62873</td>\n",
       "    </tr>\n",
       "    <tr>\n",
       "      <th>AMZN</th>\n",
       "      <td>4781.0</td>\n",
       "      <td>47.456018</td>\n",
       "      <td>1.3035</td>\n",
       "      <td>4.7205</td>\n",
       "      <td>16.6425</td>\n",
       "      <td>88.806</td>\n",
       "      <td>186.570496</td>\n",
       "      <td>54.003279</td>\n",
       "    </tr>\n",
       "    <tr>\n",
       "      <th>GOOGL</th>\n",
       "      <td>4781.0</td>\n",
       "      <td>42.666289</td>\n",
       "      <td>4.379129</td>\n",
       "      <td>13.205455</td>\n",
       "      <td>27.400999</td>\n",
       "      <td>58.713501</td>\n",
       "      <td>149.838501</td>\n",
       "      <td>38.662086</td>\n",
       "    </tr>\n",
       "    <tr>\n",
       "      <th>META</th>\n",
       "      <td>2923.0</td>\n",
       "      <td>157.69362</td>\n",
       "      <td>17.73</td>\n",
       "      <td>80.769997</td>\n",
       "      <td>153.520004</td>\n",
       "      <td>204.805</td>\n",
       "      <td>382.179993</td>\n",
       "      <td>90.925863</td>\n",
       "    </tr>\n",
       "    <tr>\n",
       "      <th>MSFT</th>\n",
       "      <td>4781.0</td>\n",
       "      <td>91.896614</td>\n",
       "      <td>15.15</td>\n",
       "      <td>27.690001</td>\n",
       "      <td>41.459999</td>\n",
       "      <td>119.279999</td>\n",
       "      <td>382.700012</td>\n",
       "      <td>95.785255</td>\n",
       "    </tr>\n",
       "    <tr>\n",
       "      <th rowspan=\"5\" valign=\"top\">High</th>\n",
       "      <th>AAPL</th>\n",
       "      <td>4781.0</td>\n",
       "      <td>45.611048</td>\n",
       "      <td>1.159107</td>\n",
       "      <td>6.881429</td>\n",
       "      <td>23.887501</td>\n",
       "      <td>51.334999</td>\n",
       "      <td>199.619995</td>\n",
       "      <td>54.173137</td>\n",
       "    </tr>\n",
       "    <tr>\n",
       "      <th>AMZN</th>\n",
       "      <td>4781.0</td>\n",
       "      <td>48.02516</td>\n",
       "      <td>1.315</td>\n",
       "      <td>4.7925</td>\n",
       "      <td>16.829</td>\n",
       "      <td>89.649498</td>\n",
       "      <td>188.654007</td>\n",
       "      <td>54.674486</td>\n",
       "    </tr>\n",
       "    <tr>\n",
       "      <th>GOOGL</th>\n",
       "      <td>4781.0</td>\n",
       "      <td>43.102564</td>\n",
       "      <td>4.464464</td>\n",
       "      <td>13.343343</td>\n",
       "      <td>27.627001</td>\n",
       "      <td>59.25</td>\n",
       "      <td>151.546494</td>\n",
       "      <td>39.078927</td>\n",
       "    </tr>\n",
       "    <tr>\n",
       "      <th>META</th>\n",
       "      <td>2923.0</td>\n",
       "      <td>159.668765</td>\n",
       "      <td>18.27</td>\n",
       "      <td>81.470001</td>\n",
       "      <td>155.589996</td>\n",
       "      <td>207.645004</td>\n",
       "      <td>384.329987</td>\n",
       "      <td>92.034626</td>\n",
       "    </tr>\n",
       "    <tr>\n",
       "      <th>MSFT</th>\n",
       "      <td>4781.0</td>\n",
       "      <td>92.781004</td>\n",
       "      <td>15.62</td>\n",
       "      <td>27.93</td>\n",
       "      <td>41.66</td>\n",
       "      <td>119.589996</td>\n",
       "      <td>384.299988</td>\n",
       "      <td>96.728997</td>\n",
       "    </tr>\n",
       "    <tr>\n",
       "      <th rowspan=\"5\" valign=\"top\">Low</th>\n",
       "      <th>AAPL</th>\n",
       "      <td>4781.0</td>\n",
       "      <td>44.649769</td>\n",
       "      <td>1.117857</td>\n",
       "      <td>6.738571</td>\n",
       "      <td>23.407499</td>\n",
       "      <td>50.549999</td>\n",
       "      <td>197.0</td>\n",
       "      <td>53.026181</td>\n",
       "    </tr>\n",
       "    <tr>\n",
       "      <th>AMZN</th>\n",
       "      <td>4781.0</td>\n",
       "      <td>46.862393</td>\n",
       "      <td>1.288</td>\n",
       "      <td>4.6535</td>\n",
       "      <td>16.441</td>\n",
       "      <td>87.800003</td>\n",
       "      <td>184.839493</td>\n",
       "      <td>53.333407</td>\n",
       "    </tr>\n",
       "    <tr>\n",
       "      <th>GOOGL</th>\n",
       "      <td>4781.0</td>\n",
       "      <td>42.210375</td>\n",
       "      <td>4.318569</td>\n",
       "      <td>13.075075</td>\n",
       "      <td>27.222</td>\n",
       "      <td>58.174</td>\n",
       "      <td>148.899002</td>\n",
       "      <td>38.227936</td>\n",
       "    </tr>\n",
       "    <tr>\n",
       "      <th>META</th>\n",
       "      <td>2923.0</td>\n",
       "      <td>155.638686</td>\n",
       "      <td>17.549999</td>\n",
       "      <td>80.154999</td>\n",
       "      <td>151.660004</td>\n",
       "      <td>201.785004</td>\n",
       "      <td>378.809998</td>\n",
       "      <td>89.773014</td>\n",
       "    </tr>\n",
       "    <tr>\n",
       "      <th>MSFT</th>\n",
       "      <td>4781.0</td>\n",
       "      <td>90.932192</td>\n",
       "      <td>14.87</td>\n",
       "      <td>27.41</td>\n",
       "      <td>41.040001</td>\n",
       "      <td>118.379997</td>\n",
       "      <td>378.160004</td>\n",
       "      <td>94.736781</td>\n",
       "    </tr>\n",
       "    <tr>\n",
       "      <th rowspan=\"5\" valign=\"top\">Open</th>\n",
       "      <th>AAPL</th>\n",
       "      <td>4781.0</td>\n",
       "      <td>45.120857</td>\n",
       "      <td>1.139107</td>\n",
       "      <td>6.809286</td>\n",
       "      <td>23.66</td>\n",
       "      <td>50.865002</td>\n",
       "      <td>198.020004</td>\n",
       "      <td>53.576141</td>\n",
       "    </tr>\n",
       "    <tr>\n",
       "      <th>AMZN</th>\n",
       "      <td>4781.0</td>\n",
       "      <td>47.467806</td>\n",
       "      <td>1.3045</td>\n",
       "      <td>4.7495</td>\n",
       "      <td>16.715</td>\n",
       "      <td>88.786499</td>\n",
       "      <td>187.199997</td>\n",
       "      <td>54.034916</td>\n",
       "    </tr>\n",
       "    <tr>\n",
       "      <th>GOOGL</th>\n",
       "      <td>4781.0</td>\n",
       "      <td>42.655534</td>\n",
       "      <td>4.386887</td>\n",
       "      <td>13.217217</td>\n",
       "      <td>27.4</td>\n",
       "      <td>58.7495</td>\n",
       "      <td>151.25</td>\n",
       "      <td>38.641589</td>\n",
       "    </tr>\n",
       "    <tr>\n",
       "      <th>META</th>\n",
       "      <td>2923.0</td>\n",
       "      <td>157.61935</td>\n",
       "      <td>18.08</td>\n",
       "      <td>80.77</td>\n",
       "      <td>153.639999</td>\n",
       "      <td>204.214996</td>\n",
       "      <td>381.679993</td>\n",
       "      <td>90.865561</td>\n",
       "    </tr>\n",
       "    <tr>\n",
       "      <th>MSFT</th>\n",
       "      <td>4781.0</td>\n",
       "      <td>91.865313</td>\n",
       "      <td>15.2</td>\n",
       "      <td>27.68</td>\n",
       "      <td>41.369999</td>\n",
       "      <td>119.059998</td>\n",
       "      <td>383.76001</td>\n",
       "      <td>95.751817</td>\n",
       "    </tr>\n",
       "    <tr>\n",
       "      <th rowspan=\"5\" valign=\"top\">Volume</th>\n",
       "      <th>AAPL</th>\n",
       "      <td>4781.0</td>\n",
       "      <td>403190325.831416</td>\n",
       "      <td>24048300.0</td>\n",
       "      <td>108953300.0</td>\n",
       "      <td>258322400.0</td>\n",
       "      <td>581148400.0</td>\n",
       "      <td>3372969600.0</td>\n",
       "      <td>398702935.886029</td>\n",
       "    </tr>\n",
       "    <tr>\n",
       "      <th>AMZN</th>\n",
       "      <td>4781.0</td>\n",
       "      <td>108328400.397406</td>\n",
       "      <td>17626000.0</td>\n",
       "      <td>60214000.0</td>\n",
       "      <td>86388000.0</td>\n",
       "      <td>129110000.0</td>\n",
       "      <td>2086584000.0</td>\n",
       "      <td>91519691.093599</td>\n",
       "    </tr>\n",
       "    <tr>\n",
       "      <th>GOOGL</th>\n",
       "      <td>4781.0</td>\n",
       "      <td>115393301.946873</td>\n",
       "      <td>9312000.0</td>\n",
       "      <td>31586000.0</td>\n",
       "      <td>61402000.0</td>\n",
       "      <td>139016844.0</td>\n",
       "      <td>1643023332.0</td>\n",
       "      <td>142627540.065058</td>\n",
       "    </tr>\n",
       "    <tr>\n",
       "      <th>META</th>\n",
       "      <td>2923.0</td>\n",
       "      <td>30604724.769073</td>\n",
       "      <td>5467500.0</td>\n",
       "      <td>16337300.0</td>\n",
       "      <td>22948700.0</td>\n",
       "      <td>35204400.0</td>\n",
       "      <td>573576400.0</td>\n",
       "      <td>26371567.151792</td>\n",
       "    </tr>\n",
       "    <tr>\n",
       "      <th>MSFT</th>\n",
       "      <td>4781.0</td>\n",
       "      <td>45513886.467266</td>\n",
       "      <td>7425600.0</td>\n",
       "      <td>26091000.0</td>\n",
       "      <td>38153000.0</td>\n",
       "      <td>57376800.0</td>\n",
       "      <td>591052200.0</td>\n",
       "      <td>28421310.332875</td>\n",
       "    </tr>\n",
       "  </tbody>\n",
       "</table>\n",
       "</div>"
      ],
      "text/plain": [
       "                   count                           mean                  min  \\\n",
       "Price     Ticker                                                               \n",
       "Date                4781  2014-07-01 15:02:04.241790208  2005-01-03 00:00:00   \n",
       "Adj Close AAPL    4781.0                      43.406251             0.955513   \n",
       "          AMZN    4781.0                      47.456018               1.3035   \n",
       "          GOOGL   4781.0                      42.617377             4.374109   \n",
       "          META    2923.0                     157.370234             17.69364   \n",
       "          MSFT    4781.0                      85.750155            11.263439   \n",
       "Close     AAPL    4781.0                      45.151456             1.130179   \n",
       "          AMZN    4781.0                      47.456018               1.3035   \n",
       "          GOOGL   4781.0                      42.666289             4.379129   \n",
       "          META    2923.0                      157.69362                17.73   \n",
       "          MSFT    4781.0                      91.896614                15.15   \n",
       "High      AAPL    4781.0                      45.611048             1.159107   \n",
       "          AMZN    4781.0                       48.02516                1.315   \n",
       "          GOOGL   4781.0                      43.102564             4.464464   \n",
       "          META    2923.0                     159.668765                18.27   \n",
       "          MSFT    4781.0                      92.781004                15.62   \n",
       "Low       AAPL    4781.0                      44.649769             1.117857   \n",
       "          AMZN    4781.0                      46.862393                1.288   \n",
       "          GOOGL   4781.0                      42.210375             4.318569   \n",
       "          META    2923.0                     155.638686            17.549999   \n",
       "          MSFT    4781.0                      90.932192                14.87   \n",
       "Open      AAPL    4781.0                      45.120857             1.139107   \n",
       "          AMZN    4781.0                      47.467806               1.3045   \n",
       "          GOOGL   4781.0                      42.655534             4.386887   \n",
       "          META    2923.0                      157.61935                18.08   \n",
       "          MSFT    4781.0                      91.865313                 15.2   \n",
       "Volume    AAPL    4781.0               403190325.831416           24048300.0   \n",
       "          AMZN    4781.0               108328400.397406           17626000.0   \n",
       "          GOOGL   4781.0               115393301.946873            9312000.0   \n",
       "          META    2923.0                30604724.769073            5467500.0   \n",
       "          MSFT    4781.0                45513886.467266            7425600.0   \n",
       "\n",
       "                                  25%                  50%  \\\n",
       "Price     Ticker                                             \n",
       "Date              2009-10-01 00:00:00  2014-07-02 00:00:00   \n",
       "Adj Close AAPL               5.748776            20.945789   \n",
       "          AMZN                 4.7205              16.6425   \n",
       "          GOOGL             13.190316            27.369587   \n",
       "          META              80.604355           153.205185   \n",
       "          MSFT              20.658804            35.504246   \n",
       "Close     AAPL               6.799643            23.620001   \n",
       "          AMZN                 4.7205              16.6425   \n",
       "          GOOGL             13.205455            27.400999   \n",
       "          META              80.769997           153.520004   \n",
       "          MSFT              27.690001            41.459999   \n",
       "High      AAPL               6.881429            23.887501   \n",
       "          AMZN                 4.7925               16.829   \n",
       "          GOOGL             13.343343            27.627001   \n",
       "          META              81.470001           155.589996   \n",
       "          MSFT                  27.93                41.66   \n",
       "Low       AAPL               6.738571            23.407499   \n",
       "          AMZN                 4.6535               16.441   \n",
       "          GOOGL             13.075075               27.222   \n",
       "          META              80.154999           151.660004   \n",
       "          MSFT                  27.41            41.040001   \n",
       "Open      AAPL               6.809286                23.66   \n",
       "          AMZN                 4.7495               16.715   \n",
       "          GOOGL             13.217217                 27.4   \n",
       "          META                  80.77           153.639999   \n",
       "          MSFT                  27.68            41.369999   \n",
       "Volume    AAPL            108953300.0          258322400.0   \n",
       "          AMZN             60214000.0           86388000.0   \n",
       "          GOOGL            31586000.0           61402000.0   \n",
       "          META             16337300.0           22948700.0   \n",
       "          MSFT             26091000.0           38153000.0   \n",
       "\n",
       "                                  75%                  max               std  \n",
       "Price     Ticker                                                              \n",
       "Date              2019-04-02 00:00:00  2023-12-29 00:00:00               NaN  \n",
       "Adj Close AAPL              49.082432           197.589523         53.512731  \n",
       "          AMZN                 88.806           186.570496         54.003279  \n",
       "          GOOGL             58.646194           149.666733         38.617765  \n",
       "          META              204.38501            381.39624           90.7394  \n",
       "          MSFT             113.337265           381.305817         96.422985  \n",
       "Close     AAPL                 50.965           198.110001          53.62873  \n",
       "          AMZN                 88.806           186.570496         54.003279  \n",
       "          GOOGL             58.713501           149.838501         38.662086  \n",
       "          META                204.805           382.179993         90.925863  \n",
       "          MSFT             119.279999           382.700012         95.785255  \n",
       "High      AAPL              51.334999           199.619995         54.173137  \n",
       "          AMZN              89.649498           188.654007         54.674486  \n",
       "          GOOGL                 59.25           151.546494         39.078927  \n",
       "          META             207.645004           384.329987         92.034626  \n",
       "          MSFT             119.589996           384.299988         96.728997  \n",
       "Low       AAPL              50.549999                197.0         53.026181  \n",
       "          AMZN              87.800003           184.839493         53.333407  \n",
       "          GOOGL                58.174           148.899002         38.227936  \n",
       "          META             201.785004           378.809998         89.773014  \n",
       "          MSFT             118.379997           378.160004         94.736781  \n",
       "Open      AAPL              50.865002           198.020004         53.576141  \n",
       "          AMZN              88.786499           187.199997         54.034916  \n",
       "          GOOGL               58.7495               151.25         38.641589  \n",
       "          META             204.214996           381.679993         90.865561  \n",
       "          MSFT             119.059998            383.76001         95.751817  \n",
       "Volume    AAPL            581148400.0         3372969600.0  398702935.886029  \n",
       "          AMZN            129110000.0         2086584000.0   91519691.093599  \n",
       "          GOOGL           139016844.0         1643023332.0  142627540.065058  \n",
       "          META             35204400.0          573576400.0   26371567.151792  \n",
       "          MSFT             57376800.0          591052200.0   28421310.332875  "
      ]
     },
     "execution_count": 20,
     "metadata": {},
     "output_type": "execute_result"
    }
   ],
   "source": [
    "## Inspecting the dataframe visually\n",
    "stocks_data.describe().T"
   ]
  },
  {
   "cell_type": "markdown",
   "metadata": {},
   "source": [
    "> As noticed in the Date columns there is no need for the timestamped column datatype. Will be axtracting the year and month from it as integers after mereg."
   ]
  },
  {
   "cell_type": "markdown",
   "metadata": {},
   "source": [
    "#### **Oil Dataset**"
   ]
  },
  {
   "cell_type": "markdown",
   "metadata": {},
   "source": [
    "##### *Inspecting the dataframe programmatically*\n",
    "To inspect the validity of the dataframe programmatically, let's take a look into the datatypes of the datasets using the `.datatype` attribute of the datasets."
   ]
  },
  {
   "cell_type": "code",
   "execution_count": 21,
   "metadata": {},
   "outputs": [
    {
     "data": {
      "text/plain": [
       "period                object\n",
       "duoarea               object\n",
       "area-name             object\n",
       "product               object\n",
       "product-name          object\n",
       "process               object\n",
       "process-name          object\n",
       "series                object\n",
       "series-description    object\n",
       "dtype: object"
      ]
     },
     "execution_count": 21,
     "metadata": {},
     "output_type": "execute_result"
    }
   ],
   "source": [
    "oil_data.dtypes"
   ]
  },
  {
   "cell_type": "markdown",
   "metadata": {},
   "source": [
    "> All the datatypes in oil data are seen as objects. But as seen in the sample of the data some are dates and bumers."
   ]
  },
  {
   "cell_type": "code",
   "execution_count": 22,
   "metadata": {},
   "outputs": [
    {
     "data": {
      "text/html": [
       "<div>\n",
       "<style scoped>\n",
       "    .dataframe tbody tr th:only-of-type {\n",
       "        vertical-align: middle;\n",
       "    }\n",
       "\n",
       "    .dataframe tbody tr th {\n",
       "        vertical-align: top;\n",
       "    }\n",
       "\n",
       "    .dataframe thead th {\n",
       "        text-align: right;\n",
       "    }\n",
       "</style>\n",
       "<table border=\"1\" class=\"dataframe\">\n",
       "  <thead>\n",
       "    <tr style=\"text-align: right;\">\n",
       "      <th></th>\n",
       "      <th>2275</th>\n",
       "      <th>1438</th>\n",
       "    </tr>\n",
       "  </thead>\n",
       "  <tbody>\n",
       "    <tr>\n",
       "      <th>period</th>\n",
       "      <td>2009-02-20</td>\n",
       "      <td>2015-06-19</td>\n",
       "    </tr>\n",
       "    <tr>\n",
       "      <th>duoarea</th>\n",
       "      <td>ZEU</td>\n",
       "      <td>Y35NY</td>\n",
       "    </tr>\n",
       "    <tr>\n",
       "      <th>area-name</th>\n",
       "      <td>NA</td>\n",
       "      <td>NEW YORK CITY</td>\n",
       "    </tr>\n",
       "    <tr>\n",
       "      <th>product</th>\n",
       "      <td>EPCBRENT</td>\n",
       "      <td>EPD2DXL0</td>\n",
       "    </tr>\n",
       "    <tr>\n",
       "      <th>product-name</th>\n",
       "      <td>UK Brent Crude Oil</td>\n",
       "      <td>No 2 Diesel Low Sulfur (0-15 ppm)</td>\n",
       "    </tr>\n",
       "    <tr>\n",
       "      <th>process</th>\n",
       "      <td>PF4</td>\n",
       "      <td>PF4</td>\n",
       "    </tr>\n",
       "    <tr>\n",
       "      <th>process-name</th>\n",
       "      <td>Spot Price FOB</td>\n",
       "      <td>Spot Price FOB</td>\n",
       "    </tr>\n",
       "    <tr>\n",
       "      <th>series</th>\n",
       "      <td>RBRTE</td>\n",
       "      <td>EER_EPD2DXL0_PF4_Y35NY_DPG</td>\n",
       "    </tr>\n",
       "    <tr>\n",
       "      <th>series-description</th>\n",
       "      <td>Europe Brent Spot Price FOB (Dollars per Barrel)</td>\n",
       "      <td>New York Harbor Ultra-Low Sulfur No 2 Diesel S...</td>\n",
       "    </tr>\n",
       "  </tbody>\n",
       "</table>\n",
       "</div>"
      ],
      "text/plain": [
       "                                                                2275  \\\n",
       "period                                                    2009-02-20   \n",
       "duoarea                                                          ZEU   \n",
       "area-name                                                         NA   \n",
       "product                                                     EPCBRENT   \n",
       "product-name                                      UK Brent Crude Oil   \n",
       "process                                                          PF4   \n",
       "process-name                                          Spot Price FOB   \n",
       "series                                                         RBRTE   \n",
       "series-description  Europe Brent Spot Price FOB (Dollars per Barrel)   \n",
       "\n",
       "                                                                 1438  \n",
       "period                                                     2015-06-19  \n",
       "duoarea                                                         Y35NY  \n",
       "area-name                                               NEW YORK CITY  \n",
       "product                                                      EPD2DXL0  \n",
       "product-name                        No 2 Diesel Low Sulfur (0-15 ppm)  \n",
       "process                                                           PF4  \n",
       "process-name                                           Spot Price FOB  \n",
       "series                                     EER_EPD2DXL0_PF4_Y35NY_DPG  \n",
       "series-description  New York Harbor Ultra-Low Sulfur No 2 Diesel S...  "
      ]
     },
     "execution_count": 22,
     "metadata": {},
     "output_type": "execute_result"
    }
   ],
   "source": [
    "oil_data.sample(2).T"
   ]
  },
  {
   "cell_type": "markdown",
   "metadata": {},
   "source": [
    "> So most of the data here are categorical."
   ]
  },
  {
   "cell_type": "code",
   "execution_count": 23,
   "metadata": {},
   "outputs": [
    {
     "data": {
      "text/plain": [
       "period                990\n",
       "duoarea                 6\n",
       "area-name               3\n",
       "product                 9\n",
       "product-name            9\n",
       "process                 1\n",
       "process-name            1\n",
       "series                 11\n",
       "series-description     11\n",
       "dtype: int64"
      ]
     },
     "execution_count": 23,
     "metadata": {},
     "output_type": "execute_result"
    }
   ],
   "source": [
    "oil_data.nunique()"
   ]
  },
  {
   "cell_type": "markdown",
   "metadata": {},
   "source": [
    "> The date column is named period instead of date. Each of the process and the process-name have only one unique value that is, they don't bring a value to the dataset."
   ]
  },
  {
   "cell_type": "markdown",
   "metadata": {},
   "source": [
    "##### *Inspecting the dataframe visually*\n",
    "The inspecting visually is using the summary statistics table."
   ]
  },
  {
   "cell_type": "code",
   "execution_count": 24,
   "metadata": {},
   "outputs": [
    {
     "data": {
      "text/html": [
       "<div>\n",
       "<style scoped>\n",
       "    .dataframe tbody tr th:only-of-type {\n",
       "        vertical-align: middle;\n",
       "    }\n",
       "\n",
       "    .dataframe tbody tr th {\n",
       "        vertical-align: top;\n",
       "    }\n",
       "\n",
       "    .dataframe thead th {\n",
       "        text-align: right;\n",
       "    }\n",
       "</style>\n",
       "<table border=\"1\" class=\"dataframe\">\n",
       "  <thead>\n",
       "    <tr style=\"text-align: right;\">\n",
       "      <th></th>\n",
       "      <th>count</th>\n",
       "      <th>unique</th>\n",
       "      <th>top</th>\n",
       "      <th>freq</th>\n",
       "    </tr>\n",
       "  </thead>\n",
       "  <tbody>\n",
       "    <tr>\n",
       "      <th>period</th>\n",
       "      <td>5000</td>\n",
       "      <td>990</td>\n",
       "      <td>2008-07-25</td>\n",
       "      <td>10</td>\n",
       "    </tr>\n",
       "    <tr>\n",
       "      <th>duoarea</th>\n",
       "      <td>5000</td>\n",
       "      <td>6</td>\n",
       "      <td>RGC</td>\n",
       "      <td>1434</td>\n",
       "    </tr>\n",
       "    <tr>\n",
       "      <th>area-name</th>\n",
       "      <td>5000</td>\n",
       "      <td>3</td>\n",
       "      <td>NA</td>\n",
       "      <td>2743</td>\n",
       "    </tr>\n",
       "    <tr>\n",
       "      <th>product</th>\n",
       "      <td>5000</td>\n",
       "      <td>9</td>\n",
       "      <td>EPMRU</td>\n",
       "      <td>950</td>\n",
       "    </tr>\n",
       "    <tr>\n",
       "      <th>product-name</th>\n",
       "      <td>5000</td>\n",
       "      <td>9</td>\n",
       "      <td>Conventional Regular Gasoline</td>\n",
       "      <td>950</td>\n",
       "    </tr>\n",
       "    <tr>\n",
       "      <th>process</th>\n",
       "      <td>5000</td>\n",
       "      <td>1</td>\n",
       "      <td>PF4</td>\n",
       "      <td>5000</td>\n",
       "    </tr>\n",
       "    <tr>\n",
       "      <th>process-name</th>\n",
       "      <td>5000</td>\n",
       "      <td>1</td>\n",
       "      <td>Spot Price FOB</td>\n",
       "      <td>5000</td>\n",
       "    </tr>\n",
       "    <tr>\n",
       "      <th>series</th>\n",
       "      <td>5000</td>\n",
       "      <td>11</td>\n",
       "      <td>EER_EPLLPA_PF4_Y44MB_DPG</td>\n",
       "      <td>520</td>\n",
       "    </tr>\n",
       "    <tr>\n",
       "      <th>series-description</th>\n",
       "      <td>5000</td>\n",
       "      <td>11</td>\n",
       "      <td>Mont Belvieu, TX Propane Spot Price FOB (Dolla...</td>\n",
       "      <td>520</td>\n",
       "    </tr>\n",
       "  </tbody>\n",
       "</table>\n",
       "</div>"
      ],
      "text/plain": [
       "                   count unique  \\\n",
       "period              5000    990   \n",
       "duoarea             5000      6   \n",
       "area-name           5000      3   \n",
       "product             5000      9   \n",
       "product-name        5000      9   \n",
       "process             5000      1   \n",
       "process-name        5000      1   \n",
       "series              5000     11   \n",
       "series-description  5000     11   \n",
       "\n",
       "                                                                  top  freq  \n",
       "period                                                     2008-07-25    10  \n",
       "duoarea                                                           RGC  1434  \n",
       "area-name                                                          NA  2743  \n",
       "product                                                         EPMRU   950  \n",
       "product-name                            Conventional Regular Gasoline   950  \n",
       "process                                                           PF4  5000  \n",
       "process-name                                           Spot Price FOB  5000  \n",
       "series                                       EER_EPLLPA_PF4_Y44MB_DPG   520  \n",
       "series-description  Mont Belvieu, TX Propane Spot Price FOB (Dolla...   520  "
      ]
     },
     "execution_count": 24,
     "metadata": {},
     "output_type": "execute_result"
    }
   ],
   "source": [
    "oil_data.describe().T"
   ]
  },
  {
   "cell_type": "markdown",
   "metadata": {},
   "source": [
    "> Note that we have only one unique value for both of the process name and the process columns, they don't bring a value to the dataset."
   ]
  },
  {
   "cell_type": "markdown",
   "metadata": {
    "id": "lXhGiYyiwwKN"
   },
   "source": [
    "### **Columns Names: (Tidiness Issue #1):**"
   ]
  },
  {
   "cell_type": "markdown",
   "metadata": {},
   "source": [
    "#### **Stocks Dataset**"
   ]
  },
  {
   "cell_type": "markdown",
   "metadata": {},
   "source": [
    "##### *Inspecting the dataframe programmatically*\n",
    "The method used to inspect the dataframe programmatically, is calling the `.columns` attribute to look into the names of the columns."
   ]
  },
  {
   "cell_type": "code",
   "execution_count": 25,
   "metadata": {},
   "outputs": [
    {
     "data": {
      "text/plain": [
       "MultiIndex([(     'Date',      ''),\n",
       "            ('Adj Close',  'AAPL'),\n",
       "            ('Adj Close',  'AMZN'),\n",
       "            ('Adj Close', 'GOOGL'),\n",
       "            ('Adj Close',  'META'),\n",
       "            ('Adj Close',  'MSFT'),\n",
       "            (    'Close',  'AAPL'),\n",
       "            (    'Close',  'AMZN'),\n",
       "            (    'Close', 'GOOGL'),\n",
       "            (    'Close',  'META'),\n",
       "            (    'Close',  'MSFT'),\n",
       "            (     'High',  'AAPL'),\n",
       "            (     'High',  'AMZN'),\n",
       "            (     'High', 'GOOGL'),\n",
       "            (     'High',  'META'),\n",
       "            (     'High',  'MSFT'),\n",
       "            (      'Low',  'AAPL'),\n",
       "            (      'Low',  'AMZN'),\n",
       "            (      'Low', 'GOOGL'),\n",
       "            (      'Low',  'META'),\n",
       "            (      'Low',  'MSFT'),\n",
       "            (     'Open',  'AAPL'),\n",
       "            (     'Open',  'AMZN'),\n",
       "            (     'Open', 'GOOGL'),\n",
       "            (     'Open',  'META'),\n",
       "            (     'Open',  'MSFT'),\n",
       "            (   'Volume',  'AAPL'),\n",
       "            (   'Volume',  'AMZN'),\n",
       "            (   'Volume', 'GOOGL'),\n",
       "            (   'Volume',  'META'),\n",
       "            (   'Volume',  'MSFT')],\n",
       "           names=['Price', 'Ticker'])"
      ]
     },
     "execution_count": 25,
     "metadata": {},
     "output_type": "execute_result"
    }
   ],
   "source": [
    "stocks_data.columns"
   ]
  },
  {
   "cell_type": "markdown",
   "metadata": {},
   "source": [
    "> The columns names have to converted to the appropriate and by the convintion naming of columns."
   ]
  },
  {
   "cell_type": "markdown",
   "metadata": {},
   "source": [
    "#### **Oil Dataset**"
   ]
  },
  {
   "cell_type": "markdown",
   "metadata": {},
   "source": [
    "##### *Inspecting the dataframe programmatically*\n",
    "The method used to inspect the dataframe programmatically, is calling the `.columns` attribute to look into the names of the columns."
   ]
  },
  {
   "cell_type": "code",
   "execution_count": 26,
   "metadata": {},
   "outputs": [
    {
     "data": {
      "text/plain": [
       "Index(['period', 'duoarea', 'area-name', 'product', 'product-name', 'process',\n",
       "       'process-name', 'series', 'series-description'],\n",
       "      dtype='object')"
      ]
     },
     "execution_count": 26,
     "metadata": {},
     "output_type": "execute_result"
    }
   ],
   "source": [
    "oil_data.columns"
   ]
  },
  {
   "cell_type": "markdown",
   "metadata": {},
   "source": [
    "> The names of these columns would be better mapped for the merging, the column of date is named period. other coulmns could use a more meaningful name and using the convention of columns naming."
   ]
  },
  {
   "cell_type": "markdown",
   "metadata": {
    "id": "4ffMoRGSwzYj"
   },
   "source": [
    "### **Indexing (Tidiness Issue #2):**"
   ]
  },
  {
   "cell_type": "markdown",
   "metadata": {},
   "source": [
    "#### **Stocks Dataset**"
   ]
  },
  {
   "cell_type": "markdown",
   "metadata": {},
   "source": [
    "##### *Inspecting the dataframe programmatically*\n",
    "To inspect the dataframe programmatically in terms of indexing two atttributes are called `.index` and `.columns` it is because they can show the columns and the indecies used in the dataframe."
   ]
  },
  {
   "cell_type": "code",
   "execution_count": 27,
   "metadata": {},
   "outputs": [
    {
     "name": "stdout",
     "output_type": "stream",
     "text": [
      "RangeIndex(start=0, stop=4781, step=1)\n"
     ]
    },
    {
     "data": {
      "text/plain": [
       "MultiIndex([(     'Date',      ''),\n",
       "            ('Adj Close',  'AAPL'),\n",
       "            ('Adj Close',  'AMZN'),\n",
       "            ('Adj Close', 'GOOGL'),\n",
       "            ('Adj Close',  'META'),\n",
       "            ('Adj Close',  'MSFT'),\n",
       "            (    'Close',  'AAPL'),\n",
       "            (    'Close',  'AMZN'),\n",
       "            (    'Close', 'GOOGL'),\n",
       "            (    'Close',  'META'),\n",
       "            (    'Close',  'MSFT'),\n",
       "            (     'High',  'AAPL'),\n",
       "            (     'High',  'AMZN'),\n",
       "            (     'High', 'GOOGL'),\n",
       "            (     'High',  'META'),\n",
       "            (     'High',  'MSFT'),\n",
       "            (      'Low',  'AAPL'),\n",
       "            (      'Low',  'AMZN'),\n",
       "            (      'Low', 'GOOGL'),\n",
       "            (      'Low',  'META'),\n",
       "            (      'Low',  'MSFT'),\n",
       "            (     'Open',  'AAPL'),\n",
       "            (     'Open',  'AMZN'),\n",
       "            (     'Open', 'GOOGL'),\n",
       "            (     'Open',  'META'),\n",
       "            (     'Open',  'MSFT'),\n",
       "            (   'Volume',  'AAPL'),\n",
       "            (   'Volume',  'AMZN'),\n",
       "            (   'Volume', 'GOOGL'),\n",
       "            (   'Volume',  'META'),\n",
       "            (   'Volume',  'MSFT')],\n",
       "           names=['Price', 'Ticker'])"
      ]
     },
     "execution_count": 27,
     "metadata": {},
     "output_type": "execute_result"
    }
   ],
   "source": [
    "print(stocks_data.index)\n",
    "stocks_data.columns"
   ]
  },
  {
   "cell_type": "markdown",
   "metadata": {},
   "source": [
    "> This dataset is multi-indexed. It would be difficult to deal with. Since we have to have one observation per row, let's better take the decision to handle this case into one observation per row."
   ]
  },
  {
   "cell_type": "markdown",
   "metadata": {},
   "source": [
    "#### **Oil Dataset**"
   ]
  },
  {
   "cell_type": "markdown",
   "metadata": {},
   "source": [
    "##### *Inspecting the dataframe programmatically*\n",
    "To inspect the dataframe programmatically in terms of indexing two atttributes are called `.index` and `.columns` it is because they can show the columns and the indecies used in the dataframe."
   ]
  },
  {
   "cell_type": "code",
   "execution_count": 28,
   "metadata": {},
   "outputs": [
    {
     "name": "stdout",
     "output_type": "stream",
     "text": [
      "RangeIndex(start=0, stop=5000, step=1)\n"
     ]
    },
    {
     "data": {
      "text/plain": [
       "Index(['period', 'duoarea', 'area-name', 'product', 'product-name', 'process',\n",
       "       'process-name', 'series', 'series-description'],\n",
       "      dtype='object')"
      ]
     },
     "execution_count": 28,
     "metadata": {},
     "output_type": "execute_result"
    }
   ],
   "source": [
    "print(oil_data.index)\n",
    "oil_data.columns"
   ]
  },
  {
   "cell_type": "markdown",
   "metadata": {},
   "source": [
    "> The index of the second dataset is a range index starting from 0 to 5000."
   ]
  },
  {
   "cell_type": "markdown",
   "metadata": {
    "id": "D6gmLnBttpCh"
   },
   "source": [
    "## 5. Clean data\n",
    "It's time to address the issues found during assessment to clean and polish your data.\n",
    "\n",
    "Clean the data to solve the 4 issues corresponding to data quality and tidiness found in the assessing step. **Make sure you include justifications for your cleaning decisions.**\n",
    "\n",
    "After the cleaning for each issue, please use **either** the visually or programatical method to validate the cleaning was succesful.\n",
    "\n",
    "At this stage, you are also expected to remove variables that are unnecessary for your analysis and combine your datasets. Depending on your datasets, you may choose to perform variable combination and elimination before or after the cleaning stage. Your dataset must have **at least** 4 variables after combining the data."
   ]
  },
  {
   "cell_type": "code",
   "execution_count": 148,
   "metadata": {},
   "outputs": [],
   "source": [
    "## Making copies of the datasets to ensure the raw dataframes are not impacted\n",
    "oil_data_cleaned = oil_data.copy()\n",
    "stocks_data_cleaned =stocks_data.copy()"
   ]
  },
  {
   "cell_type": "markdown",
   "metadata": {
    "id": "FmFhN52Yyn3l"
   },
   "source": [
    "### **Completeness (Quality Issue #1):**\n",
    "\n",
    "There was missing values in both of the datasets."
   ]
  },
  {
   "cell_type": "markdown",
   "metadata": {},
   "source": [
    "#### **Stocks Dataset**\n",
    "For the stocks datsaets, the method chosen for handling missing values is to use the fillin method using the backward startegy since as shown in the heatmap for misisng values it(missing values) starts from the first index. "
   ]
  },
  {
   "cell_type": "markdown",
   "metadata": {},
   "source": [
    "> Justification: *For the META facebook before, there seems to be missing values for some reason, however it was checked if the stock nasdaq name used to be FB so did that affect the way the data was gathered and it turned out to not. FB was created in 2005 and it's supposed to have these stocks too,*"
   ]
  },
  {
   "cell_type": "code",
   "execution_count": 149,
   "metadata": {
    "id": "9UejDWrNMW4a"
   },
   "outputs": [
    {
     "name": "stderr",
     "output_type": "stream",
     "text": [
      "C:\\Users\\SS\\AppData\\Local\\Temp\\ipykernel_23100\\3280220914.py:2: FutureWarning: DataFrame.fillna with 'method' is deprecated and will raise in a future version. Use obj.ffill() or obj.bfill() instead.\n",
      "  stocks_data_cleaned.fillna(method='bfill', inplace=True) ## fillna with backward fill for META FB\n"
     ]
    },
    {
     "data": {
      "text/html": [
       "<div>\n",
       "<style scoped>\n",
       "    .dataframe tbody tr th:only-of-type {\n",
       "        vertical-align: middle;\n",
       "    }\n",
       "\n",
       "    .dataframe tbody tr th {\n",
       "        vertical-align: top;\n",
       "    }\n",
       "\n",
       "    .dataframe thead tr th {\n",
       "        text-align: left;\n",
       "    }\n",
       "</style>\n",
       "<table border=\"1\" class=\"dataframe\">\n",
       "  <thead>\n",
       "    <tr>\n",
       "      <th>Price</th>\n",
       "      <th>Date</th>\n",
       "      <th colspan=\"5\" halign=\"left\">Adj Close</th>\n",
       "      <th colspan=\"4\" halign=\"left\">Close</th>\n",
       "      <th>...</th>\n",
       "      <th colspan=\"5\" halign=\"left\">Open</th>\n",
       "      <th colspan=\"5\" halign=\"left\">Volume</th>\n",
       "    </tr>\n",
       "    <tr>\n",
       "      <th>Ticker</th>\n",
       "      <th></th>\n",
       "      <th>AAPL</th>\n",
       "      <th>AMZN</th>\n",
       "      <th>GOOGL</th>\n",
       "      <th>META</th>\n",
       "      <th>MSFT</th>\n",
       "      <th>AAPL</th>\n",
       "      <th>AMZN</th>\n",
       "      <th>GOOGL</th>\n",
       "      <th>META</th>\n",
       "      <th>...</th>\n",
       "      <th>AAPL</th>\n",
       "      <th>AMZN</th>\n",
       "      <th>GOOGL</th>\n",
       "      <th>META</th>\n",
       "      <th>MSFT</th>\n",
       "      <th>AAPL</th>\n",
       "      <th>AMZN</th>\n",
       "      <th>GOOGL</th>\n",
       "      <th>META</th>\n",
       "      <th>MSFT</th>\n",
       "    </tr>\n",
       "  </thead>\n",
       "  <tbody>\n",
       "    <tr>\n",
       "      <th>2612</th>\n",
       "      <td>2015-05-20</td>\n",
       "      <td>29.265358</td>\n",
       "      <td>21.193001</td>\n",
       "      <td>27.593830</td>\n",
       "      <td>80.384819</td>\n",
       "      <td>41.572483</td>\n",
       "      <td>32.514999</td>\n",
       "      <td>21.193001</td>\n",
       "      <td>27.625500</td>\n",
       "      <td>80.550003</td>\n",
       "      <td>...</td>\n",
       "      <td>32.500000</td>\n",
       "      <td>21.030001</td>\n",
       "      <td>27.546000</td>\n",
       "      <td>80.470001</td>\n",
       "      <td>47.389999</td>\n",
       "      <td>145819600</td>\n",
       "      <td>43924000</td>\n",
       "      <td>30840000</td>\n",
       "      <td>23056900.0</td>\n",
       "      <td>25047900</td>\n",
       "    </tr>\n",
       "    <tr>\n",
       "      <th>515</th>\n",
       "      <td>2007-01-22</td>\n",
       "      <td>2.620602</td>\n",
       "      <td>1.847500</td>\n",
       "      <td>12.019239</td>\n",
       "      <td>38.151604</td>\n",
       "      <td>21.974056</td>\n",
       "      <td>3.099643</td>\n",
       "      <td>1.847500</td>\n",
       "      <td>12.033033</td>\n",
       "      <td>38.230000</td>\n",
       "      <td>...</td>\n",
       "      <td>3.183571</td>\n",
       "      <td>1.882500</td>\n",
       "      <td>12.324825</td>\n",
       "      <td>42.049999</td>\n",
       "      <td>31.059999</td>\n",
       "      <td>1454026000</td>\n",
       "      <td>166340000</td>\n",
       "      <td>215955828</td>\n",
       "      <td>573576400.0</td>\n",
       "      <td>56143900</td>\n",
       "    </tr>\n",
       "    <tr>\n",
       "      <th>4444</th>\n",
       "      <td>2022-08-29</td>\n",
       "      <td>159.796280</td>\n",
       "      <td>129.789993</td>\n",
       "      <td>109.294563</td>\n",
       "      <td>158.843582</td>\n",
       "      <td>261.205048</td>\n",
       "      <td>161.380005</td>\n",
       "      <td>129.789993</td>\n",
       "      <td>109.419998</td>\n",
       "      <td>159.169998</td>\n",
       "      <td>...</td>\n",
       "      <td>161.149994</td>\n",
       "      <td>129.899994</td>\n",
       "      <td>109.989998</td>\n",
       "      <td>160.660004</td>\n",
       "      <td>265.850006</td>\n",
       "      <td>73314000</td>\n",
       "      <td>48101600</td>\n",
       "      <td>21191200</td>\n",
       "      <td>20052700.0</td>\n",
       "      <td>20338500</td>\n",
       "    </tr>\n",
       "    <tr>\n",
       "      <th>1319</th>\n",
       "      <td>2010-03-31</td>\n",
       "      <td>7.095765</td>\n",
       "      <td>6.788500</td>\n",
       "      <td>14.175922</td>\n",
       "      <td>38.151604</td>\n",
       "      <td>22.238424</td>\n",
       "      <td>8.392857</td>\n",
       "      <td>6.788500</td>\n",
       "      <td>14.192192</td>\n",
       "      <td>38.230000</td>\n",
       "      <td>...</td>\n",
       "      <td>8.410357</td>\n",
       "      <td>6.800000</td>\n",
       "      <td>14.140390</td>\n",
       "      <td>42.049999</td>\n",
       "      <td>29.639999</td>\n",
       "      <td>430659600</td>\n",
       "      <td>92012000</td>\n",
       "      <td>121110768</td>\n",
       "      <td>573576400.0</td>\n",
       "      <td>63760000</td>\n",
       "    </tr>\n",
       "    <tr>\n",
       "      <th>713</th>\n",
       "      <td>2007-11-01</td>\n",
       "      <td>5.659702</td>\n",
       "      <td>4.382500</td>\n",
       "      <td>17.577675</td>\n",
       "      <td>38.151604</td>\n",
       "      <td>26.780701</td>\n",
       "      <td>6.694286</td>\n",
       "      <td>4.382500</td>\n",
       "      <td>17.597849</td>\n",
       "      <td>38.230000</td>\n",
       "      <td>...</td>\n",
       "      <td>6.735714</td>\n",
       "      <td>4.387500</td>\n",
       "      <td>17.587337</td>\n",
       "      <td>42.049999</td>\n",
       "      <td>36.529999</td>\n",
       "      <td>805036400</td>\n",
       "      <td>165314000</td>\n",
       "      <td>260826912</td>\n",
       "      <td>573576400.0</td>\n",
       "      <td>152078800</td>\n",
       "    </tr>\n",
       "  </tbody>\n",
       "</table>\n",
       "<p>5 rows × 31 columns</p>\n",
       "</div>"
      ],
      "text/plain": [
       "Price        Date   Adj Close                                                  \\\n",
       "Ticker                   AAPL        AMZN       GOOGL        META        MSFT   \n",
       "2612   2015-05-20   29.265358   21.193001   27.593830   80.384819   41.572483   \n",
       "515    2007-01-22    2.620602    1.847500   12.019239   38.151604   21.974056   \n",
       "4444   2022-08-29  159.796280  129.789993  109.294563  158.843582  261.205048   \n",
       "1319   2010-03-31    7.095765    6.788500   14.175922   38.151604   22.238424   \n",
       "713    2007-11-01    5.659702    4.382500   17.577675   38.151604   26.780701   \n",
       "\n",
       "Price        Close                                      ...        Open  \\\n",
       "Ticker        AAPL        AMZN       GOOGL        META  ...        AAPL   \n",
       "2612     32.514999   21.193001   27.625500   80.550003  ...   32.500000   \n",
       "515       3.099643    1.847500   12.033033   38.230000  ...    3.183571   \n",
       "4444    161.380005  129.789993  109.419998  159.169998  ...  161.149994   \n",
       "1319      8.392857    6.788500   14.192192   38.230000  ...    8.410357   \n",
       "713       6.694286    4.382500   17.597849   38.230000  ...    6.735714   \n",
       "\n",
       "Price                                                       Volume             \\\n",
       "Ticker        AMZN       GOOGL        META        MSFT        AAPL       AMZN   \n",
       "2612     21.030001   27.546000   80.470001   47.389999   145819600   43924000   \n",
       "515       1.882500   12.324825   42.049999   31.059999  1454026000  166340000   \n",
       "4444    129.899994  109.989998  160.660004  265.850006    73314000   48101600   \n",
       "1319      6.800000   14.140390   42.049999   29.639999   430659600   92012000   \n",
       "713       4.387500   17.587337   42.049999   36.529999   805036400  165314000   \n",
       "\n",
       "Price                                      \n",
       "Ticker      GOOGL         META       MSFT  \n",
       "2612     30840000   23056900.0   25047900  \n",
       "515     215955828  573576400.0   56143900  \n",
       "4444     21191200   20052700.0   20338500  \n",
       "1319    121110768  573576400.0   63760000  \n",
       "713     260826912  573576400.0  152078800  \n",
       "\n",
       "[5 rows x 31 columns]"
      ]
     },
     "execution_count": 149,
     "metadata": {},
     "output_type": "execute_result"
    }
   ],
   "source": [
    "## apply the fill in backward way for META\n",
    "stocks_data_cleaned.fillna(method='bfill', inplace=True) ## fillna with backward fill for META FB\n",
    "stocks_data_cleaned.sample(5)"
   ]
  },
  {
   "cell_type": "code",
   "execution_count": 150,
   "metadata": {
    "id": "oUBee-LPytkv"
   },
   "outputs": [
    {
     "data": {
      "text/plain": [
       "Price      Ticker\n",
       "Date                 0\n",
       "Adj Close  AAPL      0\n",
       "           AMZN      0\n",
       "           GOOGL     0\n",
       "           META      0\n",
       "           MSFT      0\n",
       "Close      AAPL      0\n",
       "           AMZN      0\n",
       "           GOOGL     0\n",
       "           META      0\n",
       "           MSFT      0\n",
       "High       AAPL      0\n",
       "           AMZN      0\n",
       "           GOOGL     0\n",
       "           META      0\n",
       "           MSFT      0\n",
       "Low        AAPL      0\n",
       "           AMZN      0\n",
       "           GOOGL     0\n",
       "           META      0\n",
       "           MSFT      0\n",
       "Open       AAPL      0\n",
       "           AMZN      0\n",
       "           GOOGL     0\n",
       "           META      0\n",
       "           MSFT      0\n",
       "Volume     AAPL      0\n",
       "           AMZN      0\n",
       "           GOOGL     0\n",
       "           META      0\n",
       "           MSFT      0\n",
       "dtype: int64"
      ]
     },
     "execution_count": 150,
     "metadata": {},
     "output_type": "execute_result"
    }
   ],
   "source": [
    "## Let's validate the cleaning was successful\n",
    "stocks_data_cleaned.isin(nan).sum()"
   ]
  },
  {
   "cell_type": "markdown",
   "metadata": {},
   "source": [
    "> Now the dataset contains zero missing values and the completness issue for the first dataset is handled."
   ]
  },
  {
   "cell_type": "markdown",
   "metadata": {},
   "source": [
    "#### **Oil Dataset**\n",
    "For the oil dataset the areas names were missing and this would be handling by the follwing mapping:"
   ]
  },
  {
   "cell_type": "code",
   "execution_count": 151,
   "metadata": {},
   "outputs": [
    {
     "name": "stdout",
     "output_type": "stream",
     "text": [
      "['RGC', 'Y35NY', 'Y44MB', 'Y05LA', 'ZEU', 'YCUOK']\n"
     ]
    },
    {
     "data": {
      "text/plain": [
       "['NA', 'NEW YORK CITY', 'LOS ANGELES']"
      ]
     },
     "execution_count": 151,
     "metadata": {},
     "output_type": "execute_result"
    }
   ],
   "source": [
    "print(list(oil_data_cleaned['duoarea'].unique()))\n",
    "list(oil_data_cleaned['area-name'].unique())"
   ]
  },
  {
   "cell_type": "markdown",
   "metadata": {},
   "source": [
    "> So we have 5 unique duoarea without NA and three unique names. The decision is to map them and fill the missing one using the mapping."
   ]
  },
  {
   "cell_type": "code",
   "execution_count": 152,
   "metadata": {},
   "outputs": [
    {
     "data": {
      "text/plain": [
       "{'RGC': 'NA',\n",
       " 'Y35NY': 'NEW YORK CITY',\n",
       " 'Y44MB': 'NA',\n",
       " 'Y05LA': 'LOS ANGELES',\n",
       " 'ZEU': 'NA',\n",
       " 'YCUOK': 'NA'}"
      ]
     },
     "execution_count": 152,
     "metadata": {},
     "output_type": "execute_result"
    }
   ],
   "source": [
    "duoarea_to_area_name = oil_data_cleaned.dropna(subset=['area-name']).drop_duplicates(subset=['duoarea'])[['duoarea', 'area-name']].set_index('duoarea')['area-name'].to_dict()\n",
    "duoarea_to_area_name"
   ]
  },
  {
   "cell_type": "code",
   "execution_count": 153,
   "metadata": {},
   "outputs": [],
   "source": [
    "duoarea_name_mapping = {'Y35NY': 'NEW YORK CITY',\n",
    " 'RGC': 'UKRAINE',\n",
    " 'ZEU': 'CANADA',\n",
    " 'Y05LA': 'LOS ANGELES',\n",
    " 'Y44MB': 'MONT BELVIEU',\n",
    " 'YCUOK': 'Oklahoma'}"
   ]
  },
  {
   "cell_type": "markdown",
   "metadata": {},
   "source": [
    "> The NA ones are replaced with the actual area names from the internet source."
   ]
  },
  {
   "cell_type": "markdown",
   "metadata": {},
   "source": [
    "> Justification: *because for the duoarea there is no missing values and that is used and utilized to fill in the area names.*"
   ]
  },
  {
   "cell_type": "code",
   "execution_count": 154,
   "metadata": {},
   "outputs": [],
   "source": [
    "def fill_area_name(row):\n",
    "    \"\"\"\n",
    "    This function takes a row and fills the area name\n",
    "    Args:\n",
    "        - row: the row\n",
    "    Returns:\n",
    "        - string the area name\n",
    "    \"\"\"\n",
    "    return duoarea_name_mapping.get(row['duoarea'], 'Unknown')"
   ]
  },
  {
   "cell_type": "code",
   "execution_count": 155,
   "metadata": {},
   "outputs": [],
   "source": [
    "## Let's apply the mapping into the area-name column\n",
    "oil_data_cleaned['area-name'] = oil_data_cleaned.apply(fill_area_name, axis=1)"
   ]
  },
  {
   "cell_type": "code",
   "execution_count": 156,
   "metadata": {},
   "outputs": [
    {
     "data": {
      "text/plain": [
       "period                0\n",
       "duoarea               0\n",
       "area-name             0\n",
       "product               0\n",
       "product-name          0\n",
       "process               0\n",
       "process-name          0\n",
       "series                0\n",
       "series-description    0\n",
       "dtype: int64"
      ]
     },
     "execution_count": 156,
     "metadata": {},
     "output_type": "execute_result"
    }
   ],
   "source": [
    "## Let's validate the cleaning was successful\n",
    "oil_data_cleaned.isin(nan).sum()"
   ]
  },
  {
   "cell_type": "markdown",
   "metadata": {},
   "source": [
    "> Now the dataset contains zero missing values and the completness issue for the first dataset is handled."
   ]
  },
  {
   "cell_type": "markdown",
   "metadata": {},
   "source": [
    "### **Validity (Quality Issue #2):**"
   ]
  },
  {
   "cell_type": "markdown",
   "metadata": {},
   "source": [
    "#### **Stocks Dataset**\n",
    "In the stocks dataset the datatypes were accurate, only the datetime only contains teh date so it is storing unnecceray data of 00:00:00 time."
   ]
  },
  {
   "cell_type": "markdown",
   "metadata": {},
   "source": [
    "> All the datatypes are valid for the stocks datasets."
   ]
  },
  {
   "cell_type": "markdown",
   "metadata": {},
   "source": [
    "> *The decsision will be to extract teh months, years and days after the merge. To make more sense when visualization and answering the reswarch question.*"
   ]
  },
  {
   "cell_type": "markdown",
   "metadata": {},
   "source": [
    "#### **Oils Dataset**\n",
    "In the oil datsaet there were all of the datatypes are objects."
   ]
  },
  {
   "cell_type": "code",
   "execution_count": 157,
   "metadata": {},
   "outputs": [],
   "source": [
    "## Apply the cleaning strategy which is use teh to_datetime\n",
    "oil_data_cleaned['period'] = pd.to_datetime(oil_data_cleaned['period'])"
   ]
  },
  {
   "cell_type": "code",
   "execution_count": 158,
   "metadata": {},
   "outputs": [
    {
     "name": "stdout",
     "output_type": "stream",
     "text": [
      "<class 'pandas.core.frame.DataFrame'>\n",
      "RangeIndex: 5000 entries, 0 to 4999\n",
      "Data columns (total 9 columns):\n",
      " #   Column              Non-Null Count  Dtype         \n",
      "---  ------              --------------  -----         \n",
      " 0   period              5000 non-null   datetime64[ns]\n",
      " 1   duoarea             5000 non-null   object        \n",
      " 2   area-name           5000 non-null   object        \n",
      " 3   product             5000 non-null   object        \n",
      " 4   product-name        5000 non-null   object        \n",
      " 5   process             5000 non-null   object        \n",
      " 6   process-name        5000 non-null   object        \n",
      " 7   series              5000 non-null   object        \n",
      " 8   series-description  5000 non-null   object        \n",
      "dtypes: datetime64[ns](1), object(8)\n",
      "memory usage: 351.7+ KB\n"
     ]
    }
   ],
   "source": [
    "## to Validate the cleaning was successful used info\n",
    "oil_data_cleaned.info()"
   ]
  },
  {
   "cell_type": "markdown",
   "metadata": {},
   "source": [
    "> We can see the period successfully changed into the datetime datatype."
   ]
  },
  {
   "cell_type": "markdown",
   "metadata": {},
   "source": [
    "### **Columns Names: (Tidiness Issue #1):**\n",
    "This issue includes the columns names and renaming to the convention."
   ]
  },
  {
   "cell_type": "markdown",
   "metadata": {},
   "source": [
    "#### **Stocks Dataset**\n",
    "The cleaning here is done by applying the new mapping following the convention to the dataset."
   ]
  },
  {
   "cell_type": "code",
   "execution_count": 159,
   "metadata": {},
   "outputs": [
    {
     "data": {
      "text/plain": [
       "{('Date', ''): 'date',\n",
       " ('Adj Close', 'AAPL'): 'adj_close_aapl',\n",
       " ('Adj Close', 'AMZN'): 'adj_close_amzn',\n",
       " ('Adj Close', 'GOOGL'): 'adj_close_googl',\n",
       " ('Adj Close', 'META'): 'adj_close_meta',\n",
       " ('Adj Close', 'MSFT'): 'adj_close_msft',\n",
       " ('Close', 'AAPL'): 'close_aapl',\n",
       " ('Close', 'AMZN'): 'close_amzn',\n",
       " ('Close', 'GOOGL'): 'close_googl',\n",
       " ('Close', 'META'): 'close_meta',\n",
       " ('Close', 'MSFT'): 'close_msft',\n",
       " ('High', 'AAPL'): 'high_aapl',\n",
       " ('High', 'AMZN'): 'high_amzn',\n",
       " ('High', 'GOOGL'): 'high_googl',\n",
       " ('High', 'META'): 'high_meta',\n",
       " ('High', 'MSFT'): 'high_msft',\n",
       " ('Low', 'AAPL'): 'low_aapl',\n",
       " ('Low', 'AMZN'): 'low_amzn',\n",
       " ('Low', 'GOOGL'): 'low_googl',\n",
       " ('Low', 'META'): 'low_meta',\n",
       " ('Low', 'MSFT'): 'low_msft',\n",
       " ('Open', 'AAPL'): 'open_aapl',\n",
       " ('Open', 'AMZN'): 'open_amzn',\n",
       " ('Open', 'GOOGL'): 'open_googl',\n",
       " ('Open', 'META'): 'open_meta',\n",
       " ('Open', 'MSFT'): 'open_msft',\n",
       " ('Volume', 'AAPL'): 'volume_aapl',\n",
       " ('Volume', 'AMZN'): 'volume_amzn',\n",
       " ('Volume', 'GOOGL'): 'volume_googl',\n",
       " ('Volume', 'META'): 'volume_meta',\n",
       " ('Volume', 'MSFT'): 'volume_msft'}"
      ]
     },
     "execution_count": 159,
     "metadata": {},
     "output_type": "execute_result"
    }
   ],
   "source": [
    "new_stocks_names = {\n",
    "    col: ('_'.join([col[0].lower(), col[1].lower()])).replace(' ', '_') if col[0] != 'Date' else 'date'\n",
    "    for col in stocks_data_cleaned.columns\n",
    "}\n",
    "new_stocks_names"
   ]
  },
  {
   "cell_type": "code",
   "execution_count": 160,
   "metadata": {},
   "outputs": [],
   "source": [
    "stocks_data_cleaned.columns = stocks_data_cleaned.columns.map(new_stocks_names)"
   ]
  },
  {
   "cell_type": "code",
   "execution_count": 161,
   "metadata": {
    "id": "yhrnUGY_Nk8B"
   },
   "outputs": [
    {
     "data": {
      "text/plain": [
       "Index(['date', 'adj_close_aapl', 'adj_close_amzn', 'adj_close_googl',\n",
       "       'adj_close_meta', 'adj_close_msft', 'close_aapl', 'close_amzn',\n",
       "       'close_googl', 'close_meta', 'close_msft', 'high_aapl', 'high_amzn',\n",
       "       'high_googl', 'high_meta', 'high_msft', 'low_aapl', 'low_amzn',\n",
       "       'low_googl', 'low_meta', 'low_msft', 'open_aapl', 'open_amzn',\n",
       "       'open_googl', 'open_meta', 'open_msft', 'volume_aapl', 'volume_amzn',\n",
       "       'volume_googl', 'volume_meta', 'volume_msft'],\n",
       "      dtype='object')"
      ]
     },
     "execution_count": 161,
     "metadata": {},
     "output_type": "execute_result"
    }
   ],
   "source": [
    "## Validate the cleaning was successful by calling the .columns\n",
    "stocks_data_cleaned.columns"
   ]
  },
  {
   "cell_type": "code",
   "execution_count": 162,
   "metadata": {},
   "outputs": [
    {
     "data": {
      "text/html": [
       "<div>\n",
       "<style scoped>\n",
       "    .dataframe tbody tr th:only-of-type {\n",
       "        vertical-align: middle;\n",
       "    }\n",
       "\n",
       "    .dataframe tbody tr th {\n",
       "        vertical-align: top;\n",
       "    }\n",
       "\n",
       "    .dataframe thead th {\n",
       "        text-align: right;\n",
       "    }\n",
       "</style>\n",
       "<table border=\"1\" class=\"dataframe\">\n",
       "  <thead>\n",
       "    <tr style=\"text-align: right;\">\n",
       "      <th></th>\n",
       "      <th>1247</th>\n",
       "    </tr>\n",
       "  </thead>\n",
       "  <tbody>\n",
       "    <tr>\n",
       "      <th>date</th>\n",
       "      <td>2009-12-15 00:00:00</td>\n",
       "    </tr>\n",
       "    <tr>\n",
       "      <th>adj_close_aapl</th>\n",
       "      <td>5.862914</td>\n",
       "    </tr>\n",
       "    <tr>\n",
       "      <th>adj_close_amzn</th>\n",
       "      <td>6.5115</td>\n",
       "    </tr>\n",
       "    <tr>\n",
       "      <th>adj_close_googl</th>\n",
       "      <td>14.826326</td>\n",
       "    </tr>\n",
       "    <tr>\n",
       "      <th>adj_close_meta</th>\n",
       "      <td>38.151604</td>\n",
       "    </tr>\n",
       "    <tr>\n",
       "      <th>adj_close_msft</th>\n",
       "      <td>22.686584</td>\n",
       "    </tr>\n",
       "    <tr>\n",
       "      <th>close_aapl</th>\n",
       "      <td>6.934643</td>\n",
       "    </tr>\n",
       "    <tr>\n",
       "      <th>close_amzn</th>\n",
       "      <td>6.5115</td>\n",
       "    </tr>\n",
       "    <tr>\n",
       "      <th>close_googl</th>\n",
       "      <td>14.843343</td>\n",
       "    </tr>\n",
       "    <tr>\n",
       "      <th>close_meta</th>\n",
       "      <td>38.23</td>\n",
       "    </tr>\n",
       "    <tr>\n",
       "      <th>close_msft</th>\n",
       "      <td>30.02</td>\n",
       "    </tr>\n",
       "    <tr>\n",
       "      <th>high_aapl</th>\n",
       "      <td>7.053929</td>\n",
       "    </tr>\n",
       "    <tr>\n",
       "      <th>high_amzn</th>\n",
       "      <td>6.623</td>\n",
       "    </tr>\n",
       "    <tr>\n",
       "      <th>high_googl</th>\n",
       "      <td>14.924424</td>\n",
       "    </tr>\n",
       "    <tr>\n",
       "      <th>high_meta</th>\n",
       "      <td>45.0</td>\n",
       "    </tr>\n",
       "    <tr>\n",
       "      <th>high_msft</th>\n",
       "      <td>30.209999</td>\n",
       "    </tr>\n",
       "    <tr>\n",
       "      <th>low_aapl</th>\n",
       "      <td>6.9025</td>\n",
       "    </tr>\n",
       "    <tr>\n",
       "      <th>low_amzn</th>\n",
       "      <td>6.4795</td>\n",
       "    </tr>\n",
       "    <tr>\n",
       "      <th>low_googl</th>\n",
       "      <td>14.78954</td>\n",
       "    </tr>\n",
       "    <tr>\n",
       "      <th>low_meta</th>\n",
       "      <td>38.0</td>\n",
       "    </tr>\n",
       "    <tr>\n",
       "      <th>low_msft</th>\n",
       "      <td>29.879999</td>\n",
       "    </tr>\n",
       "    <tr>\n",
       "      <th>open_aapl</th>\n",
       "      <td>6.993929</td>\n",
       "    </tr>\n",
       "    <tr>\n",
       "      <th>open_amzn</th>\n",
       "      <td>6.538</td>\n",
       "    </tr>\n",
       "    <tr>\n",
       "      <th>open_googl</th>\n",
       "      <td>14.847347</td>\n",
       "    </tr>\n",
       "    <tr>\n",
       "      <th>open_meta</th>\n",
       "      <td>42.049999</td>\n",
       "    </tr>\n",
       "    <tr>\n",
       "      <th>open_msft</th>\n",
       "      <td>29.889999</td>\n",
       "    </tr>\n",
       "    <tr>\n",
       "      <th>volume_aapl</th>\n",
       "      <td>419459600</td>\n",
       "    </tr>\n",
       "    <tr>\n",
       "      <th>volume_amzn</th>\n",
       "      <td>148576000</td>\n",
       "    </tr>\n",
       "    <tr>\n",
       "      <th>volume_googl</th>\n",
       "      <td>91124784</td>\n",
       "    </tr>\n",
       "    <tr>\n",
       "      <th>volume_meta</th>\n",
       "      <td>573576400.0</td>\n",
       "    </tr>\n",
       "    <tr>\n",
       "      <th>volume_msft</th>\n",
       "      <td>49473200</td>\n",
       "    </tr>\n",
       "  </tbody>\n",
       "</table>\n",
       "</div>"
      ],
      "text/plain": [
       "                                1247\n",
       "date             2009-12-15 00:00:00\n",
       "adj_close_aapl              5.862914\n",
       "adj_close_amzn                6.5115\n",
       "adj_close_googl            14.826326\n",
       "adj_close_meta             38.151604\n",
       "adj_close_msft             22.686584\n",
       "close_aapl                  6.934643\n",
       "close_amzn                    6.5115\n",
       "close_googl                14.843343\n",
       "close_meta                     38.23\n",
       "close_msft                     30.02\n",
       "high_aapl                   7.053929\n",
       "high_amzn                      6.623\n",
       "high_googl                 14.924424\n",
       "high_meta                       45.0\n",
       "high_msft                  30.209999\n",
       "low_aapl                      6.9025\n",
       "low_amzn                      6.4795\n",
       "low_googl                   14.78954\n",
       "low_meta                        38.0\n",
       "low_msft                   29.879999\n",
       "open_aapl                   6.993929\n",
       "open_amzn                      6.538\n",
       "open_googl                 14.847347\n",
       "open_meta                  42.049999\n",
       "open_msft                  29.889999\n",
       "volume_aapl                419459600\n",
       "volume_amzn                148576000\n",
       "volume_googl                91124784\n",
       "volume_meta              573576400.0\n",
       "volume_msft                 49473200"
      ]
     },
     "execution_count": 162,
     "metadata": {},
     "output_type": "execute_result"
    }
   ],
   "source": [
    "stocks_data_cleaned.sample(1).T"
   ]
  },
  {
   "cell_type": "markdown",
   "metadata": {},
   "source": [
    "> Justification: *It is the best practice to follow the naming conventions of the dataset columns and for ease of use.*\n",
    "We can see that the names are changed by looking at the head and the columns."
   ]
  },
  {
   "cell_type": "markdown",
   "metadata": {},
   "source": [
    "#### **Oil Dataset**\n",
    "The cleaning here is done by applying the new mapping following the convention to the dataset."
   ]
  },
  {
   "cell_type": "code",
   "execution_count": 163,
   "metadata": {},
   "outputs": [
    {
     "data": {
      "text/plain": [
       "{'period': 'date',\n",
       " 'duoarea': 'duoarea',\n",
       " 'area-name': 'area_name',\n",
       " 'product': 'product',\n",
       " 'product-name': 'product_name',\n",
       " 'series': 'series',\n",
       " 'process-name': 'process_name',\n",
       " 'process': 'process',\n",
       " 'series-description': 'series_description'}"
      ]
     },
     "execution_count": 163,
     "metadata": {},
     "output_type": "execute_result"
    }
   ],
   "source": [
    "## axtracting the new names\n",
    "new_oils_names = {\n",
    "    'period': 'date',\n",
    "    'duoarea': 'duoarea',\n",
    "    'area-name': 'area_name',\n",
    "    'product': 'product',\n",
    "    'product-name': 'product_name',\n",
    "    'series': 'series',\n",
    "    'process-name': 'process_name',\n",
    "    'process': 'process',\n",
    "    'series-description': 'series_description'\n",
    "}\n",
    "new_oils_names"
   ]
  },
  {
   "cell_type": "code",
   "execution_count": 164,
   "metadata": {},
   "outputs": [],
   "source": [
    "oil_data_cleaned.columns = oil_data_cleaned.columns.map(new_oils_names)"
   ]
  },
  {
   "cell_type": "code",
   "execution_count": 165,
   "metadata": {},
   "outputs": [
    {
     "data": {
      "text/plain": [
       "Index(['date', 'duoarea', 'area_name', 'product', 'product_name', 'process',\n",
       "       'process_name', 'series', 'series_description'],\n",
       "      dtype='object')"
      ]
     },
     "execution_count": 165,
     "metadata": {},
     "output_type": "execute_result"
    }
   ],
   "source": [
    "## Validating the cleaning step for renaming to conventional names\n",
    "oil_data_cleaned.columns"
   ]
  },
  {
   "cell_type": "markdown",
   "metadata": {},
   "source": [
    "> We can see that the new names are applied."
   ]
  },
  {
   "cell_type": "markdown",
   "metadata": {},
   "source": [
    "### **Indexing (Tidiness Issue #2):**\n",
    "The indexing in the dataframes are checked in the assessing and were decided to be simplified from multi-indexing."
   ]
  },
  {
   "cell_type": "markdown",
   "metadata": {
    "id": "7zW8O5yx4Y9O"
   },
   "source": [
    "> *The renaming of the columns to conventional have actually fixed the problem of multiindexing and simplidied the dataset.*"
   ]
  },
  {
   "cell_type": "code",
   "execution_count": 166,
   "metadata": {},
   "outputs": [
    {
     "data": {
      "text/plain": [
       "RangeIndex(start=0, stop=4781, step=1)"
      ]
     },
     "execution_count": 166,
     "metadata": {},
     "output_type": "execute_result"
    }
   ],
   "source": [
    "stocks_data_cleaned.index"
   ]
  },
  {
   "cell_type": "code",
   "execution_count": 167,
   "metadata": {},
   "outputs": [
    {
     "data": {
      "text/plain": [
       "RangeIndex(start=0, stop=5000, step=1)"
      ]
     },
     "execution_count": 167,
     "metadata": {},
     "output_type": "execute_result"
    }
   ],
   "source": [
    "oil_data_cleaned.index"
   ]
  },
  {
   "cell_type": "markdown",
   "metadata": {},
   "source": [
    "### **Remove unnecessary variables and combine datasets**\n",
    "\n",
    "Now let's peform the combination and remove unnecessary variables in the final dataset."
   ]
  },
  {
   "cell_type": "markdown",
   "metadata": {},
   "source": [
    "#### **Oil Dataset**\n",
    "In the oil satasets the process-name and the process have only one unique value, that is they will be dropped because they don't change by the observations."
   ]
  },
  {
   "cell_type": "code",
   "execution_count": 168,
   "metadata": {},
   "outputs": [],
   "source": [
    "oil_data_cleaned.drop(columns=['process','process_name'],inplace=True)"
   ]
  },
  {
   "cell_type": "code",
   "execution_count": 169,
   "metadata": {},
   "outputs": [
    {
     "data": {
      "text/plain": [
       "Index(['date', 'duoarea', 'area_name', 'product', 'product_name', 'series',\n",
       "       'series_description'],\n",
       "      dtype='object')"
      ]
     },
     "execution_count": 169,
     "metadata": {},
     "output_type": "execute_result"
    }
   ],
   "source": [
    "oil_data_cleaned.columns"
   ]
  },
  {
   "cell_type": "markdown",
   "metadata": {},
   "source": [
    "> They were validated to be dropped ffrom the cleaned datset."
   ]
  },
  {
   "cell_type": "markdown",
   "metadata": {},
   "source": [
    "#### **Combined Dataset**"
   ]
  },
  {
   "cell_type": "code",
   "execution_count": 170,
   "metadata": {},
   "outputs": [
    {
     "data": {
      "text/html": [
       "<div>\n",
       "<style scoped>\n",
       "    .dataframe tbody tr th:only-of-type {\n",
       "        vertical-align: middle;\n",
       "    }\n",
       "\n",
       "    .dataframe tbody tr th {\n",
       "        vertical-align: top;\n",
       "    }\n",
       "\n",
       "    .dataframe thead th {\n",
       "        text-align: right;\n",
       "    }\n",
       "</style>\n",
       "<table border=\"1\" class=\"dataframe\">\n",
       "  <thead>\n",
       "    <tr style=\"text-align: right;\">\n",
       "      <th></th>\n",
       "      <th>3606</th>\n",
       "      <th>3010</th>\n",
       "      <th>2486</th>\n",
       "      <th>129</th>\n",
       "      <th>2343</th>\n",
       "    </tr>\n",
       "  </thead>\n",
       "  <tbody>\n",
       "    <tr>\n",
       "      <th>date</th>\n",
       "      <td>2022-05-13 00:00:00</td>\n",
       "      <td>2005-09-09 00:00:00</td>\n",
       "      <td>2017-01-20 00:00:00</td>\n",
       "      <td>2011-08-05 00:00:00</td>\n",
       "      <td>2012-08-17 00:00:00</td>\n",
       "    </tr>\n",
       "    <tr>\n",
       "      <th>duoarea</th>\n",
       "      <td>ZEU</td>\n",
       "      <td>Y44MB</td>\n",
       "      <td>Y05LA</td>\n",
       "      <td>Y35NY</td>\n",
       "      <td>YCUOK</td>\n",
       "    </tr>\n",
       "    <tr>\n",
       "      <th>area_name</th>\n",
       "      <td>CANADA</td>\n",
       "      <td>MONT BELVIEU</td>\n",
       "      <td>LOS ANGELES</td>\n",
       "      <td>NEW YORK CITY</td>\n",
       "      <td>Oklahoma</td>\n",
       "    </tr>\n",
       "    <tr>\n",
       "      <th>product</th>\n",
       "      <td>EPCBRENT</td>\n",
       "      <td>EPLLPA</td>\n",
       "      <td>EPD2DC</td>\n",
       "      <td>EPD2DXL0</td>\n",
       "      <td>EPCWTI</td>\n",
       "    </tr>\n",
       "    <tr>\n",
       "      <th>product_name</th>\n",
       "      <td>UK Brent Crude Oil</td>\n",
       "      <td>Propane</td>\n",
       "      <td>Carb Diesel</td>\n",
       "      <td>No 2 Diesel Low Sulfur (0-15 ppm)</td>\n",
       "      <td>WTI Crude Oil</td>\n",
       "    </tr>\n",
       "    <tr>\n",
       "      <th>series</th>\n",
       "      <td>RBRTE</td>\n",
       "      <td>EER_EPLLPA_PF4_Y44MB_DPG</td>\n",
       "      <td>EER_EPD2DC_PF4_Y05LA_DPG</td>\n",
       "      <td>EER_EPD2DXL0_PF4_Y35NY_DPG</td>\n",
       "      <td>RWTC</td>\n",
       "    </tr>\n",
       "    <tr>\n",
       "      <th>series_description</th>\n",
       "      <td>Europe Brent Spot Price FOB (Dollars per Barrel)</td>\n",
       "      <td>Mont Belvieu, TX Propane Spot Price FOB (Dolla...</td>\n",
       "      <td>Los Angeles, CA Ultra-Low Sulfur CARB Diesel S...</td>\n",
       "      <td>New York Harbor Ultra-Low Sulfur No 2 Diesel S...</td>\n",
       "      <td>Cushing, OK WTI Spot Price FOB (Dollars per Ba...</td>\n",
       "    </tr>\n",
       "    <tr>\n",
       "      <th>adj_close_aapl</th>\n",
       "      <td>145.464249</td>\n",
       "      <td>1.549292</td>\n",
       "      <td>27.846104</td>\n",
       "      <td>11.281361</td>\n",
       "      <td>19.653536</td>\n",
       "    </tr>\n",
       "    <tr>\n",
       "      <th>adj_close_amzn</th>\n",
       "      <td>113.055</td>\n",
       "      <td>2.1475</td>\n",
       "      <td>40.4165</td>\n",
       "      <td>10.135</td>\n",
       "      <td>12.0585</td>\n",
       "    </tr>\n",
       "    <tr>\n",
       "      <th>adj_close_googl</th>\n",
       "      <td>115.917465</td>\n",
       "      <td>7.476155</td>\n",
       "      <td>41.361031</td>\n",
       "      <td>14.473879</td>\n",
       "      <td>16.926018</td>\n",
       "    </tr>\n",
       "    <tr>\n",
       "      <th>adj_close_meta</th>\n",
       "      <td>198.212677</td>\n",
       "      <td>38.151604</td>\n",
       "      <td>126.77948</td>\n",
       "      <td>38.151604</td>\n",
       "      <td>19.010933</td>\n",
       "    </tr>\n",
       "    <tr>\n",
       "      <th>adj_close_msft</th>\n",
       "      <td>256.016418</td>\n",
       "      <td>18.686798</td>\n",
       "      <td>57.076141</td>\n",
       "      <td>20.058685</td>\n",
       "      <td>24.958254</td>\n",
       "    </tr>\n",
       "    <tr>\n",
       "      <th>close_aapl</th>\n",
       "      <td>147.110001</td>\n",
       "      <td>1.8325</td>\n",
       "      <td>30.0</td>\n",
       "      <td>13.343571</td>\n",
       "      <td>23.146786</td>\n",
       "    </tr>\n",
       "    <tr>\n",
       "      <th>close_amzn</th>\n",
       "      <td>113.055</td>\n",
       "      <td>2.1475</td>\n",
       "      <td>40.4165</td>\n",
       "      <td>10.135</td>\n",
       "      <td>12.0585</td>\n",
       "    </tr>\n",
       "    <tr>\n",
       "      <th>close_googl</th>\n",
       "      <td>116.050499</td>\n",
       "      <td>7.484735</td>\n",
       "      <td>41.408501</td>\n",
       "      <td>14.49049</td>\n",
       "      <td>16.945444</td>\n",
       "    </tr>\n",
       "    <tr>\n",
       "      <th>close_meta</th>\n",
       "      <td>198.619995</td>\n",
       "      <td>38.23</td>\n",
       "      <td>127.040001</td>\n",
       "      <td>38.23</td>\n",
       "      <td>19.049999</td>\n",
       "    </tr>\n",
       "    <tr>\n",
       "      <th>close_msft</th>\n",
       "      <td>261.119995</td>\n",
       "      <td>26.58</td>\n",
       "      <td>62.740002</td>\n",
       "      <td>25.68</td>\n",
       "      <td>30.9</td>\n",
       "    </tr>\n",
       "    <tr>\n",
       "      <th>high_aapl</th>\n",
       "      <td>148.100006</td>\n",
       "      <td>1.833929</td>\n",
       "      <td>30.112499</td>\n",
       "      <td>13.696429</td>\n",
       "      <td>23.149643</td>\n",
       "    </tr>\n",
       "    <tr>\n",
       "      <th>high_amzn</th>\n",
       "      <td>113.183998</td>\n",
       "      <td>2.16</td>\n",
       "      <td>40.800999</td>\n",
       "      <td>10.366</td>\n",
       "      <td>12.1675</td>\n",
       "    </tr>\n",
       "    <tr>\n",
       "      <th>high_googl</th>\n",
       "      <td>117.875</td>\n",
       "      <td>7.484985</td>\n",
       "      <td>41.462002</td>\n",
       "      <td>14.764765</td>\n",
       "      <td>16.948198</td>\n",
       "    </tr>\n",
       "    <tr>\n",
       "      <th>high_meta</th>\n",
       "      <td>199.889999</td>\n",
       "      <td>45.0</td>\n",
       "      <td>128.479996</td>\n",
       "      <td>45.0</td>\n",
       "      <td>20.08</td>\n",
       "    </tr>\n",
       "    <tr>\n",
       "      <th>high_msft</th>\n",
       "      <td>263.040009</td>\n",
       "      <td>26.82</td>\n",
       "      <td>62.82</td>\n",
       "      <td>26.1</td>\n",
       "      <td>30.92</td>\n",
       "    </tr>\n",
       "    <tr>\n",
       "      <th>low_aapl</th>\n",
       "      <td>143.110001</td>\n",
       "      <td>1.778214</td>\n",
       "      <td>29.932501</td>\n",
       "      <td>12.948929</td>\n",
       "      <td>22.814644</td>\n",
       "    </tr>\n",
       "    <tr>\n",
       "      <th>low_amzn</th>\n",
       "      <td>107.800003</td>\n",
       "      <td>2.1405</td>\n",
       "      <td>40.313</td>\n",
       "      <td>9.742</td>\n",
       "      <td>12.0235</td>\n",
       "    </tr>\n",
       "    <tr>\n",
       "      <th>low_googl</th>\n",
       "      <td>113.605003</td>\n",
       "      <td>7.421421</td>\n",
       "      <td>41.23</td>\n",
       "      <td>14.064064</td>\n",
       "      <td>16.809309</td>\n",
       "    </tr>\n",
       "    <tr>\n",
       "      <th>low_meta</th>\n",
       "      <td>191.279999</td>\n",
       "      <td>38.0</td>\n",
       "      <td>126.779999</td>\n",
       "      <td>38.0</td>\n",
       "      <td>19.0</td>\n",
       "    </tr>\n",
       "    <tr>\n",
       "      <th>low_msft</th>\n",
       "      <td>255.350006</td>\n",
       "      <td>26.530001</td>\n",
       "      <td>62.369999</td>\n",
       "      <td>25.23</td>\n",
       "      <td>30.59</td>\n",
       "    </tr>\n",
       "    <tr>\n",
       "      <th>open_aapl</th>\n",
       "      <td>144.589996</td>\n",
       "      <td>1.788214</td>\n",
       "      <td>30.112499</td>\n",
       "      <td>13.587143</td>\n",
       "      <td>22.857143</td>\n",
       "    </tr>\n",
       "    <tr>\n",
       "      <th>open_amzn</th>\n",
       "      <td>109.069</td>\n",
       "      <td>2.1495</td>\n",
       "      <td>40.764</td>\n",
       "      <td>10.2335</td>\n",
       "      <td>12.03</td>\n",
       "    </tr>\n",
       "    <tr>\n",
       "      <th>open_googl</th>\n",
       "      <td>114.532997</td>\n",
       "      <td>7.439439</td>\n",
       "      <td>41.454498</td>\n",
       "      <td>14.578078</td>\n",
       "      <td>16.869869</td>\n",
       "    </tr>\n",
       "    <tr>\n",
       "      <th>open_meta</th>\n",
       "      <td>192.580002</td>\n",
       "      <td>42.049999</td>\n",
       "      <td>128.100006</td>\n",
       "      <td>42.049999</td>\n",
       "      <td>20.01</td>\n",
       "    </tr>\n",
       "    <tr>\n",
       "      <th>open_msft</th>\n",
       "      <td>257.350006</td>\n",
       "      <td>26.620001</td>\n",
       "      <td>62.669998</td>\n",
       "      <td>25.969999</td>\n",
       "      <td>30.92</td>\n",
       "    </tr>\n",
       "    <tr>\n",
       "      <th>volume_aapl</th>\n",
       "      <td>113990900</td>\n",
       "      <td>615641600</td>\n",
       "      <td>130391600</td>\n",
       "      <td>1204590800</td>\n",
       "      <td>442761200</td>\n",
       "    </tr>\n",
       "    <tr>\n",
       "      <th>volume_amzn</th>\n",
       "      <td>93684000</td>\n",
       "      <td>65774000</td>\n",
       "      <td>67524000</td>\n",
       "      <td>200480000</td>\n",
       "      <td>61716000</td>\n",
       "    </tr>\n",
       "    <tr>\n",
       "      <th>volume_googl</th>\n",
       "      <td>35038000</td>\n",
       "      <td>175444380</td>\n",
       "      <td>26124000</td>\n",
       "      <td>236926836</td>\n",
       "      <td>87020892</td>\n",
       "    </tr>\n",
       "    <tr>\n",
       "      <th>volume_meta</th>\n",
       "      <td>24549800.0</td>\n",
       "      <td>573576400.0</td>\n",
       "      <td>19097200.0</td>\n",
       "      <td>573576400.0</td>\n",
       "      <td>129293400.0</td>\n",
       "    </tr>\n",
       "    <tr>\n",
       "      <th>volume_msft</th>\n",
       "      <td>34925100</td>\n",
       "      <td>41515800</td>\n",
       "      <td>30213500</td>\n",
       "      <td>112071700</td>\n",
       "      <td>32589900</td>\n",
       "    </tr>\n",
       "  </tbody>\n",
       "</table>\n",
       "</div>"
      ],
      "text/plain": [
       "                                                                3606  \\\n",
       "date                                             2022-05-13 00:00:00   \n",
       "duoarea                                                          ZEU   \n",
       "area_name                                                     CANADA   \n",
       "product                                                     EPCBRENT   \n",
       "product_name                                      UK Brent Crude Oil   \n",
       "series                                                         RBRTE   \n",
       "series_description  Europe Brent Spot Price FOB (Dollars per Barrel)   \n",
       "adj_close_aapl                                            145.464249   \n",
       "adj_close_amzn                                               113.055   \n",
       "adj_close_googl                                           115.917465   \n",
       "adj_close_meta                                            198.212677   \n",
       "adj_close_msft                                            256.016418   \n",
       "close_aapl                                                147.110001   \n",
       "close_amzn                                                   113.055   \n",
       "close_googl                                               116.050499   \n",
       "close_meta                                                198.619995   \n",
       "close_msft                                                261.119995   \n",
       "high_aapl                                                 148.100006   \n",
       "high_amzn                                                 113.183998   \n",
       "high_googl                                                   117.875   \n",
       "high_meta                                                 199.889999   \n",
       "high_msft                                                 263.040009   \n",
       "low_aapl                                                  143.110001   \n",
       "low_amzn                                                  107.800003   \n",
       "low_googl                                                 113.605003   \n",
       "low_meta                                                  191.279999   \n",
       "low_msft                                                  255.350006   \n",
       "open_aapl                                                 144.589996   \n",
       "open_amzn                                                    109.069   \n",
       "open_googl                                                114.532997   \n",
       "open_meta                                                 192.580002   \n",
       "open_msft                                                 257.350006   \n",
       "volume_aapl                                                113990900   \n",
       "volume_amzn                                                 93684000   \n",
       "volume_googl                                                35038000   \n",
       "volume_meta                                               24549800.0   \n",
       "volume_msft                                                 34925100   \n",
       "\n",
       "                                                                 3010  \\\n",
       "date                                              2005-09-09 00:00:00   \n",
       "duoarea                                                         Y44MB   \n",
       "area_name                                                MONT BELVIEU   \n",
       "product                                                        EPLLPA   \n",
       "product_name                                                  Propane   \n",
       "series                                       EER_EPLLPA_PF4_Y44MB_DPG   \n",
       "series_description  Mont Belvieu, TX Propane Spot Price FOB (Dolla...   \n",
       "adj_close_aapl                                               1.549292   \n",
       "adj_close_amzn                                                 2.1475   \n",
       "adj_close_googl                                              7.476155   \n",
       "adj_close_meta                                              38.151604   \n",
       "adj_close_msft                                              18.686798   \n",
       "close_aapl                                                     1.8325   \n",
       "close_amzn                                                     2.1475   \n",
       "close_googl                                                  7.484735   \n",
       "close_meta                                                      38.23   \n",
       "close_msft                                                      26.58   \n",
       "high_aapl                                                    1.833929   \n",
       "high_amzn                                                        2.16   \n",
       "high_googl                                                   7.484985   \n",
       "high_meta                                                        45.0   \n",
       "high_msft                                                       26.82   \n",
       "low_aapl                                                     1.778214   \n",
       "low_amzn                                                       2.1405   \n",
       "low_googl                                                    7.421421   \n",
       "low_meta                                                         38.0   \n",
       "low_msft                                                    26.530001   \n",
       "open_aapl                                                    1.788214   \n",
       "open_amzn                                                      2.1495   \n",
       "open_googl                                                   7.439439   \n",
       "open_meta                                                   42.049999   \n",
       "open_msft                                                   26.620001   \n",
       "volume_aapl                                                 615641600   \n",
       "volume_amzn                                                  65774000   \n",
       "volume_googl                                                175444380   \n",
       "volume_meta                                               573576400.0   \n",
       "volume_msft                                                  41515800   \n",
       "\n",
       "                                                                 2486  \\\n",
       "date                                              2017-01-20 00:00:00   \n",
       "duoarea                                                         Y05LA   \n",
       "area_name                                                 LOS ANGELES   \n",
       "product                                                        EPD2DC   \n",
       "product_name                                              Carb Diesel   \n",
       "series                                       EER_EPD2DC_PF4_Y05LA_DPG   \n",
       "series_description  Los Angeles, CA Ultra-Low Sulfur CARB Diesel S...   \n",
       "adj_close_aapl                                              27.846104   \n",
       "adj_close_amzn                                                40.4165   \n",
       "adj_close_googl                                             41.361031   \n",
       "adj_close_meta                                              126.77948   \n",
       "adj_close_msft                                              57.076141   \n",
       "close_aapl                                                       30.0   \n",
       "close_amzn                                                    40.4165   \n",
       "close_googl                                                 41.408501   \n",
       "close_meta                                                 127.040001   \n",
       "close_msft                                                  62.740002   \n",
       "high_aapl                                                   30.112499   \n",
       "high_amzn                                                   40.800999   \n",
       "high_googl                                                  41.462002   \n",
       "high_meta                                                  128.479996   \n",
       "high_msft                                                       62.82   \n",
       "low_aapl                                                    29.932501   \n",
       "low_amzn                                                       40.313   \n",
       "low_googl                                                       41.23   \n",
       "low_meta                                                   126.779999   \n",
       "low_msft                                                    62.369999   \n",
       "open_aapl                                                   30.112499   \n",
       "open_amzn                                                      40.764   \n",
       "open_googl                                                  41.454498   \n",
       "open_meta                                                  128.100006   \n",
       "open_msft                                                   62.669998   \n",
       "volume_aapl                                                 130391600   \n",
       "volume_amzn                                                  67524000   \n",
       "volume_googl                                                 26124000   \n",
       "volume_meta                                                19097200.0   \n",
       "volume_msft                                                  30213500   \n",
       "\n",
       "                                                                 129   \\\n",
       "date                                              2011-08-05 00:00:00   \n",
       "duoarea                                                         Y35NY   \n",
       "area_name                                               NEW YORK CITY   \n",
       "product                                                      EPD2DXL0   \n",
       "product_name                        No 2 Diesel Low Sulfur (0-15 ppm)   \n",
       "series                                     EER_EPD2DXL0_PF4_Y35NY_DPG   \n",
       "series_description  New York Harbor Ultra-Low Sulfur No 2 Diesel S...   \n",
       "adj_close_aapl                                              11.281361   \n",
       "adj_close_amzn                                                 10.135   \n",
       "adj_close_googl                                             14.473879   \n",
       "adj_close_meta                                              38.151604   \n",
       "adj_close_msft                                              20.058685   \n",
       "close_aapl                                                  13.343571   \n",
       "close_amzn                                                     10.135   \n",
       "close_googl                                                  14.49049   \n",
       "close_meta                                                      38.23   \n",
       "close_msft                                                      25.68   \n",
       "high_aapl                                                   13.696429   \n",
       "high_amzn                                                      10.366   \n",
       "high_googl                                                  14.764765   \n",
       "high_meta                                                        45.0   \n",
       "high_msft                                                        26.1   \n",
       "low_aapl                                                    12.948929   \n",
       "low_amzn                                                        9.742   \n",
       "low_googl                                                   14.064064   \n",
       "low_meta                                                         38.0   \n",
       "low_msft                                                        25.23   \n",
       "open_aapl                                                   13.587143   \n",
       "open_amzn                                                     10.2335   \n",
       "open_googl                                                  14.578078   \n",
       "open_meta                                                   42.049999   \n",
       "open_msft                                                   25.969999   \n",
       "volume_aapl                                                1204590800   \n",
       "volume_amzn                                                 200480000   \n",
       "volume_googl                                                236926836   \n",
       "volume_meta                                               573576400.0   \n",
       "volume_msft                                                 112071700   \n",
       "\n",
       "                                                                 2343  \n",
       "date                                              2012-08-17 00:00:00  \n",
       "duoarea                                                         YCUOK  \n",
       "area_name                                                    Oklahoma  \n",
       "product                                                        EPCWTI  \n",
       "product_name                                            WTI Crude Oil  \n",
       "series                                                           RWTC  \n",
       "series_description  Cushing, OK WTI Spot Price FOB (Dollars per Ba...  \n",
       "adj_close_aapl                                              19.653536  \n",
       "adj_close_amzn                                                12.0585  \n",
       "adj_close_googl                                             16.926018  \n",
       "adj_close_meta                                              19.010933  \n",
       "adj_close_msft                                              24.958254  \n",
       "close_aapl                                                  23.146786  \n",
       "close_amzn                                                    12.0585  \n",
       "close_googl                                                 16.945444  \n",
       "close_meta                                                  19.049999  \n",
       "close_msft                                                       30.9  \n",
       "high_aapl                                                   23.149643  \n",
       "high_amzn                                                     12.1675  \n",
       "high_googl                                                  16.948198  \n",
       "high_meta                                                       20.08  \n",
       "high_msft                                                       30.92  \n",
       "low_aapl                                                    22.814644  \n",
       "low_amzn                                                      12.0235  \n",
       "low_googl                                                   16.809309  \n",
       "low_meta                                                         19.0  \n",
       "low_msft                                                        30.59  \n",
       "open_aapl                                                   22.857143  \n",
       "open_amzn                                                       12.03  \n",
       "open_googl                                                  16.869869  \n",
       "open_meta                                                       20.01  \n",
       "open_msft                                                       30.92  \n",
       "volume_aapl                                                 442761200  \n",
       "volume_amzn                                                  61716000  \n",
       "volume_googl                                                 87020892  \n",
       "volume_meta                                               129293400.0  \n",
       "volume_msft                                                  32589900  "
      ]
     },
     "execution_count": 170,
     "metadata": {},
     "output_type": "execute_result"
    }
   ],
   "source": [
    "## combine datasets\n",
    "merged_data = pd.merge(oil_data_cleaned, stocks_data_cleaned, on='date')\n",
    "merged_data.sample(5).T"
   ]
  },
  {
   "cell_type": "markdown",
   "metadata": {
    "id": "F42urHuzttjF"
   },
   "source": [
    "## 6. Update the data store\n",
    "In this section, the local database/data store in the directory data are updated with the cleaned data too, with best practices for storing cleaned data:\n",
    "- Maintained different instances / versions of data (raw and cleaned data)\n",
    "- Named the dataset files informatively\n",
    "- Ensure both the raw and cleaned data are saved to the database/data store directory."
   ]
  },
  {
   "cell_type": "markdown",
   "metadata": {},
   "source": [
    "> Now the datasets are cleaned they are saved to separete file."
   ]
  },
  {
   "cell_type": "code",
   "execution_count": null,
   "metadata": {
    "id": "V3uay7EJUV_L"
   },
   "outputs": [],
   "source": [
    "oil_data_cleaned.to_csv('data/oil_data_api_cleaned.csv', index=False) ## store to cvs file"
   ]
  },
  {
   "cell_type": "code",
   "execution_count": null,
   "metadata": {},
   "outputs": [],
   "source": [
    "stocks_data_cleaned.to_csv('data/stock_data_cleaned.csv', index=False) ## store to cvs file"
   ]
  },
  {
   "cell_type": "markdown",
   "metadata": {
    "id": "cGy_yddGtzhM"
   },
   "source": [
    "## 7. Research\n",
    "\n",
    "### **7.1:** Oil Prices and Big Tech. Stocks \n",
    "In this section the cleaned data copies are reloaded and used to answer the question raised."
   ]
  },
  {
   "cell_type": "markdown",
   "metadata": {
    "id": "gjedE4s4ZkEd"
   },
   "source": [
    "*Research question:* \n",
    "\n",
    "How does the stocks of the big Tech. Companies such as Google and Amazon, META and Micorsoft and prices of oils changes or correlates in the same year?"
   ]
  },
  {
   "cell_type": "code",
   "execution_count": null,
   "metadata": {
    "id": "Lkw3rW9kZmOm"
   },
   "outputs": [],
   "source": [
    "## Visual 1 - FILL IN\n",
    "## Plotting the corrleation matrix"
   ]
  },
  {
   "cell_type": "markdown",
   "metadata": {},
   "source": [
    "*Answer to research question:* FILL IN"
   ]
  },
  {
   "cell_type": "code",
   "execution_count": null,
   "metadata": {
    "id": "6fdK_8ZGZm9R"
   },
   "outputs": [],
   "source": [
    "## Visual 2 - FILL IN\n",
    "## Visualizing the stocks and oils as a time line for comparison"
   ]
  },
  {
   "cell_type": "markdown",
   "metadata": {
    "id": "K5RgvMGUZoHn"
   },
   "source": [
    "*Answer to research question:* FILL IN"
   ]
  },
  {
   "cell_type": "markdown",
   "metadata": {
    "id": "0ezWXXZVj-TP"
   },
   "source": [
    "### **7.2:** Reflection\n",
    "In 2-4 sentences, if you had more time to complete the project, what actions would you take? For example, which data quality and structural issues would you look into further, and what research questions would you further explore?"
   ]
  },
  {
   "cell_type": "markdown",
   "metadata": {
    "id": "XB3RBDG5kFe1"
   },
   "source": [
    "*Answer:* FILL IN"
   ]
  }
 ],
 "metadata": {
  "colab": {
   "provenance": []
  },
  "kernelspec": {
   "display_name": "Python 3 (ipykernel)",
   "language": "python",
   "name": "python3"
  },
  "language_info": {
   "codemirror_mode": {
    "name": "ipython",
    "version": 3
   },
   "file_extension": ".py",
   "mimetype": "text/x-python",
   "name": "python",
   "nbconvert_exporter": "python",
   "pygments_lexer": "ipython3",
   "version": "3.11.0"
  }
 },
 "nbformat": 4,
 "nbformat_minor": 1
}
