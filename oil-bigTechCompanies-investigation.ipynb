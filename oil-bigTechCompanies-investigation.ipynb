{
 "cells": [
  {
   "cell_type": "markdown",
   "metadata": {
    "id": "GNIwe5N7s0e_"
   },
   "source": [
    "<div align=\"center\"> \n",
    "\n",
    "# Investigating Oil prices and Big Tech. Companies Stock Market \n",
    "\n",
    "<p>Between 2001-1-1 - 2023-12-31</p>\n",
    "</div>"
   ]
  },
  {
   "cell_type": "markdown",
   "metadata": {
    "id": "_BG63Tpg8ep_"
   },
   "source": [
    "In this project, the skills acquired from advanced data wrangling course are applied to gather and wrangle real-world data with two datasets. They are retrieved and extractd, then assessed programmatically and visually, accross elements of data quality and structure, and a cleaning strategy for the data was implemented. Then the updated data is stored into the directiry ./data as a data store, combined the data, and tried to answer a research question with these datasets."
   ]
  },
  {
   "cell_type": "markdown",
   "metadata": {
    "id": "LbN7z7rcuqpO"
   },
   "source": [
    "## **1.** Problem Statement\n",
    "\n",
    "In this reserach, the stock prices of major tech companies (such as Apple, Microsoft, Google, Amazon, and META) and oil prices over the period spanning from January 2001 to December 2005 are investigated. By examining historical data for both sectors, the aim is to uncover insights into how changes in oil prices impact the financial performance of big tech companies, and vice versa.\n",
    "The datasets would include the stock market data for:\n",
    "- META\n",
    "- AMazon\n",
    "- Google\n",
    "- Apple\n",
    "- Microsoft"
   ]
  },
  {
   "cell_type": "markdown",
   "metadata": {},
   "source": [
    "## **2.** Solution Pipeline\n",
    "1. Gather Data\n",
    "2. Asses Data\n",
    "3. Clean Data\n",
    "4. Store Data\n",
    "5. Answering Research Questions"
   ]
  },
  {
   "cell_type": "markdown",
   "metadata": {},
   "source": [
    "### Neccessary Imports"
   ]
  },
  {
   "cell_type": "code",
   "execution_count": 1,
   "metadata": {},
   "outputs": [
    {
     "name": "stderr",
     "output_type": "stream",
     "text": [
      "c:\\Users\\SS\\AppData\\Local\\Programs\\Python\\Python311\\Lib\\site-packages\\scipy\\__init__.py:169: UserWarning: A NumPy version >=1.18.5 and <1.26.0 is required for this version of SciPy (detected version 1.26.4\n",
      "  warnings.warn(f\"A NumPy version >={np_minversion} and <{np_maxversion}\"\n"
     ]
    }
   ],
   "source": [
    "import requests\n",
    "import pandas as pd\n",
    "import yfinance as yf\n",
    "import requests\n",
    "import config\n",
    "import seaborn as sns\n",
    "import matplotlib.pyplot as plt\n",
    "import numpy as np\n",
    "from sklearn.preprocessing import StandardScaler"
   ]
  },
  {
   "cell_type": "markdown",
   "metadata": {
    "id": "lDYDkH-Zs7Nn"
   },
   "source": [
    "## 3. Gather data\n",
    "\n",
    "In this section, data using two different (data gathering methods) are extractand and then combined. Two different types of data-gathering methods are use:\n",
    "- Programmatically downloading files\n",
    "- Gathering data by accessing APIs"
   ]
  },
  {
   "cell_type": "markdown",
   "metadata": {
    "id": "8AQfBAdUypMm"
   },
   "source": [
    "### **3.1.** Gathering Data Methods and Code\n",
    "\n",
    "In this project, two types of data gathering are use: \n",
    "- Programmatically downloading files\n",
    "- Gathering data by accessing APIs\n",
    "\n",
    "Each of the datasets have at least two variables, and have greater than 500 data samples within."
   ]
  },
  {
   "cell_type": "markdown",
   "metadata": {
    "id": "7e6gS0wL1KTu"
   },
   "source": [
    "#### **Dataset 1**: Oils and Petroleum dataset "
   ]
  },
  {
   "cell_type": "markdown",
   "metadata": {},
   "source": [
    "##### *About this dataset*\n",
    "\n",
    "**Type:** JSON response\n",
    "\n",
    "**Method:** The data was gathered using the \"by accessing APIs\" method from https://api.eia.gov/v2/petroleum/pri/spt/data/\n",
    "\n",
    "**Dataset variables:**\n",
    "\n",
    "| Column Name | Description |\n",
    "|---|---|\n",
    "| period |  date associated with the data point |\n",
    "| duoarea | identifier for a specific geographical area |\n",
    "| area-name | area name |\n",
    "| product | identifier for the specific petroleum product |\n",
    "| product-name | name of the product |\n",
    "| process | identifier for the specific process |\n",
    "| process-name | The name of the process used |\n",
    "| series | identifier for the specific data series |\n",
    "| series-description | descriptive text name or label for the data |\n",
    "|value| The price|\n",
    "|units| unit of the price |"
   ]
  },
  {
   "cell_type": "markdown",
   "metadata": {},
   "source": [
    "##### *Gathering by API*"
   ]
  },
  {
   "cell_type": "code",
   "execution_count": 2,
   "metadata": {
    "id": "Su8E0uLuYkHU"
   },
   "outputs": [
    {
     "data": {
      "text/html": [
       "<div>\n",
       "<style scoped>\n",
       "    .dataframe tbody tr th:only-of-type {\n",
       "        vertical-align: middle;\n",
       "    }\n",
       "\n",
       "    .dataframe tbody tr th {\n",
       "        vertical-align: top;\n",
       "    }\n",
       "\n",
       "    .dataframe thead th {\n",
       "        text-align: right;\n",
       "    }\n",
       "</style>\n",
       "<table border=\"1\" class=\"dataframe\">\n",
       "  <thead>\n",
       "    <tr style=\"text-align: right;\">\n",
       "      <th></th>\n",
       "      <th>period</th>\n",
       "      <th>duoarea</th>\n",
       "      <th>area-name</th>\n",
       "      <th>product</th>\n",
       "      <th>product-name</th>\n",
       "      <th>process</th>\n",
       "      <th>process-name</th>\n",
       "      <th>series</th>\n",
       "      <th>series-description</th>\n",
       "      <th>value</th>\n",
       "      <th>units</th>\n",
       "    </tr>\n",
       "  </thead>\n",
       "  <tbody>\n",
       "    <tr>\n",
       "      <th>4994</th>\n",
       "      <td>2023-04-10</td>\n",
       "      <td>R1X</td>\n",
       "      <td>PADD 1A</td>\n",
       "      <td>EPM0R</td>\n",
       "      <td>Reformulated Motor Gasoline</td>\n",
       "      <td>PTE</td>\n",
       "      <td>Retail Sales</td>\n",
       "      <td>EMM_EPM0R_PTE_R1X_DPG</td>\n",
       "      <td>New England (PADD 1A) All Grades Reformulated ...</td>\n",
       "      <td>3.46</td>\n",
       "      <td>$/GAL</td>\n",
       "    </tr>\n",
       "    <tr>\n",
       "      <th>1023</th>\n",
       "      <td>2016-06-06</td>\n",
       "      <td>R50</td>\n",
       "      <td>PADD 5</td>\n",
       "      <td>EPD2DXL0</td>\n",
       "      <td>No 2 Diesel Low Sulfur (0-15 ppm)</td>\n",
       "      <td>PTE</td>\n",
       "      <td>Retail Sales</td>\n",
       "      <td>EMD_EPD2DXL0_PTE_R50_DPG</td>\n",
       "      <td>West Coast No 2 Diesel Ultra Low Sulfur (0-15 ...</td>\n",
       "      <td>2.681</td>\n",
       "      <td>$/GAL</td>\n",
       "    </tr>\n",
       "    <tr>\n",
       "      <th>4782</th>\n",
       "      <td>2012-08-13</td>\n",
       "      <td>NUS</td>\n",
       "      <td>U.S.</td>\n",
       "      <td>EPM0</td>\n",
       "      <td>Total Gasoline</td>\n",
       "      <td>PTE</td>\n",
       "      <td>Retail Sales</td>\n",
       "      <td>EMM_EPM0_PTE_NUS_DPG</td>\n",
       "      <td>U.S. All Grades All Formulations Retail Gasoli...</td>\n",
       "      <td>3.779</td>\n",
       "      <td>$/GAL</td>\n",
       "    </tr>\n",
       "    <tr>\n",
       "      <th>3934</th>\n",
       "      <td>2017-10-02</td>\n",
       "      <td>SMN</td>\n",
       "      <td>MINNESOTA</td>\n",
       "      <td>EPM0</td>\n",
       "      <td>Total Gasoline</td>\n",
       "      <td>PTE</td>\n",
       "      <td>Retail Sales</td>\n",
       "      <td>EMM_EPM0_PTE_SMN_DPG</td>\n",
       "      <td>Minnesota All Grades All Formulations Retail G...</td>\n",
       "      <td>2.449</td>\n",
       "      <td>$/GAL</td>\n",
       "    </tr>\n",
       "    <tr>\n",
       "      <th>982</th>\n",
       "      <td>2007-12-03</td>\n",
       "      <td>R50</td>\n",
       "      <td>PADD 5</td>\n",
       "      <td>EPD2DXL0</td>\n",
       "      <td>No 2 Diesel Low Sulfur (0-15 ppm)</td>\n",
       "      <td>PTE</td>\n",
       "      <td>Retail Sales</td>\n",
       "      <td>EMD_EPD2DXL0_PTE_R50_DPG</td>\n",
       "      <td>West Coast No 2 Diesel Ultra Low Sulfur (0-15 ...</td>\n",
       "      <td>3.543</td>\n",
       "      <td>$/GAL</td>\n",
       "    </tr>\n",
       "  </tbody>\n",
       "</table>\n",
       "</div>"
      ],
      "text/plain": [
       "          period duoarea  area-name   product  \\\n",
       "4994  2023-04-10     R1X    PADD 1A     EPM0R   \n",
       "1023  2016-06-06     R50     PADD 5  EPD2DXL0   \n",
       "4782  2012-08-13     NUS       U.S.      EPM0   \n",
       "3934  2017-10-02     SMN  MINNESOTA      EPM0   \n",
       "982   2007-12-03     R50     PADD 5  EPD2DXL0   \n",
       "\n",
       "                           product-name process  process-name  \\\n",
       "4994        Reformulated Motor Gasoline     PTE  Retail Sales   \n",
       "1023  No 2 Diesel Low Sulfur (0-15 ppm)     PTE  Retail Sales   \n",
       "4782                     Total Gasoline     PTE  Retail Sales   \n",
       "3934                     Total Gasoline     PTE  Retail Sales   \n",
       "982   No 2 Diesel Low Sulfur (0-15 ppm)     PTE  Retail Sales   \n",
       "\n",
       "                        series  \\\n",
       "4994     EMM_EPM0R_PTE_R1X_DPG   \n",
       "1023  EMD_EPD2DXL0_PTE_R50_DPG   \n",
       "4782      EMM_EPM0_PTE_NUS_DPG   \n",
       "3934      EMM_EPM0_PTE_SMN_DPG   \n",
       "982   EMD_EPD2DXL0_PTE_R50_DPG   \n",
       "\n",
       "                                     series-description  value  units  \n",
       "4994  New England (PADD 1A) All Grades Reformulated ...   3.46  $/GAL  \n",
       "1023  West Coast No 2 Diesel Ultra Low Sulfur (0-15 ...  2.681  $/GAL  \n",
       "4782  U.S. All Grades All Formulations Retail Gasoli...  3.779  $/GAL  \n",
       "3934  Minnesota All Grades All Formulations Retail G...  2.449  $/GAL  \n",
       "982   West Coast No 2 Diesel Ultra Low Sulfur (0-15 ...  3.543  $/GAL  "
      ]
     },
     "execution_count": 2,
     "metadata": {},
     "output_type": "execute_result"
    }
   ],
   "source": [
    "## Gather the data using the \"Gather data by accessing APIs\" method from https://api.eia.gov\n",
    "api_key = config.EIA_API_KEY\n",
    "url = f'https://api.eia.gov/v2/petroleum/pri/gnd/data/?'\n",
    "\n",
    "params = {\n",
    "    'api_key':api_key,\n",
    "    \"frequency\": \"weekly\",\n",
    "    \"data[0]\": \"value\",\n",
    "    \"facets\": {},\n",
    "    \"start\": \"2005-01-01\",\n",
    "    \"end\": \"2023-12-31\",\n",
    "    \"offset\": 0,\n",
    "    \"length\": 5000\n",
    "}\n",
    "\n",
    "response = requests.get(url, params=params)\n",
    "data = response.json()\n",
    "oil_data =pd.DataFrame(data['response']['data'])\n",
    "oil_data.sample(5)"
   ]
  },
  {
   "cell_type": "code",
   "execution_count": 3,
   "metadata": {},
   "outputs": [
    {
     "data": {
      "text/plain": [
       "(5000, 11)"
      ]
     },
     "execution_count": 3,
     "metadata": {},
     "output_type": "execute_result"
    }
   ],
   "source": [
    "oil_data.shape"
   ]
  },
  {
   "cell_type": "markdown",
   "metadata": {},
   "source": [
    "> The gathered dataset have 5000 rows and 11 features."
   ]
  },
  {
   "cell_type": "code",
   "execution_count": 4,
   "metadata": {},
   "outputs": [],
   "source": [
    "oil_data.to_csv('data/oil_data_api.csv', index=False) ## store to cvs file"
   ]
  },
  {
   "cell_type": "markdown",
   "metadata": {},
   "source": [
    "> Storing step: the dataset is saved to the local data store directory before moving to the next step."
   ]
  },
  {
   "cell_type": "markdown",
   "metadata": {
    "id": "hoUjq1tPzz7P"
   },
   "source": [
    "#### **Dataset 2**: Stocks Dataset"
   ]
  },
  {
   "cell_type": "markdown",
   "metadata": {},
   "source": [
    "##### *About this dataset*\n",
    "**Type:** Pandas.DataFrame\n",
    "\n",
    "**Method:** The data was gathered using the \"Programmatically downloading files\" method from Yahoo Finance using the yfinance library\n",
    "\n",
    "**Dataset variables:**\n",
    "\n",
    "| Column Name | Description |\n",
    "|---|---|\n",
    "| Date | date associated with the data point |\n",
    "| Open | The opening price of the stock on that date. |\n",
    "| High | The highest price reached by the stock on that date. |\n",
    "| Low | The lowest price reached by the stock on that date. |\n",
    "| Close | The closing price of the stock on that date. |\n",
    "| Adj Close | The adjusted closing price, adjusted for dividends and splits. |\n",
    "| Volume | The number of shares traded on that date. |"
   ]
  },
  {
   "cell_type": "markdown",
   "metadata": {},
   "source": [
    "##### *Gathering by Programmatically Downloading*"
   ]
  },
  {
   "cell_type": "code",
   "execution_count": 5,
   "metadata": {
    "id": "6zT0QxRyYmm7"
   },
   "outputs": [
    {
     "name": "stderr",
     "output_type": "stream",
     "text": [
      "[*********************100%%**********************]  5 of 5 completed\n"
     ]
    },
    {
     "data": {
      "text/html": [
       "<div>\n",
       "<style scoped>\n",
       "    .dataframe tbody tr th:only-of-type {\n",
       "        vertical-align: middle;\n",
       "    }\n",
       "\n",
       "    .dataframe tbody tr th {\n",
       "        vertical-align: top;\n",
       "    }\n",
       "\n",
       "    .dataframe thead tr th {\n",
       "        text-align: left;\n",
       "    }\n",
       "</style>\n",
       "<table border=\"1\" class=\"dataframe\">\n",
       "  <thead>\n",
       "    <tr>\n",
       "      <th>Price</th>\n",
       "      <th>Date</th>\n",
       "      <th colspan=\"5\" halign=\"left\">Adj Close</th>\n",
       "      <th colspan=\"4\" halign=\"left\">Close</th>\n",
       "      <th>...</th>\n",
       "      <th colspan=\"5\" halign=\"left\">Open</th>\n",
       "      <th colspan=\"5\" halign=\"left\">Volume</th>\n",
       "    </tr>\n",
       "    <tr>\n",
       "      <th>Ticker</th>\n",
       "      <th></th>\n",
       "      <th>AAPL</th>\n",
       "      <th>AMZN</th>\n",
       "      <th>GOOGL</th>\n",
       "      <th>META</th>\n",
       "      <th>MSFT</th>\n",
       "      <th>AAPL</th>\n",
       "      <th>AMZN</th>\n",
       "      <th>GOOGL</th>\n",
       "      <th>META</th>\n",
       "      <th>...</th>\n",
       "      <th>AAPL</th>\n",
       "      <th>AMZN</th>\n",
       "      <th>GOOGL</th>\n",
       "      <th>META</th>\n",
       "      <th>MSFT</th>\n",
       "      <th>AAPL</th>\n",
       "      <th>AMZN</th>\n",
       "      <th>GOOGL</th>\n",
       "      <th>META</th>\n",
       "      <th>MSFT</th>\n",
       "    </tr>\n",
       "  </thead>\n",
       "  <tbody>\n",
       "    <tr>\n",
       "      <th>2081</th>\n",
       "      <td>2013-04-11</td>\n",
       "      <td>13.308058</td>\n",
       "      <td>13.4925</td>\n",
       "      <td>19.756855</td>\n",
       "      <td>27.962540</td>\n",
       "      <td>23.762344</td>\n",
       "      <td>15.511786</td>\n",
       "      <td>13.4925</td>\n",
       "      <td>19.779530</td>\n",
       "      <td>28.020000</td>\n",
       "      <td>...</td>\n",
       "      <td>15.490000</td>\n",
       "      <td>13.237000</td>\n",
       "      <td>19.841843</td>\n",
       "      <td>27.480000</td>\n",
       "      <td>29.100000</td>\n",
       "      <td>328364400</td>\n",
       "      <td>61810000</td>\n",
       "      <td>81066852</td>\n",
       "      <td>33368500.0</td>\n",
       "      <td>130923200</td>\n",
       "    </tr>\n",
       "    <tr>\n",
       "      <th>3547</th>\n",
       "      <td>2019-02-06</td>\n",
       "      <td>41.699524</td>\n",
       "      <td>82.0130</td>\n",
       "      <td>56.080139</td>\n",
       "      <td>170.140366</td>\n",
       "      <td>100.319008</td>\n",
       "      <td>43.560001</td>\n",
       "      <td>82.0130</td>\n",
       "      <td>56.144501</td>\n",
       "      <td>170.490005</td>\n",
       "      <td>...</td>\n",
       "      <td>43.662498</td>\n",
       "      <td>83.537498</td>\n",
       "      <td>57.463501</td>\n",
       "      <td>171.199997</td>\n",
       "      <td>107.000000</td>\n",
       "      <td>112958400</td>\n",
       "      <td>78798000</td>\n",
       "      <td>48256000</td>\n",
       "      <td>13281200.0</td>\n",
       "      <td>20609800</td>\n",
       "    </tr>\n",
       "    <tr>\n",
       "      <th>2962</th>\n",
       "      <td>2016-10-07</td>\n",
       "      <td>26.332531</td>\n",
       "      <td>41.9715</td>\n",
       "      <td>39.989605</td>\n",
       "      <td>128.725479</td>\n",
       "      <td>52.229252</td>\n",
       "      <td>28.514999</td>\n",
       "      <td>41.9715</td>\n",
       "      <td>40.035500</td>\n",
       "      <td>128.990005</td>\n",
       "      <td>...</td>\n",
       "      <td>28.577499</td>\n",
       "      <td>42.289501</td>\n",
       "      <td>40.296501</td>\n",
       "      <td>129.039993</td>\n",
       "      <td>57.849998</td>\n",
       "      <td>97433600</td>\n",
       "      <td>48524000</td>\n",
       "      <td>23262000</td>\n",
       "      <td>12804400.0</td>\n",
       "      <td>20089000</td>\n",
       "    </tr>\n",
       "    <tr>\n",
       "      <th>1330</th>\n",
       "      <td>2010-04-16</td>\n",
       "      <td>7.470178</td>\n",
       "      <td>7.1085</td>\n",
       "      <td>13.751736</td>\n",
       "      <td>NaN</td>\n",
       "      <td>23.286186</td>\n",
       "      <td>8.835714</td>\n",
       "      <td>7.1085</td>\n",
       "      <td>13.767518</td>\n",
       "      <td>NaN</td>\n",
       "      <td>...</td>\n",
       "      <td>8.877500</td>\n",
       "      <td>7.244000</td>\n",
       "      <td>14.089089</td>\n",
       "      <td>NaN</td>\n",
       "      <td>30.790001</td>\n",
       "      <td>750545600</td>\n",
       "      <td>167936000</td>\n",
       "      <td>488930580</td>\n",
       "      <td>NaN</td>\n",
       "      <td>88703100</td>\n",
       "    </tr>\n",
       "    <tr>\n",
       "      <th>2000</th>\n",
       "      <td>2012-12-12</td>\n",
       "      <td>16.419495</td>\n",
       "      <td>12.5880</td>\n",
       "      <td>17.436443</td>\n",
       "      <td>27.523441</td>\n",
       "      <td>22.182825</td>\n",
       "      <td>19.250000</td>\n",
       "      <td>12.5880</td>\n",
       "      <td>17.456455</td>\n",
       "      <td>27.580000</td>\n",
       "      <td>...</td>\n",
       "      <td>19.563213</td>\n",
       "      <td>12.553500</td>\n",
       "      <td>17.498247</td>\n",
       "      <td>28.000000</td>\n",
       "      <td>27.530001</td>\n",
       "      <td>487144000</td>\n",
       "      <td>52562000</td>\n",
       "      <td>96942960</td>\n",
       "      <td>46704200.0</td>\n",
       "      <td>43966300</td>\n",
       "    </tr>\n",
       "  </tbody>\n",
       "</table>\n",
       "<p>5 rows × 31 columns</p>\n",
       "</div>"
      ],
      "text/plain": [
       "Price        Date  Adj Close                                              \\\n",
       "Ticker                  AAPL     AMZN      GOOGL        META        MSFT   \n",
       "2081   2013-04-11  13.308058  13.4925  19.756855   27.962540   23.762344   \n",
       "3547   2019-02-06  41.699524  82.0130  56.080139  170.140366  100.319008   \n",
       "2962   2016-10-07  26.332531  41.9715  39.989605  128.725479   52.229252   \n",
       "1330   2010-04-16   7.470178   7.1085  13.751736         NaN   23.286186   \n",
       "2000   2012-12-12  16.419495  12.5880  17.436443   27.523441   22.182825   \n",
       "\n",
       "Price       Close                                  ...       Open             \\\n",
       "Ticker       AAPL     AMZN      GOOGL        META  ...       AAPL       AMZN   \n",
       "2081    15.511786  13.4925  19.779530   28.020000  ...  15.490000  13.237000   \n",
       "3547    43.560001  82.0130  56.144501  170.490005  ...  43.662498  83.537498   \n",
       "2962    28.514999  41.9715  40.035500  128.990005  ...  28.577499  42.289501   \n",
       "1330     8.835714   7.1085  13.767518         NaN  ...   8.877500   7.244000   \n",
       "2000    19.250000  12.5880  17.456455   27.580000  ...  19.563213  12.553500   \n",
       "\n",
       "Price                                         Volume                        \\\n",
       "Ticker      GOOGL        META        MSFT       AAPL       AMZN      GOOGL   \n",
       "2081    19.841843   27.480000   29.100000  328364400   61810000   81066852   \n",
       "3547    57.463501  171.199997  107.000000  112958400   78798000   48256000   \n",
       "2962    40.296501  129.039993   57.849998   97433600   48524000   23262000   \n",
       "1330    14.089089         NaN   30.790001  750545600  167936000  488930580   \n",
       "2000    17.498247   28.000000   27.530001  487144000   52562000   96942960   \n",
       "\n",
       "Price                          \n",
       "Ticker        META       MSFT  \n",
       "2081    33368500.0  130923200  \n",
       "3547    13281200.0   20609800  \n",
       "2962    12804400.0   20089000  \n",
       "1330           NaN   88703100  \n",
       "2000    46704200.0   43966300  \n",
       "\n",
       "[5 rows x 31 columns]"
      ]
     },
     "execution_count": 5,
     "metadata": {},
     "output_type": "execute_result"
    }
   ],
   "source": [
    "## 2nd data gathering was downloaded programitticallly from Yahoo Finance using the yfinance library\n",
    "companies = ['AAPL', 'MSFT', 'GOOGL', 'AMZN', 'META']\n",
    "stocks_data = yf.download(companies, start='2005-01-01', end='2023-12-31')\n",
    "stocks_data.reset_index(inplace=True)\n",
    "stocks_data.sample(5)"
   ]
  },
  {
   "cell_type": "code",
   "execution_count": 6,
   "metadata": {},
   "outputs": [
    {
     "data": {
      "text/plain": [
       "(4781, 31)"
      ]
     },
     "execution_count": 6,
     "metadata": {},
     "output_type": "execute_result"
    }
   ],
   "source": [
    "stocks_data.shape"
   ]
  },
  {
   "cell_type": "markdown",
   "metadata": {},
   "source": [
    "> The gathered data has 4781 data points and 31 features."
   ]
  },
  {
   "cell_type": "code",
   "execution_count": 7,
   "metadata": {},
   "outputs": [],
   "source": [
    "stocks_data.to_csv('data/stock_data.csv', index=False) ## store to cvs file"
   ]
  },
  {
   "cell_type": "markdown",
   "metadata": {},
   "source": [
    "> Storing step: the dataset is saved to the local data store directory before moving to the next step."
   ]
  },
  {
   "cell_type": "markdown",
   "metadata": {
    "id": "QwSWIVmotLgV"
   },
   "source": [
    "## 4. Assess data\n",
    "Now that we have gathered the datasets, let's assess the dataset for data quality and structural issues. In this section, the data is assessed according to data quality and tidiness metrics. Where two data quality issues and two tidiness issues are assessed. Each are assess visually and programmatically, then the issue is described. Justifications for the methods used for the assessment are also included.\n",
    "Issues assessed:\n",
    "- Completness\n",
    "- Validity\n",
    "- Columns Names\n",
    "- Inexing of the data"
   ]
  },
  {
   "cell_type": "markdown",
   "metadata": {
    "id": "adaK2iPNzVu4"
   },
   "source": [
    "### **Completeness (Quality Issue #1):**\n",
    "This is the issue of having missing data in the datsets. It affects good analysis and will be assessed for both datasets programmatically and visualy."
   ]
  },
  {
   "cell_type": "markdown",
   "metadata": {},
   "source": [
    "#### **Stocks Dataset**"
   ]
  },
  {
   "cell_type": "markdown",
   "metadata": {},
   "source": [
    "##### *Inspecting the dataframe visually*\n",
    "To inspcet the data qaulity issue of completeness, let's visualize the ddata frame into a heatmap. It will be showing the missing data with a diffrent color."
   ]
  },
  {
   "cell_type": "code",
   "execution_count": 8,
   "metadata": {},
   "outputs": [],
   "source": [
    "nan = ['NA','NaN','-', '0',0, np.nan] ## possible null vlaues"
   ]
  },
  {
   "cell_type": "code",
   "execution_count": 9,
   "metadata": {},
   "outputs": [
    {
     "data": {
      "image/png": "[encoded data removed]",
      "text/plain": [
       "<Figure size 1000x600 with 2 Axes>"
      ]
     },
     "metadata": {},
     "output_type": "display_data"
    }
   ],
   "source": [
    "plt.figure(figsize=(10,6))\n",
    "sns.heatmap(stocks_data.isin(nan).transpose(), cbar_kws={'label': 'Missing Data'}) ## visualize the missing data transposed\n",
    "plt.title('Missing Values from the Stocks Dataframe')\n",
    "plt.xlabel('Values Count');"
   ]
  },
  {
   "cell_type": "markdown",
   "metadata": {},
   "source": [
    "> There are noticed missing data from the META stocks, probably is joined teh stocks after 2007."
   ]
  },
  {
   "cell_type": "markdown",
   "metadata": {},
   "source": [
    "##### Inspecting the dataframe programmatically\n",
    "To inspect for missing values programmatically the `.info()` is used alongside checking the `.isna()` methos."
   ]
  },
  {
   "cell_type": "code",
   "execution_count": 10,
   "metadata": {
    "id": "SpW59kh-zl8d"
   },
   "outputs": [
    {
     "name": "stdout",
     "output_type": "stream",
     "text": [
      "<class 'pandas.core.frame.DataFrame'>\n",
      "RangeIndex: 4781 entries, 0 to 4780\n",
      "Data columns (total 31 columns):\n",
      " #   Column              Non-Null Count  Dtype         \n",
      "---  ------              --------------  -----         \n",
      " 0   (Date, )            4781 non-null   datetime64[ns]\n",
      " 1   (Adj Close, AAPL)   4781 non-null   float64       \n",
      " 2   (Adj Close, AMZN)   4781 non-null   float64       \n",
      " 3   (Adj Close, GOOGL)  4781 non-null   float64       \n",
      " 4   (Adj Close, META)   2923 non-null   float64       \n",
      " 5   (Adj Close, MSFT)   4781 non-null   float64       \n",
      " 6   (Close, AAPL)       4781 non-null   float64       \n",
      " 7   (Close, AMZN)       4781 non-null   float64       \n",
      " 8   (Close, GOOGL)      4781 non-null   float64       \n",
      " 9   (Close, META)       2923 non-null   float64       \n",
      " 10  (Close, MSFT)       4781 non-null   float64       \n",
      " 11  (High, AAPL)        4781 non-null   float64       \n",
      " 12  (High, AMZN)        4781 non-null   float64       \n",
      " 13  (High, GOOGL)       4781 non-null   float64       \n",
      " 14  (High, META)        2923 non-null   float64       \n",
      " 15  (High, MSFT)        4781 non-null   float64       \n",
      " 16  (Low, AAPL)         4781 non-null   float64       \n",
      " 17  (Low, AMZN)         4781 non-null   float64       \n",
      " 18  (Low, GOOGL)        4781 non-null   float64       \n",
      " 19  (Low, META)         2923 non-null   float64       \n",
      " 20  (Low, MSFT)         4781 non-null   float64       \n",
      " 21  (Open, AAPL)        4781 non-null   float64       \n",
      " 22  (Open, AMZN)        4781 non-null   float64       \n",
      " 23  (Open, GOOGL)       4781 non-null   float64       \n",
      " 24  (Open, META)        2923 non-null   float64       \n",
      " 25  (Open, MSFT)        4781 non-null   float64       \n",
      " 26  (Volume, AAPL)      4781 non-null   int64         \n",
      " 27  (Volume, AMZN)      4781 non-null   int64         \n",
      " 28  (Volume, GOOGL)     4781 non-null   int64         \n",
      " 29  (Volume, META)      2923 non-null   float64       \n",
      " 30  (Volume, MSFT)      4781 non-null   int64         \n",
      "dtypes: datetime64[ns](1), float64(26), int64(4)\n",
      "memory usage: 1.1 MB\n"
     ]
    }
   ],
   "source": [
    "stocks_data.info()"
   ]
  },
  {
   "cell_type": "markdown",
   "metadata": {},
   "source": [
    "> While the range index is from 0 to 4781, some the columns arn't complete such as (Adj Close, META), (Close, META),  (High, META), (Low, META),  (Open, META), and (Volume, META).\n",
    "> These missing data are specifically in data regarding the Google, and the META big tech companies."
   ]
  },
  {
   "cell_type": "code",
   "execution_count": 11,
   "metadata": {},
   "outputs": [
    {
     "data": {
      "text/plain": [
       "Price      Ticker\n",
       "Open       META      1858\n",
       "Volume     META      1858\n",
       "Low        META      1858\n",
       "Adj Close  META      1858\n",
       "High       META      1858\n",
       "Close      META      1858\n",
       "Open       GOOGL        0\n",
       "Low        MSFT         0\n",
       "Open       AAPL         0\n",
       "           AMZN         0\n",
       "Date                    0\n",
       "Low        AMZN         0\n",
       "Open       MSFT         0\n",
       "Volume     AAPL         0\n",
       "           AMZN         0\n",
       "           GOOGL        0\n",
       "Low        GOOGL        0\n",
       "High       MSFT         0\n",
       "Low        AAPL         0\n",
       "Adj Close  AAPL         0\n",
       "High       GOOGL        0\n",
       "           AMZN         0\n",
       "           AAPL         0\n",
       "Close      MSFT         0\n",
       "           GOOGL        0\n",
       "           AMZN         0\n",
       "           AAPL         0\n",
       "Adj Close  MSFT         0\n",
       "           GOOGL        0\n",
       "           AMZN         0\n",
       "Volume     MSFT         0\n",
       "dtype: int64"
      ]
     },
     "execution_count": 11,
     "metadata": {},
     "output_type": "execute_result"
    }
   ],
   "source": [
    "stocks_data.isna().sum().sort_values(ascending=False) "
   ]
  },
  {
   "cell_type": "markdown",
   "metadata": {},
   "source": [
    "> There are 1858 missing records from the META Datasets."
   ]
  },
  {
   "cell_type": "markdown",
   "metadata": {},
   "source": [
    "#### **Oil Dataset**"
   ]
  },
  {
   "cell_type": "markdown",
   "metadata": {},
   "source": [
    "##### *Inspecting the dataframe visually*\n",
    "To inspcet the data qaulity issue of completeness, let's visualize the ddata frame into a heatmap. It will be showing the missing data with a diffrent color."
   ]
  },
  {
   "cell_type": "code",
   "execution_count": 12,
   "metadata": {},
   "outputs": [
    {
     "data": {
      "image/png": "[encoded data removed]",
      "text/plain": [
       "<Figure size 1000x600 with 2 Axes>"
      ]
     },
     "metadata": {},
     "output_type": "display_data"
    }
   ],
   "source": [
    "plt.figure(figsize=(10,6))\n",
    "sns.heatmap(oil_data.isin(nan).transpose(), cbar_kws={'label': 'Missing Data'}) ## visualize the missing data transposed\n",
    "plt.title('Missing Values from the Oils Dataframe')\n",
    "plt.xlabel('Values Count');"
   ]
  },
  {
   "cell_type": "markdown",
   "metadata": {},
   "source": [
    "> There are no missing values from the Oils Dataframe it has no completness issue."
   ]
  },
  {
   "cell_type": "markdown",
   "metadata": {},
   "source": [
    "##### *Inspecting the dataframe programmatically*\n",
    "To inspect for missing values programmatically the `.info()` is used alongside checking the `.isna()` methos. However, some missing values wesn't detected using these methods so there had to use the `.isin()` method to check if there are missing values programmatically."
   ]
  },
  {
   "cell_type": "code",
   "execution_count": 13,
   "metadata": {},
   "outputs": [
    {
     "name": "stdout",
     "output_type": "stream",
     "text": [
      "<class 'pandas.core.frame.DataFrame'>\n",
      "RangeIndex: 5000 entries, 0 to 4999\n",
      "Data columns (total 11 columns):\n",
      " #   Column              Non-Null Count  Dtype \n",
      "---  ------              --------------  ----- \n",
      " 0   period              5000 non-null   object\n",
      " 1   duoarea             5000 non-null   object\n",
      " 2   area-name           5000 non-null   object\n",
      " 3   product             5000 non-null   object\n",
      " 4   product-name        5000 non-null   object\n",
      " 5   process             5000 non-null   object\n",
      " 6   process-name        5000 non-null   object\n",
      " 7   series              5000 non-null   object\n",
      " 8   series-description  5000 non-null   object\n",
      " 9   value               5000 non-null   object\n",
      " 10  units               5000 non-null   object\n",
      "dtypes: object(11)\n",
      "memory usage: 429.8+ KB\n"
     ]
    }
   ],
   "source": [
    "oil_data.info()"
   ]
  },
  {
   "cell_type": "markdown",
   "metadata": {},
   "source": [
    "> The data have 0 to 4999 indices, and all the columns non-null counts are full except the value column it has three NAN values."
   ]
  },
  {
   "cell_type": "code",
   "execution_count": 14,
   "metadata": {},
   "outputs": [
    {
     "data": {
      "text/html": [
       "<div>\n",
       "<style scoped>\n",
       "    .dataframe tbody tr th:only-of-type {\n",
       "        vertical-align: middle;\n",
       "    }\n",
       "\n",
       "    .dataframe tbody tr th {\n",
       "        vertical-align: top;\n",
       "    }\n",
       "\n",
       "    .dataframe thead th {\n",
       "        text-align: right;\n",
       "    }\n",
       "</style>\n",
       "<table border=\"1\" class=\"dataframe\">\n",
       "  <thead>\n",
       "    <tr style=\"text-align: right;\">\n",
       "      <th></th>\n",
       "      <th>period</th>\n",
       "      <th>duoarea</th>\n",
       "      <th>area-name</th>\n",
       "      <th>product</th>\n",
       "      <th>product-name</th>\n",
       "      <th>process</th>\n",
       "      <th>process-name</th>\n",
       "      <th>series</th>\n",
       "      <th>series-description</th>\n",
       "      <th>value</th>\n",
       "      <th>units</th>\n",
       "    </tr>\n",
       "  </thead>\n",
       "  <tbody>\n",
       "    <tr>\n",
       "      <th>3933</th>\n",
       "      <td>2017-09-25</td>\n",
       "      <td>SMN</td>\n",
       "      <td>MINNESOTA</td>\n",
       "      <td>EPM0</td>\n",
       "      <td>Total Gasoline</td>\n",
       "      <td>PTE</td>\n",
       "      <td>Retail Sales</td>\n",
       "      <td>EMM_EPM0_PTE_SMN_DPG</td>\n",
       "      <td>Minnesota All Grades All Formulations Retail G...</td>\n",
       "      <td>2.479</td>\n",
       "      <td>$/GAL</td>\n",
       "    </tr>\n",
       "    <tr>\n",
       "      <th>2244</th>\n",
       "      <td>2010-10-18</td>\n",
       "      <td>SNY</td>\n",
       "      <td>NEW YORK</td>\n",
       "      <td>EPM0</td>\n",
       "      <td>Total Gasoline</td>\n",
       "      <td>PTE</td>\n",
       "      <td>Retail Sales</td>\n",
       "      <td>EMM_EPM0_PTE_SNY_DPG</td>\n",
       "      <td>New York All Grades All Formulations Retail Ga...</td>\n",
       "      <td>3.049</td>\n",
       "      <td>$/GAL</td>\n",
       "    </tr>\n",
       "    <tr>\n",
       "      <th>3161</th>\n",
       "      <td>2020-03-02</td>\n",
       "      <td>R20</td>\n",
       "      <td>PADD 2</td>\n",
       "      <td>EPM0</td>\n",
       "      <td>Total Gasoline</td>\n",
       "      <td>PTE</td>\n",
       "      <td>Retail Sales</td>\n",
       "      <td>EMM_EPM0_PTE_R20_DPG</td>\n",
       "      <td>Midwest All Grades All Formulations Retail Gas...</td>\n",
       "      <td>2.36</td>\n",
       "      <td>$/GAL</td>\n",
       "    </tr>\n",
       "    <tr>\n",
       "      <th>2654</th>\n",
       "      <td>2016-06-06</td>\n",
       "      <td>R5XCA</td>\n",
       "      <td>PADD 5 EXCEPT CALIFORNIA</td>\n",
       "      <td>EPM0</td>\n",
       "      <td>Total Gasoline</td>\n",
       "      <td>PTE</td>\n",
       "      <td>Retail Sales</td>\n",
       "      <td>EMM_EPM0_PTE_R5XCA_DPG</td>\n",
       "      <td>West Coast (PADD 5) Except California All Grad...</td>\n",
       "      <td>2.52</td>\n",
       "      <td>$/GAL</td>\n",
       "    </tr>\n",
       "    <tr>\n",
       "      <th>3112</th>\n",
       "      <td>2012-08-13</td>\n",
       "      <td>R20</td>\n",
       "      <td>PADD 2</td>\n",
       "      <td>EPM0</td>\n",
       "      <td>Total Gasoline</td>\n",
       "      <td>PTE</td>\n",
       "      <td>Retail Sales</td>\n",
       "      <td>EMM_EPM0_PTE_R20_DPG</td>\n",
       "      <td>Midwest All Grades All Formulations Retail Gas...</td>\n",
       "      <td>3.826</td>\n",
       "      <td>$/GAL</td>\n",
       "    </tr>\n",
       "  </tbody>\n",
       "</table>\n",
       "</div>"
      ],
      "text/plain": [
       "          period duoarea                 area-name product    product-name  \\\n",
       "3933  2017-09-25     SMN                 MINNESOTA    EPM0  Total Gasoline   \n",
       "2244  2010-10-18     SNY                  NEW YORK    EPM0  Total Gasoline   \n",
       "3161  2020-03-02     R20                    PADD 2    EPM0  Total Gasoline   \n",
       "2654  2016-06-06   R5XCA  PADD 5 EXCEPT CALIFORNIA    EPM0  Total Gasoline   \n",
       "3112  2012-08-13     R20                    PADD 2    EPM0  Total Gasoline   \n",
       "\n",
       "     process  process-name                  series  \\\n",
       "3933     PTE  Retail Sales    EMM_EPM0_PTE_SMN_DPG   \n",
       "2244     PTE  Retail Sales    EMM_EPM0_PTE_SNY_DPG   \n",
       "3161     PTE  Retail Sales    EMM_EPM0_PTE_R20_DPG   \n",
       "2654     PTE  Retail Sales  EMM_EPM0_PTE_R5XCA_DPG   \n",
       "3112     PTE  Retail Sales    EMM_EPM0_PTE_R20_DPG   \n",
       "\n",
       "                                     series-description  value  units  \n",
       "3933  Minnesota All Grades All Formulations Retail G...  2.479  $/GAL  \n",
       "2244  New York All Grades All Formulations Retail Ga...  3.049  $/GAL  \n",
       "3161  Midwest All Grades All Formulations Retail Gas...   2.36  $/GAL  \n",
       "2654  West Coast (PADD 5) Except California All Grad...   2.52  $/GAL  \n",
       "3112  Midwest All Grades All Formulations Retail Gas...  3.826  $/GAL  "
      ]
     },
     "execution_count": 14,
     "metadata": {},
     "output_type": "execute_result"
    }
   ],
   "source": [
    "oil_data.sample(5) ## take a sample of 5"
   ]
  },
  {
   "cell_type": "markdown",
   "metadata": {},
   "source": [
    "> However with further looking, it was noticed that there are NA values used to presnet the null values."
   ]
  },
  {
   "cell_type": "code",
   "execution_count": 15,
   "metadata": {},
   "outputs": [
    {
     "data": {
      "text/plain": [
       "period                0\n",
       "duoarea               0\n",
       "area-name             0\n",
       "product               0\n",
       "product-name          0\n",
       "process               0\n",
       "process-name          0\n",
       "series                0\n",
       "series-description    0\n",
       "value                 0\n",
       "units                 0\n",
       "dtype: int64"
      ]
     },
     "execution_count": 15,
     "metadata": {},
     "output_type": "execute_result"
    }
   ],
   "source": [
    "oil_data.isin(nan).sum() ## to check if some values are not detected using isna"
   ]
  },
  {
   "cell_type": "markdown",
   "metadata": {},
   "source": [
    "> In the oil dataset there are no NAN values from the area-name column. The other columns doesn't have NA values. "
   ]
  },
  {
   "cell_type": "markdown",
   "metadata": {
    "id": "8Be77N4I1AmE"
   },
   "source": [
    "### **Validity (Quality Issue #2):**"
   ]
  },
  {
   "cell_type": "markdown",
   "metadata": {},
   "source": [
    "#### **Stocks Dataset**"
   ]
  },
  {
   "cell_type": "markdown",
   "metadata": {},
   "source": [
    "##### *Inspecting the dataframe programmatically*\n",
    "To inspect the validity of the dataframe programmatically, let's take a look into the datatypes of the dataset using the `.datatype` attribute of the datasets."
   ]
  },
  {
   "cell_type": "code",
   "execution_count": 16,
   "metadata": {},
   "outputs": [
    {
     "data": {
      "text/plain": [
       "Price      Ticker\n",
       "Date                 datetime64[ns]\n",
       "Adj Close  AAPL             float64\n",
       "           AMZN             float64\n",
       "           GOOGL            float64\n",
       "           META             float64\n",
       "           MSFT             float64\n",
       "Close      AAPL             float64\n",
       "           AMZN             float64\n",
       "           GOOGL            float64\n",
       "           META             float64\n",
       "           MSFT             float64\n",
       "High       AAPL             float64\n",
       "           AMZN             float64\n",
       "           GOOGL            float64\n",
       "           META             float64\n",
       "           MSFT             float64\n",
       "Low        AAPL             float64\n",
       "           AMZN             float64\n",
       "           GOOGL            float64\n",
       "           META             float64\n",
       "           MSFT             float64\n",
       "Open       AAPL             float64\n",
       "           AMZN             float64\n",
       "           GOOGL            float64\n",
       "           META             float64\n",
       "           MSFT             float64\n",
       "Volume     AAPL               int64\n",
       "           AMZN               int64\n",
       "           GOOGL              int64\n",
       "           META             float64\n",
       "           MSFT               int64\n",
       "dtype: object"
      ]
     },
     "execution_count": 16,
     "metadata": {},
     "output_type": "execute_result"
    }
   ],
   "source": [
    "stocks_data.dtypes ## looking into datatypes"
   ]
  },
  {
   "cell_type": "markdown",
   "metadata": {},
   "source": [
    "> The datastypes are all valid. Let's take a look into why For the volume some of the columns have integer values."
   ]
  },
  {
   "cell_type": "code",
   "execution_count": 17,
   "metadata": {},
   "outputs": [
    {
     "data": {
      "text/plain": [
       "2738   2015-11-17\n",
       "218    2005-11-11\n",
       "1495   2010-12-09\n",
       "4580   2023-03-15\n",
       "3145   2017-06-30\n",
       "Name: Date, dtype: datetime64[ns]"
      ]
     },
     "execution_count": 17,
     "metadata": {},
     "output_type": "execute_result"
    }
   ],
   "source": [
    "stocks_data['Date'].sample(5) ## Take a sample of 5"
   ]
  },
  {
   "cell_type": "markdown",
   "metadata": {},
   "source": [
    "> The datetime64 is actuualy only the date of the record there is no timestamps."
   ]
  },
  {
   "cell_type": "code",
   "execution_count": 18,
   "metadata": {},
   "outputs": [
    {
     "name": "stdout",
     "output_type": "stream",
     "text": [
      "4457    162278800\n",
      "4050     84183100\n",
      "2719    167180800\n",
      "4769     70404200\n",
      "1856    560896000\n",
      "Name: (Volume, AAPL), dtype: int64\n",
      "3227    112374000\n",
      "2493     39672000\n",
      "736     132172000\n",
      "4727     45786600\n",
      "474     130604000\n",
      "Name: (Volume, AMZN), dtype: int64\n",
      "4096     25682000\n",
      "1592    168970860\n",
      "2804     37092000\n",
      "3572     27302000\n",
      "2857     32634000\n",
      "Name: (Volume, GOOGL), dtype: int64\n",
      "2051    36394700\n",
      "95      52120800\n",
      "736     84894700\n",
      "4498    31123300\n",
      "1045    93428000\n",
      "Name: (Volume, MSFT), dtype: int64\n"
     ]
    }
   ],
   "source": [
    "int_col= list(stocks_data.dtypes[stocks_data.dtypes == 'int64']['Volume'].index) ## take the values where the datatypes are integers\n",
    "for col in int_col:\n",
    "    print(stocks_data['Volume',col].sample(5))"
   ]
  },
  {
   "cell_type": "markdown",
   "metadata": {},
   "source": [
    "> The dataset is valid in terms of data types for the integers columns."
   ]
  },
  {
   "cell_type": "markdown",
   "metadata": {},
   "source": [
    "##### *Inspecting the dataframe visually*\n",
    "The visualization used to check for datatypes validity is a summary statics table."
   ]
  },
  {
   "cell_type": "code",
   "execution_count": 19,
   "metadata": {
    "id": "bnviRCUI-bb7"
   },
   "outputs": [
    {
     "data": {
      "text/html": [
       "<div>\n",
       "<style scoped>\n",
       "    .dataframe tbody tr th:only-of-type {\n",
       "        vertical-align: middle;\n",
       "    }\n",
       "\n",
       "    .dataframe tbody tr th {\n",
       "        vertical-align: top;\n",
       "    }\n",
       "\n",
       "    .dataframe thead th {\n",
       "        text-align: right;\n",
       "    }\n",
       "</style>\n",
       "<table border=\"1\" class=\"dataframe\">\n",
       "  <thead>\n",
       "    <tr style=\"text-align: right;\">\n",
       "      <th></th>\n",
       "      <th></th>\n",
       "      <th>count</th>\n",
       "      <th>mean</th>\n",
       "      <th>min</th>\n",
       "      <th>25%</th>\n",
       "      <th>50%</th>\n",
       "      <th>75%</th>\n",
       "      <th>max</th>\n",
       "      <th>std</th>\n",
       "    </tr>\n",
       "    <tr>\n",
       "      <th>Price</th>\n",
       "      <th>Ticker</th>\n",
       "      <th></th>\n",
       "      <th></th>\n",
       "      <th></th>\n",
       "      <th></th>\n",
       "      <th></th>\n",
       "      <th></th>\n",
       "      <th></th>\n",
       "      <th></th>\n",
       "    </tr>\n",
       "  </thead>\n",
       "  <tbody>\n",
       "    <tr>\n",
       "      <th>Date</th>\n",
       "      <th></th>\n",
       "      <td>4781</td>\n",
       "      <td>2014-07-01 15:02:04.241790208</td>\n",
       "      <td>2005-01-03 00:00:00</td>\n",
       "      <td>2009-10-01 00:00:00</td>\n",
       "      <td>2014-07-02 00:00:00</td>\n",
       "      <td>2019-04-02 00:00:00</td>\n",
       "      <td>2023-12-29 00:00:00</td>\n",
       "      <td>NaN</td>\n",
       "    </tr>\n",
       "    <tr>\n",
       "      <th rowspan=\"5\" valign=\"top\">Adj Close</th>\n",
       "      <th>AAPL</th>\n",
       "      <td>4781.0</td>\n",
       "      <td>43.406251</td>\n",
       "      <td>0.955513</td>\n",
       "      <td>5.748776</td>\n",
       "      <td>20.945797</td>\n",
       "      <td>49.082432</td>\n",
       "      <td>197.589523</td>\n",
       "      <td>53.512731</td>\n",
       "    </tr>\n",
       "    <tr>\n",
       "      <th>AMZN</th>\n",
       "      <td>4781.0</td>\n",
       "      <td>47.456018</td>\n",
       "      <td>1.3035</td>\n",
       "      <td>4.7205</td>\n",
       "      <td>16.6425</td>\n",
       "      <td>88.806</td>\n",
       "      <td>186.570496</td>\n",
       "      <td>54.003279</td>\n",
       "    </tr>\n",
       "    <tr>\n",
       "      <th>GOOGL</th>\n",
       "      <td>4781.0</td>\n",
       "      <td>42.617377</td>\n",
       "      <td>4.374109</td>\n",
       "      <td>13.190316</td>\n",
       "      <td>27.369587</td>\n",
       "      <td>58.646194</td>\n",
       "      <td>149.666733</td>\n",
       "      <td>38.617765</td>\n",
       "    </tr>\n",
       "    <tr>\n",
       "      <th>META</th>\n",
       "      <td>2923.0</td>\n",
       "      <td>157.370234</td>\n",
       "      <td>17.69364</td>\n",
       "      <td>80.604355</td>\n",
       "      <td>153.205185</td>\n",
       "      <td>204.38501</td>\n",
       "      <td>381.39624</td>\n",
       "      <td>90.7394</td>\n",
       "    </tr>\n",
       "    <tr>\n",
       "      <th>MSFT</th>\n",
       "      <td>4781.0</td>\n",
       "      <td>85.750155</td>\n",
       "      <td>11.263445</td>\n",
       "      <td>20.658804</td>\n",
       "      <td>35.504242</td>\n",
       "      <td>113.33728</td>\n",
       "      <td>381.305817</td>\n",
       "      <td>96.422986</td>\n",
       "    </tr>\n",
       "    <tr>\n",
       "      <th rowspan=\"5\" valign=\"top\">Close</th>\n",
       "      <th>AAPL</th>\n",
       "      <td>4781.0</td>\n",
       "      <td>45.151456</td>\n",
       "      <td>1.130179</td>\n",
       "      <td>6.799643</td>\n",
       "      <td>23.620001</td>\n",
       "      <td>50.965</td>\n",
       "      <td>198.110001</td>\n",
       "      <td>53.62873</td>\n",
       "    </tr>\n",
       "    <tr>\n",
       "      <th>AMZN</th>\n",
       "      <td>4781.0</td>\n",
       "      <td>47.456018</td>\n",
       "      <td>1.3035</td>\n",
       "      <td>4.7205</td>\n",
       "      <td>16.6425</td>\n",
       "      <td>88.806</td>\n",
       "      <td>186.570496</td>\n",
       "      <td>54.003279</td>\n",
       "    </tr>\n",
       "    <tr>\n",
       "      <th>GOOGL</th>\n",
       "      <td>4781.0</td>\n",
       "      <td>42.666289</td>\n",
       "      <td>4.379129</td>\n",
       "      <td>13.205455</td>\n",
       "      <td>27.400999</td>\n",
       "      <td>58.713501</td>\n",
       "      <td>149.838501</td>\n",
       "      <td>38.662086</td>\n",
       "    </tr>\n",
       "    <tr>\n",
       "      <th>META</th>\n",
       "      <td>2923.0</td>\n",
       "      <td>157.69362</td>\n",
       "      <td>17.73</td>\n",
       "      <td>80.769997</td>\n",
       "      <td>153.520004</td>\n",
       "      <td>204.805</td>\n",
       "      <td>382.179993</td>\n",
       "      <td>90.925863</td>\n",
       "    </tr>\n",
       "    <tr>\n",
       "      <th>MSFT</th>\n",
       "      <td>4781.0</td>\n",
       "      <td>91.896614</td>\n",
       "      <td>15.15</td>\n",
       "      <td>27.690001</td>\n",
       "      <td>41.459999</td>\n",
       "      <td>119.279999</td>\n",
       "      <td>382.700012</td>\n",
       "      <td>95.785255</td>\n",
       "    </tr>\n",
       "    <tr>\n",
       "      <th rowspan=\"5\" valign=\"top\">High</th>\n",
       "      <th>AAPL</th>\n",
       "      <td>4781.0</td>\n",
       "      <td>45.611048</td>\n",
       "      <td>1.159107</td>\n",
       "      <td>6.881429</td>\n",
       "      <td>23.887501</td>\n",
       "      <td>51.334999</td>\n",
       "      <td>199.619995</td>\n",
       "      <td>54.173137</td>\n",
       "    </tr>\n",
       "    <tr>\n",
       "      <th>AMZN</th>\n",
       "      <td>4781.0</td>\n",
       "      <td>48.02516</td>\n",
       "      <td>1.315</td>\n",
       "      <td>4.7925</td>\n",
       "      <td>16.829</td>\n",
       "      <td>89.649498</td>\n",
       "      <td>188.654007</td>\n",
       "      <td>54.674486</td>\n",
       "    </tr>\n",
       "    <tr>\n",
       "      <th>GOOGL</th>\n",
       "      <td>4781.0</td>\n",
       "      <td>43.102564</td>\n",
       "      <td>4.464464</td>\n",
       "      <td>13.343343</td>\n",
       "      <td>27.627001</td>\n",
       "      <td>59.25</td>\n",
       "      <td>151.546494</td>\n",
       "      <td>39.078927</td>\n",
       "    </tr>\n",
       "    <tr>\n",
       "      <th>META</th>\n",
       "      <td>2923.0</td>\n",
       "      <td>159.668765</td>\n",
       "      <td>18.27</td>\n",
       "      <td>81.470001</td>\n",
       "      <td>155.589996</td>\n",
       "      <td>207.645004</td>\n",
       "      <td>384.329987</td>\n",
       "      <td>92.034626</td>\n",
       "    </tr>\n",
       "    <tr>\n",
       "      <th>MSFT</th>\n",
       "      <td>4781.0</td>\n",
       "      <td>92.781004</td>\n",
       "      <td>15.62</td>\n",
       "      <td>27.93</td>\n",
       "      <td>41.66</td>\n",
       "      <td>119.589996</td>\n",
       "      <td>384.299988</td>\n",
       "      <td>96.728997</td>\n",
       "    </tr>\n",
       "    <tr>\n",
       "      <th rowspan=\"5\" valign=\"top\">Low</th>\n",
       "      <th>AAPL</th>\n",
       "      <td>4781.0</td>\n",
       "      <td>44.649769</td>\n",
       "      <td>1.117857</td>\n",
       "      <td>6.738571</td>\n",
       "      <td>23.407499</td>\n",
       "      <td>50.549999</td>\n",
       "      <td>197.0</td>\n",
       "      <td>53.026181</td>\n",
       "    </tr>\n",
       "    <tr>\n",
       "      <th>AMZN</th>\n",
       "      <td>4781.0</td>\n",
       "      <td>46.862393</td>\n",
       "      <td>1.288</td>\n",
       "      <td>4.6535</td>\n",
       "      <td>16.441</td>\n",
       "      <td>87.800003</td>\n",
       "      <td>184.839493</td>\n",
       "      <td>53.333407</td>\n",
       "    </tr>\n",
       "    <tr>\n",
       "      <th>GOOGL</th>\n",
       "      <td>4781.0</td>\n",
       "      <td>42.210375</td>\n",
       "      <td>4.318569</td>\n",
       "      <td>13.075075</td>\n",
       "      <td>27.222</td>\n",
       "      <td>58.174</td>\n",
       "      <td>148.899002</td>\n",
       "      <td>38.227936</td>\n",
       "    </tr>\n",
       "    <tr>\n",
       "      <th>META</th>\n",
       "      <td>2923.0</td>\n",
       "      <td>155.638686</td>\n",
       "      <td>17.549999</td>\n",
       "      <td>80.154999</td>\n",
       "      <td>151.660004</td>\n",
       "      <td>201.785004</td>\n",
       "      <td>378.809998</td>\n",
       "      <td>89.773014</td>\n",
       "    </tr>\n",
       "    <tr>\n",
       "      <th>MSFT</th>\n",
       "      <td>4781.0</td>\n",
       "      <td>90.932192</td>\n",
       "      <td>14.87</td>\n",
       "      <td>27.41</td>\n",
       "      <td>41.040001</td>\n",
       "      <td>118.379997</td>\n",
       "      <td>378.160004</td>\n",
       "      <td>94.736781</td>\n",
       "    </tr>\n",
       "    <tr>\n",
       "      <th rowspan=\"5\" valign=\"top\">Open</th>\n",
       "      <th>AAPL</th>\n",
       "      <td>4781.0</td>\n",
       "      <td>45.120857</td>\n",
       "      <td>1.139107</td>\n",
       "      <td>6.809286</td>\n",
       "      <td>23.66</td>\n",
       "      <td>50.865002</td>\n",
       "      <td>198.020004</td>\n",
       "      <td>53.576141</td>\n",
       "    </tr>\n",
       "    <tr>\n",
       "      <th>AMZN</th>\n",
       "      <td>4781.0</td>\n",
       "      <td>47.467806</td>\n",
       "      <td>1.3045</td>\n",
       "      <td>4.7495</td>\n",
       "      <td>16.715</td>\n",
       "      <td>88.786499</td>\n",
       "      <td>187.199997</td>\n",
       "      <td>54.034916</td>\n",
       "    </tr>\n",
       "    <tr>\n",
       "      <th>GOOGL</th>\n",
       "      <td>4781.0</td>\n",
       "      <td>42.655534</td>\n",
       "      <td>4.386887</td>\n",
       "      <td>13.217217</td>\n",
       "      <td>27.4</td>\n",
       "      <td>58.7495</td>\n",
       "      <td>151.25</td>\n",
       "      <td>38.641589</td>\n",
       "    </tr>\n",
       "    <tr>\n",
       "      <th>META</th>\n",
       "      <td>2923.0</td>\n",
       "      <td>157.61935</td>\n",
       "      <td>18.08</td>\n",
       "      <td>80.77</td>\n",
       "      <td>153.639999</td>\n",
       "      <td>204.214996</td>\n",
       "      <td>381.679993</td>\n",
       "      <td>90.865561</td>\n",
       "    </tr>\n",
       "    <tr>\n",
       "      <th>MSFT</th>\n",
       "      <td>4781.0</td>\n",
       "      <td>91.865313</td>\n",
       "      <td>15.2</td>\n",
       "      <td>27.68</td>\n",
       "      <td>41.369999</td>\n",
       "      <td>119.059998</td>\n",
       "      <td>383.76001</td>\n",
       "      <td>95.751817</td>\n",
       "    </tr>\n",
       "    <tr>\n",
       "      <th rowspan=\"5\" valign=\"top\">Volume</th>\n",
       "      <th>AAPL</th>\n",
       "      <td>4781.0</td>\n",
       "      <td>403190325.831416</td>\n",
       "      <td>24048300.0</td>\n",
       "      <td>108953300.0</td>\n",
       "      <td>258322400.0</td>\n",
       "      <td>581148400.0</td>\n",
       "      <td>3372969600.0</td>\n",
       "      <td>398702935.886029</td>\n",
       "    </tr>\n",
       "    <tr>\n",
       "      <th>AMZN</th>\n",
       "      <td>4781.0</td>\n",
       "      <td>108328400.397406</td>\n",
       "      <td>17626000.0</td>\n",
       "      <td>60214000.0</td>\n",
       "      <td>86388000.0</td>\n",
       "      <td>129110000.0</td>\n",
       "      <td>2086584000.0</td>\n",
       "      <td>91519691.093599</td>\n",
       "    </tr>\n",
       "    <tr>\n",
       "      <th>GOOGL</th>\n",
       "      <td>4781.0</td>\n",
       "      <td>115393301.946873</td>\n",
       "      <td>9312000.0</td>\n",
       "      <td>31586000.0</td>\n",
       "      <td>61402000.0</td>\n",
       "      <td>139016844.0</td>\n",
       "      <td>1643023332.0</td>\n",
       "      <td>142627540.065058</td>\n",
       "    </tr>\n",
       "    <tr>\n",
       "      <th>META</th>\n",
       "      <td>2923.0</td>\n",
       "      <td>30604724.769073</td>\n",
       "      <td>5467500.0</td>\n",
       "      <td>16337300.0</td>\n",
       "      <td>22948700.0</td>\n",
       "      <td>35204400.0</td>\n",
       "      <td>573576400.0</td>\n",
       "      <td>26371567.151792</td>\n",
       "    </tr>\n",
       "    <tr>\n",
       "      <th>MSFT</th>\n",
       "      <td>4781.0</td>\n",
       "      <td>45513886.467266</td>\n",
       "      <td>7425600.0</td>\n",
       "      <td>26091000.0</td>\n",
       "      <td>38153000.0</td>\n",
       "      <td>57376800.0</td>\n",
       "      <td>591052200.0</td>\n",
       "      <td>28421310.332875</td>\n",
       "    </tr>\n",
       "  </tbody>\n",
       "</table>\n",
       "</div>"
      ],
      "text/plain": [
       "                   count                           mean                  min  \\\n",
       "Price     Ticker                                                               \n",
       "Date                4781  2014-07-01 15:02:04.241790208  2005-01-03 00:00:00   \n",
       "Adj Close AAPL    4781.0                      43.406251             0.955513   \n",
       "          AMZN    4781.0                      47.456018               1.3035   \n",
       "          GOOGL   4781.0                      42.617377             4.374109   \n",
       "          META    2923.0                     157.370234             17.69364   \n",
       "          MSFT    4781.0                      85.750155            11.263445   \n",
       "Close     AAPL    4781.0                      45.151456             1.130179   \n",
       "          AMZN    4781.0                      47.456018               1.3035   \n",
       "          GOOGL   4781.0                      42.666289             4.379129   \n",
       "          META    2923.0                      157.69362                17.73   \n",
       "          MSFT    4781.0                      91.896614                15.15   \n",
       "High      AAPL    4781.0                      45.611048             1.159107   \n",
       "          AMZN    4781.0                       48.02516                1.315   \n",
       "          GOOGL   4781.0                      43.102564             4.464464   \n",
       "          META    2923.0                     159.668765                18.27   \n",
       "          MSFT    4781.0                      92.781004                15.62   \n",
       "Low       AAPL    4781.0                      44.649769             1.117857   \n",
       "          AMZN    4781.0                      46.862393                1.288   \n",
       "          GOOGL   4781.0                      42.210375             4.318569   \n",
       "          META    2923.0                     155.638686            17.549999   \n",
       "          MSFT    4781.0                      90.932192                14.87   \n",
       "Open      AAPL    4781.0                      45.120857             1.139107   \n",
       "          AMZN    4781.0                      47.467806               1.3045   \n",
       "          GOOGL   4781.0                      42.655534             4.386887   \n",
       "          META    2923.0                      157.61935                18.08   \n",
       "          MSFT    4781.0                      91.865313                 15.2   \n",
       "Volume    AAPL    4781.0               403190325.831416           24048300.0   \n",
       "          AMZN    4781.0               108328400.397406           17626000.0   \n",
       "          GOOGL   4781.0               115393301.946873            9312000.0   \n",
       "          META    2923.0                30604724.769073            5467500.0   \n",
       "          MSFT    4781.0                45513886.467266            7425600.0   \n",
       "\n",
       "                                  25%                  50%  \\\n",
       "Price     Ticker                                             \n",
       "Date              2009-10-01 00:00:00  2014-07-02 00:00:00   \n",
       "Adj Close AAPL               5.748776            20.945797   \n",
       "          AMZN                 4.7205              16.6425   \n",
       "          GOOGL             13.190316            27.369587   \n",
       "          META              80.604355           153.205185   \n",
       "          MSFT              20.658804            35.504242   \n",
       "Close     AAPL               6.799643            23.620001   \n",
       "          AMZN                 4.7205              16.6425   \n",
       "          GOOGL             13.205455            27.400999   \n",
       "          META              80.769997           153.520004   \n",
       "          MSFT              27.690001            41.459999   \n",
       "High      AAPL               6.881429            23.887501   \n",
       "          AMZN                 4.7925               16.829   \n",
       "          GOOGL             13.343343            27.627001   \n",
       "          META              81.470001           155.589996   \n",
       "          MSFT                  27.93                41.66   \n",
       "Low       AAPL               6.738571            23.407499   \n",
       "          AMZN                 4.6535               16.441   \n",
       "          GOOGL             13.075075               27.222   \n",
       "          META              80.154999           151.660004   \n",
       "          MSFT                  27.41            41.040001   \n",
       "Open      AAPL               6.809286                23.66   \n",
       "          AMZN                 4.7495               16.715   \n",
       "          GOOGL             13.217217                 27.4   \n",
       "          META                  80.77           153.639999   \n",
       "          MSFT                  27.68            41.369999   \n",
       "Volume    AAPL            108953300.0          258322400.0   \n",
       "          AMZN             60214000.0           86388000.0   \n",
       "          GOOGL            31586000.0           61402000.0   \n",
       "          META             16337300.0           22948700.0   \n",
       "          MSFT             26091000.0           38153000.0   \n",
       "\n",
       "                                  75%                  max               std  \n",
       "Price     Ticker                                                              \n",
       "Date              2019-04-02 00:00:00  2023-12-29 00:00:00               NaN  \n",
       "Adj Close AAPL              49.082432           197.589523         53.512731  \n",
       "          AMZN                 88.806           186.570496         54.003279  \n",
       "          GOOGL             58.646194           149.666733         38.617765  \n",
       "          META              204.38501            381.39624           90.7394  \n",
       "          MSFT              113.33728           381.305817         96.422986  \n",
       "Close     AAPL                 50.965           198.110001          53.62873  \n",
       "          AMZN                 88.806           186.570496         54.003279  \n",
       "          GOOGL             58.713501           149.838501         38.662086  \n",
       "          META                204.805           382.179993         90.925863  \n",
       "          MSFT             119.279999           382.700012         95.785255  \n",
       "High      AAPL              51.334999           199.619995         54.173137  \n",
       "          AMZN              89.649498           188.654007         54.674486  \n",
       "          GOOGL                 59.25           151.546494         39.078927  \n",
       "          META             207.645004           384.329987         92.034626  \n",
       "          MSFT             119.589996           384.299988         96.728997  \n",
       "Low       AAPL              50.549999                197.0         53.026181  \n",
       "          AMZN              87.800003           184.839493         53.333407  \n",
       "          GOOGL                58.174           148.899002         38.227936  \n",
       "          META             201.785004           378.809998         89.773014  \n",
       "          MSFT             118.379997           378.160004         94.736781  \n",
       "Open      AAPL              50.865002           198.020004         53.576141  \n",
       "          AMZN              88.786499           187.199997         54.034916  \n",
       "          GOOGL               58.7495               151.25         38.641589  \n",
       "          META             204.214996           381.679993         90.865561  \n",
       "          MSFT             119.059998            383.76001         95.751817  \n",
       "Volume    AAPL            581148400.0         3372969600.0  398702935.886029  \n",
       "          AMZN            129110000.0         2086584000.0   91519691.093599  \n",
       "          GOOGL           139016844.0         1643023332.0  142627540.065058  \n",
       "          META             35204400.0          573576400.0   26371567.151792  \n",
       "          MSFT             57376800.0          591052200.0   28421310.332875  "
      ]
     },
     "execution_count": 19,
     "metadata": {},
     "output_type": "execute_result"
    }
   ],
   "source": [
    "## Inspecting the dataframe visually\n",
    "stocks_data.describe().T"
   ]
  },
  {
   "cell_type": "markdown",
   "metadata": {},
   "source": [
    "#### **Oil Dataset**"
   ]
  },
  {
   "cell_type": "markdown",
   "metadata": {},
   "source": [
    "##### *Inspecting the dataframe programmatically*\n",
    "To inspect the validity of the dataframe programmatically, let's take a look into the datatypes of the datasets using the `.datatype` attribute of the datasets."
   ]
  },
  {
   "cell_type": "code",
   "execution_count": 20,
   "metadata": {},
   "outputs": [
    {
     "data": {
      "text/plain": [
       "period                object\n",
       "duoarea               object\n",
       "area-name             object\n",
       "product               object\n",
       "product-name          object\n",
       "process               object\n",
       "process-name          object\n",
       "series                object\n",
       "series-description    object\n",
       "value                 object\n",
       "units                 object\n",
       "dtype: object"
      ]
     },
     "execution_count": 20,
     "metadata": {},
     "output_type": "execute_result"
    }
   ],
   "source": [
    "oil_data.dtypes"
   ]
  },
  {
   "cell_type": "markdown",
   "metadata": {},
   "source": [
    "> All the datatypes in oil data are seen as objects. But as seen in the sample of the data some are dates and numers."
   ]
  },
  {
   "cell_type": "code",
   "execution_count": 21,
   "metadata": {},
   "outputs": [
    {
     "data": {
      "text/html": [
       "<div>\n",
       "<style scoped>\n",
       "    .dataframe tbody tr th:only-of-type {\n",
       "        vertical-align: middle;\n",
       "    }\n",
       "\n",
       "    .dataframe tbody tr th {\n",
       "        vertical-align: top;\n",
       "    }\n",
       "\n",
       "    .dataframe thead th {\n",
       "        text-align: right;\n",
       "    }\n",
       "</style>\n",
       "<table border=\"1\" class=\"dataframe\">\n",
       "  <thead>\n",
       "    <tr style=\"text-align: right;\">\n",
       "      <th></th>\n",
       "      <th>4067</th>\n",
       "      <th>2292</th>\n",
       "    </tr>\n",
       "  </thead>\n",
       "  <tbody>\n",
       "    <tr>\n",
       "      <th>period</th>\n",
       "      <td>2020-02-24</td>\n",
       "      <td>2019-02-11</td>\n",
       "    </tr>\n",
       "    <tr>\n",
       "      <th>duoarea</th>\n",
       "      <td>Y48SE</td>\n",
       "      <td>SNY</td>\n",
       "    </tr>\n",
       "    <tr>\n",
       "      <th>area-name</th>\n",
       "      <td>SEATTLE</td>\n",
       "      <td>NEW YORK</td>\n",
       "    </tr>\n",
       "    <tr>\n",
       "      <th>product</th>\n",
       "      <td>EPM0</td>\n",
       "      <td>EPM0</td>\n",
       "    </tr>\n",
       "    <tr>\n",
       "      <th>product-name</th>\n",
       "      <td>Total Gasoline</td>\n",
       "      <td>Total Gasoline</td>\n",
       "    </tr>\n",
       "    <tr>\n",
       "      <th>process</th>\n",
       "      <td>PTE</td>\n",
       "      <td>PTE</td>\n",
       "    </tr>\n",
       "    <tr>\n",
       "      <th>process-name</th>\n",
       "      <td>Retail Sales</td>\n",
       "      <td>Retail Sales</td>\n",
       "    </tr>\n",
       "    <tr>\n",
       "      <th>series</th>\n",
       "      <td>EMM_EPM0_PTE_Y48SE_DPG</td>\n",
       "      <td>EMM_EPM0_PTE_SNY_DPG</td>\n",
       "    </tr>\n",
       "    <tr>\n",
       "      <th>series-description</th>\n",
       "      <td>Seattle, WA All Grades All Formulations Retail...</td>\n",
       "      <td>New York All Grades All Formulations Retail Ga...</td>\n",
       "    </tr>\n",
       "    <tr>\n",
       "      <th>value</th>\n",
       "      <td>3.209</td>\n",
       "      <td>2.457</td>\n",
       "    </tr>\n",
       "    <tr>\n",
       "      <th>units</th>\n",
       "      <td>$/GAL</td>\n",
       "      <td>$/GAL</td>\n",
       "    </tr>\n",
       "  </tbody>\n",
       "</table>\n",
       "</div>"
      ],
      "text/plain": [
       "                                                                 4067  \\\n",
       "period                                                     2020-02-24   \n",
       "duoarea                                                         Y48SE   \n",
       "area-name                                                     SEATTLE   \n",
       "product                                                          EPM0   \n",
       "product-name                                           Total Gasoline   \n",
       "process                                                           PTE   \n",
       "process-name                                             Retail Sales   \n",
       "series                                         EMM_EPM0_PTE_Y48SE_DPG   \n",
       "series-description  Seattle, WA All Grades All Formulations Retail...   \n",
       "value                                                           3.209   \n",
       "units                                                           $/GAL   \n",
       "\n",
       "                                                                 2292  \n",
       "period                                                     2019-02-11  \n",
       "duoarea                                                           SNY  \n",
       "area-name                                                    NEW YORK  \n",
       "product                                                          EPM0  \n",
       "product-name                                           Total Gasoline  \n",
       "process                                                           PTE  \n",
       "process-name                                             Retail Sales  \n",
       "series                                           EMM_EPM0_PTE_SNY_DPG  \n",
       "series-description  New York All Grades All Formulations Retail Ga...  \n",
       "value                                                           2.457  \n",
       "units                                                           $/GAL  "
      ]
     },
     "execution_count": 21,
     "metadata": {},
     "output_type": "execute_result"
    }
   ],
   "source": [
    "oil_data.sample(2).T"
   ]
  },
  {
   "cell_type": "markdown",
   "metadata": {},
   "source": [
    "> So most of the data here are categorical. The value column is a numerical one."
   ]
  },
  {
   "cell_type": "code",
   "execution_count": 22,
   "metadata": {},
   "outputs": [
    {
     "data": {
      "text/plain": [
       "period                 989\n",
       "duoarea                 29\n",
       "area-name               29\n",
       "product                  4\n",
       "product-name             4\n",
       "process                  1\n",
       "process-name             1\n",
       "series                  43\n",
       "series-description      43\n",
       "value                 2313\n",
       "units                    1\n",
       "dtype: int64"
      ]
     },
     "execution_count": 22,
     "metadata": {},
     "output_type": "execute_result"
    }
   ],
   "source": [
    "oil_data.nunique()"
   ]
  },
  {
   "cell_type": "markdown",
   "metadata": {},
   "source": [
    "> The date column is named period instead of date. Each of the `process`, the `process-name` and the `units` have only one unique value that is, they don't bring a value to the dataset."
   ]
  },
  {
   "cell_type": "markdown",
   "metadata": {
    "id": "lXhGiYyiwwKN"
   },
   "source": [
    "### **Columns Names: (Quality Issue #3):**"
   ]
  },
  {
   "cell_type": "markdown",
   "metadata": {},
   "source": [
    "#### **Stocks Dataset**"
   ]
  },
  {
   "cell_type": "markdown",
   "metadata": {},
   "source": [
    "##### *Inspecting the dataframe programmatically*\n",
    "The method used to inspect the dataframe programmatically, is calling the `.columns` attribute to look into the names of the columns."
   ]
  },
  {
   "cell_type": "code",
   "execution_count": 23,
   "metadata": {},
   "outputs": [
    {
     "data": {
      "text/plain": [
       "MultiIndex([(     'Date',      ''),\n",
       "            ('Adj Close',  'AAPL'),\n",
       "            ('Adj Close',  'AMZN'),\n",
       "            ('Adj Close', 'GOOGL'),\n",
       "            ('Adj Close',  'META'),\n",
       "            ('Adj Close',  'MSFT'),\n",
       "            (    'Close',  'AAPL'),\n",
       "            (    'Close',  'AMZN'),\n",
       "            (    'Close', 'GOOGL'),\n",
       "            (    'Close',  'META'),\n",
       "            (    'Close',  'MSFT'),\n",
       "            (     'High',  'AAPL'),\n",
       "            (     'High',  'AMZN'),\n",
       "            (     'High', 'GOOGL'),\n",
       "            (     'High',  'META'),\n",
       "            (     'High',  'MSFT'),\n",
       "            (      'Low',  'AAPL'),\n",
       "            (      'Low',  'AMZN'),\n",
       "            (      'Low', 'GOOGL'),\n",
       "            (      'Low',  'META'),\n",
       "            (      'Low',  'MSFT'),\n",
       "            (     'Open',  'AAPL'),\n",
       "            (     'Open',  'AMZN'),\n",
       "            (     'Open', 'GOOGL'),\n",
       "            (     'Open',  'META'),\n",
       "            (     'Open',  'MSFT'),\n",
       "            (   'Volume',  'AAPL'),\n",
       "            (   'Volume',  'AMZN'),\n",
       "            (   'Volume', 'GOOGL'),\n",
       "            (   'Volume',  'META'),\n",
       "            (   'Volume',  'MSFT')],\n",
       "           names=['Price', 'Ticker'])"
      ]
     },
     "execution_count": 23,
     "metadata": {},
     "output_type": "execute_result"
    }
   ],
   "source": [
    "stocks_data.columns"
   ]
  },
  {
   "cell_type": "markdown",
   "metadata": {},
   "source": [
    "> The columns names have to be converted to the appropriate and by the convintion naming of columns."
   ]
  },
  {
   "cell_type": "markdown",
   "metadata": {},
   "source": [
    "#### **Oil Dataset**"
   ]
  },
  {
   "cell_type": "markdown",
   "metadata": {},
   "source": [
    "##### *Inspecting the dataframe programmatically*\n",
    "The method used to inspect the dataframe programmatically, is calling the `.columns` attribute to look into the names of the columns."
   ]
  },
  {
   "cell_type": "code",
   "execution_count": 24,
   "metadata": {},
   "outputs": [
    {
     "data": {
      "text/plain": [
       "Index(['period', 'duoarea', 'area-name', 'product', 'product-name', 'process',\n",
       "       'process-name', 'series', 'series-description', 'value', 'units'],\n",
       "      dtype='object')"
      ]
     },
     "execution_count": 24,
     "metadata": {},
     "output_type": "execute_result"
    }
   ],
   "source": [
    "oil_data.columns"
   ]
  },
  {
   "cell_type": "markdown",
   "metadata": {},
   "source": [
    "> The names of these columns would be better mapped for the merging, the column of date is named period. other coulmns could use a more meaningful name and using the convention of columns naming."
   ]
  },
  {
   "cell_type": "markdown",
   "metadata": {
    "id": "4ffMoRGSwzYj"
   },
   "source": [
    "### **Indexing (Tidiness Issue #1):**"
   ]
  },
  {
   "cell_type": "markdown",
   "metadata": {},
   "source": [
    "#### **Stocks Dataset**"
   ]
  },
  {
   "cell_type": "markdown",
   "metadata": {},
   "source": [
    "##### *Inspecting the dataframe programmatically*\n",
    "To inspect the dataframe programmatically in terms of indexing two atttributes are called `.index` and `.columns` it is because they can show the columns and the indecies used in the dataframe."
   ]
  },
  {
   "cell_type": "code",
   "execution_count": 25,
   "metadata": {},
   "outputs": [
    {
     "name": "stdout",
     "output_type": "stream",
     "text": [
      "RangeIndex(start=0, stop=4781, step=1)\n"
     ]
    },
    {
     "data": {
      "text/plain": [
       "MultiIndex([(     'Date',      ''),\n",
       "            ('Adj Close',  'AAPL'),\n",
       "            ('Adj Close',  'AMZN'),\n",
       "            ('Adj Close', 'GOOGL'),\n",
       "            ('Adj Close',  'META'),\n",
       "            ('Adj Close',  'MSFT'),\n",
       "            (    'Close',  'AAPL'),\n",
       "            (    'Close',  'AMZN'),\n",
       "            (    'Close', 'GOOGL'),\n",
       "            (    'Close',  'META'),\n",
       "            (    'Close',  'MSFT'),\n",
       "            (     'High',  'AAPL'),\n",
       "            (     'High',  'AMZN'),\n",
       "            (     'High', 'GOOGL'),\n",
       "            (     'High',  'META'),\n",
       "            (     'High',  'MSFT'),\n",
       "            (      'Low',  'AAPL'),\n",
       "            (      'Low',  'AMZN'),\n",
       "            (      'Low', 'GOOGL'),\n",
       "            (      'Low',  'META'),\n",
       "            (      'Low',  'MSFT'),\n",
       "            (     'Open',  'AAPL'),\n",
       "            (     'Open',  'AMZN'),\n",
       "            (     'Open', 'GOOGL'),\n",
       "            (     'Open',  'META'),\n",
       "            (     'Open',  'MSFT'),\n",
       "            (   'Volume',  'AAPL'),\n",
       "            (   'Volume',  'AMZN'),\n",
       "            (   'Volume', 'GOOGL'),\n",
       "            (   'Volume',  'META'),\n",
       "            (   'Volume',  'MSFT')],\n",
       "           names=['Price', 'Ticker'])"
      ]
     },
     "execution_count": 25,
     "metadata": {},
     "output_type": "execute_result"
    }
   ],
   "source": [
    "print(stocks_data.index)\n",
    "stocks_data.columns"
   ]
  },
  {
   "cell_type": "markdown",
   "metadata": {},
   "source": [
    "> This dataset is multi-indexed. It would be difficult to deal with. Since we have to have one observation per row, let's better take the decision to handle this case into one observation per row."
   ]
  },
  {
   "cell_type": "markdown",
   "metadata": {},
   "source": [
    "#### **Oil Dataset**"
   ]
  },
  {
   "cell_type": "markdown",
   "metadata": {},
   "source": [
    "##### *Inspecting the dataframe programmatically*\n",
    "To inspect the dataframe programmatically in terms of indexing two atttributes are called `.index` and `.columns` it is because they can show the columns and the indecies used in the dataframe."
   ]
  },
  {
   "cell_type": "code",
   "execution_count": 26,
   "metadata": {},
   "outputs": [
    {
     "name": "stdout",
     "output_type": "stream",
     "text": [
      "RangeIndex(start=0, stop=5000, step=1)\n"
     ]
    },
    {
     "data": {
      "text/plain": [
       "Index(['period', 'duoarea', 'area-name', 'product', 'product-name', 'process',\n",
       "       'process-name', 'series', 'series-description', 'value', 'units'],\n",
       "      dtype='object')"
      ]
     },
     "execution_count": 26,
     "metadata": {},
     "output_type": "execute_result"
    }
   ],
   "source": [
    "print(oil_data.index)\n",
    "oil_data.columns"
   ]
  },
  {
   "cell_type": "markdown",
   "metadata": {},
   "source": [
    "> The index of the second dataset is a range index starting from 0 to 5000."
   ]
  },
  {
   "cell_type": "markdown",
   "metadata": {},
   "source": [
    "### **Assessing the strcuture (Tidiness Issue #2):**\n",
    "In this issue teh follwing will be assessed if the data qualifies as tidy:\n",
    "- Each variable forms a column and contains values\n",
    "- Each observation forms a row\n",
    "- Each type of observational unit forms a table"
   ]
  },
  {
   "cell_type": "markdown",
   "metadata": {},
   "source": [
    "#### **Oil Dataset**\n",
    "Let's inspect visually looking at at a sample."
   ]
  },
  {
   "cell_type": "code",
   "execution_count": 27,
   "metadata": {},
   "outputs": [
    {
     "data": {
      "text/html": [
       "<div>\n",
       "<style scoped>\n",
       "    .dataframe tbody tr th:only-of-type {\n",
       "        vertical-align: middle;\n",
       "    }\n",
       "\n",
       "    .dataframe tbody tr th {\n",
       "        vertical-align: top;\n",
       "    }\n",
       "\n",
       "    .dataframe thead th {\n",
       "        text-align: right;\n",
       "    }\n",
       "</style>\n",
       "<table border=\"1\" class=\"dataframe\">\n",
       "  <thead>\n",
       "    <tr style=\"text-align: right;\">\n",
       "      <th></th>\n",
       "      <th>2826</th>\n",
       "    </tr>\n",
       "  </thead>\n",
       "  <tbody>\n",
       "    <tr>\n",
       "      <th>period</th>\n",
       "      <td>2022-08-01</td>\n",
       "    </tr>\n",
       "    <tr>\n",
       "      <th>duoarea</th>\n",
       "      <td>Y44HO</td>\n",
       "    </tr>\n",
       "    <tr>\n",
       "      <th>area-name</th>\n",
       "      <td>HOUSTON</td>\n",
       "    </tr>\n",
       "    <tr>\n",
       "      <th>product</th>\n",
       "      <td>EPM0</td>\n",
       "    </tr>\n",
       "    <tr>\n",
       "      <th>product-name</th>\n",
       "      <td>Total Gasoline</td>\n",
       "    </tr>\n",
       "    <tr>\n",
       "      <th>process</th>\n",
       "      <td>PTE</td>\n",
       "    </tr>\n",
       "    <tr>\n",
       "      <th>process-name</th>\n",
       "      <td>Retail Sales</td>\n",
       "    </tr>\n",
       "    <tr>\n",
       "      <th>series</th>\n",
       "      <td>EMM_EPM0_PTE_Y44HO_DPG</td>\n",
       "    </tr>\n",
       "    <tr>\n",
       "      <th>series-description</th>\n",
       "      <td>Houston All Grades All Formulations Retail Gas...</td>\n",
       "    </tr>\n",
       "    <tr>\n",
       "      <th>value</th>\n",
       "      <td>3.823</td>\n",
       "    </tr>\n",
       "    <tr>\n",
       "      <th>units</th>\n",
       "      <td>$/GAL</td>\n",
       "    </tr>\n",
       "  </tbody>\n",
       "</table>\n",
       "</div>"
      ],
      "text/plain": [
       "                                                                 2826\n",
       "period                                                     2022-08-01\n",
       "duoarea                                                         Y44HO\n",
       "area-name                                                     HOUSTON\n",
       "product                                                          EPM0\n",
       "product-name                                           Total Gasoline\n",
       "process                                                           PTE\n",
       "process-name                                             Retail Sales\n",
       "series                                         EMM_EPM0_PTE_Y44HO_DPG\n",
       "series-description  Houston All Grades All Formulations Retail Gas...\n",
       "value                                                           3.823\n",
       "units                                                           $/GAL"
      ]
     },
     "execution_count": 27,
     "metadata": {},
     "output_type": "execute_result"
    }
   ],
   "source": [
    "oil_data.sample().T"
   ]
  },
  {
   "cell_type": "markdown",
   "metadata": {},
   "source": [
    "> in the oil dataset, each variable forms a column and contains values. Each of the obseravtions forms a row. And that forms a table. So this dataset qualifies as tidy."
   ]
  },
  {
   "cell_type": "markdown",
   "metadata": {},
   "source": [
    "#### **Stocks Dataset**\n",
    "Let's inspect visually looking at at a sample."
   ]
  },
  {
   "cell_type": "code",
   "execution_count": 28,
   "metadata": {},
   "outputs": [
    {
     "data": {
      "text/html": [
       "<div>\n",
       "<style scoped>\n",
       "    .dataframe tbody tr th:only-of-type {\n",
       "        vertical-align: middle;\n",
       "    }\n",
       "\n",
       "    .dataframe tbody tr th {\n",
       "        vertical-align: top;\n",
       "    }\n",
       "\n",
       "    .dataframe thead th {\n",
       "        text-align: right;\n",
       "    }\n",
       "</style>\n",
       "<table border=\"1\" class=\"dataframe\">\n",
       "  <thead>\n",
       "    <tr style=\"text-align: right;\">\n",
       "      <th></th>\n",
       "      <th></th>\n",
       "      <th>3857</th>\n",
       "    </tr>\n",
       "    <tr>\n",
       "      <th>Price</th>\n",
       "      <th>Ticker</th>\n",
       "      <th></th>\n",
       "    </tr>\n",
       "  </thead>\n",
       "  <tbody>\n",
       "    <tr>\n",
       "      <th>Date</th>\n",
       "      <th></th>\n",
       "      <td>2020-04-30 00:00:00</td>\n",
       "    </tr>\n",
       "    <tr>\n",
       "      <th rowspan=\"5\" valign=\"top\">Adj Close</th>\n",
       "      <th>AAPL</th>\n",
       "      <td>71.538727</td>\n",
       "    </tr>\n",
       "    <tr>\n",
       "      <th>AMZN</th>\n",
       "      <td>123.699997</td>\n",
       "    </tr>\n",
       "    <tr>\n",
       "      <th>GOOGL</th>\n",
       "      <td>67.257805</td>\n",
       "    </tr>\n",
       "    <tr>\n",
       "      <th>META</th>\n",
       "      <td>204.290207</td>\n",
       "    </tr>\n",
       "    <tr>\n",
       "      <th>MSFT</th>\n",
       "      <td>172.534424</td>\n",
       "    </tr>\n",
       "    <tr>\n",
       "      <th rowspan=\"5\" valign=\"top\">Close</th>\n",
       "      <th>AAPL</th>\n",
       "      <td>73.449997</td>\n",
       "    </tr>\n",
       "    <tr>\n",
       "      <th>AMZN</th>\n",
       "      <td>123.699997</td>\n",
       "    </tr>\n",
       "    <tr>\n",
       "      <th>GOOGL</th>\n",
       "      <td>67.334999</td>\n",
       "    </tr>\n",
       "    <tr>\n",
       "      <th>META</th>\n",
       "      <td>204.710007</td>\n",
       "    </tr>\n",
       "    <tr>\n",
       "      <th>MSFT</th>\n",
       "      <td>179.210007</td>\n",
       "    </tr>\n",
       "    <tr>\n",
       "      <th rowspan=\"5\" valign=\"top\">High</th>\n",
       "      <th>AAPL</th>\n",
       "      <td>73.6325</td>\n",
       "    </tr>\n",
       "    <tr>\n",
       "      <th>AMZN</th>\n",
       "      <td>123.75</td>\n",
       "    </tr>\n",
       "    <tr>\n",
       "      <th>GOOGL</th>\n",
       "      <td>67.5</td>\n",
       "    </tr>\n",
       "    <tr>\n",
       "      <th>META</th>\n",
       "      <td>209.690002</td>\n",
       "    </tr>\n",
       "    <tr>\n",
       "      <th>MSFT</th>\n",
       "      <td>180.399994</td>\n",
       "    </tr>\n",
       "    <tr>\n",
       "      <th rowspan=\"5\" valign=\"top\">Low</th>\n",
       "      <th>AAPL</th>\n",
       "      <td>72.087502</td>\n",
       "    </tr>\n",
       "    <tr>\n",
       "      <th>AMZN</th>\n",
       "      <td>119.800499</td>\n",
       "    </tr>\n",
       "    <tr>\n",
       "      <th>GOOGL</th>\n",
       "      <td>66.074997</td>\n",
       "    </tr>\n",
       "    <tr>\n",
       "      <th>META</th>\n",
       "      <td>201.570007</td>\n",
       "    </tr>\n",
       "    <tr>\n",
       "      <th>MSFT</th>\n",
       "      <td>176.229996</td>\n",
       "    </tr>\n",
       "    <tr>\n",
       "      <th rowspan=\"5\" valign=\"top\">Open</th>\n",
       "      <th>AAPL</th>\n",
       "      <td>72.489998</td>\n",
       "    </tr>\n",
       "    <tr>\n",
       "      <th>AMZN</th>\n",
       "      <td>120.991997</td>\n",
       "    </tr>\n",
       "    <tr>\n",
       "      <th>GOOGL</th>\n",
       "      <td>66.568001</td>\n",
       "    </tr>\n",
       "    <tr>\n",
       "      <th>META</th>\n",
       "      <td>206.919998</td>\n",
       "    </tr>\n",
       "    <tr>\n",
       "      <th>MSFT</th>\n",
       "      <td>180.0</td>\n",
       "    </tr>\n",
       "    <tr>\n",
       "      <th rowspan=\"5\" valign=\"top\">Volume</th>\n",
       "      <th>AAPL</th>\n",
       "      <td>183064000</td>\n",
       "    </tr>\n",
       "    <tr>\n",
       "      <th>AMZN</th>\n",
       "      <td>190692000</td>\n",
       "    </tr>\n",
       "    <tr>\n",
       "      <th>GOOGL</th>\n",
       "      <td>55842000</td>\n",
       "    </tr>\n",
       "    <tr>\n",
       "      <th>META</th>\n",
       "      <td>46230100.0</td>\n",
       "    </tr>\n",
       "    <tr>\n",
       "      <th>MSFT</th>\n",
       "      <td>53875900</td>\n",
       "    </tr>\n",
       "  </tbody>\n",
       "</table>\n",
       "</div>"
      ],
      "text/plain": [
       "                                 3857\n",
       "Price     Ticker                     \n",
       "Date              2020-04-30 00:00:00\n",
       "Adj Close AAPL              71.538727\n",
       "          AMZN             123.699997\n",
       "          GOOGL             67.257805\n",
       "          META             204.290207\n",
       "          MSFT             172.534424\n",
       "Close     AAPL              73.449997\n",
       "          AMZN             123.699997\n",
       "          GOOGL             67.334999\n",
       "          META             204.710007\n",
       "          MSFT             179.210007\n",
       "High      AAPL                73.6325\n",
       "          AMZN                 123.75\n",
       "          GOOGL                  67.5\n",
       "          META             209.690002\n",
       "          MSFT             180.399994\n",
       "Low       AAPL              72.087502\n",
       "          AMZN             119.800499\n",
       "          GOOGL             66.074997\n",
       "          META             201.570007\n",
       "          MSFT             176.229996\n",
       "Open      AAPL              72.489998\n",
       "          AMZN             120.991997\n",
       "          GOOGL             66.568001\n",
       "          META             206.919998\n",
       "          MSFT                  180.0\n",
       "Volume    AAPL              183064000\n",
       "          AMZN              190692000\n",
       "          GOOGL              55842000\n",
       "          META             46230100.0\n",
       "          MSFT               53875900"
      ]
     },
     "execution_count": 28,
     "metadata": {},
     "output_type": "execute_result"
    }
   ],
   "source": [
    "stocks_data.sample().T"
   ]
  },
  {
   "cell_type": "markdown",
   "metadata": {},
   "source": [
    "> As discussed in the prior issue of indexing, there is an issue with columns of this dataset.  (variables doesn't show one column). As for the rows each observation forms a row. However, it doesn't qualify as tidy data since variable doesn't form one column."
   ]
  },
  {
   "cell_type": "markdown",
   "metadata": {
    "id": "D6gmLnBttpCh"
   },
   "source": [
    "## 5. Clean data\n",
    "In this section, the issues addressed before during assessment are now ready to be clean and polished. The issues corresponding to data quality and tidiness found in the assessing step are handled. justifications for the cleaning decisions are included. After the cleaning for each issue, the visually or programatical methods are used to validate the cleaning was succesful.\n",
    "\n",
    "At this stage, the variables that are unnecessary for the analysis were removed and datasets are combined after the cleaning stage. The dataset have at least 4 variables after combining the data."
   ]
  },
  {
   "cell_type": "code",
   "execution_count": 29,
   "metadata": {},
   "outputs": [],
   "source": [
    "## Making copies of the datasets to ensure the raw dataframes are not impacted\n",
    "oil_data_cleaned = oil_data.copy()\n",
    "stocks_data_cleaned = stocks_data.copy()"
   ]
  },
  {
   "cell_type": "markdown",
   "metadata": {
    "id": "FmFhN52Yyn3l"
   },
   "source": [
    "### **Completeness (Quality Issue #1):**\n",
    "\n",
    "There was missing values in both of the datasets."
   ]
  },
  {
   "cell_type": "markdown",
   "metadata": {},
   "source": [
    "#### **Stocks Dataset**\n",
    "For the stocks datsaets, the method chosen for handling missing values is to use the fillin method using the backward startegy since as shown in the heatmap for misisng values it(missing values) starts from the first index. "
   ]
  },
  {
   "cell_type": "markdown",
   "metadata": {},
   "source": [
    "> Justification: *For the META facebook before, there seems to be missing values for some reason, however it was checked if the stock nasdaq name used to be FB so did that affect the way the data was gathered and it turned out to not. FB was created in 2005 and it's supposed to have these stocks too,*"
   ]
  },
  {
   "cell_type": "code",
   "execution_count": 30,
   "metadata": {
    "id": "9UejDWrNMW4a"
   },
   "outputs": [
    {
     "name": "stderr",
     "output_type": "stream",
     "text": [
      "C:\\Users\\SS\\AppData\\Local\\Temp\\ipykernel_2528\\755457367.py:2: FutureWarning: DataFrame.fillna with 'method' is deprecated and will raise in a future version. Use obj.ffill() or obj.bfill() instead.\n",
      "  stocks_data_cleaned.fillna(method='bfill', inplace=True) ## fillna with backward fill for META FB\n"
     ]
    },
    {
     "data": {
      "text/html": [
       "<div>\n",
       "<style scoped>\n",
       "    .dataframe tbody tr th:only-of-type {\n",
       "        vertical-align: middle;\n",
       "    }\n",
       "\n",
       "    .dataframe tbody tr th {\n",
       "        vertical-align: top;\n",
       "    }\n",
       "\n",
       "    .dataframe thead tr th {\n",
       "        text-align: left;\n",
       "    }\n",
       "</style>\n",
       "<table border=\"1\" class=\"dataframe\">\n",
       "  <thead>\n",
       "    <tr>\n",
       "      <th>Price</th>\n",
       "      <th>Date</th>\n",
       "      <th colspan=\"5\" halign=\"left\">Adj Close</th>\n",
       "      <th colspan=\"4\" halign=\"left\">Close</th>\n",
       "      <th>...</th>\n",
       "      <th colspan=\"5\" halign=\"left\">Open</th>\n",
       "      <th colspan=\"5\" halign=\"left\">Volume</th>\n",
       "    </tr>\n",
       "    <tr>\n",
       "      <th>Ticker</th>\n",
       "      <th></th>\n",
       "      <th>AAPL</th>\n",
       "      <th>AMZN</th>\n",
       "      <th>GOOGL</th>\n",
       "      <th>META</th>\n",
       "      <th>MSFT</th>\n",
       "      <th>AAPL</th>\n",
       "      <th>AMZN</th>\n",
       "      <th>GOOGL</th>\n",
       "      <th>META</th>\n",
       "      <th>...</th>\n",
       "      <th>AAPL</th>\n",
       "      <th>AMZN</th>\n",
       "      <th>GOOGL</th>\n",
       "      <th>META</th>\n",
       "      <th>MSFT</th>\n",
       "      <th>AAPL</th>\n",
       "      <th>AMZN</th>\n",
       "      <th>GOOGL</th>\n",
       "      <th>META</th>\n",
       "      <th>MSFT</th>\n",
       "    </tr>\n",
       "  </thead>\n",
       "  <tbody>\n",
       "    <tr>\n",
       "      <th>1005</th>\n",
       "      <td>2008-12-30</td>\n",
       "      <td>2.605505</td>\n",
       "      <td>2.538000</td>\n",
       "      <td>7.576639</td>\n",
       "      <td>38.151604</td>\n",
       "      <td>14.280633</td>\n",
       "      <td>3.081786</td>\n",
       "      <td>2.538000</td>\n",
       "      <td>7.585335</td>\n",
       "      <td>38.230000</td>\n",
       "      <td>...</td>\n",
       "      <td>3.122143</td>\n",
       "      <td>2.475500</td>\n",
       "      <td>7.527528</td>\n",
       "      <td>42.049999</td>\n",
       "      <td>19.010000</td>\n",
       "      <td>967601600</td>\n",
       "      <td>132026000</td>\n",
       "      <td>153586260</td>\n",
       "      <td>573576400.0</td>\n",
       "      <td>43224100</td>\n",
       "    </tr>\n",
       "    <tr>\n",
       "      <th>4753</th>\n",
       "      <td>2023-11-20</td>\n",
       "      <td>190.947021</td>\n",
       "      <td>146.130005</td>\n",
       "      <td>136.093811</td>\n",
       "      <td>339.272797</td>\n",
       "      <td>376.065002</td>\n",
       "      <td>191.449997</td>\n",
       "      <td>146.130005</td>\n",
       "      <td>136.250000</td>\n",
       "      <td>339.970001</td>\n",
       "      <td>...</td>\n",
       "      <td>189.889999</td>\n",
       "      <td>145.130005</td>\n",
       "      <td>133.690002</td>\n",
       "      <td>334.890015</td>\n",
       "      <td>371.220001</td>\n",
       "      <td>46505100</td>\n",
       "      <td>41951200</td>\n",
       "      <td>27815500</td>\n",
       "      <td>16960500.0</td>\n",
       "      <td>52465100</td>\n",
       "    </tr>\n",
       "    <tr>\n",
       "      <th>3216</th>\n",
       "      <td>2017-10-11</td>\n",
       "      <td>36.779526</td>\n",
       "      <td>49.750000</td>\n",
       "      <td>50.224857</td>\n",
       "      <td>172.385757</td>\n",
       "      <td>70.718315</td>\n",
       "      <td>39.137501</td>\n",
       "      <td>49.750000</td>\n",
       "      <td>50.282501</td>\n",
       "      <td>172.740005</td>\n",
       "      <td>...</td>\n",
       "      <td>38.992500</td>\n",
       "      <td>49.563499</td>\n",
       "      <td>49.452000</td>\n",
       "      <td>171.949997</td>\n",
       "      <td>76.360001</td>\n",
       "      <td>67622400</td>\n",
       "      <td>46742000</td>\n",
       "      <td>36300000</td>\n",
       "      <td>11283700.0</td>\n",
       "      <td>15388900</td>\n",
       "    </tr>\n",
       "    <tr>\n",
       "      <th>2064</th>\n",
       "      <td>2013-03-18</td>\n",
       "      <td>13.963455</td>\n",
       "      <td>12.894500</td>\n",
       "      <td>20.191792</td>\n",
       "      <td>26.435675</td>\n",
       "      <td>23.072622</td>\n",
       "      <td>16.275715</td>\n",
       "      <td>12.894500</td>\n",
       "      <td>20.214966</td>\n",
       "      <td>26.490000</td>\n",
       "      <td>...</td>\n",
       "      <td>15.766071</td>\n",
       "      <td>12.965000</td>\n",
       "      <td>20.145145</td>\n",
       "      <td>26.370001</td>\n",
       "      <td>27.879999</td>\n",
       "      <td>606197200</td>\n",
       "      <td>54404000</td>\n",
       "      <td>73458468</td>\n",
       "      <td>26653700.0</td>\n",
       "      <td>44809400</td>\n",
       "    </tr>\n",
       "    <tr>\n",
       "      <th>4196</th>\n",
       "      <td>2021-09-02</td>\n",
       "      <td>151.294342</td>\n",
       "      <td>173.156006</td>\n",
       "      <td>143.122742</td>\n",
       "      <td>374.510406</td>\n",
       "      <td>294.116730</td>\n",
       "      <td>153.649994</td>\n",
       "      <td>173.156006</td>\n",
       "      <td>143.287003</td>\n",
       "      <td>375.279999</td>\n",
       "      <td>...</td>\n",
       "      <td>153.869995</td>\n",
       "      <td>174.738007</td>\n",
       "      <td>145.216003</td>\n",
       "      <td>381.500000</td>\n",
       "      <td>302.200012</td>\n",
       "      <td>71115500</td>\n",
       "      <td>58474000</td>\n",
       "      <td>32342000</td>\n",
       "      <td>14832900.0</td>\n",
       "      <td>16285600</td>\n",
       "    </tr>\n",
       "  </tbody>\n",
       "</table>\n",
       "<p>5 rows × 31 columns</p>\n",
       "</div>"
      ],
      "text/plain": [
       "Price        Date   Adj Close                                                  \\\n",
       "Ticker                   AAPL        AMZN       GOOGL        META        MSFT   \n",
       "1005   2008-12-30    2.605505    2.538000    7.576639   38.151604   14.280633   \n",
       "4753   2023-11-20  190.947021  146.130005  136.093811  339.272797  376.065002   \n",
       "3216   2017-10-11   36.779526   49.750000   50.224857  172.385757   70.718315   \n",
       "2064   2013-03-18   13.963455   12.894500   20.191792   26.435675   23.072622   \n",
       "4196   2021-09-02  151.294342  173.156006  143.122742  374.510406  294.116730   \n",
       "\n",
       "Price        Close                                      ...        Open  \\\n",
       "Ticker        AAPL        AMZN       GOOGL        META  ...        AAPL   \n",
       "1005      3.081786    2.538000    7.585335   38.230000  ...    3.122143   \n",
       "4753    191.449997  146.130005  136.250000  339.970001  ...  189.889999   \n",
       "3216     39.137501   49.750000   50.282501  172.740005  ...   38.992500   \n",
       "2064     16.275715   12.894500   20.214966   26.490000  ...   15.766071   \n",
       "4196    153.649994  173.156006  143.287003  375.279999  ...  153.869995   \n",
       "\n",
       "Price                                                      Volume             \\\n",
       "Ticker        AMZN       GOOGL        META        MSFT       AAPL       AMZN   \n",
       "1005      2.475500    7.527528   42.049999   19.010000  967601600  132026000   \n",
       "4753    145.130005  133.690002  334.890015  371.220001   46505100   41951200   \n",
       "3216     49.563499   49.452000  171.949997   76.360001   67622400   46742000   \n",
       "2064     12.965000   20.145145   26.370001   27.879999  606197200   54404000   \n",
       "4196    174.738007  145.216003  381.500000  302.200012   71115500   58474000   \n",
       "\n",
       "Price                                     \n",
       "Ticker      GOOGL         META      MSFT  \n",
       "1005    153586260  573576400.0  43224100  \n",
       "4753     27815500   16960500.0  52465100  \n",
       "3216     36300000   11283700.0  15388900  \n",
       "2064     73458468   26653700.0  44809400  \n",
       "4196     32342000   14832900.0  16285600  \n",
       "\n",
       "[5 rows x 31 columns]"
      ]
     },
     "execution_count": 30,
     "metadata": {},
     "output_type": "execute_result"
    }
   ],
   "source": [
    "## apply the fill in \"backward way for META\n",
    "stocks_data_cleaned.fillna(method='bfill', inplace=True) ## fillna with backward fill for META FB\n",
    "stocks_data_cleaned.sample(5)"
   ]
  },
  {
   "cell_type": "code",
   "execution_count": 31,
   "metadata": {
    "id": "oUBee-LPytkv"
   },
   "outputs": [
    {
     "data": {
      "text/plain": [
       "Price      Ticker\n",
       "Date                 0\n",
       "Adj Close  AAPL      0\n",
       "           AMZN      0\n",
       "           GOOGL     0\n",
       "           META      0\n",
       "           MSFT      0\n",
       "Close      AAPL      0\n",
       "           AMZN      0\n",
       "           GOOGL     0\n",
       "           META      0\n",
       "           MSFT      0\n",
       "High       AAPL      0\n",
       "           AMZN      0\n",
       "           GOOGL     0\n",
       "           META      0\n",
       "           MSFT      0\n",
       "Low        AAPL      0\n",
       "           AMZN      0\n",
       "           GOOGL     0\n",
       "           META      0\n",
       "           MSFT      0\n",
       "Open       AAPL      0\n",
       "           AMZN      0\n",
       "           GOOGL     0\n",
       "           META      0\n",
       "           MSFT      0\n",
       "Volume     AAPL      0\n",
       "           AMZN      0\n",
       "           GOOGL     0\n",
       "           META      0\n",
       "           MSFT      0\n",
       "dtype: int64"
      ]
     },
     "execution_count": 31,
     "metadata": {},
     "output_type": "execute_result"
    }
   ],
   "source": [
    "## Let's validate the cleaning was successful\n",
    "stocks_data_cleaned.isin(nan).sum()"
   ]
  },
  {
   "cell_type": "markdown",
   "metadata": {},
   "source": [
    "> Now the dataset contains zero missing values and the completness issue for the first dataset is handled."
   ]
  },
  {
   "cell_type": "markdown",
   "metadata": {},
   "source": [
    "#### **Oil Dataset**\n",
    "For the oil dataset we have missing values in the values they are only three values so they will be filled by backward method."
   ]
  },
  {
   "cell_type": "code",
   "execution_count": 32,
   "metadata": {},
   "outputs": [
    {
     "name": "stderr",
     "output_type": "stream",
     "text": [
      "C:\\Users\\SS\\AppData\\Local\\Temp\\ipykernel_2528\\179560191.py:2: FutureWarning: DataFrame.fillna with 'method' is deprecated and will raise in a future version. Use obj.ffill() or obj.bfill() instead.\n",
      "  oil_data_cleaned.fillna(method='bfill', inplace=True) ## fillna with backward fill for META FB\n"
     ]
    },
    {
     "data": {
      "text/html": [
       "<div>\n",
       "<style scoped>\n",
       "    .dataframe tbody tr th:only-of-type {\n",
       "        vertical-align: middle;\n",
       "    }\n",
       "\n",
       "    .dataframe tbody tr th {\n",
       "        vertical-align: top;\n",
       "    }\n",
       "\n",
       "    .dataframe thead th {\n",
       "        text-align: right;\n",
       "    }\n",
       "</style>\n",
       "<table border=\"1\" class=\"dataframe\">\n",
       "  <thead>\n",
       "    <tr style=\"text-align: right;\">\n",
       "      <th></th>\n",
       "      <th>period</th>\n",
       "      <th>duoarea</th>\n",
       "      <th>area-name</th>\n",
       "      <th>product</th>\n",
       "      <th>product-name</th>\n",
       "      <th>process</th>\n",
       "      <th>process-name</th>\n",
       "      <th>series</th>\n",
       "      <th>series-description</th>\n",
       "      <th>value</th>\n",
       "      <th>units</th>\n",
       "    </tr>\n",
       "  </thead>\n",
       "  <tbody>\n",
       "    <tr>\n",
       "      <th>20</th>\n",
       "      <td>2008-01-07</td>\n",
       "      <td>R1Z</td>\n",
       "      <td>PADD 1C</td>\n",
       "      <td>EPD2DXL0</td>\n",
       "      <td>No 2 Diesel Low Sulfur (0-15 ppm)</td>\n",
       "      <td>PTE</td>\n",
       "      <td>Retail Sales</td>\n",
       "      <td>EMD_EPD2DXL0_PTE_R1Z_DPG</td>\n",
       "      <td>Lower Atlantic (PADD 1C) No 2 Diesel Ultra Low...</td>\n",
       "      <td>3.377</td>\n",
       "      <td>$/GAL</td>\n",
       "    </tr>\n",
       "    <tr>\n",
       "      <th>2679</th>\n",
       "      <td>2019-12-23</td>\n",
       "      <td>R5XCA</td>\n",
       "      <td>PADD 5 EXCEPT CALIFORNIA</td>\n",
       "      <td>EPM0</td>\n",
       "      <td>Total Gasoline</td>\n",
       "      <td>PTE</td>\n",
       "      <td>Retail Sales</td>\n",
       "      <td>EMM_EPM0_PTE_R5XCA_DPG</td>\n",
       "      <td>West Coast (PADD 5) Except California All Grad...</td>\n",
       "      <td>3.04</td>\n",
       "      <td>$/GAL</td>\n",
       "    </tr>\n",
       "    <tr>\n",
       "      <th>2005</th>\n",
       "      <td>2013-05-20</td>\n",
       "      <td>YORD</td>\n",
       "      <td>CHICAGO</td>\n",
       "      <td>EPM0</td>\n",
       "      <td>Total Gasoline</td>\n",
       "      <td>PTE</td>\n",
       "      <td>Retail Sales</td>\n",
       "      <td>EMM_EPM0_PTE_YORD_DPG</td>\n",
       "      <td>Chicago All Grades All Formulations Retail Gas...</td>\n",
       "      <td>4.262</td>\n",
       "      <td>$/GAL</td>\n",
       "    </tr>\n",
       "    <tr>\n",
       "      <th>4928</th>\n",
       "      <td>2014-08-04</td>\n",
       "      <td>R1X</td>\n",
       "      <td>PADD 1A</td>\n",
       "      <td>EPM0R</td>\n",
       "      <td>Reformulated Motor Gasoline</td>\n",
       "      <td>PTE</td>\n",
       "      <td>Retail Sales</td>\n",
       "      <td>EMM_EPM0R_PTE_R1X_DPG</td>\n",
       "      <td>New England (PADD 1A) All Grades Reformulated ...</td>\n",
       "      <td>3.734</td>\n",
       "      <td>$/GAL</td>\n",
       "    </tr>\n",
       "    <tr>\n",
       "      <th>190</th>\n",
       "      <td>2014-12-22</td>\n",
       "      <td>R20</td>\n",
       "      <td>PADD 2</td>\n",
       "      <td>EPD2DXL0</td>\n",
       "      <td>No 2 Diesel Low Sulfur (0-15 ppm)</td>\n",
       "      <td>PTE</td>\n",
       "      <td>Retail Sales</td>\n",
       "      <td>EMD_EPD2DXL0_PTE_R20_DPG</td>\n",
       "      <td>Midwest No 2 Diesel Ultra Low Sulfur (0-15 ppm...</td>\n",
       "      <td>3.294</td>\n",
       "      <td>$/GAL</td>\n",
       "    </tr>\n",
       "  </tbody>\n",
       "</table>\n",
       "</div>"
      ],
      "text/plain": [
       "          period duoarea                 area-name   product  \\\n",
       "20    2008-01-07     R1Z                   PADD 1C  EPD2DXL0   \n",
       "2679  2019-12-23   R5XCA  PADD 5 EXCEPT CALIFORNIA      EPM0   \n",
       "2005  2013-05-20    YORD                   CHICAGO      EPM0   \n",
       "4928  2014-08-04     R1X                   PADD 1A     EPM0R   \n",
       "190   2014-12-22     R20                    PADD 2  EPD2DXL0   \n",
       "\n",
       "                           product-name process  process-name  \\\n",
       "20    No 2 Diesel Low Sulfur (0-15 ppm)     PTE  Retail Sales   \n",
       "2679                     Total Gasoline     PTE  Retail Sales   \n",
       "2005                     Total Gasoline     PTE  Retail Sales   \n",
       "4928        Reformulated Motor Gasoline     PTE  Retail Sales   \n",
       "190   No 2 Diesel Low Sulfur (0-15 ppm)     PTE  Retail Sales   \n",
       "\n",
       "                        series  \\\n",
       "20    EMD_EPD2DXL0_PTE_R1Z_DPG   \n",
       "2679    EMM_EPM0_PTE_R5XCA_DPG   \n",
       "2005     EMM_EPM0_PTE_YORD_DPG   \n",
       "4928     EMM_EPM0R_PTE_R1X_DPG   \n",
       "190   EMD_EPD2DXL0_PTE_R20_DPG   \n",
       "\n",
       "                                     series-description  value  units  \n",
       "20    Lower Atlantic (PADD 1C) No 2 Diesel Ultra Low...  3.377  $/GAL  \n",
       "2679  West Coast (PADD 5) Except California All Grad...   3.04  $/GAL  \n",
       "2005  Chicago All Grades All Formulations Retail Gas...  4.262  $/GAL  \n",
       "4928  New England (PADD 1A) All Grades Reformulated ...  3.734  $/GAL  \n",
       "190   Midwest No 2 Diesel Ultra Low Sulfur (0-15 ppm...  3.294  $/GAL  "
      ]
     },
     "execution_count": 32,
     "metadata": {},
     "output_type": "execute_result"
    }
   ],
   "source": [
    "## Let's apply the mapping into the area-name column\n",
    "oil_data_cleaned.fillna(method='bfill', inplace=True) ## fillna with backward fill for META FB\n",
    "oil_data_cleaned.sample(5)"
   ]
  },
  {
   "cell_type": "code",
   "execution_count": 33,
   "metadata": {},
   "outputs": [
    {
     "data": {
      "text/plain": [
       "period                0\n",
       "duoarea               0\n",
       "area-name             0\n",
       "product               0\n",
       "product-name          0\n",
       "process               0\n",
       "process-name          0\n",
       "series                0\n",
       "series-description    0\n",
       "value                 0\n",
       "units                 0\n",
       "dtype: int64"
      ]
     },
     "execution_count": 33,
     "metadata": {},
     "output_type": "execute_result"
    }
   ],
   "source": [
    "## Let's validate the cleaning was successful\n",
    "oil_data_cleaned.isna().sum()"
   ]
  },
  {
   "cell_type": "markdown",
   "metadata": {},
   "source": [
    "> Now the dataset contains zero missing values and the completness issue for the first dataset is handled."
   ]
  },
  {
   "cell_type": "markdown",
   "metadata": {},
   "source": [
    "### **Validity (Quality Issue #2):**"
   ]
  },
  {
   "cell_type": "markdown",
   "metadata": {},
   "source": [
    "#### **Stocks Dataset**\n",
    "In the stocks dataset the datatypes were accurate, only the datetime only contains teh date so it is storing unnecceray data of 00:00:00 time."
   ]
  },
  {
   "cell_type": "markdown",
   "metadata": {},
   "source": [
    "> All the datatypes are valid for the stocks datasets."
   ]
  },
  {
   "cell_type": "markdown",
   "metadata": {},
   "source": [
    "> *The decsision will be to extract teh months, years and days after the merge. To make more sense when visualization and answering the reswarch question.*"
   ]
  },
  {
   "cell_type": "markdown",
   "metadata": {},
   "source": [
    "#### **Oils Dataset**\n",
    "In the oil datsaet there were all of the datatypes are objects."
   ]
  },
  {
   "cell_type": "code",
   "execution_count": 34,
   "metadata": {},
   "outputs": [],
   "source": [
    "## Apply the cleaning strategy which is use teh to_datetime\n",
    "oil_data_cleaned['period'] = pd.to_datetime(oil_data_cleaned['period'])"
   ]
  },
  {
   "cell_type": "code",
   "execution_count": 35,
   "metadata": {},
   "outputs": [],
   "source": [
    "## change the datatype of the value column to numerical \n",
    "oil_data_cleaned['value'] = pd.to_numeric(oil_data_cleaned['value'])"
   ]
  },
  {
   "cell_type": "code",
   "execution_count": 36,
   "metadata": {},
   "outputs": [
    {
     "name": "stdout",
     "output_type": "stream",
     "text": [
      "<class 'pandas.core.frame.DataFrame'>\n",
      "RangeIndex: 5000 entries, 0 to 4999\n",
      "Data columns (total 11 columns):\n",
      " #   Column              Non-Null Count  Dtype         \n",
      "---  ------              --------------  -----         \n",
      " 0   period              5000 non-null   datetime64[ns]\n",
      " 1   duoarea             5000 non-null   object        \n",
      " 2   area-name           5000 non-null   object        \n",
      " 3   product             5000 non-null   object        \n",
      " 4   product-name        5000 non-null   object        \n",
      " 5   process             5000 non-null   object        \n",
      " 6   process-name        5000 non-null   object        \n",
      " 7   series              5000 non-null   object        \n",
      " 8   series-description  5000 non-null   object        \n",
      " 9   value               5000 non-null   float64       \n",
      " 10  units               5000 non-null   object        \n",
      "dtypes: datetime64[ns](1), float64(1), object(9)\n",
      "memory usage: 429.8+ KB\n"
     ]
    }
   ],
   "source": [
    "## to Validate the cleaning was successful used info\n",
    "oil_data_cleaned.info()"
   ]
  },
  {
   "cell_type": "markdown",
   "metadata": {},
   "source": [
    "> We can see the period successfully changed into the datetime datatype and the value is changed successfully to float64."
   ]
  },
  {
   "cell_type": "markdown",
   "metadata": {},
   "source": [
    "### **Columns Names: (Quality Issue #3):**\n",
    "This issue includes the columns names and renaming to the convention."
   ]
  },
  {
   "cell_type": "markdown",
   "metadata": {},
   "source": [
    "#### **Stocks Dataset**\n",
    "The cleaning here is done by applying the new mapping following the convention to the dataset."
   ]
  },
  {
   "cell_type": "code",
   "execution_count": 37,
   "metadata": {},
   "outputs": [
    {
     "data": {
      "text/plain": [
       "{('Date', ''): 'date',\n",
       " ('Adj Close', 'AAPL'): 'adj_close_aapl',\n",
       " ('Adj Close', 'AMZN'): 'adj_close_amzn',\n",
       " ('Adj Close', 'GOOGL'): 'adj_close_googl',\n",
       " ('Adj Close', 'META'): 'adj_close_meta',\n",
       " ('Adj Close', 'MSFT'): 'adj_close_msft',\n",
       " ('Close', 'AAPL'): 'close_aapl',\n",
       " ('Close', 'AMZN'): 'close_amzn',\n",
       " ('Close', 'GOOGL'): 'close_googl',\n",
       " ('Close', 'META'): 'close_meta',\n",
       " ('Close', 'MSFT'): 'close_msft',\n",
       " ('High', 'AAPL'): 'high_aapl',\n",
       " ('High', 'AMZN'): 'high_amzn',\n",
       " ('High', 'GOOGL'): 'high_googl',\n",
       " ('High', 'META'): 'high_meta',\n",
       " ('High', 'MSFT'): 'high_msft',\n",
       " ('Low', 'AAPL'): 'low_aapl',\n",
       " ('Low', 'AMZN'): 'low_amzn',\n",
       " ('Low', 'GOOGL'): 'low_googl',\n",
       " ('Low', 'META'): 'low_meta',\n",
       " ('Low', 'MSFT'): 'low_msft',\n",
       " ('Open', 'AAPL'): 'open_aapl',\n",
       " ('Open', 'AMZN'): 'open_amzn',\n",
       " ('Open', 'GOOGL'): 'open_googl',\n",
       " ('Open', 'META'): 'open_meta',\n",
       " ('Open', 'MSFT'): 'open_msft',\n",
       " ('Volume', 'AAPL'): 'volume_aapl',\n",
       " ('Volume', 'AMZN'): 'volume_amzn',\n",
       " ('Volume', 'GOOGL'): 'volume_googl',\n",
       " ('Volume', 'META'): 'volume_meta',\n",
       " ('Volume', 'MSFT'): 'volume_msft'}"
      ]
     },
     "execution_count": 37,
     "metadata": {},
     "output_type": "execute_result"
    }
   ],
   "source": [
    "new_stocks_names = {\n",
    "    col: ('_'.join([col[0].lower(), col[1].lower()])).replace(' ', '_') if col[0] != 'Date' else 'date'\n",
    "    for col in stocks_data_cleaned.columns\n",
    "}\n",
    "new_stocks_names"
   ]
  },
  {
   "cell_type": "code",
   "execution_count": 38,
   "metadata": {},
   "outputs": [],
   "source": [
    "stocks_data_cleaned.columns = stocks_data_cleaned.columns.map(new_stocks_names)"
   ]
  },
  {
   "cell_type": "code",
   "execution_count": 39,
   "metadata": {
    "id": "yhrnUGY_Nk8B"
   },
   "outputs": [
    {
     "data": {
      "text/plain": [
       "Index(['date', 'adj_close_aapl', 'adj_close_amzn', 'adj_close_googl',\n",
       "       'adj_close_meta', 'adj_close_msft', 'close_aapl', 'close_amzn',\n",
       "       'close_googl', 'close_meta', 'close_msft', 'high_aapl', 'high_amzn',\n",
       "       'high_googl', 'high_meta', 'high_msft', 'low_aapl', 'low_amzn',\n",
       "       'low_googl', 'low_meta', 'low_msft', 'open_aapl', 'open_amzn',\n",
       "       'open_googl', 'open_meta', 'open_msft', 'volume_aapl', 'volume_amzn',\n",
       "       'volume_googl', 'volume_meta', 'volume_msft'],\n",
       "      dtype='object')"
      ]
     },
     "execution_count": 39,
     "metadata": {},
     "output_type": "execute_result"
    }
   ],
   "source": [
    "## Validate the cleaning was successful by calling the .columns\n",
    "stocks_data_cleaned.columns"
   ]
  },
  {
   "cell_type": "code",
   "execution_count": 40,
   "metadata": {},
   "outputs": [
    {
     "data": {
      "text/html": [
       "<div>\n",
       "<style scoped>\n",
       "    .dataframe tbody tr th:only-of-type {\n",
       "        vertical-align: middle;\n",
       "    }\n",
       "\n",
       "    .dataframe tbody tr th {\n",
       "        vertical-align: top;\n",
       "    }\n",
       "\n",
       "    .dataframe thead th {\n",
       "        text-align: right;\n",
       "    }\n",
       "</style>\n",
       "<table border=\"1\" class=\"dataframe\">\n",
       "  <thead>\n",
       "    <tr style=\"text-align: right;\">\n",
       "      <th></th>\n",
       "      <th>2479</th>\n",
       "    </tr>\n",
       "  </thead>\n",
       "  <tbody>\n",
       "    <tr>\n",
       "      <th>date</th>\n",
       "      <td>2014-11-06 00:00:00</td>\n",
       "    </tr>\n",
       "    <tr>\n",
       "      <th>adj_close_aapl</th>\n",
       "      <td>24.261549</td>\n",
       "    </tr>\n",
       "    <tr>\n",
       "      <th>adj_close_amzn</th>\n",
       "      <td>14.832</td>\n",
       "    </tr>\n",
       "    <tr>\n",
       "      <th>adj_close_googl</th>\n",
       "      <td>27.552877</td>\n",
       "    </tr>\n",
       "    <tr>\n",
       "      <th>adj_close_meta</th>\n",
       "      <td>75.105667</td>\n",
       "    </tr>\n",
       "    <tr>\n",
       "      <th>adj_close_msft</th>\n",
       "      <td>41.714478</td>\n",
       "    </tr>\n",
       "    <tr>\n",
       "      <th>close_aapl</th>\n",
       "      <td>27.174999</td>\n",
       "    </tr>\n",
       "    <tr>\n",
       "      <th>close_amzn</th>\n",
       "      <td>14.832</td>\n",
       "    </tr>\n",
       "    <tr>\n",
       "      <th>close_googl</th>\n",
       "      <td>27.584499</td>\n",
       "    </tr>\n",
       "    <tr>\n",
       "      <th>close_meta</th>\n",
       "      <td>75.260002</td>\n",
       "    </tr>\n",
       "    <tr>\n",
       "      <th>close_msft</th>\n",
       "      <td>48.700001</td>\n",
       "    </tr>\n",
       "    <tr>\n",
       "      <th>high_aapl</th>\n",
       "      <td>27.1975</td>\n",
       "    </tr>\n",
       "    <tr>\n",
       "      <th>high_amzn</th>\n",
       "      <td>14.85</td>\n",
       "    </tr>\n",
       "    <tr>\n",
       "      <th>high_googl</th>\n",
       "      <td>27.84</td>\n",
       "    </tr>\n",
       "    <tr>\n",
       "      <th>high_meta</th>\n",
       "      <td>75.599998</td>\n",
       "    </tr>\n",
       "    <tr>\n",
       "      <th>high_msft</th>\n",
       "      <td>48.860001</td>\n",
       "    </tr>\n",
       "    <tr>\n",
       "      <th>low_aapl</th>\n",
       "      <td>26.950001</td>\n",
       "    </tr>\n",
       "    <tr>\n",
       "      <th>low_amzn</th>\n",
       "      <td>14.6145</td>\n",
       "    </tr>\n",
       "    <tr>\n",
       "      <th>low_googl</th>\n",
       "      <td>27.528999</td>\n",
       "    </tr>\n",
       "    <tr>\n",
       "      <th>low_meta</th>\n",
       "      <td>74.309998</td>\n",
       "    </tr>\n",
       "    <tr>\n",
       "      <th>low_msft</th>\n",
       "      <td>47.790001</td>\n",
       "    </tr>\n",
       "    <tr>\n",
       "      <th>open_aapl</th>\n",
       "      <td>27.15</td>\n",
       "    </tr>\n",
       "    <tr>\n",
       "      <th>open_amzn</th>\n",
       "      <td>14.8345</td>\n",
       "    </tr>\n",
       "    <tr>\n",
       "      <th>open_googl</th>\n",
       "      <td>27.775</td>\n",
       "    </tr>\n",
       "    <tr>\n",
       "      <th>open_meta</th>\n",
       "      <td>74.889999</td>\n",
       "    </tr>\n",
       "    <tr>\n",
       "      <th>open_msft</th>\n",
       "      <td>47.860001</td>\n",
       "    </tr>\n",
       "    <tr>\n",
       "      <th>volume_aapl</th>\n",
       "      <td>139874000</td>\n",
       "    </tr>\n",
       "    <tr>\n",
       "      <th>volume_amzn</th>\n",
       "      <td>75162000</td>\n",
       "    </tr>\n",
       "    <tr>\n",
       "      <th>volume_googl</th>\n",
       "      <td>33014000</td>\n",
       "    </tr>\n",
       "    <tr>\n",
       "      <th>volume_meta</th>\n",
       "      <td>21383000.0</td>\n",
       "    </tr>\n",
       "    <tr>\n",
       "      <th>volume_msft</th>\n",
       "      <td>33037800</td>\n",
       "    </tr>\n",
       "  </tbody>\n",
       "</table>\n",
       "</div>"
      ],
      "text/plain": [
       "                                2479\n",
       "date             2014-11-06 00:00:00\n",
       "adj_close_aapl             24.261549\n",
       "adj_close_amzn                14.832\n",
       "adj_close_googl            27.552877\n",
       "adj_close_meta             75.105667\n",
       "adj_close_msft             41.714478\n",
       "close_aapl                 27.174999\n",
       "close_amzn                    14.832\n",
       "close_googl                27.584499\n",
       "close_meta                 75.260002\n",
       "close_msft                 48.700001\n",
       "high_aapl                    27.1975\n",
       "high_amzn                      14.85\n",
       "high_googl                     27.84\n",
       "high_meta                  75.599998\n",
       "high_msft                  48.860001\n",
       "low_aapl                   26.950001\n",
       "low_amzn                     14.6145\n",
       "low_googl                  27.528999\n",
       "low_meta                   74.309998\n",
       "low_msft                   47.790001\n",
       "open_aapl                      27.15\n",
       "open_amzn                    14.8345\n",
       "open_googl                    27.775\n",
       "open_meta                  74.889999\n",
       "open_msft                  47.860001\n",
       "volume_aapl                139874000\n",
       "volume_amzn                 75162000\n",
       "volume_googl                33014000\n",
       "volume_meta               21383000.0\n",
       "volume_msft                 33037800"
      ]
     },
     "execution_count": 40,
     "metadata": {},
     "output_type": "execute_result"
    }
   ],
   "source": [
    "stocks_data_cleaned.sample(1).T"
   ]
  },
  {
   "cell_type": "markdown",
   "metadata": {},
   "source": [
    "> Justification: *It is the best practice to follow the naming conventions of the dataset columns and for ease of use.*\n",
    "We can see that the names are changed by looking at the head and the columns."
   ]
  },
  {
   "cell_type": "markdown",
   "metadata": {},
   "source": [
    "#### **Oil Dataset**\n",
    "The cleaning here is done by applying the new mapping following the convention to the dataset."
   ]
  },
  {
   "cell_type": "code",
   "execution_count": 41,
   "metadata": {},
   "outputs": [
    {
     "data": {
      "text/plain": [
       "{'period': 'date',\n",
       " 'duoarea': 'duoarea_oil',\n",
       " 'area-name': 'area_name_oil',\n",
       " 'product': 'oil_product_code',\n",
       " 'product-name': 'oil_product_name',\n",
       " 'series': 'oil_series',\n",
       " 'process-name': 'process_name',\n",
       " 'process': 'process',\n",
       " 'series-description': 'oil_series_description',\n",
       " 'value': 'price_oil',\n",
       " 'units': 'units'}"
      ]
     },
     "execution_count": 41,
     "metadata": {},
     "output_type": "execute_result"
    }
   ],
   "source": [
    "## axtracting the new names\n",
    "new_oils_names = {\n",
    "    'period': 'date',\n",
    "    'duoarea': 'duoarea_oil',\n",
    "    'area-name': 'area_name_oil',\n",
    "    'product': 'oil_product_code',\n",
    "    'product-name': 'oil_product_name',\n",
    "    'series': 'oil_series',\n",
    "    'process-name': 'process_name',\n",
    "    'process': 'process',\n",
    "    'series-description': 'oil_series_description',\n",
    "    'value':'price_oil',\n",
    "    'units':'units'\n",
    "}\n",
    "new_oils_names"
   ]
  },
  {
   "cell_type": "code",
   "execution_count": 42,
   "metadata": {},
   "outputs": [],
   "source": [
    "oil_data_cleaned.columns = oil_data_cleaned.columns.map(new_oils_names)"
   ]
  },
  {
   "cell_type": "code",
   "execution_count": 43,
   "metadata": {},
   "outputs": [
    {
     "data": {
      "text/plain": [
       "Index(['date', 'duoarea_oil', 'area_name_oil', 'oil_product_code',\n",
       "       'oil_product_name', 'process', 'process_name', 'oil_series',\n",
       "       'oil_series_description', 'price_oil', 'units'],\n",
       "      dtype='object')"
      ]
     },
     "execution_count": 43,
     "metadata": {},
     "output_type": "execute_result"
    }
   ],
   "source": [
    "## Validating the cleaning step for renaming to conventional names\n",
    "oil_data_cleaned.columns"
   ]
  },
  {
   "cell_type": "markdown",
   "metadata": {},
   "source": [
    "> We can see that the new names are applied."
   ]
  },
  {
   "cell_type": "markdown",
   "metadata": {},
   "source": [
    "### **Indexing and Structure of the dataset(Tidiness Issue #1 and #2):**\n",
    "The indexing in the dataframes are checked in the assessing and were decided to be simplified from multi-indexing."
   ]
  },
  {
   "cell_type": "markdown",
   "metadata": {
    "id": "7zW8O5yx4Y9O"
   },
   "source": [
    "> *The renaming of the columns to conventional have actually fixed the problem of multiindexing and simplidied the dataset.*"
   ]
  },
  {
   "cell_type": "code",
   "execution_count": 44,
   "metadata": {},
   "outputs": [
    {
     "data": {
      "text/plain": [
       "RangeIndex(start=0, stop=4781, step=1)"
      ]
     },
     "execution_count": 44,
     "metadata": {},
     "output_type": "execute_result"
    }
   ],
   "source": [
    "stocks_data_cleaned.index"
   ]
  },
  {
   "cell_type": "code",
   "execution_count": 45,
   "metadata": {},
   "outputs": [
    {
     "data": {
      "text/plain": [
       "RangeIndex(start=0, stop=5000, step=1)"
      ]
     },
     "execution_count": 45,
     "metadata": {},
     "output_type": "execute_result"
    }
   ],
   "source": [
    "oil_data_cleaned.index"
   ]
  },
  {
   "cell_type": "markdown",
   "metadata": {},
   "source": [
    "### **Removing unnecessary variables and combining datasets**\n",
    "\n",
    "Now let's peform the combination and remove unnecessary variables in the final dataset."
   ]
  },
  {
   "cell_type": "markdown",
   "metadata": {},
   "source": [
    "#### **Oil Dataset**\n",
    "In the oil satasets the process-name and the process and the units have only one unique value, that is they will be dropped because they don't change by the observations."
   ]
  },
  {
   "cell_type": "code",
   "execution_count": 46,
   "metadata": {},
   "outputs": [],
   "source": [
    "oil_data_cleaned.drop(columns=['process','process_name','units'],inplace=True)"
   ]
  },
  {
   "cell_type": "code",
   "execution_count": 47,
   "metadata": {},
   "outputs": [
    {
     "data": {
      "text/plain": [
       "Index(['date', 'duoarea_oil', 'area_name_oil', 'oil_product_code',\n",
       "       'oil_product_name', 'oil_series', 'oil_series_description',\n",
       "       'price_oil'],\n",
       "      dtype='object')"
      ]
     },
     "execution_count": 47,
     "metadata": {},
     "output_type": "execute_result"
    }
   ],
   "source": [
    "oil_data_cleaned.columns"
   ]
  },
  {
   "cell_type": "markdown",
   "metadata": {},
   "source": [
    "> They were validated to be dropped ffrom the cleaned datset."
   ]
  },
  {
   "cell_type": "markdown",
   "metadata": {},
   "source": [
    "#### **Combined Dataset**"
   ]
  },
  {
   "cell_type": "code",
   "execution_count": 48,
   "metadata": {},
   "outputs": [
    {
     "data": {
      "text/html": [
       "<div>\n",
       "<style scoped>\n",
       "    .dataframe tbody tr th:only-of-type {\n",
       "        vertical-align: middle;\n",
       "    }\n",
       "\n",
       "    .dataframe tbody tr th {\n",
       "        vertical-align: top;\n",
       "    }\n",
       "\n",
       "    .dataframe thead th {\n",
       "        text-align: right;\n",
       "    }\n",
       "</style>\n",
       "<table border=\"1\" class=\"dataframe\">\n",
       "  <thead>\n",
       "    <tr style=\"text-align: right;\">\n",
       "      <th></th>\n",
       "      <th>1962</th>\n",
       "      <th>2334</th>\n",
       "      <th>524</th>\n",
       "      <th>2907</th>\n",
       "      <th>2501</th>\n",
       "    </tr>\n",
       "  </thead>\n",
       "  <tbody>\n",
       "    <tr>\n",
       "      <th>date</th>\n",
       "      <td>2020-08-17 00:00:00</td>\n",
       "      <td>2005-07-11 00:00:00</td>\n",
       "      <td>2013-12-09 00:00:00</td>\n",
       "      <td>2007-11-12 00:00:00</td>\n",
       "      <td>2013-12-16 00:00:00</td>\n",
       "    </tr>\n",
       "    <tr>\n",
       "      <th>duoarea_oil</th>\n",
       "      <td>R1X</td>\n",
       "      <td>R5XCA</td>\n",
       "      <td>R1X</td>\n",
       "      <td>SCO</td>\n",
       "      <td>Y44HO</td>\n",
       "    </tr>\n",
       "    <tr>\n",
       "      <th>area_name_oil</th>\n",
       "      <td>PADD 1A</td>\n",
       "      <td>PADD 5 EXCEPT CALIFORNIA</td>\n",
       "      <td>PADD 1A</td>\n",
       "      <td>COLORADO</td>\n",
       "      <td>HOUSTON</td>\n",
       "    </tr>\n",
       "    <tr>\n",
       "      <th>oil_product_code</th>\n",
       "      <td>EPM0</td>\n",
       "      <td>EPM0</td>\n",
       "      <td>EPD2DXL0</td>\n",
       "      <td>EPM0</td>\n",
       "      <td>EPM0</td>\n",
       "    </tr>\n",
       "    <tr>\n",
       "      <th>oil_product_name</th>\n",
       "      <td>Total Gasoline</td>\n",
       "      <td>Total Gasoline</td>\n",
       "      <td>No 2 Diesel Low Sulfur (0-15 ppm)</td>\n",
       "      <td>Total Gasoline</td>\n",
       "      <td>Total Gasoline</td>\n",
       "    </tr>\n",
       "    <tr>\n",
       "      <th>oil_series</th>\n",
       "      <td>EMM_EPM0_PTE_R1X_DPG</td>\n",
       "      <td>EMM_EPM0_PTE_R5XCA_DPG</td>\n",
       "      <td>EMD_EPD2DXL0_PTE_R1X_DPG</td>\n",
       "      <td>EMM_EPM0_PTE_SCO_DPG</td>\n",
       "      <td>EMM_EPM0_PTE_Y44HO_DPG</td>\n",
       "    </tr>\n",
       "    <tr>\n",
       "      <th>oil_series_description</th>\n",
       "      <td>New England (PADD 1A) All Grades All Formulati...</td>\n",
       "      <td>West Coast (PADD 5) Except California All Grad...</td>\n",
       "      <td>New England (PADD 1A) No 2 Diesel Ultra Low Su...</td>\n",
       "      <td>Colorado All Grades All Formulations Retail Ga...</td>\n",
       "      <td>Houston All Grades All Formulations Retail Gas...</td>\n",
       "    </tr>\n",
       "    <tr>\n",
       "      <th>price_oil</th>\n",
       "      <td>2.197</td>\n",
       "      <td>2.44</td>\n",
       "      <td>4.066</td>\n",
       "      <td>3.101</td>\n",
       "      <td>3.141</td>\n",
       "    </tr>\n",
       "    <tr>\n",
       "      <th>adj_close_aapl</th>\n",
       "      <td>112.129219</td>\n",
       "      <td>1.150419</td>\n",
       "      <td>17.688559</td>\n",
       "      <td>4.642742</td>\n",
       "      <td>17.409697</td>\n",
       "    </tr>\n",
       "    <tr>\n",
       "      <th>adj_close_amzn</th>\n",
       "      <td>159.120499</td>\n",
       "      <td>1.7795</td>\n",
       "      <td>19.244499</td>\n",
       "      <td>3.85</td>\n",
       "      <td>19.4485</td>\n",
       "    </tr>\n",
       "    <tr>\n",
       "      <th>adj_close_googl</th>\n",
       "      <td>75.72509</td>\n",
       "      <td>7.332675</td>\n",
       "      <td>26.949551</td>\n",
       "      <td>15.799435</td>\n",
       "      <td>26.820568</td>\n",
       "    </tr>\n",
       "    <tr>\n",
       "      <th>adj_close_meta</th>\n",
       "      <td>260.624451</td>\n",
       "      <td>38.151604</td>\n",
       "      <td>48.739845</td>\n",
       "      <td>38.151604</td>\n",
       "      <td>53.699654</td>\n",
       "    </tr>\n",
       "    <tr>\n",
       "      <th>adj_close_msft</th>\n",
       "      <td>203.010864</td>\n",
       "      <td>17.727289</td>\n",
       "      <td>32.477245</td>\n",
       "      <td>24.121412</td>\n",
       "      <td>30.950298</td>\n",
       "    </tr>\n",
       "    <tr>\n",
       "      <th>close_aapl</th>\n",
       "      <td>114.607498</td>\n",
       "      <td>1.360714</td>\n",
       "      <td>20.229643</td>\n",
       "      <td>5.491429</td>\n",
       "      <td>19.910713</td>\n",
       "    </tr>\n",
       "    <tr>\n",
       "      <th>close_amzn</th>\n",
       "      <td>159.120499</td>\n",
       "      <td>1.7795</td>\n",
       "      <td>19.244499</td>\n",
       "      <td>3.85</td>\n",
       "      <td>19.4485</td>\n",
       "    </tr>\n",
       "    <tr>\n",
       "      <th>close_googl</th>\n",
       "      <td>75.811996</td>\n",
       "      <td>7.341091</td>\n",
       "      <td>26.98048</td>\n",
       "      <td>15.817568</td>\n",
       "      <td>26.851351</td>\n",
       "    </tr>\n",
       "    <tr>\n",
       "      <th>close_meta</th>\n",
       "      <td>261.160004</td>\n",
       "      <td>38.23</td>\n",
       "      <td>48.84</td>\n",
       "      <td>38.23</td>\n",
       "      <td>53.810001</td>\n",
       "    </tr>\n",
       "    <tr>\n",
       "      <th>close_msft</th>\n",
       "      <td>210.279999</td>\n",
       "      <td>25.290001</td>\n",
       "      <td>38.709999</td>\n",
       "      <td>33.380001</td>\n",
       "      <td>36.889999</td>\n",
       "    </tr>\n",
       "    <tr>\n",
       "      <th>high_aapl</th>\n",
       "      <td>116.087502</td>\n",
       "      <td>1.380357</td>\n",
       "      <td>20.342142</td>\n",
       "      <td>5.989286</td>\n",
       "      <td>20.094286</td>\n",
       "    </tr>\n",
       "    <tr>\n",
       "      <th>high_amzn</th>\n",
       "      <td>159.748505</td>\n",
       "      <td>1.784</td>\n",
       "      <td>19.4105</td>\n",
       "      <td>4.0045</td>\n",
       "      <td>19.584999</td>\n",
       "    </tr>\n",
       "    <tr>\n",
       "      <th>high_googl</th>\n",
       "      <td>76.189003</td>\n",
       "      <td>7.422422</td>\n",
       "      <td>27.084835</td>\n",
       "      <td>16.765015</td>\n",
       "      <td>26.894144</td>\n",
       "    </tr>\n",
       "    <tr>\n",
       "      <th>high_meta</th>\n",
       "      <td>264.100006</td>\n",
       "      <td>45.0</td>\n",
       "      <td>48.970001</td>\n",
       "      <td>45.0</td>\n",
       "      <td>54.5</td>\n",
       "    </tr>\n",
       "    <tr>\n",
       "      <th>high_msft</th>\n",
       "      <td>211.190002</td>\n",
       "      <td>25.379999</td>\n",
       "      <td>38.869999</td>\n",
       "      <td>33.709999</td>\n",
       "      <td>37.0</td>\n",
       "    </tr>\n",
       "    <tr>\n",
       "      <th>low_aapl</th>\n",
       "      <td>113.962502</td>\n",
       "      <td>1.349286</td>\n",
       "      <td>20.032143</td>\n",
       "      <td>5.379643</td>\n",
       "      <td>19.821787</td>\n",
       "    </tr>\n",
       "    <tr>\n",
       "      <th>low_amzn</th>\n",
       "      <td>157.709</td>\n",
       "      <td>1.73</td>\n",
       "      <td>19.1285</td>\n",
       "      <td>3.825</td>\n",
       "      <td>19.25</td>\n",
       "    </tr>\n",
       "    <tr>\n",
       "      <th>low_googl</th>\n",
       "      <td>75.25</td>\n",
       "      <td>7.282783</td>\n",
       "      <td>26.727226</td>\n",
       "      <td>15.670921</td>\n",
       "      <td>26.576826</td>\n",
       "    </tr>\n",
       "    <tr>\n",
       "      <th>low_meta</th>\n",
       "      <td>259.399994</td>\n",
       "      <td>38.0</td>\n",
       "      <td>47.740002</td>\n",
       "      <td>38.0</td>\n",
       "      <td>52.91</td>\n",
       "    </tr>\n",
       "    <tr>\n",
       "      <th>low_msft</th>\n",
       "      <td>208.919998</td>\n",
       "      <td>25.110001</td>\n",
       "      <td>38.369999</td>\n",
       "      <td>33.02</td>\n",
       "      <td>36.540001</td>\n",
       "    </tr>\n",
       "    <tr>\n",
       "      <th>open_aapl</th>\n",
       "      <td>116.0625</td>\n",
       "      <td>1.370357</td>\n",
       "      <td>20.032143</td>\n",
       "      <td>5.902857</td>\n",
       "      <td>19.822144</td>\n",
       "    </tr>\n",
       "    <tr>\n",
       "      <th>open_amzn</th>\n",
       "      <td>158.656006</td>\n",
       "      <td>1.736</td>\n",
       "      <td>19.4055</td>\n",
       "      <td>3.913</td>\n",
       "      <td>19.251499</td>\n",
       "    </tr>\n",
       "    <tr>\n",
       "      <th>open_googl</th>\n",
       "      <td>75.7985</td>\n",
       "      <td>7.417417</td>\n",
       "      <td>26.801552</td>\n",
       "      <td>16.459961</td>\n",
       "      <td>26.626627</td>\n",
       "    </tr>\n",
       "    <tr>\n",
       "      <th>open_meta</th>\n",
       "      <td>262.5</td>\n",
       "      <td>42.049999</td>\n",
       "      <td>48.09</td>\n",
       "      <td>42.049999</td>\n",
       "      <td>53.25</td>\n",
       "    </tr>\n",
       "    <tr>\n",
       "      <th>open_msft</th>\n",
       "      <td>209.600006</td>\n",
       "      <td>25.15</td>\n",
       "      <td>38.560001</td>\n",
       "      <td>33.32</td>\n",
       "      <td>36.73</td>\n",
       "    </tr>\n",
       "    <tr>\n",
       "      <th>volume_aapl</th>\n",
       "      <td>119561600</td>\n",
       "      <td>388788400</td>\n",
       "      <td>320493600</td>\n",
       "      <td>1769065200</td>\n",
       "      <td>282592800</td>\n",
       "    </tr>\n",
       "    <tr>\n",
       "      <th>volume_amzn</th>\n",
       "      <td>53824000</td>\n",
       "      <td>103320000</td>\n",
       "      <td>55236000</td>\n",
       "      <td>187938000</td>\n",
       "      <td>45034000</td>\n",
       "    </tr>\n",
       "    <tr>\n",
       "      <th>volume_googl</th>\n",
       "      <td>19990000</td>\n",
       "      <td>335276388</td>\n",
       "      <td>59244696</td>\n",
       "      <td>408682908</td>\n",
       "      <td>64015920</td>\n",
       "    </tr>\n",
       "    <tr>\n",
       "      <th>volume_meta</th>\n",
       "      <td>13351100.0</td>\n",
       "      <td>573576400.0</td>\n",
       "      <td>36056000.0</td>\n",
       "      <td>573576400.0</td>\n",
       "      <td>85119000.0</td>\n",
       "    </tr>\n",
       "    <tr>\n",
       "      <th>volume_msft</th>\n",
       "      <td>20184800</td>\n",
       "      <td>61525400</td>\n",
       "      <td>30286000</td>\n",
       "      <td>84865200</td>\n",
       "      <td>31734200</td>\n",
       "    </tr>\n",
       "  </tbody>\n",
       "</table>\n",
       "</div>"
      ],
      "text/plain": [
       "                                                                     1962  \\\n",
       "date                                                  2020-08-17 00:00:00   \n",
       "duoarea_oil                                                           R1X   \n",
       "area_name_oil                                                     PADD 1A   \n",
       "oil_product_code                                                     EPM0   \n",
       "oil_product_name                                           Total Gasoline   \n",
       "oil_series                                           EMM_EPM0_PTE_R1X_DPG   \n",
       "oil_series_description  New England (PADD 1A) All Grades All Formulati...   \n",
       "price_oil                                                           2.197   \n",
       "adj_close_aapl                                                 112.129219   \n",
       "adj_close_amzn                                                 159.120499   \n",
       "adj_close_googl                                                  75.72509   \n",
       "adj_close_meta                                                 260.624451   \n",
       "adj_close_msft                                                 203.010864   \n",
       "close_aapl                                                     114.607498   \n",
       "close_amzn                                                     159.120499   \n",
       "close_googl                                                     75.811996   \n",
       "close_meta                                                     261.160004   \n",
       "close_msft                                                     210.279999   \n",
       "high_aapl                                                      116.087502   \n",
       "high_amzn                                                      159.748505   \n",
       "high_googl                                                      76.189003   \n",
       "high_meta                                                      264.100006   \n",
       "high_msft                                                      211.190002   \n",
       "low_aapl                                                       113.962502   \n",
       "low_amzn                                                          157.709   \n",
       "low_googl                                                           75.25   \n",
       "low_meta                                                       259.399994   \n",
       "low_msft                                                       208.919998   \n",
       "open_aapl                                                        116.0625   \n",
       "open_amzn                                                      158.656006   \n",
       "open_googl                                                        75.7985   \n",
       "open_meta                                                           262.5   \n",
       "open_msft                                                      209.600006   \n",
       "volume_aapl                                                     119561600   \n",
       "volume_amzn                                                      53824000   \n",
       "volume_googl                                                     19990000   \n",
       "volume_meta                                                    13351100.0   \n",
       "volume_msft                                                      20184800   \n",
       "\n",
       "                                                                     2334  \\\n",
       "date                                                  2005-07-11 00:00:00   \n",
       "duoarea_oil                                                         R5XCA   \n",
       "area_name_oil                                    PADD 5 EXCEPT CALIFORNIA   \n",
       "oil_product_code                                                     EPM0   \n",
       "oil_product_name                                           Total Gasoline   \n",
       "oil_series                                         EMM_EPM0_PTE_R5XCA_DPG   \n",
       "oil_series_description  West Coast (PADD 5) Except California All Grad...   \n",
       "price_oil                                                            2.44   \n",
       "adj_close_aapl                                                   1.150419   \n",
       "adj_close_amzn                                                     1.7795   \n",
       "adj_close_googl                                                  7.332675   \n",
       "adj_close_meta                                                  38.151604   \n",
       "adj_close_msft                                                  17.727289   \n",
       "close_aapl                                                       1.360714   \n",
       "close_amzn                                                         1.7795   \n",
       "close_googl                                                      7.341091   \n",
       "close_meta                                                          38.23   \n",
       "close_msft                                                      25.290001   \n",
       "high_aapl                                                        1.380357   \n",
       "high_amzn                                                           1.784   \n",
       "high_googl                                                       7.422422   \n",
       "high_meta                                                            45.0   \n",
       "high_msft                                                       25.379999   \n",
       "low_aapl                                                         1.349286   \n",
       "low_amzn                                                             1.73   \n",
       "low_googl                                                        7.282783   \n",
       "low_meta                                                             38.0   \n",
       "low_msft                                                        25.110001   \n",
       "open_aapl                                                        1.370357   \n",
       "open_amzn                                                           1.736   \n",
       "open_googl                                                       7.417417   \n",
       "open_meta                                                       42.049999   \n",
       "open_msft                                                           25.15   \n",
       "volume_aapl                                                     388788400   \n",
       "volume_amzn                                                     103320000   \n",
       "volume_googl                                                    335276388   \n",
       "volume_meta                                                   573576400.0   \n",
       "volume_msft                                                      61525400   \n",
       "\n",
       "                                                                     524   \\\n",
       "date                                                  2013-12-09 00:00:00   \n",
       "duoarea_oil                                                           R1X   \n",
       "area_name_oil                                                     PADD 1A   \n",
       "oil_product_code                                                 EPD2DXL0   \n",
       "oil_product_name                        No 2 Diesel Low Sulfur (0-15 ppm)   \n",
       "oil_series                                       EMD_EPD2DXL0_PTE_R1X_DPG   \n",
       "oil_series_description  New England (PADD 1A) No 2 Diesel Ultra Low Su...   \n",
       "price_oil                                                           4.066   \n",
       "adj_close_aapl                                                  17.688559   \n",
       "adj_close_amzn                                                  19.244499   \n",
       "adj_close_googl                                                 26.949551   \n",
       "adj_close_meta                                                  48.739845   \n",
       "adj_close_msft                                                  32.477245   \n",
       "close_aapl                                                      20.229643   \n",
       "close_amzn                                                      19.244499   \n",
       "close_googl                                                      26.98048   \n",
       "close_meta                                                          48.84   \n",
       "close_msft                                                      38.709999   \n",
       "high_aapl                                                       20.342142   \n",
       "high_amzn                                                         19.4105   \n",
       "high_googl                                                      27.084835   \n",
       "high_meta                                                       48.970001   \n",
       "high_msft                                                       38.869999   \n",
       "low_aapl                                                        20.032143   \n",
       "low_amzn                                                          19.1285   \n",
       "low_googl                                                       26.727226   \n",
       "low_meta                                                        47.740002   \n",
       "low_msft                                                        38.369999   \n",
       "open_aapl                                                       20.032143   \n",
       "open_amzn                                                         19.4055   \n",
       "open_googl                                                      26.801552   \n",
       "open_meta                                                           48.09   \n",
       "open_msft                                                       38.560001   \n",
       "volume_aapl                                                     320493600   \n",
       "volume_amzn                                                      55236000   \n",
       "volume_googl                                                     59244696   \n",
       "volume_meta                                                    36056000.0   \n",
       "volume_msft                                                      30286000   \n",
       "\n",
       "                                                                     2907  \\\n",
       "date                                                  2007-11-12 00:00:00   \n",
       "duoarea_oil                                                           SCO   \n",
       "area_name_oil                                                    COLORADO   \n",
       "oil_product_code                                                     EPM0   \n",
       "oil_product_name                                           Total Gasoline   \n",
       "oil_series                                           EMM_EPM0_PTE_SCO_DPG   \n",
       "oil_series_description  Colorado All Grades All Formulations Retail Ga...   \n",
       "price_oil                                                           3.101   \n",
       "adj_close_aapl                                                   4.642742   \n",
       "adj_close_amzn                                                       3.85   \n",
       "adj_close_googl                                                 15.799435   \n",
       "adj_close_meta                                                  38.151604   \n",
       "adj_close_msft                                                  24.121412   \n",
       "close_aapl                                                       5.491429   \n",
       "close_amzn                                                           3.85   \n",
       "close_googl                                                     15.817568   \n",
       "close_meta                                                          38.23   \n",
       "close_msft                                                      33.380001   \n",
       "high_aapl                                                        5.989286   \n",
       "high_amzn                                                          4.0045   \n",
       "high_googl                                                      16.765015   \n",
       "high_meta                                                            45.0   \n",
       "high_msft                                                       33.709999   \n",
       "low_aapl                                                         5.379643   \n",
       "low_amzn                                                            3.825   \n",
       "low_googl                                                       15.670921   \n",
       "low_meta                                                             38.0   \n",
       "low_msft                                                            33.02   \n",
       "open_aapl                                                        5.902857   \n",
       "open_amzn                                                           3.913   \n",
       "open_googl                                                      16.459961   \n",
       "open_meta                                                       42.049999   \n",
       "open_msft                                                           33.32   \n",
       "volume_aapl                                                    1769065200   \n",
       "volume_amzn                                                     187938000   \n",
       "volume_googl                                                    408682908   \n",
       "volume_meta                                                   573576400.0   \n",
       "volume_msft                                                      84865200   \n",
       "\n",
       "                                                                     2501  \n",
       "date                                                  2013-12-16 00:00:00  \n",
       "duoarea_oil                                                         Y44HO  \n",
       "area_name_oil                                                     HOUSTON  \n",
       "oil_product_code                                                     EPM0  \n",
       "oil_product_name                                           Total Gasoline  \n",
       "oil_series                                         EMM_EPM0_PTE_Y44HO_DPG  \n",
       "oil_series_description  Houston All Grades All Formulations Retail Gas...  \n",
       "price_oil                                                           3.141  \n",
       "adj_close_aapl                                                  17.409697  \n",
       "adj_close_amzn                                                    19.4485  \n",
       "adj_close_googl                                                 26.820568  \n",
       "adj_close_meta                                                  53.699654  \n",
       "adj_close_msft                                                  30.950298  \n",
       "close_aapl                                                      19.910713  \n",
       "close_amzn                                                        19.4485  \n",
       "close_googl                                                     26.851351  \n",
       "close_meta                                                      53.810001  \n",
       "close_msft                                                      36.889999  \n",
       "high_aapl                                                       20.094286  \n",
       "high_amzn                                                       19.584999  \n",
       "high_googl                                                      26.894144  \n",
       "high_meta                                                            54.5  \n",
       "high_msft                                                            37.0  \n",
       "low_aapl                                                        19.821787  \n",
       "low_amzn                                                            19.25  \n",
       "low_googl                                                       26.576826  \n",
       "low_meta                                                            52.91  \n",
       "low_msft                                                        36.540001  \n",
       "open_aapl                                                       19.822144  \n",
       "open_amzn                                                       19.251499  \n",
       "open_googl                                                      26.626627  \n",
       "open_meta                                                           53.25  \n",
       "open_msft                                                           36.73  \n",
       "volume_aapl                                                     282592800  \n",
       "volume_amzn                                                      45034000  \n",
       "volume_googl                                                     64015920  \n",
       "volume_meta                                                    85119000.0  \n",
       "volume_msft                                                      31734200  "
      ]
     },
     "execution_count": 48,
     "metadata": {},
     "output_type": "execute_result"
    }
   ],
   "source": [
    "## combine datasets using merege on the date column\n",
    "merged_data = pd.merge(oil_data_cleaned, stocks_data_cleaned, on='date')\n",
    "merged_data.sample(5).T"
   ]
  },
  {
   "cell_type": "markdown",
   "metadata": {},
   "source": [
    "> Now the datasets are ready to be stored cleaned to further invesigate the research questions. However, let's take another look at the mergered data in ensure that everything is cleaned."
   ]
  },
  {
   "cell_type": "code",
   "execution_count": 49,
   "metadata": {},
   "outputs": [
    {
     "data": {
      "text/html": [
       "<div>\n",
       "<style scoped>\n",
       "    .dataframe tbody tr th:only-of-type {\n",
       "        vertical-align: middle;\n",
       "    }\n",
       "\n",
       "    .dataframe tbody tr th {\n",
       "        vertical-align: top;\n",
       "    }\n",
       "\n",
       "    .dataframe thead th {\n",
       "        text-align: right;\n",
       "    }\n",
       "</style>\n",
       "<table border=\"1\" class=\"dataframe\">\n",
       "  <thead>\n",
       "    <tr style=\"text-align: right;\">\n",
       "      <th></th>\n",
       "      <th>692</th>\n",
       "      <th>3164</th>\n",
       "      <th>940</th>\n",
       "      <th>2412</th>\n",
       "      <th>3866</th>\n",
       "    </tr>\n",
       "  </thead>\n",
       "  <tbody>\n",
       "    <tr>\n",
       "      <th>date</th>\n",
       "      <td>2009-01-12 00:00:00</td>\n",
       "      <td>2007-04-23 00:00:00</td>\n",
       "      <td>2019-04-08 00:00:00</td>\n",
       "      <td>2018-06-04 00:00:00</td>\n",
       "      <td>2017-03-20 00:00:00</td>\n",
       "    </tr>\n",
       "    <tr>\n",
       "      <th>duoarea_oil</th>\n",
       "      <td>R40</td>\n",
       "      <td>YBOS</td>\n",
       "      <td>R50</td>\n",
       "      <td>R5XCA</td>\n",
       "      <td>Y05LA</td>\n",
       "    </tr>\n",
       "    <tr>\n",
       "      <th>area_name_oil</th>\n",
       "      <td>PADD 4</td>\n",
       "      <td>BOSTON</td>\n",
       "      <td>PADD 5</td>\n",
       "      <td>PADD 5 EXCEPT CALIFORNIA</td>\n",
       "      <td>LOS ANGELES</td>\n",
       "    </tr>\n",
       "    <tr>\n",
       "      <th>oil_product_code</th>\n",
       "      <td>EPD2DXL0</td>\n",
       "      <td>EPM0</td>\n",
       "      <td>EPD2DXL0</td>\n",
       "      <td>EPM0</td>\n",
       "      <td>EPM0</td>\n",
       "    </tr>\n",
       "    <tr>\n",
       "      <th>oil_product_name</th>\n",
       "      <td>No 2 Diesel Low Sulfur (0-15 ppm)</td>\n",
       "      <td>Total Gasoline</td>\n",
       "      <td>No 2 Diesel Low Sulfur (0-15 ppm)</td>\n",
       "      <td>Total Gasoline</td>\n",
       "      <td>Total Gasoline</td>\n",
       "    </tr>\n",
       "    <tr>\n",
       "      <th>oil_series</th>\n",
       "      <td>EMD_EPD2DXL0_PTE_R40_DPG</td>\n",
       "      <td>EMM_EPM0_PTE_YBOS_DPG</td>\n",
       "      <td>EMD_EPD2DXL0_PTE_R50_DPG</td>\n",
       "      <td>EMM_EPM0_PTE_R5XCA_DPG</td>\n",
       "      <td>EMM_EPM0_PTE_Y05LA_DPG</td>\n",
       "    </tr>\n",
       "    <tr>\n",
       "      <th>oil_series_description</th>\n",
       "      <td>Rocky Mountain No 2 Diesel Ultra Low Sulfur (0...</td>\n",
       "      <td>Boston, MA All Grades All Formulations Retail ...</td>\n",
       "      <td>West Coast No 2 Diesel Ultra Low Sulfur (0-15 ...</td>\n",
       "      <td>West Coast (PADD 5) Except California All Grad...</td>\n",
       "      <td>Los Angeles All Grades All Formulations Retail...</td>\n",
       "    </tr>\n",
       "    <tr>\n",
       "      <th>price_oil</th>\n",
       "      <td>2.236</td>\n",
       "      <td>2.808</td>\n",
       "      <td>3.591</td>\n",
       "      <td>3.311</td>\n",
       "      <td>3.086</td>\n",
       "    </tr>\n",
       "    <tr>\n",
       "      <th>adj_close_aapl</th>\n",
       "      <td>2.677066</td>\n",
       "      <td>2.823511</td>\n",
       "      <td>48.093781</td>\n",
       "      <td>45.589676</td>\n",
       "      <td>32.968227</td>\n",
       "    </tr>\n",
       "    <tr>\n",
       "      <th>adj_close_amzn</th>\n",
       "      <td>2.596</td>\n",
       "      <td>2.2385</td>\n",
       "      <td>92.492996</td>\n",
       "      <td>83.263496</td>\n",
       "      <td>42.848499</td>\n",
       "    </tr>\n",
       "    <tr>\n",
       "      <th>adj_close_googl</th>\n",
       "      <td>7.816105</td>\n",
       "      <td>11.975245</td>\n",
       "      <td>60.344746</td>\n",
       "      <td>57.585911</td>\n",
       "      <td>43.345753</td>\n",
       "    </tr>\n",
       "    <tr>\n",
       "      <th>adj_close_meta</th>\n",
       "      <td>38.151604</td>\n",
       "      <td>38.151604</td>\n",
       "      <td>174.571259</td>\n",
       "      <td>192.883636</td>\n",
       "      <td>139.653015</td>\n",
       "    </tr>\n",
       "    <tr>\n",
       "      <th>adj_close_msft</th>\n",
       "      <td>14.376621</td>\n",
       "      <td>20.657757</td>\n",
       "      <td>113.954887</td>\n",
       "      <td>95.412888</td>\n",
       "      <td>59.426525</td>\n",
       "    </tr>\n",
       "    <tr>\n",
       "      <th>close_aapl</th>\n",
       "      <td>3.166429</td>\n",
       "      <td>3.339643</td>\n",
       "      <td>50.025002</td>\n",
       "      <td>47.9575</td>\n",
       "      <td>35.365002</td>\n",
       "    </tr>\n",
       "    <tr>\n",
       "      <th>close_amzn</th>\n",
       "      <td>2.596</td>\n",
       "      <td>2.2385</td>\n",
       "      <td>92.492996</td>\n",
       "      <td>83.263496</td>\n",
       "      <td>42.848499</td>\n",
       "    </tr>\n",
       "    <tr>\n",
       "      <th>close_googl</th>\n",
       "      <td>7.825075</td>\n",
       "      <td>11.988989</td>\n",
       "      <td>60.414001</td>\n",
       "      <td>57.652</td>\n",
       "      <td>43.3955</td>\n",
       "    </tr>\n",
       "    <tr>\n",
       "      <th>close_meta</th>\n",
       "      <td>38.23</td>\n",
       "      <td>38.23</td>\n",
       "      <td>174.929993</td>\n",
       "      <td>193.279999</td>\n",
       "      <td>139.940002</td>\n",
       "    </tr>\n",
       "    <tr>\n",
       "      <th>close_msft</th>\n",
       "      <td>19.469999</td>\n",
       "      <td>28.780001</td>\n",
       "      <td>119.93</td>\n",
       "      <td>101.669998</td>\n",
       "      <td>64.93</td>\n",
       "    </tr>\n",
       "    <tr>\n",
       "      <th>high_aapl</th>\n",
       "      <td>3.249643</td>\n",
       "      <td>3.35</td>\n",
       "      <td>50.057499</td>\n",
       "      <td>48.355</td>\n",
       "      <td>35.375</td>\n",
       "    </tr>\n",
       "    <tr>\n",
       "      <th>high_amzn</th>\n",
       "      <td>2.715</td>\n",
       "      <td>2.2405</td>\n",
       "      <td>92.510002</td>\n",
       "      <td>83.283997</td>\n",
       "      <td>42.889999</td>\n",
       "    </tr>\n",
       "    <tr>\n",
       "      <th>high_googl</th>\n",
       "      <td>7.981732</td>\n",
       "      <td>12.137137</td>\n",
       "      <td>60.697498</td>\n",
       "      <td>57.893002</td>\n",
       "      <td>43.516998</td>\n",
       "    </tr>\n",
       "    <tr>\n",
       "      <th>high_meta</th>\n",
       "      <td>45.0</td>\n",
       "      <td>45.0</td>\n",
       "      <td>175.5</td>\n",
       "      <td>193.979996</td>\n",
       "      <td>140.190002</td>\n",
       "    </tr>\n",
       "    <tr>\n",
       "      <th>high_msft</th>\n",
       "      <td>19.790001</td>\n",
       "      <td>28.99</td>\n",
       "      <td>120.019997</td>\n",
       "      <td>101.860001</td>\n",
       "      <td>65.18</td>\n",
       "    </tr>\n",
       "    <tr>\n",
       "      <th>low_aapl</th>\n",
       "      <td>3.126786</td>\n",
       "      <td>3.265</td>\n",
       "      <td>49.084999</td>\n",
       "      <td>47.837502</td>\n",
       "      <td>35.057499</td>\n",
       "    </tr>\n",
       "    <tr>\n",
       "      <th>low_amzn</th>\n",
       "      <td>2.5435</td>\n",
       "      <td>2.208</td>\n",
       "      <td>91.255501</td>\n",
       "      <td>82.274498</td>\n",
       "      <td>42.550499</td>\n",
       "    </tr>\n",
       "    <tr>\n",
       "      <th>low_googl</th>\n",
       "      <td>7.763514</td>\n",
       "      <td>11.968468</td>\n",
       "      <td>60.235001</td>\n",
       "      <td>56.849998</td>\n",
       "      <td>43.233501</td>\n",
       "    </tr>\n",
       "    <tr>\n",
       "      <th>low_meta</th>\n",
       "      <td>38.0</td>\n",
       "      <td>38.0</td>\n",
       "      <td>174.229996</td>\n",
       "      <td>191.470001</td>\n",
       "      <td>139.25</td>\n",
       "    </tr>\n",
       "    <tr>\n",
       "      <th>low_msft</th>\n",
       "      <td>19.299999</td>\n",
       "      <td>28.67</td>\n",
       "      <td>118.639999</td>\n",
       "      <td>100.849998</td>\n",
       "      <td>64.720001</td>\n",
       "    </tr>\n",
       "    <tr>\n",
       "      <th>open_aapl</th>\n",
       "      <td>3.230714</td>\n",
       "      <td>3.271071</td>\n",
       "      <td>49.105</td>\n",
       "      <td>47.91</td>\n",
       "      <td>35.099998</td>\n",
       "    </tr>\n",
       "    <tr>\n",
       "      <th>open_amzn</th>\n",
       "      <td>2.706</td>\n",
       "      <td>2.2135</td>\n",
       "      <td>91.661499</td>\n",
       "      <td>82.445</td>\n",
       "      <td>42.5755</td>\n",
       "    </tr>\n",
       "    <tr>\n",
       "      <th>open_googl</th>\n",
       "      <td>7.915666</td>\n",
       "      <td>12.014515</td>\n",
       "      <td>60.5555</td>\n",
       "      <td>56.924999</td>\n",
       "      <td>43.473999</td>\n",
       "    </tr>\n",
       "    <tr>\n",
       "      <th>open_meta</th>\n",
       "      <td>42.049999</td>\n",
       "      <td>42.049999</td>\n",
       "      <td>175.210007</td>\n",
       "      <td>191.839996</td>\n",
       "      <td>139.710007</td>\n",
       "    </tr>\n",
       "    <tr>\n",
       "      <th>open_msft</th>\n",
       "      <td>19.709999</td>\n",
       "      <td>28.959999</td>\n",
       "      <td>119.809998</td>\n",
       "      <td>101.260002</td>\n",
       "      <td>64.910004</td>\n",
       "    </tr>\n",
       "    <tr>\n",
       "      <th>volume_aapl</th>\n",
       "      <td>617716400</td>\n",
       "      <td>780290000</td>\n",
       "      <td>103526800</td>\n",
       "      <td>105064800</td>\n",
       "      <td>86168000</td>\n",
       "    </tr>\n",
       "    <tr>\n",
       "      <th>volume_amzn</th>\n",
       "      <td>191126000</td>\n",
       "      <td>141772000</td>\n",
       "      <td>75056000</td>\n",
       "      <td>63754000</td>\n",
       "      <td>45654000</td>\n",
       "    </tr>\n",
       "    <tr>\n",
       "      <th>volume_googl</th>\n",
       "      <td>132039828</td>\n",
       "      <td>226757016</td>\n",
       "      <td>21750000</td>\n",
       "      <td>44754000</td>\n",
       "      <td>30844000</td>\n",
       "    </tr>\n",
       "    <tr>\n",
       "      <th>volume_meta</th>\n",
       "      <td>573576400.0</td>\n",
       "      <td>573576400.0</td>\n",
       "      <td>7297400.0</td>\n",
       "      <td>18939800.0</td>\n",
       "      <td>12099500.0</td>\n",
       "    </tr>\n",
       "    <tr>\n",
       "      <th>volume_msft</th>\n",
       "      <td>52163500</td>\n",
       "      <td>41739100</td>\n",
       "      <td>15116200</td>\n",
       "      <td>27281600</td>\n",
       "      <td>14598100</td>\n",
       "    </tr>\n",
       "  </tbody>\n",
       "</table>\n",
       "</div>"
      ],
      "text/plain": [
       "                                                                     692   \\\n",
       "date                                                  2009-01-12 00:00:00   \n",
       "duoarea_oil                                                           R40   \n",
       "area_name_oil                                                      PADD 4   \n",
       "oil_product_code                                                 EPD2DXL0   \n",
       "oil_product_name                        No 2 Diesel Low Sulfur (0-15 ppm)   \n",
       "oil_series                                       EMD_EPD2DXL0_PTE_R40_DPG   \n",
       "oil_series_description  Rocky Mountain No 2 Diesel Ultra Low Sulfur (0...   \n",
       "price_oil                                                           2.236   \n",
       "adj_close_aapl                                                   2.677066   \n",
       "adj_close_amzn                                                      2.596   \n",
       "adj_close_googl                                                  7.816105   \n",
       "adj_close_meta                                                  38.151604   \n",
       "adj_close_msft                                                  14.376621   \n",
       "close_aapl                                                       3.166429   \n",
       "close_amzn                                                          2.596   \n",
       "close_googl                                                      7.825075   \n",
       "close_meta                                                          38.23   \n",
       "close_msft                                                      19.469999   \n",
       "high_aapl                                                        3.249643   \n",
       "high_amzn                                                           2.715   \n",
       "high_googl                                                       7.981732   \n",
       "high_meta                                                            45.0   \n",
       "high_msft                                                       19.790001   \n",
       "low_aapl                                                         3.126786   \n",
       "low_amzn                                                           2.5435   \n",
       "low_googl                                                        7.763514   \n",
       "low_meta                                                             38.0   \n",
       "low_msft                                                        19.299999   \n",
       "open_aapl                                                        3.230714   \n",
       "open_amzn                                                           2.706   \n",
       "open_googl                                                       7.915666   \n",
       "open_meta                                                       42.049999   \n",
       "open_msft                                                       19.709999   \n",
       "volume_aapl                                                     617716400   \n",
       "volume_amzn                                                     191126000   \n",
       "volume_googl                                                    132039828   \n",
       "volume_meta                                                   573576400.0   \n",
       "volume_msft                                                      52163500   \n",
       "\n",
       "                                                                     3164  \\\n",
       "date                                                  2007-04-23 00:00:00   \n",
       "duoarea_oil                                                          YBOS   \n",
       "area_name_oil                                                      BOSTON   \n",
       "oil_product_code                                                     EPM0   \n",
       "oil_product_name                                           Total Gasoline   \n",
       "oil_series                                          EMM_EPM0_PTE_YBOS_DPG   \n",
       "oil_series_description  Boston, MA All Grades All Formulations Retail ...   \n",
       "price_oil                                                           2.808   \n",
       "adj_close_aapl                                                   2.823511   \n",
       "adj_close_amzn                                                     2.2385   \n",
       "adj_close_googl                                                 11.975245   \n",
       "adj_close_meta                                                  38.151604   \n",
       "adj_close_msft                                                  20.657757   \n",
       "close_aapl                                                       3.339643   \n",
       "close_amzn                                                         2.2385   \n",
       "close_googl                                                     11.988989   \n",
       "close_meta                                                          38.23   \n",
       "close_msft                                                      28.780001   \n",
       "high_aapl                                                            3.35   \n",
       "high_amzn                                                          2.2405   \n",
       "high_googl                                                      12.137137   \n",
       "high_meta                                                            45.0   \n",
       "high_msft                                                           28.99   \n",
       "low_aapl                                                            3.265   \n",
       "low_amzn                                                            2.208   \n",
       "low_googl                                                       11.968468   \n",
       "low_meta                                                             38.0   \n",
       "low_msft                                                            28.67   \n",
       "open_aapl                                                        3.271071   \n",
       "open_amzn                                                          2.2135   \n",
       "open_googl                                                      12.014515   \n",
       "open_meta                                                       42.049999   \n",
       "open_msft                                                       28.959999   \n",
       "volume_aapl                                                     780290000   \n",
       "volume_amzn                                                     141772000   \n",
       "volume_googl                                                    226757016   \n",
       "volume_meta                                                   573576400.0   \n",
       "volume_msft                                                      41739100   \n",
       "\n",
       "                                                                     940   \\\n",
       "date                                                  2019-04-08 00:00:00   \n",
       "duoarea_oil                                                           R50   \n",
       "area_name_oil                                                      PADD 5   \n",
       "oil_product_code                                                 EPD2DXL0   \n",
       "oil_product_name                        No 2 Diesel Low Sulfur (0-15 ppm)   \n",
       "oil_series                                       EMD_EPD2DXL0_PTE_R50_DPG   \n",
       "oil_series_description  West Coast No 2 Diesel Ultra Low Sulfur (0-15 ...   \n",
       "price_oil                                                           3.591   \n",
       "adj_close_aapl                                                  48.093781   \n",
       "adj_close_amzn                                                  92.492996   \n",
       "adj_close_googl                                                 60.344746   \n",
       "adj_close_meta                                                 174.571259   \n",
       "adj_close_msft                                                 113.954887   \n",
       "close_aapl                                                      50.025002   \n",
       "close_amzn                                                      92.492996   \n",
       "close_googl                                                     60.414001   \n",
       "close_meta                                                     174.929993   \n",
       "close_msft                                                         119.93   \n",
       "high_aapl                                                       50.057499   \n",
       "high_amzn                                                       92.510002   \n",
       "high_googl                                                      60.697498   \n",
       "high_meta                                                           175.5   \n",
       "high_msft                                                      120.019997   \n",
       "low_aapl                                                        49.084999   \n",
       "low_amzn                                                        91.255501   \n",
       "low_googl                                                       60.235001   \n",
       "low_meta                                                       174.229996   \n",
       "low_msft                                                       118.639999   \n",
       "open_aapl                                                          49.105   \n",
       "open_amzn                                                       91.661499   \n",
       "open_googl                                                        60.5555   \n",
       "open_meta                                                      175.210007   \n",
       "open_msft                                                      119.809998   \n",
       "volume_aapl                                                     103526800   \n",
       "volume_amzn                                                      75056000   \n",
       "volume_googl                                                     21750000   \n",
       "volume_meta                                                     7297400.0   \n",
       "volume_msft                                                      15116200   \n",
       "\n",
       "                                                                     2412  \\\n",
       "date                                                  2018-06-04 00:00:00   \n",
       "duoarea_oil                                                         R5XCA   \n",
       "area_name_oil                                    PADD 5 EXCEPT CALIFORNIA   \n",
       "oil_product_code                                                     EPM0   \n",
       "oil_product_name                                           Total Gasoline   \n",
       "oil_series                                         EMM_EPM0_PTE_R5XCA_DPG   \n",
       "oil_series_description  West Coast (PADD 5) Except California All Grad...   \n",
       "price_oil                                                           3.311   \n",
       "adj_close_aapl                                                  45.589676   \n",
       "adj_close_amzn                                                  83.263496   \n",
       "adj_close_googl                                                 57.585911   \n",
       "adj_close_meta                                                 192.883636   \n",
       "adj_close_msft                                                  95.412888   \n",
       "close_aapl                                                        47.9575   \n",
       "close_amzn                                                      83.263496   \n",
       "close_googl                                                        57.652   \n",
       "close_meta                                                     193.279999   \n",
       "close_msft                                                     101.669998   \n",
       "high_aapl                                                          48.355   \n",
       "high_amzn                                                       83.283997   \n",
       "high_googl                                                      57.893002   \n",
       "high_meta                                                      193.979996   \n",
       "high_msft                                                      101.860001   \n",
       "low_aapl                                                        47.837502   \n",
       "low_amzn                                                        82.274498   \n",
       "low_googl                                                       56.849998   \n",
       "low_meta                                                       191.470001   \n",
       "low_msft                                                       100.849998   \n",
       "open_aapl                                                           47.91   \n",
       "open_amzn                                                          82.445   \n",
       "open_googl                                                      56.924999   \n",
       "open_meta                                                      191.839996   \n",
       "open_msft                                                      101.260002   \n",
       "volume_aapl                                                     105064800   \n",
       "volume_amzn                                                      63754000   \n",
       "volume_googl                                                     44754000   \n",
       "volume_meta                                                    18939800.0   \n",
       "volume_msft                                                      27281600   \n",
       "\n",
       "                                                                     3866  \n",
       "date                                                  2017-03-20 00:00:00  \n",
       "duoarea_oil                                                         Y05LA  \n",
       "area_name_oil                                                 LOS ANGELES  \n",
       "oil_product_code                                                     EPM0  \n",
       "oil_product_name                                           Total Gasoline  \n",
       "oil_series                                         EMM_EPM0_PTE_Y05LA_DPG  \n",
       "oil_series_description  Los Angeles All Grades All Formulations Retail...  \n",
       "price_oil                                                           3.086  \n",
       "adj_close_aapl                                                  32.968227  \n",
       "adj_close_amzn                                                  42.848499  \n",
       "adj_close_googl                                                 43.345753  \n",
       "adj_close_meta                                                 139.653015  \n",
       "adj_close_msft                                                  59.426525  \n",
       "close_aapl                                                      35.365002  \n",
       "close_amzn                                                      42.848499  \n",
       "close_googl                                                       43.3955  \n",
       "close_meta                                                     139.940002  \n",
       "close_msft                                                          64.93  \n",
       "high_aapl                                                          35.375  \n",
       "high_amzn                                                       42.889999  \n",
       "high_googl                                                      43.516998  \n",
       "high_meta                                                      140.190002  \n",
       "high_msft                                                           65.18  \n",
       "low_aapl                                                        35.057499  \n",
       "low_amzn                                                        42.550499  \n",
       "low_googl                                                       43.233501  \n",
       "low_meta                                                           139.25  \n",
       "low_msft                                                        64.720001  \n",
       "open_aapl                                                       35.099998  \n",
       "open_amzn                                                         42.5755  \n",
       "open_googl                                                      43.473999  \n",
       "open_meta                                                      139.710007  \n",
       "open_msft                                                       64.910004  \n",
       "volume_aapl                                                      86168000  \n",
       "volume_amzn                                                      45654000  \n",
       "volume_googl                                                     30844000  \n",
       "volume_meta                                                    12099500.0  \n",
       "volume_msft                                                      14598100  "
      ]
     },
     "execution_count": 49,
     "metadata": {},
     "output_type": "execute_result"
    }
   ],
   "source": [
    "merged_data.sample(5).T"
   ]
  },
  {
   "cell_type": "code",
   "execution_count": 50,
   "metadata": {},
   "outputs": [
    {
     "name": "stdout",
     "output_type": "stream",
     "text": [
      "<class 'pandas.core.frame.DataFrame'>\n",
      "RangeIndex: 4517 entries, 0 to 4516\n",
      "Data columns (total 38 columns):\n",
      " #   Column                  Non-Null Count  Dtype         \n",
      "---  ------                  --------------  -----         \n",
      " 0   date                    4517 non-null   datetime64[ns]\n",
      " 1   duoarea_oil             4517 non-null   object        \n",
      " 2   area_name_oil           4517 non-null   object        \n",
      " 3   oil_product_code        4517 non-null   object        \n",
      " 4   oil_product_name        4517 non-null   object        \n",
      " 5   oil_series              4517 non-null   object        \n",
      " 6   oil_series_description  4517 non-null   object        \n",
      " 7   price_oil               4517 non-null   float64       \n",
      " 8   adj_close_aapl          4517 non-null   float64       \n",
      " 9   adj_close_amzn          4517 non-null   float64       \n",
      " 10  adj_close_googl         4517 non-null   float64       \n",
      " 11  adj_close_meta          4517 non-null   float64       \n",
      " 12  adj_close_msft          4517 non-null   float64       \n",
      " 13  close_aapl              4517 non-null   float64       \n",
      " 14  close_amzn              4517 non-null   float64       \n",
      " 15  close_googl             4517 non-null   float64       \n",
      " 16  close_meta              4517 non-null   float64       \n",
      " 17  close_msft              4517 non-null   float64       \n",
      " 18  high_aapl               4517 non-null   float64       \n",
      " 19  high_amzn               4517 non-null   float64       \n",
      " 20  high_googl              4517 non-null   float64       \n",
      " 21  high_meta               4517 non-null   float64       \n",
      " 22  high_msft               4517 non-null   float64       \n",
      " 23  low_aapl                4517 non-null   float64       \n",
      " 24  low_amzn                4517 non-null   float64       \n",
      " 25  low_googl               4517 non-null   float64       \n",
      " 26  low_meta                4517 non-null   float64       \n",
      " 27  low_msft                4517 non-null   float64       \n",
      " 28  open_aapl               4517 non-null   float64       \n",
      " 29  open_amzn               4517 non-null   float64       \n",
      " 30  open_googl              4517 non-null   float64       \n",
      " 31  open_meta               4517 non-null   float64       \n",
      " 32  open_msft               4517 non-null   float64       \n",
      " 33  volume_aapl             4517 non-null   int64         \n",
      " 34  volume_amzn             4517 non-null   int64         \n",
      " 35  volume_googl            4517 non-null   int64         \n",
      " 36  volume_meta             4517 non-null   float64       \n",
      " 37  volume_msft             4517 non-null   int64         \n",
      "dtypes: datetime64[ns](1), float64(27), int64(4), object(6)\n",
      "memory usage: 1.3+ MB\n"
     ]
    }
   ],
   "source": [
    "merged_data.info()"
   ]
  },
  {
   "cell_type": "markdown",
   "metadata": {},
   "source": [
    "> Everything is cleaned and assured now let's update the data store."
   ]
  },
  {
   "cell_type": "markdown",
   "metadata": {
    "id": "F42urHuzttjF"
   },
   "source": [
    "## 6. Update the data store\n",
    "In this section, the local database/data store in the directory data are updated with the cleaned data too, with best practices for storing cleaned data:\n",
    "- Maintained different instances / versions of data (raw and cleaned data)\n",
    "- Named the dataset files informatively\n",
    "- Ensure both the raw and cleaned data are saved to the database/data store directory."
   ]
  },
  {
   "cell_type": "markdown",
   "metadata": {},
   "source": [
    "> Now the datasets are cleaned they are saved to separete file."
   ]
  },
  {
   "cell_type": "code",
   "execution_count": 51,
   "metadata": {
    "id": "V3uay7EJUV_L"
   },
   "outputs": [],
   "source": [
    "oil_data_cleaned.to_csv('data/oil_data_api_cleaned.csv', index=False) ## store to cvs file"
   ]
  },
  {
   "cell_type": "code",
   "execution_count": 52,
   "metadata": {},
   "outputs": [],
   "source": [
    "stocks_data_cleaned.to_csv('data/stock_data_cleaned.csv', index=False) ## store to cvs file"
   ]
  },
  {
   "cell_type": "code",
   "execution_count": 53,
   "metadata": {},
   "outputs": [],
   "source": [
    "merged_data.to_csv('data/merged_data_cleaned.csv', index=False) ## store to cvs file"
   ]
  },
  {
   "cell_type": "markdown",
   "metadata": {
    "id": "cGy_yddGtzhM"
   },
   "source": [
    "## 7. Research\n",
    "\n",
    "### **7.1:** Oil Prices and Big Tech. Stocks \n",
    "In this section the merged data willl be used to answer the questions raised."
   ]
  },
  {
   "cell_type": "markdown",
   "metadata": {
    "id": "gjedE4s4ZkEd"
   },
   "source": [
    "*Research question:* \n",
    "\n",
    "How does the stocks of the big Tech. Companies such as Google and Amazon, META and Micorsoft and prices of oils changes or correlates in the same year?"
   ]
  },
  {
   "cell_type": "code",
   "execution_count": 54,
   "metadata": {},
   "outputs": [],
   "source": [
    "numeric_cols = merged_data.select_dtypes(include='number').columns\n",
    "merged_data['year'] = merged_data['date'].dt.year\n",
    "\n",
    "## Grouping by 'year' and calculate the mean\n",
    "yearly_data = merged_data.groupby('year')[numeric_cols].mean().reset_index()"
   ]
  },
  {
   "cell_type": "code",
   "execution_count": 55,
   "metadata": {},
   "outputs": [
    {
     "data": {
      "image/png": "[encoded data removed]",
      "text/plain": [
       "<Figure size 1400x800 with 1 Axes>"
      ]
     },
     "metadata": {},
     "output_type": "display_data"
    }
   ],
   "source": [
    "plt.figure(figsize=(14, 8))\n",
    "plt.plot(yearly_data['year'].astype(str), yearly_data['adj_close_aapl'], label='Apple', linestyle='-', marker='o')\n",
    "plt.plot(yearly_data['year'].astype(str), yearly_data['adj_close_amzn'], label='Amazon', linestyle='-', marker='o')\n",
    "plt.plot(yearly_data['year'].astype(str), yearly_data['adj_close_googl'], label='Google', linestyle='-', marker='o')\n",
    "plt.plot(yearly_data['year'].astype(str), yearly_data['adj_close_meta'], label='Meta', linestyle='-', marker='o')\n",
    "plt.plot(yearly_data['year'].astype(str), yearly_data['adj_close_msft'], label='Microsoft', linestyle='-', marker='o')\n",
    "\n",
    "plt.xlabel('Year')\n",
    "plt.ylabel('Price of Adj. close for high tech. companies')\n",
    "plt.title('Yearly Average Prices of Big Tech Companies Adj. close')\n",
    "plt.legend()\n",
    "plt.grid(True)\n",
    "plt.xticks(rotation=45)\n",
    "plt.show()"
   ]
  },
  {
   "cell_type": "markdown",
   "metadata": {},
   "source": [
    "> It is noticed that the year 2014 started an increase in stock prices for all the high tech companies. The stock prices was following a postive trend until the year 2022 it got lower especially META. This was the years of COVID, then it went up again the follwing year 2023."
   ]
  },
  {
   "cell_type": "code",
   "execution_count": 56,
   "metadata": {},
   "outputs": [
    {
     "data": {
      "image/png": "[encoded data removed]",
      "text/plain": [
       "<Figure size 1400x800 with 1 Axes>"
      ]
     },
     "metadata": {},
     "output_type": "display_data"
    }
   ],
   "source": [
    "plt.figure(figsize=(14, 8))\n",
    "plt.plot(yearly_data['year'].astype(str), yearly_data['price_oil'], label='Oil Price', linestyle='-', marker='o')\n",
    "\n",
    "plt.xlabel('Year')\n",
    "plt.ylabel('Price of petroleum')\n",
    "plt.title('Yarly Average Prices of Oil stocks')\n",
    "plt.legend()\n",
    "plt.grid(True)\n",
    "plt.xticks(rotation=45)\n",
    "plt.show()"
   ]
  },
  {
   "cell_type": "markdown",
   "metadata": {},
   "source": [
    "> It is noticed that in 2014 the stock prices values for the petrolium gets noticabilly low and lowe the next two years. Then it gets up again. It is very intresting that it wents up in teh years of 2020-2022 these were the times of covid."
   ]
  },
  {
   "cell_type": "markdown",
   "metadata": {},
   "source": [
    "> An intresting insight there could be a negative correlation between the petrolum prices and the high companies tech prices that is worth looking further into."
   ]
  },
  {
   "cell_type": "markdown",
   "metadata": {},
   "source": [
    "- Let's now look at the correlation:"
   ]
  },
  {
   "cell_type": "code",
   "execution_count": 57,
   "metadata": {},
   "outputs": [],
   "source": [
    "columns_of_interest = [ 'price_oil',\n",
    "       'adj_close_aapl', 'adj_close_amzn', 'adj_close_googl', 'adj_close_meta',\n",
    "       'adj_close_msft']\n",
    "\n",
    "correlation_matrix = yearly_data[columns_of_interest].corr()"
   ]
  },
  {
   "cell_type": "code",
   "execution_count": 58,
   "metadata": {},
   "outputs": [
    {
     "data": {
      "image/png": "[encoded data removed]",
      "text/plain": [
       "<Figure size 1000x800 with 2 Axes>"
      ]
     },
     "metadata": {},
     "output_type": "display_data"
    }
   ],
   "source": [
    "## Plotting the correlation matrix\n",
    "plt.figure(figsize=(10, 8))\n",
    "sns.heatmap(correlation_matrix, annot=True, cmap='coolwarm', linewidths=0.5)\n",
    "plt.title('Correlation Heatmap between Big Tech Companies and Oil Prices (Monthly Averages)')\n",
    "plt.show()"
   ]
  },
  {
   "cell_type": "markdown",
   "metadata": {},
   "source": [
    "> It is noticed that the price_oil have cold (weak) correlation with all the next columns of the adj-close. However there are no negative correlation in value they were all positive but low correlation values."
   ]
  },
  {
   "cell_type": "markdown",
   "metadata": {},
   "source": [
    "*Research answer:* \n",
    "\n",
    "The stocks of the big Tech. Companies such as Google and Amazon, META and Micorsoft changes or correlates negativly with the prices of oils in the same year. That is whernever the stocks goes high in each year for the high Tech. compannies, the oil prices on that year goes down. In addition of the correlation being weak between the adj_close of each of them and the price_oil values."
   ]
  },
  {
   "cell_type": "markdown",
   "metadata": {
    "id": "0ezWXXZVj-TP"
   },
   "source": [
    "### **7.2:** Reflection\n",
    "If the reasearcher had more time to complete the project, she would take more actions. She would have spend more time on gathering the data from resources and using new ways to do so. For the quality issues She would have looked into the ditribution of the data and studied the outliers or anomiles on the data becuase it's stocks numerical data. Other research questions that she would have furtehr explored would include COVID-19 and how have covid affected the oil prices and the big tech companies stocks."
   ]
  }
 ],
 "metadata": {
  "colab": {
   "provenance": []
  },
  "kernelspec": {
   "display_name": "Python 3 (ipykernel)",
   "language": "python",
   "name": "python3"
  },
  "language_info": {
   "codemirror_mode": {
    "name": "ipython",
    "version": 3
   },
   "file_extension": ".py",
   "mimetype": "text/x-python",
   "name": "python",
   "nbconvert_exporter": "python",
   "pygments_lexer": "ipython3",
   "version": "3.11.0"
  }
 },
 "nbformat": 4,
 "nbformat_minor": 1
}
