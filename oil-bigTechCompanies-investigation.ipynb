{
 "cells": [
  {
   "cell_type": "markdown",
   "metadata": {
    "id": "GNIwe5N7s0e_"
   },
   "source": [
    "<div align=\"center\"> \n",
    "\n",
    "# Investigating Oil prices and Big Tech. Companies Stock Market \n",
    "\n",
    "<p>Between 2001-1-1 - 2023-12-31</p>\n",
    "</div>"
   ]
  },
  {
   "cell_type": "markdown",
   "metadata": {
    "id": "_BG63Tpg8ep_"
   },
   "source": [
    "In this project, you will apply the skills you acquired in the course to gather and wrangle real-world data with two datasets of your choice.\n",
    "\n",
    "You will retrieve and extract the data, assess the data programmatically and visually, accross elements of data quality and structure, and implement a cleaning strategy for the data. You will then store the updated data into your selected database/data store, combine the data, and answer a research question with the datasets."
   ]
  },
  {
   "cell_type": "markdown",
   "metadata": {
    "id": "LbN7z7rcuqpO"
   },
   "source": [
    "## **1.** Problem Statement\n",
    "\n",
    "In this reserach, the stock prices of major tech companies (such as Apple, Microsoft, Google, Amazon, and META) and oil prices over the period spanning from January 2001 to December 2023 are investigated. By examining historical data for both sectors, the aim is to uncover insights into how changes in oil prices impact the financial performance of big tech companies, and vice versa.\n",
    "The datasets would include the stock market data for:\n",
    "- META\n",
    "- AMazon\n",
    "- Google\n",
    "- Apple"
   ]
  },
  {
   "cell_type": "markdown",
   "metadata": {},
   "source": [
    "## **2.** Solution Pipeline\n",
    "1. Gather Data\n",
    "2. Asses Data\n",
    "3. Clean Data\n",
    "4. Store Data\n",
    "5. Answering Research Questions"
   ]
  },
  {
   "cell_type": "markdown",
   "metadata": {},
   "source": [
    "### Neccessary Imports"
   ]
  },
  {
   "cell_type": "code",
   "execution_count": 1,
   "metadata": {},
   "outputs": [],
   "source": [
    "## Run this cell to successfully run this notebook\n",
    "## !pip install yfinance"
   ]
  },
  {
   "cell_type": "code",
   "execution_count": 2,
   "metadata": {},
   "outputs": [
    {
     "name": "stderr",
     "output_type": "stream",
     "text": [
      "c:\\Users\\SS\\AppData\\Local\\Programs\\Python\\Python311\\Lib\\site-packages\\scipy\\__init__.py:169: UserWarning: A NumPy version >=1.18.5 and <1.26.0 is required for this version of SciPy (detected version 1.26.4\n",
      "  warnings.warn(f\"A NumPy version >={np_minversion} and <{np_maxversion}\"\n"
     ]
    }
   ],
   "source": [
    "import requests\n",
    "import pandas as pd\n",
    "import yfinance as yf\n",
    "import requests\n",
    "import config\n",
    "import seaborn as sns\n",
    "import matplotlib.pyplot as plt\n",
    "import numpy as np"
   ]
  },
  {
   "cell_type": "markdown",
   "metadata": {
    "id": "lDYDkH-Zs7Nn"
   },
   "source": [
    "## 3. Gather data\n",
    "\n",
    "In this section, data using two different (data gathering methods) are extractand and then combined. Two different types of data-gathering methods are use:\n",
    "- Programmatically downloading files\n",
    "- Gathering data by accessing APIs"
   ]
  },
  {
   "cell_type": "markdown",
   "metadata": {
    "id": "8AQfBAdUypMm"
   },
   "source": [
    "### **3.1.** Gathering Data Methods and Code\n",
    "\n",
    "In this project, two types of data gathering are use: \n",
    "- Programmatically downloading files\n",
    "- Gathering data by accessing APIs\n",
    "\n",
    "Each of the datasets have at least two variables, and have greater than 500 data samples within."
   ]
  },
  {
   "cell_type": "markdown",
   "metadata": {
    "id": "7e6gS0wL1KTu"
   },
   "source": [
    "#### **Dataset 1**: Oils and Petroleum dataset "
   ]
  },
  {
   "cell_type": "markdown",
   "metadata": {},
   "source": [
    "##### *About this dataset*\n",
    "\n",
    "**Type:** JSON response\n",
    "\n",
    "**Method:** The data was gathered using the \"by accessing APIs\" method from https://api.eia.gov/v2/petroleum/pri/spt/data/\n",
    "\n",
    "**Dataset variables:**\n",
    "\n",
    "| Column Name | Description |\n",
    "|---|---|\n",
    "| period |  date associated with the data point |\n",
    "| duoarea | identifier for a specific geographical area |\n",
    "| area-name | area name |\n",
    "| product | identifier for the specific petroleum product |\n",
    "| product-name | name of the product |\n",
    "| process | identifier for the specific process |\n",
    "| process-name | The name of the process used |\n",
    "| series | identifier for the specific data series |\n",
    "| series-description | descriptive text name or label for the data |"
   ]
  },
  {
   "cell_type": "markdown",
   "metadata": {},
   "source": [
    "##### *Gathering by API*"
   ]
  },
  {
   "cell_type": "code",
   "execution_count": 3,
   "metadata": {
    "id": "Su8E0uLuYkHU"
   },
   "outputs": [
    {
     "data": {
      "text/html": [
       "<div>\n",
       "<style scoped>\n",
       "    .dataframe tbody tr th:only-of-type {\n",
       "        vertical-align: middle;\n",
       "    }\n",
       "\n",
       "    .dataframe tbody tr th {\n",
       "        vertical-align: top;\n",
       "    }\n",
       "\n",
       "    .dataframe thead th {\n",
       "        text-align: right;\n",
       "    }\n",
       "</style>\n",
       "<table border=\"1\" class=\"dataframe\">\n",
       "  <thead>\n",
       "    <tr style=\"text-align: right;\">\n",
       "      <th></th>\n",
       "      <th>period</th>\n",
       "      <th>duoarea</th>\n",
       "      <th>area-name</th>\n",
       "      <th>product</th>\n",
       "      <th>product-name</th>\n",
       "      <th>process</th>\n",
       "      <th>process-name</th>\n",
       "      <th>series</th>\n",
       "      <th>series-description</th>\n",
       "    </tr>\n",
       "  </thead>\n",
       "  <tbody>\n",
       "    <tr>\n",
       "      <th>1194</th>\n",
       "      <td>2012-04-06</td>\n",
       "      <td>Y05LA</td>\n",
       "      <td>LOS ANGELES</td>\n",
       "      <td>EPD2DC</td>\n",
       "      <td>Carb Diesel</td>\n",
       "      <td>PF4</td>\n",
       "      <td>Spot Price FOB</td>\n",
       "      <td>EER_EPD2DC_PF4_Y05LA_DPG</td>\n",
       "      <td>Los Angeles, CA Ultra-Low Sulfur CARB Diesel S...</td>\n",
       "    </tr>\n",
       "    <tr>\n",
       "      <th>343</th>\n",
       "      <td>2005-05-27</td>\n",
       "      <td>ZEU</td>\n",
       "      <td>NA</td>\n",
       "      <td>EPCBRENT</td>\n",
       "      <td>UK Brent Crude Oil</td>\n",
       "      <td>PF4</td>\n",
       "      <td>Spot Price FOB</td>\n",
       "      <td>RBRTE</td>\n",
       "      <td>Europe Brent Spot Price FOB (Dollars per Barrel)</td>\n",
       "    </tr>\n",
       "    <tr>\n",
       "      <th>4516</th>\n",
       "      <td>2009-12-11</td>\n",
       "      <td>Y05LA</td>\n",
       "      <td>LOS ANGELES</td>\n",
       "      <td>EPMRR</td>\n",
       "      <td>Reformulated Regular Gasoline</td>\n",
       "      <td>PF4</td>\n",
       "      <td>Spot Price FOB</td>\n",
       "      <td>EER_EPMRR_PF4_Y05LA_DPG</td>\n",
       "      <td>Los Angeles Reformulated RBOB Regular Gasoline...</td>\n",
       "    </tr>\n",
       "    <tr>\n",
       "      <th>1944</th>\n",
       "      <td>2013-06-21</td>\n",
       "      <td>RGC</td>\n",
       "      <td>NA</td>\n",
       "      <td>EPD2DXL0</td>\n",
       "      <td>No 2 Diesel Low Sulfur (0-15 ppm)</td>\n",
       "      <td>PF4</td>\n",
       "      <td>Spot Price FOB</td>\n",
       "      <td>EER_EPD2DXL0_PF4_RGC_DPG</td>\n",
       "      <td>U.S. Gulf Coast Ultra-Low Sulfur No 2 Diesel S...</td>\n",
       "    </tr>\n",
       "    <tr>\n",
       "      <th>2870</th>\n",
       "      <td>2023-06-23</td>\n",
       "      <td>RGC</td>\n",
       "      <td>NA</td>\n",
       "      <td>EPJK</td>\n",
       "      <td>Kerosene-Type Jet Fuel</td>\n",
       "      <td>PF4</td>\n",
       "      <td>Spot Price FOB</td>\n",
       "      <td>EER_EPJK_PF4_RGC_DPG</td>\n",
       "      <td>U.S. Gulf Coast Kerosene-Type Jet Fuel Spot Pr...</td>\n",
       "    </tr>\n",
       "  </tbody>\n",
       "</table>\n",
       "</div>"
      ],
      "text/plain": [
       "          period duoarea    area-name   product  \\\n",
       "1194  2012-04-06   Y05LA  LOS ANGELES    EPD2DC   \n",
       "343   2005-05-27     ZEU           NA  EPCBRENT   \n",
       "4516  2009-12-11   Y05LA  LOS ANGELES     EPMRR   \n",
       "1944  2013-06-21     RGC           NA  EPD2DXL0   \n",
       "2870  2023-06-23     RGC           NA      EPJK   \n",
       "\n",
       "                           product-name process    process-name  \\\n",
       "1194                        Carb Diesel     PF4  Spot Price FOB   \n",
       "343                  UK Brent Crude Oil     PF4  Spot Price FOB   \n",
       "4516      Reformulated Regular Gasoline     PF4  Spot Price FOB   \n",
       "1944  No 2 Diesel Low Sulfur (0-15 ppm)     PF4  Spot Price FOB   \n",
       "2870             Kerosene-Type Jet Fuel     PF4  Spot Price FOB   \n",
       "\n",
       "                        series  \\\n",
       "1194  EER_EPD2DC_PF4_Y05LA_DPG   \n",
       "343                      RBRTE   \n",
       "4516   EER_EPMRR_PF4_Y05LA_DPG   \n",
       "1944  EER_EPD2DXL0_PF4_RGC_DPG   \n",
       "2870      EER_EPJK_PF4_RGC_DPG   \n",
       "\n",
       "                                     series-description  \n",
       "1194  Los Angeles, CA Ultra-Low Sulfur CARB Diesel S...  \n",
       "343    Europe Brent Spot Price FOB (Dollars per Barrel)  \n",
       "4516  Los Angeles Reformulated RBOB Regular Gasoline...  \n",
       "1944  U.S. Gulf Coast Ultra-Low Sulfur No 2 Diesel S...  \n",
       "2870  U.S. Gulf Coast Kerosene-Type Jet Fuel Spot Pr...  "
      ]
     },
     "execution_count": 3,
     "metadata": {},
     "output_type": "execute_result"
    }
   ],
   "source": [
    "## Gather the data using the \"Gather data by accessing APIs\" method from https://api.eia.gov\n",
    "api_key = config.EIA_API_KEY\n",
    "url = f'https://api.eia.gov/v2/petroleum/pri/spt/data/?'\n",
    "\n",
    "params = {\n",
    "    'api_key':api_key,\n",
    "    'start':'2005-01-01', \n",
    "    'end':'2023-12-31'\n",
    "}\n",
    "\n",
    "response = requests.get(url, params=params)\n",
    "data = response.json()\n",
    "oil_data =pd.DataFrame(data['response']['data'])\n",
    "oil_data.sample(5)"
   ]
  },
  {
   "cell_type": "code",
   "execution_count": 4,
   "metadata": {},
   "outputs": [
    {
     "data": {
      "text/plain": [
       "(5000, 9)"
      ]
     },
     "execution_count": 4,
     "metadata": {},
     "output_type": "execute_result"
    }
   ],
   "source": [
    "oil_data.shape"
   ]
  },
  {
   "cell_type": "markdown",
   "metadata": {},
   "source": [
    "> The gathered dataset have 5000 rows and 9 features."
   ]
  },
  {
   "cell_type": "code",
   "execution_count": 5,
   "metadata": {},
   "outputs": [],
   "source": [
    "oil_data.to_csv('data/oil_data_api.csv', index=False) ## store to cvs file"
   ]
  },
  {
   "cell_type": "markdown",
   "metadata": {},
   "source": [
    "> Storing step: the dataset is saved to the local data store directory before moving to the next step."
   ]
  },
  {
   "cell_type": "markdown",
   "metadata": {
    "id": "hoUjq1tPzz7P"
   },
   "source": [
    "#### **Dataset 2**: Stocks Dataset"
   ]
  },
  {
   "cell_type": "markdown",
   "metadata": {},
   "source": [
    "##### *About this dataset*\n",
    "**Type:** Pandas.DataFrame\n",
    "\n",
    "**Method:** The data was gathered using the \"Programmatically downloading files\" method from Yahoo Finance using the yfinance library\n",
    "\n",
    "**Dataset variables:**\n",
    "\n",
    "| Column Name | Description |\n",
    "|---|---|\n",
    "| Date | date associated with the data point |\n",
    "| Open | The opening price of the stock on that date. |\n",
    "| High | The highest price reached by the stock on that date. |\n",
    "| Low | The lowest price reached by the stock on that date. |\n",
    "| Close | The closing price of the stock on that date. |\n",
    "| Adj Close | The adjusted closing price, adjusted for dividends and splits. |\n",
    "| Volume | The number of shares traded on that date. |"
   ]
  },
  {
   "cell_type": "markdown",
   "metadata": {},
   "source": [
    "##### *Gathering by Programmatically Downloading*"
   ]
  },
  {
   "cell_type": "code",
   "execution_count": 49,
   "metadata": {
    "id": "6zT0QxRyYmm7"
   },
   "outputs": [
    {
     "name": "stderr",
     "output_type": "stream",
     "text": [
      "[*********************100%%**********************]  5 of 5 completed\n"
     ]
    },
    {
     "data": {
      "text/html": [
       "<div>\n",
       "<style scoped>\n",
       "    .dataframe tbody tr th:only-of-type {\n",
       "        vertical-align: middle;\n",
       "    }\n",
       "\n",
       "    .dataframe tbody tr th {\n",
       "        vertical-align: top;\n",
       "    }\n",
       "\n",
       "    .dataframe thead tr th {\n",
       "        text-align: left;\n",
       "    }\n",
       "</style>\n",
       "<table border=\"1\" class=\"dataframe\">\n",
       "  <thead>\n",
       "    <tr>\n",
       "      <th>Price</th>\n",
       "      <th>Date</th>\n",
       "      <th colspan=\"5\" halign=\"left\">Adj Close</th>\n",
       "      <th colspan=\"4\" halign=\"left\">Close</th>\n",
       "      <th>...</th>\n",
       "      <th colspan=\"5\" halign=\"left\">Open</th>\n",
       "      <th colspan=\"5\" halign=\"left\">Volume</th>\n",
       "    </tr>\n",
       "    <tr>\n",
       "      <th>Ticker</th>\n",
       "      <th></th>\n",
       "      <th>AAPL</th>\n",
       "      <th>AMZN</th>\n",
       "      <th>GOOGL</th>\n",
       "      <th>META</th>\n",
       "      <th>MSFT</th>\n",
       "      <th>AAPL</th>\n",
       "      <th>AMZN</th>\n",
       "      <th>GOOGL</th>\n",
       "      <th>META</th>\n",
       "      <th>...</th>\n",
       "      <th>AAPL</th>\n",
       "      <th>AMZN</th>\n",
       "      <th>GOOGL</th>\n",
       "      <th>META</th>\n",
       "      <th>MSFT</th>\n",
       "      <th>AAPL</th>\n",
       "      <th>AMZN</th>\n",
       "      <th>GOOGL</th>\n",
       "      <th>META</th>\n",
       "      <th>MSFT</th>\n",
       "    </tr>\n",
       "  </thead>\n",
       "  <tbody>\n",
       "    <tr>\n",
       "      <th>2837</th>\n",
       "      <td>2016-04-12</td>\n",
       "      <td>25.205942</td>\n",
       "      <td>30.158501</td>\n",
       "      <td>38.172188</td>\n",
       "      <td>110.383171</td>\n",
       "      <td>48.736088</td>\n",
       "      <td>27.610001</td>\n",
       "      <td>30.158501</td>\n",
       "      <td>38.216000</td>\n",
       "      <td>110.610001</td>\n",
       "      <td>...</td>\n",
       "      <td>27.334999</td>\n",
       "      <td>29.9200</td>\n",
       "      <td>37.921501</td>\n",
       "      <td>109.339996</td>\n",
       "      <td>54.369999</td>\n",
       "      <td>108929200</td>\n",
       "      <td>52822000</td>\n",
       "      <td>27388000</td>\n",
       "      <td>26248100.0</td>\n",
       "      <td>24944300</td>\n",
       "    </tr>\n",
       "    <tr>\n",
       "      <th>3186</th>\n",
       "      <td>2017-08-29</td>\n",
       "      <td>38.273735</td>\n",
       "      <td>47.702999</td>\n",
       "      <td>46.733864</td>\n",
       "      <td>167.705383</td>\n",
       "      <td>67.599754</td>\n",
       "      <td>40.727501</td>\n",
       "      <td>47.702999</td>\n",
       "      <td>46.787498</td>\n",
       "      <td>168.050003</td>\n",
       "      <td>...</td>\n",
       "      <td>40.025002</td>\n",
       "      <td>47.0000</td>\n",
       "      <td>45.997501</td>\n",
       "      <td>165.250000</td>\n",
       "      <td>72.250000</td>\n",
       "      <td>118067600</td>\n",
       "      <td>57486000</td>\n",
       "      <td>23172000</td>\n",
       "      <td>11121000.0</td>\n",
       "      <td>11478400</td>\n",
       "    </tr>\n",
       "    <tr>\n",
       "      <th>353</th>\n",
       "      <td>2006-05-30</td>\n",
       "      <td>1.848523</td>\n",
       "      <td>1.732000</td>\n",
       "      <td>9.297137</td>\n",
       "      <td>NaN</td>\n",
       "      <td>16.442261</td>\n",
       "      <td>2.186429</td>\n",
       "      <td>1.732000</td>\n",
       "      <td>9.307808</td>\n",
       "      <td>NaN</td>\n",
       "      <td>...</td>\n",
       "      <td>2.260357</td>\n",
       "      <td>1.7865</td>\n",
       "      <td>9.466466</td>\n",
       "      <td>NaN</td>\n",
       "      <td>23.549999</td>\n",
       "      <td>563402000</td>\n",
       "      <td>118416000</td>\n",
       "      <td>172467360</td>\n",
       "      <td>NaN</td>\n",
       "      <td>52497500</td>\n",
       "    </tr>\n",
       "    <tr>\n",
       "      <th>1720</th>\n",
       "      <td>2011-10-31</td>\n",
       "      <td>12.222225</td>\n",
       "      <td>10.675500</td>\n",
       "      <td>14.813828</td>\n",
       "      <td>NaN</td>\n",
       "      <td>20.932016</td>\n",
       "      <td>14.456429</td>\n",
       "      <td>10.675500</td>\n",
       "      <td>14.830831</td>\n",
       "      <td>NaN</td>\n",
       "      <td>...</td>\n",
       "      <td>14.372143</td>\n",
       "      <td>10.7895</td>\n",
       "      <td>14.892142</td>\n",
       "      <td>NaN</td>\n",
       "      <td>26.760000</td>\n",
       "      <td>385501200</td>\n",
       "      <td>146866000</td>\n",
       "      <td>102209688</td>\n",
       "      <td>NaN</td>\n",
       "      <td>46799000</td>\n",
       "    </tr>\n",
       "    <tr>\n",
       "      <th>3666</th>\n",
       "      <td>2019-07-29</td>\n",
       "      <td>50.590389</td>\n",
       "      <td>95.622498</td>\n",
       "      <td>62.020817</td>\n",
       "      <td>195.538177</td>\n",
       "      <td>134.499695</td>\n",
       "      <td>52.419998</td>\n",
       "      <td>95.622498</td>\n",
       "      <td>62.091999</td>\n",
       "      <td>195.940002</td>\n",
       "      <td>...</td>\n",
       "      <td>52.115002</td>\n",
       "      <td>96.5000</td>\n",
       "      <td>62.125000</td>\n",
       "      <td>199.000000</td>\n",
       "      <td>141.500000</td>\n",
       "      <td>86693600</td>\n",
       "      <td>89864000</td>\n",
       "      <td>41382000</td>\n",
       "      <td>16530800.0</td>\n",
       "      <td>16605900</td>\n",
       "    </tr>\n",
       "  </tbody>\n",
       "</table>\n",
       "<p>5 rows × 31 columns</p>\n",
       "</div>"
      ],
      "text/plain": [
       "Price        Date  Adj Close                                                \\\n",
       "Ticker                  AAPL       AMZN      GOOGL        META        MSFT   \n",
       "2837   2016-04-12  25.205942  30.158501  38.172188  110.383171   48.736088   \n",
       "3186   2017-08-29  38.273735  47.702999  46.733864  167.705383   67.599754   \n",
       "353    2006-05-30   1.848523   1.732000   9.297137         NaN   16.442261   \n",
       "1720   2011-10-31  12.222225  10.675500  14.813828         NaN   20.932016   \n",
       "3666   2019-07-29  50.590389  95.622498  62.020817  195.538177  134.499695   \n",
       "\n",
       "Price       Close                                    ...       Open           \\\n",
       "Ticker       AAPL       AMZN      GOOGL        META  ...       AAPL     AMZN   \n",
       "2837    27.610001  30.158501  38.216000  110.610001  ...  27.334999  29.9200   \n",
       "3186    40.727501  47.702999  46.787498  168.050003  ...  40.025002  47.0000   \n",
       "353      2.186429   1.732000   9.307808         NaN  ...   2.260357   1.7865   \n",
       "1720    14.456429  10.675500  14.830831         NaN  ...  14.372143  10.7895   \n",
       "3666    52.419998  95.622498  62.091999  195.940002  ...  52.115002  96.5000   \n",
       "\n",
       "Price                                         Volume                        \\\n",
       "Ticker      GOOGL        META        MSFT       AAPL       AMZN      GOOGL   \n",
       "2837    37.921501  109.339996   54.369999  108929200   52822000   27388000   \n",
       "3186    45.997501  165.250000   72.250000  118067600   57486000   23172000   \n",
       "353      9.466466         NaN   23.549999  563402000  118416000  172467360   \n",
       "1720    14.892142         NaN   26.760000  385501200  146866000  102209688   \n",
       "3666    62.125000  199.000000  141.500000   86693600   89864000   41382000   \n",
       "\n",
       "Price                         \n",
       "Ticker        META      MSFT  \n",
       "2837    26248100.0  24944300  \n",
       "3186    11121000.0  11478400  \n",
       "353            NaN  52497500  \n",
       "1720           NaN  46799000  \n",
       "3666    16530800.0  16605900  \n",
       "\n",
       "[5 rows x 31 columns]"
      ]
     },
     "execution_count": 49,
     "metadata": {},
     "output_type": "execute_result"
    }
   ],
   "source": [
    "## 2nd data gathering was downloaded programitticallly from Yahoo Finance using the yfinance library\n",
    "companies = ['AAPL', 'MSFT', 'GOOGL', 'AMZN', 'META']\n",
    "stocks_data = yf.download(companies, start='2005-01-01', end='2023-12-31')\n",
    "stocks_data.reset_index(inplace=True)\n",
    "stocks_data.sample(5)"
   ]
  },
  {
   "cell_type": "code",
   "execution_count": 50,
   "metadata": {},
   "outputs": [
    {
     "data": {
      "text/plain": [
       "(4781, 31)"
      ]
     },
     "execution_count": 50,
     "metadata": {},
     "output_type": "execute_result"
    }
   ],
   "source": [
    "stocks_data.shape"
   ]
  },
  {
   "cell_type": "markdown",
   "metadata": {},
   "source": [
    "> The gathered data has 5785 data points and 31 features."
   ]
  },
  {
   "cell_type": "code",
   "execution_count": 51,
   "metadata": {},
   "outputs": [],
   "source": [
    "stocks_data.to_csv('data/stock_data.csv', index=False) ## store to cvs file"
   ]
  },
  {
   "cell_type": "markdown",
   "metadata": {},
   "source": [
    "> Storing step: the dataset is saved to the local data store directory before moving to the next step."
   ]
  },
  {
   "cell_type": "markdown",
   "metadata": {
    "id": "QwSWIVmotLgV"
   },
   "source": [
    "## 4. Assess data\n",
    "Now that we have gathered the datasets, let's assess the dataset for data quality and structural issues. In this section, the data is assessed according to data quality and tidiness metrics. Where two data quality issues and two tidiness issues are assessed. Each are assess visually and programmatically, then the issue is described. Justifications for the methods used for the assessment are also included.\n",
    "Issues assessed:\n",
    "- Completness\n",
    "- Validity\n",
    "- Columns Names\n",
    "- Inexing of the data"
   ]
  },
  {
   "cell_type": "markdown",
   "metadata": {
    "id": "adaK2iPNzVu4"
   },
   "source": [
    "### **Completeness (Quality Issue #1):**\n",
    "This is the issue of having missing data in the datsets. It affects good analysis and will be assessed for both datasets programmatically and visualy."
   ]
  },
  {
   "cell_type": "markdown",
   "metadata": {},
   "source": [
    "#### **Stocks Dataset**"
   ]
  },
  {
   "cell_type": "markdown",
   "metadata": {},
   "source": [
    "##### *Inspecting the dataframe visually*\n",
    "To inspcet the data qaulity issue of completeness, let's visualize the ddata frame into a heatmap. It will be showing the missing data with a diffrent color."
   ]
  },
  {
   "cell_type": "code",
   "execution_count": 76,
   "metadata": {},
   "outputs": [],
   "source": [
    "nan = ['NA','NaN','-', '0',0, np.nan] ## possible null vlaues"
   ]
  },
  {
   "cell_type": "code",
   "execution_count": 77,
   "metadata": {},
   "outputs": [
    {
     "data": {
      "image/png": "[encoded data removed]",
      "text/plain": [
       "<Figure size 1000x600 with 2 Axes>"
      ]
     },
     "metadata": {},
     "output_type": "display_data"
    }
   ],
   "source": [
    "plt.figure(figsize=(10,6))\n",
    "sns.heatmap(stocks_data.isin(nan).transpose(), cbar_kws={'label': 'Missing Data'}) ## visualize the missing data transposed\n",
    "plt.title('Missing Values from the Stocks Dataframe')\n",
    "plt.xlabel('Values Count');"
   ]
  },
  {
   "cell_type": "markdown",
   "metadata": {},
   "source": [
    "> Almost half of the data from the META company are missing. The other missing values are from Google company."
   ]
  },
  {
   "cell_type": "markdown",
   "metadata": {},
   "source": [
    "##### Inspecting the dataframe programmatically\n",
    "To inspect for missing values programmatically the `.info()` is used alongside checking the `.isna()` methos."
   ]
  },
  {
   "cell_type": "code",
   "execution_count": 54,
   "metadata": {
    "id": "SpW59kh-zl8d"
   },
   "outputs": [
    {
     "name": "stdout",
     "output_type": "stream",
     "text": [
      "<class 'pandas.core.frame.DataFrame'>\n",
      "RangeIndex: 4781 entries, 0 to 4780\n",
      "Data columns (total 31 columns):\n",
      " #   Column              Non-Null Count  Dtype         \n",
      "---  ------              --------------  -----         \n",
      " 0   (Date, )            4781 non-null   datetime64[ns]\n",
      " 1   (Adj Close, AAPL)   4781 non-null   float64       \n",
      " 2   (Adj Close, AMZN)   4781 non-null   float64       \n",
      " 3   (Adj Close, GOOGL)  4781 non-null   float64       \n",
      " 4   (Adj Close, META)   2923 non-null   float64       \n",
      " 5   (Adj Close, MSFT)   4781 non-null   float64       \n",
      " 6   (Close, AAPL)       4781 non-null   float64       \n",
      " 7   (Close, AMZN)       4781 non-null   float64       \n",
      " 8   (Close, GOOGL)      4781 non-null   float64       \n",
      " 9   (Close, META)       2923 non-null   float64       \n",
      " 10  (Close, MSFT)       4781 non-null   float64       \n",
      " 11  (High, AAPL)        4781 non-null   float64       \n",
      " 12  (High, AMZN)        4781 non-null   float64       \n",
      " 13  (High, GOOGL)       4781 non-null   float64       \n",
      " 14  (High, META)        2923 non-null   float64       \n",
      " 15  (High, MSFT)        4781 non-null   float64       \n",
      " 16  (Low, AAPL)         4781 non-null   float64       \n",
      " 17  (Low, AMZN)         4781 non-null   float64       \n",
      " 18  (Low, GOOGL)        4781 non-null   float64       \n",
      " 19  (Low, META)         2923 non-null   float64       \n",
      " 20  (Low, MSFT)         4781 non-null   float64       \n",
      " 21  (Open, AAPL)        4781 non-null   float64       \n",
      " 22  (Open, AMZN)        4781 non-null   float64       \n",
      " 23  (Open, GOOGL)       4781 non-null   float64       \n",
      " 24  (Open, META)        2923 non-null   float64       \n",
      " 25  (Open, MSFT)        4781 non-null   float64       \n",
      " 26  (Volume, AAPL)      4781 non-null   int64         \n",
      " 27  (Volume, AMZN)      4781 non-null   int64         \n",
      " 28  (Volume, GOOGL)     4781 non-null   int64         \n",
      " 29  (Volume, META)      2923 non-null   float64       \n",
      " 30  (Volume, MSFT)      4781 non-null   int64         \n",
      "dtypes: datetime64[ns](1), float64(26), int64(4)\n",
      "memory usage: 1.1 MB\n"
     ]
    }
   ],
   "source": [
    "stocks_data.info()"
   ]
  },
  {
   "cell_type": "markdown",
   "metadata": {},
   "source": [
    "> While the range index is from 0 to 4781, some the columns arn't complete such as (Adj Close, GOOGL), (Adj Close, META), (Close, GOOGL), (Close, META),  (High, GOOGL), (High, META),  (Low, GOOGL),  (Low, META), (Open, GOOGL),  (Open, META),  (Volume, GOOGL), (Volume, META) and (Volume, MSFT).\n",
    "> These missing data are specifically in data regarding the Google, and the META big tech companies."
   ]
  },
  {
   "cell_type": "code",
   "execution_count": 12,
   "metadata": {},
   "outputs": [
    {
     "data": {
      "text/plain": [
       "Price      Ticker\n",
       "Open       META      1858\n",
       "Volume     META      1858\n",
       "Low        META      1858\n",
       "Adj Close  META      1858\n",
       "High       META      1858\n",
       "Close      META      1858\n",
       "Open       GOOGL        0\n",
       "Low        MSFT         0\n",
       "Open       AAPL         0\n",
       "           AMZN         0\n",
       "Date                    0\n",
       "Low        AMZN         0\n",
       "Open       MSFT         0\n",
       "Volume     AAPL         0\n",
       "           AMZN         0\n",
       "           GOOGL        0\n",
       "Low        GOOGL        0\n",
       "High       MSFT         0\n",
       "Low        AAPL         0\n",
       "Adj Close  AAPL         0\n",
       "High       GOOGL        0\n",
       "           AMZN         0\n",
       "           AAPL         0\n",
       "Close      MSFT         0\n",
       "           GOOGL        0\n",
       "           AMZN         0\n",
       "           AAPL         0\n",
       "Adj Close  MSFT         0\n",
       "           GOOGL        0\n",
       "           AMZN         0\n",
       "Volume     MSFT         0\n",
       "dtype: int64"
      ]
     },
     "execution_count": 12,
     "metadata": {},
     "output_type": "execute_result"
    }
   ],
   "source": [
    "stocks_data.isna().sum().sort_values(ascending=False) "
   ]
  },
  {
   "cell_type": "markdown",
   "metadata": {},
   "source": [
    "> There are 1858 missing records from the META Datasets."
   ]
  },
  {
   "cell_type": "markdown",
   "metadata": {},
   "source": [
    "#### **Oil Dataset**"
   ]
  },
  {
   "cell_type": "markdown",
   "metadata": {},
   "source": [
    "##### *Inspecting the dataframe visually*\n",
    "To inspcet the data qaulity issue of completeness, let's visualize the ddata frame into a heatmap. It will be showing the missing data with a diffrent color."
   ]
  },
  {
   "cell_type": "code",
   "execution_count": 78,
   "metadata": {},
   "outputs": [
    {
     "data": {
      "image/png": "[encoded data removed]",
      "text/plain": [
       "<Figure size 1000x600 with 2 Axes>"
      ]
     },
     "metadata": {},
     "output_type": "display_data"
    }
   ],
   "source": [
    "plt.figure(figsize=(10,6))\n",
    "sns.heatmap(oil_data.isin(nan).transpose(), cbar_kws={'label': 'Missing Data'}) ## visualize the missing data transposed\n",
    "plt.title('Missing Values from the Oils Dataframe')\n",
    "plt.xlabel('Values Count');"
   ]
  },
  {
   "cell_type": "markdown",
   "metadata": {},
   "source": [
    "> The only column that has missing values in the oils dataframe is the area-name. It seems to have missing values alongside diffrent dates."
   ]
  },
  {
   "cell_type": "markdown",
   "metadata": {},
   "source": [
    "##### *Inspecting the dataframe programmatically*\n",
    "To inspect for missing values programmatically the `.info()` is used alongside checking the `.isna()` methos. However, some missing values wesn't detected using these methods so there had to use the `.isin()` method to check if there are missing values programmatically."
   ]
  },
  {
   "cell_type": "code",
   "execution_count": 56,
   "metadata": {},
   "outputs": [
    {
     "name": "stdout",
     "output_type": "stream",
     "text": [
      "<class 'pandas.core.frame.DataFrame'>\n",
      "RangeIndex: 5000 entries, 0 to 4999\n",
      "Data columns (total 9 columns):\n",
      " #   Column              Non-Null Count  Dtype \n",
      "---  ------              --------------  ----- \n",
      " 0   period              5000 non-null   object\n",
      " 1   duoarea             5000 non-null   object\n",
      " 2   area-name           5000 non-null   object\n",
      " 3   product             5000 non-null   object\n",
      " 4   product-name        5000 non-null   object\n",
      " 5   process             5000 non-null   object\n",
      " 6   process-name        5000 non-null   object\n",
      " 7   series              5000 non-null   object\n",
      " 8   series-description  5000 non-null   object\n",
      "dtypes: object(9)\n",
      "memory usage: 351.7+ KB\n"
     ]
    }
   ],
   "source": [
    "oil_data.info()"
   ]
  },
  {
   "cell_type": "markdown",
   "metadata": {},
   "source": [
    "> The data have 0 to 4999 indices, and all the columns non-null counts are full. "
   ]
  },
  {
   "cell_type": "code",
   "execution_count": 60,
   "metadata": {},
   "outputs": [
    {
     "data": {
      "text/html": [
       "<div>\n",
       "<style scoped>\n",
       "    .dataframe tbody tr th:only-of-type {\n",
       "        vertical-align: middle;\n",
       "    }\n",
       "\n",
       "    .dataframe tbody tr th {\n",
       "        vertical-align: top;\n",
       "    }\n",
       "\n",
       "    .dataframe thead th {\n",
       "        text-align: right;\n",
       "    }\n",
       "</style>\n",
       "<table border=\"1\" class=\"dataframe\">\n",
       "  <thead>\n",
       "    <tr style=\"text-align: right;\">\n",
       "      <th></th>\n",
       "      <th>period</th>\n",
       "      <th>duoarea</th>\n",
       "      <th>area-name</th>\n",
       "      <th>product</th>\n",
       "      <th>product-name</th>\n",
       "      <th>process</th>\n",
       "      <th>process-name</th>\n",
       "      <th>series</th>\n",
       "      <th>series-description</th>\n",
       "    </tr>\n",
       "  </thead>\n",
       "  <tbody>\n",
       "    <tr>\n",
       "      <th>3201</th>\n",
       "      <td>2012-03-23</td>\n",
       "      <td>Y05LA</td>\n",
       "      <td>LOS ANGELES</td>\n",
       "      <td>EPMRR</td>\n",
       "      <td>Reformulated Regular Gasoline</td>\n",
       "      <td>PF4</td>\n",
       "      <td>Spot Price FOB</td>\n",
       "      <td>EER_EPMRR_PF4_Y05LA_DPG</td>\n",
       "      <td>Los Angeles Reformulated RBOB Regular Gasoline...</td>\n",
       "    </tr>\n",
       "    <tr>\n",
       "      <th>4138</th>\n",
       "      <td>2007-07-06</td>\n",
       "      <td>RGC</td>\n",
       "      <td>NA</td>\n",
       "      <td>EPJK</td>\n",
       "      <td>Kerosene-Type Jet Fuel</td>\n",
       "      <td>PF4</td>\n",
       "      <td>Spot Price FOB</td>\n",
       "      <td>EER_EPJK_PF4_RGC_DPG</td>\n",
       "      <td>U.S. Gulf Coast Kerosene-Type Jet Fuel Spot Pr...</td>\n",
       "    </tr>\n",
       "    <tr>\n",
       "      <th>4561</th>\n",
       "      <td>2018-04-13</td>\n",
       "      <td>Y05LA</td>\n",
       "      <td>LOS ANGELES</td>\n",
       "      <td>EPMRR</td>\n",
       "      <td>Reformulated Regular Gasoline</td>\n",
       "      <td>PF4</td>\n",
       "      <td>Spot Price FOB</td>\n",
       "      <td>EER_EPMRR_PF4_Y05LA_DPG</td>\n",
       "      <td>Los Angeles Reformulated RBOB Regular Gasoline...</td>\n",
       "    </tr>\n",
       "    <tr>\n",
       "      <th>524</th>\n",
       "      <td>2014-08-29</td>\n",
       "      <td>Y05LA</td>\n",
       "      <td>LOS ANGELES</td>\n",
       "      <td>EPMRR</td>\n",
       "      <td>Reformulated Regular Gasoline</td>\n",
       "      <td>PF4</td>\n",
       "      <td>Spot Price FOB</td>\n",
       "      <td>EER_EPMRR_PF4_Y05LA_DPG</td>\n",
       "      <td>Los Angeles Reformulated RBOB Regular Gasoline...</td>\n",
       "    </tr>\n",
       "    <tr>\n",
       "      <th>1756</th>\n",
       "      <td>2005-03-04</td>\n",
       "      <td>Y05LA</td>\n",
       "      <td>LOS ANGELES</td>\n",
       "      <td>EPMRR</td>\n",
       "      <td>Reformulated Regular Gasoline</td>\n",
       "      <td>PF4</td>\n",
       "      <td>Spot Price FOB</td>\n",
       "      <td>EER_EPMRR_PF4_Y05LA_DPG</td>\n",
       "      <td>Los Angeles Reformulated RBOB Regular Gasoline...</td>\n",
       "    </tr>\n",
       "  </tbody>\n",
       "</table>\n",
       "</div>"
      ],
      "text/plain": [
       "          period duoarea    area-name product                   product-name  \\\n",
       "3201  2012-03-23   Y05LA  LOS ANGELES   EPMRR  Reformulated Regular Gasoline   \n",
       "4138  2007-07-06     RGC           NA    EPJK         Kerosene-Type Jet Fuel   \n",
       "4561  2018-04-13   Y05LA  LOS ANGELES   EPMRR  Reformulated Regular Gasoline   \n",
       "524   2014-08-29   Y05LA  LOS ANGELES   EPMRR  Reformulated Regular Gasoline   \n",
       "1756  2005-03-04   Y05LA  LOS ANGELES   EPMRR  Reformulated Regular Gasoline   \n",
       "\n",
       "     process    process-name                   series  \\\n",
       "3201     PF4  Spot Price FOB  EER_EPMRR_PF4_Y05LA_DPG   \n",
       "4138     PF4  Spot Price FOB     EER_EPJK_PF4_RGC_DPG   \n",
       "4561     PF4  Spot Price FOB  EER_EPMRR_PF4_Y05LA_DPG   \n",
       "524      PF4  Spot Price FOB  EER_EPMRR_PF4_Y05LA_DPG   \n",
       "1756     PF4  Spot Price FOB  EER_EPMRR_PF4_Y05LA_DPG   \n",
       "\n",
       "                                     series-description  \n",
       "3201  Los Angeles Reformulated RBOB Regular Gasoline...  \n",
       "4138  U.S. Gulf Coast Kerosene-Type Jet Fuel Spot Pr...  \n",
       "4561  Los Angeles Reformulated RBOB Regular Gasoline...  \n",
       "524   Los Angeles Reformulated RBOB Regular Gasoline...  \n",
       "1756  Los Angeles Reformulated RBOB Regular Gasoline...  "
      ]
     },
     "execution_count": 60,
     "metadata": {},
     "output_type": "execute_result"
    }
   ],
   "source": [
    "oil_data.sample(5) ## take a sample of 5"
   ]
  },
  {
   "cell_type": "markdown",
   "metadata": {},
   "source": [
    "> However with further looking, it was noticed that there are NA values used to presnet the null values."
   ]
  },
  {
   "cell_type": "code",
   "execution_count": 61,
   "metadata": {},
   "outputs": [
    {
     "data": {
      "text/plain": [
       "period                   0\n",
       "duoarea                  0\n",
       "area-name             2743\n",
       "product                  0\n",
       "product-name             0\n",
       "process                  0\n",
       "process-name             0\n",
       "series                   0\n",
       "series-description       0\n",
       "dtype: int64"
      ]
     },
     "execution_count": 61,
     "metadata": {},
     "output_type": "execute_result"
    }
   ],
   "source": [
    "oil_data.isin(nan).sum() ## to check if some values are not detected using isna"
   ]
  },
  {
   "cell_type": "markdown",
   "metadata": {},
   "source": [
    "> In the oil dataset there appears to be 2743 NA values from the area-name column. The other columns doesn't have NA values. However, the duoarea have no missing values."
   ]
  },
  {
   "cell_type": "markdown",
   "metadata": {
    "id": "8Be77N4I1AmE"
   },
   "source": [
    "### **Validity (Quality Issue #2):**"
   ]
  },
  {
   "cell_type": "markdown",
   "metadata": {},
   "source": [
    "#### **Stocks Dataset**"
   ]
  },
  {
   "cell_type": "markdown",
   "metadata": {},
   "source": [
    "##### *Inspecting the dataframe programmatically*\n",
    "To inspect the validity of the dataframe programmatically, let's take a look into the datatypes of the dataset using the `.datatype` attribute of the datasets."
   ]
  },
  {
   "cell_type": "code",
   "execution_count": 62,
   "metadata": {},
   "outputs": [
    {
     "data": {
      "text/plain": [
       "Price      Ticker\n",
       "Date                 datetime64[ns]\n",
       "Adj Close  AAPL             float64\n",
       "           AMZN             float64\n",
       "           GOOGL            float64\n",
       "           META             float64\n",
       "           MSFT             float64\n",
       "Close      AAPL             float64\n",
       "           AMZN             float64\n",
       "           GOOGL            float64\n",
       "           META             float64\n",
       "           MSFT             float64\n",
       "High       AAPL             float64\n",
       "           AMZN             float64\n",
       "           GOOGL            float64\n",
       "           META             float64\n",
       "           MSFT             float64\n",
       "Low        AAPL             float64\n",
       "           AMZN             float64\n",
       "           GOOGL            float64\n",
       "           META             float64\n",
       "           MSFT             float64\n",
       "Open       AAPL             float64\n",
       "           AMZN             float64\n",
       "           GOOGL            float64\n",
       "           META             float64\n",
       "           MSFT             float64\n",
       "Volume     AAPL               int64\n",
       "           AMZN               int64\n",
       "           GOOGL              int64\n",
       "           META             float64\n",
       "           MSFT               int64\n",
       "dtype: object"
      ]
     },
     "execution_count": 62,
     "metadata": {},
     "output_type": "execute_result"
    }
   ],
   "source": [
    "stocks_data.dtypes ## looking into datatypes"
   ]
  },
  {
   "cell_type": "markdown",
   "metadata": {},
   "source": [
    "> The datastypes are all valid. Let's take a look into why For the volume some of the columns have integer values."
   ]
  },
  {
   "cell_type": "code",
   "execution_count": 63,
   "metadata": {},
   "outputs": [
    {
     "data": {
      "text/plain": [
       "1975   2012-11-06\n",
       "4720   2023-10-04\n",
       "3836   2020-03-31\n",
       "1494   2010-12-08\n",
       "2099   2013-05-07\n",
       "Name: Date, dtype: datetime64[ns]"
      ]
     },
     "execution_count": 63,
     "metadata": {},
     "output_type": "execute_result"
    }
   ],
   "source": [
    "stocks_data['Date'].sample(5) ## Take a sample of 5"
   ]
  },
  {
   "cell_type": "markdown",
   "metadata": {},
   "source": [
    "> The datetime64 is actuualy only the date of the record there is no timestamps. The decsision will be to extract teh months, years and days after the merge. To make more sense when visualization and answering the reswarch question."
   ]
  },
  {
   "cell_type": "code",
   "execution_count": 64,
   "metadata": {},
   "outputs": [
    {
     "name": "stdout",
     "output_type": "stream",
     "text": [
      "2092    764097600\n",
      "618     943026000\n",
      "1251    611906400\n",
      "2456    148204800\n",
      "2600    203953200\n",
      "Name: (Volume, AAPL), dtype: int64\n",
      "4309     83230000\n",
      "2578     49162000\n",
      "3673     90538000\n",
      "1305    144816000\n",
      "317     185892000\n",
      "Name: (Volume, AMZN), dtype: int64\n",
      "315     627999372\n",
      "657     145202652\n",
      "2375     22580000\n",
      "208     235903860\n",
      "3298     66792000\n",
      "Name: (Volume, GOOGL), dtype: int64\n",
      "557     47934900\n",
      "861     76063400\n",
      "3891    23061600\n",
      "1716    53554600\n",
      "575     41778400\n",
      "Name: (Volume, MSFT), dtype: int64\n"
     ]
    }
   ],
   "source": [
    "int_col= list(stocks_data.dtypes[stocks_data.dtypes == 'int64']['Volume'].index) ## take the values where the datatypes are integers\n",
    "for col in int_col:\n",
    "    print(stocks_data['Volume',col].sample(5))"
   ]
  },
  {
   "cell_type": "markdown",
   "metadata": {},
   "source": [
    "> The dataset is valid in terms of data types for the integers columns."
   ]
  },
  {
   "cell_type": "markdown",
   "metadata": {},
   "source": [
    "##### *Inspecting the dataframe visually*\n",
    "The visualization used to check for datatypes validity is a summary statics table."
   ]
  },
  {
   "cell_type": "code",
   "execution_count": 65,
   "metadata": {
    "id": "bnviRCUI-bb7"
   },
   "outputs": [
    {
     "data": {
      "text/html": [
       "<div>\n",
       "<style scoped>\n",
       "    .dataframe tbody tr th:only-of-type {\n",
       "        vertical-align: middle;\n",
       "    }\n",
       "\n",
       "    .dataframe tbody tr th {\n",
       "        vertical-align: top;\n",
       "    }\n",
       "\n",
       "    .dataframe thead th {\n",
       "        text-align: right;\n",
       "    }\n",
       "</style>\n",
       "<table border=\"1\" class=\"dataframe\">\n",
       "  <thead>\n",
       "    <tr style=\"text-align: right;\">\n",
       "      <th></th>\n",
       "      <th></th>\n",
       "      <th>count</th>\n",
       "      <th>mean</th>\n",
       "      <th>min</th>\n",
       "      <th>25%</th>\n",
       "      <th>50%</th>\n",
       "      <th>75%</th>\n",
       "      <th>max</th>\n",
       "      <th>std</th>\n",
       "    </tr>\n",
       "    <tr>\n",
       "      <th>Price</th>\n",
       "      <th>Ticker</th>\n",
       "      <th></th>\n",
       "      <th></th>\n",
       "      <th></th>\n",
       "      <th></th>\n",
       "      <th></th>\n",
       "      <th></th>\n",
       "      <th></th>\n",
       "      <th></th>\n",
       "    </tr>\n",
       "  </thead>\n",
       "  <tbody>\n",
       "    <tr>\n",
       "      <th>Date</th>\n",
       "      <th></th>\n",
       "      <td>4781</td>\n",
       "      <td>2014-07-01 15:02:04.241790208</td>\n",
       "      <td>2005-01-03 00:00:00</td>\n",
       "      <td>2009-10-01 00:00:00</td>\n",
       "      <td>2014-07-02 00:00:00</td>\n",
       "      <td>2019-04-02 00:00:00</td>\n",
       "      <td>2023-12-29 00:00:00</td>\n",
       "      <td>NaN</td>\n",
       "    </tr>\n",
       "    <tr>\n",
       "      <th rowspan=\"5\" valign=\"top\">Adj Close</th>\n",
       "      <th>AAPL</th>\n",
       "      <td>4781.0</td>\n",
       "      <td>43.406251</td>\n",
       "      <td>0.955513</td>\n",
       "      <td>5.748777</td>\n",
       "      <td>20.945795</td>\n",
       "      <td>49.082428</td>\n",
       "      <td>197.589523</td>\n",
       "      <td>53.512731</td>\n",
       "    </tr>\n",
       "    <tr>\n",
       "      <th>AMZN</th>\n",
       "      <td>4781.0</td>\n",
       "      <td>47.456018</td>\n",
       "      <td>1.3035</td>\n",
       "      <td>4.7205</td>\n",
       "      <td>16.6425</td>\n",
       "      <td>88.806</td>\n",
       "      <td>186.570496</td>\n",
       "      <td>54.003279</td>\n",
       "    </tr>\n",
       "    <tr>\n",
       "      <th>GOOGL</th>\n",
       "      <td>4781.0</td>\n",
       "      <td>42.617377</td>\n",
       "      <td>4.374109</td>\n",
       "      <td>13.190316</td>\n",
       "      <td>27.369587</td>\n",
       "      <td>58.646194</td>\n",
       "      <td>149.666733</td>\n",
       "      <td>38.617765</td>\n",
       "    </tr>\n",
       "    <tr>\n",
       "      <th>META</th>\n",
       "      <td>2923.0</td>\n",
       "      <td>157.370234</td>\n",
       "      <td>17.69364</td>\n",
       "      <td>80.604355</td>\n",
       "      <td>153.205185</td>\n",
       "      <td>204.38501</td>\n",
       "      <td>381.39624</td>\n",
       "      <td>90.7394</td>\n",
       "    </tr>\n",
       "    <tr>\n",
       "      <th>MSFT</th>\n",
       "      <td>4781.0</td>\n",
       "      <td>85.750155</td>\n",
       "      <td>11.263437</td>\n",
       "      <td>20.658804</td>\n",
       "      <td>35.504238</td>\n",
       "      <td>113.337273</td>\n",
       "      <td>381.305817</td>\n",
       "      <td>96.422985</td>\n",
       "    </tr>\n",
       "    <tr>\n",
       "      <th rowspan=\"5\" valign=\"top\">Close</th>\n",
       "      <th>AAPL</th>\n",
       "      <td>4781.0</td>\n",
       "      <td>45.151456</td>\n",
       "      <td>1.130179</td>\n",
       "      <td>6.799643</td>\n",
       "      <td>23.620001</td>\n",
       "      <td>50.965</td>\n",
       "      <td>198.110001</td>\n",
       "      <td>53.62873</td>\n",
       "    </tr>\n",
       "    <tr>\n",
       "      <th>AMZN</th>\n",
       "      <td>4781.0</td>\n",
       "      <td>47.456018</td>\n",
       "      <td>1.3035</td>\n",
       "      <td>4.7205</td>\n",
       "      <td>16.6425</td>\n",
       "      <td>88.806</td>\n",
       "      <td>186.570496</td>\n",
       "      <td>54.003279</td>\n",
       "    </tr>\n",
       "    <tr>\n",
       "      <th>GOOGL</th>\n",
       "      <td>4781.0</td>\n",
       "      <td>42.666289</td>\n",
       "      <td>4.379129</td>\n",
       "      <td>13.205455</td>\n",
       "      <td>27.400999</td>\n",
       "      <td>58.713501</td>\n",
       "      <td>149.838501</td>\n",
       "      <td>38.662086</td>\n",
       "    </tr>\n",
       "    <tr>\n",
       "      <th>META</th>\n",
       "      <td>2923.0</td>\n",
       "      <td>157.69362</td>\n",
       "      <td>17.73</td>\n",
       "      <td>80.769997</td>\n",
       "      <td>153.520004</td>\n",
       "      <td>204.805</td>\n",
       "      <td>382.179993</td>\n",
       "      <td>90.925863</td>\n",
       "    </tr>\n",
       "    <tr>\n",
       "      <th>MSFT</th>\n",
       "      <td>4781.0</td>\n",
       "      <td>91.896614</td>\n",
       "      <td>15.15</td>\n",
       "      <td>27.690001</td>\n",
       "      <td>41.459999</td>\n",
       "      <td>119.279999</td>\n",
       "      <td>382.700012</td>\n",
       "      <td>95.785255</td>\n",
       "    </tr>\n",
       "    <tr>\n",
       "      <th rowspan=\"5\" valign=\"top\">High</th>\n",
       "      <th>AAPL</th>\n",
       "      <td>4781.0</td>\n",
       "      <td>45.611048</td>\n",
       "      <td>1.159107</td>\n",
       "      <td>6.881429</td>\n",
       "      <td>23.887501</td>\n",
       "      <td>51.334999</td>\n",
       "      <td>199.619995</td>\n",
       "      <td>54.173137</td>\n",
       "    </tr>\n",
       "    <tr>\n",
       "      <th>AMZN</th>\n",
       "      <td>4781.0</td>\n",
       "      <td>48.02516</td>\n",
       "      <td>1.315</td>\n",
       "      <td>4.7925</td>\n",
       "      <td>16.829</td>\n",
       "      <td>89.649498</td>\n",
       "      <td>188.654007</td>\n",
       "      <td>54.674486</td>\n",
       "    </tr>\n",
       "    <tr>\n",
       "      <th>GOOGL</th>\n",
       "      <td>4781.0</td>\n",
       "      <td>43.102564</td>\n",
       "      <td>4.464464</td>\n",
       "      <td>13.343343</td>\n",
       "      <td>27.627001</td>\n",
       "      <td>59.25</td>\n",
       "      <td>151.546494</td>\n",
       "      <td>39.078927</td>\n",
       "    </tr>\n",
       "    <tr>\n",
       "      <th>META</th>\n",
       "      <td>2923.0</td>\n",
       "      <td>159.668765</td>\n",
       "      <td>18.27</td>\n",
       "      <td>81.470001</td>\n",
       "      <td>155.589996</td>\n",
       "      <td>207.645004</td>\n",
       "      <td>384.329987</td>\n",
       "      <td>92.034626</td>\n",
       "    </tr>\n",
       "    <tr>\n",
       "      <th>MSFT</th>\n",
       "      <td>4781.0</td>\n",
       "      <td>92.781004</td>\n",
       "      <td>15.62</td>\n",
       "      <td>27.93</td>\n",
       "      <td>41.66</td>\n",
       "      <td>119.589996</td>\n",
       "      <td>384.299988</td>\n",
       "      <td>96.728997</td>\n",
       "    </tr>\n",
       "    <tr>\n",
       "      <th rowspan=\"5\" valign=\"top\">Low</th>\n",
       "      <th>AAPL</th>\n",
       "      <td>4781.0</td>\n",
       "      <td>44.649769</td>\n",
       "      <td>1.117857</td>\n",
       "      <td>6.738571</td>\n",
       "      <td>23.407499</td>\n",
       "      <td>50.549999</td>\n",
       "      <td>197.0</td>\n",
       "      <td>53.026181</td>\n",
       "    </tr>\n",
       "    <tr>\n",
       "      <th>AMZN</th>\n",
       "      <td>4781.0</td>\n",
       "      <td>46.862393</td>\n",
       "      <td>1.288</td>\n",
       "      <td>4.6535</td>\n",
       "      <td>16.441</td>\n",
       "      <td>87.800003</td>\n",
       "      <td>184.839493</td>\n",
       "      <td>53.333407</td>\n",
       "    </tr>\n",
       "    <tr>\n",
       "      <th>GOOGL</th>\n",
       "      <td>4781.0</td>\n",
       "      <td>42.210375</td>\n",
       "      <td>4.318569</td>\n",
       "      <td>13.075075</td>\n",
       "      <td>27.222</td>\n",
       "      <td>58.174</td>\n",
       "      <td>148.899002</td>\n",
       "      <td>38.227936</td>\n",
       "    </tr>\n",
       "    <tr>\n",
       "      <th>META</th>\n",
       "      <td>2923.0</td>\n",
       "      <td>155.638686</td>\n",
       "      <td>17.549999</td>\n",
       "      <td>80.154999</td>\n",
       "      <td>151.660004</td>\n",
       "      <td>201.785004</td>\n",
       "      <td>378.809998</td>\n",
       "      <td>89.773014</td>\n",
       "    </tr>\n",
       "    <tr>\n",
       "      <th>MSFT</th>\n",
       "      <td>4781.0</td>\n",
       "      <td>90.932192</td>\n",
       "      <td>14.87</td>\n",
       "      <td>27.41</td>\n",
       "      <td>41.040001</td>\n",
       "      <td>118.379997</td>\n",
       "      <td>378.160004</td>\n",
       "      <td>94.736781</td>\n",
       "    </tr>\n",
       "    <tr>\n",
       "      <th rowspan=\"5\" valign=\"top\">Open</th>\n",
       "      <th>AAPL</th>\n",
       "      <td>4781.0</td>\n",
       "      <td>45.120857</td>\n",
       "      <td>1.139107</td>\n",
       "      <td>6.809286</td>\n",
       "      <td>23.66</td>\n",
       "      <td>50.865002</td>\n",
       "      <td>198.020004</td>\n",
       "      <td>53.576141</td>\n",
       "    </tr>\n",
       "    <tr>\n",
       "      <th>AMZN</th>\n",
       "      <td>4781.0</td>\n",
       "      <td>47.467806</td>\n",
       "      <td>1.3045</td>\n",
       "      <td>4.7495</td>\n",
       "      <td>16.715</td>\n",
       "      <td>88.786499</td>\n",
       "      <td>187.199997</td>\n",
       "      <td>54.034916</td>\n",
       "    </tr>\n",
       "    <tr>\n",
       "      <th>GOOGL</th>\n",
       "      <td>4781.0</td>\n",
       "      <td>42.655534</td>\n",
       "      <td>4.386887</td>\n",
       "      <td>13.217217</td>\n",
       "      <td>27.4</td>\n",
       "      <td>58.7495</td>\n",
       "      <td>151.25</td>\n",
       "      <td>38.641589</td>\n",
       "    </tr>\n",
       "    <tr>\n",
       "      <th>META</th>\n",
       "      <td>2923.0</td>\n",
       "      <td>157.61935</td>\n",
       "      <td>18.08</td>\n",
       "      <td>80.77</td>\n",
       "      <td>153.639999</td>\n",
       "      <td>204.214996</td>\n",
       "      <td>381.679993</td>\n",
       "      <td>90.865561</td>\n",
       "    </tr>\n",
       "    <tr>\n",
       "      <th>MSFT</th>\n",
       "      <td>4781.0</td>\n",
       "      <td>91.865313</td>\n",
       "      <td>15.2</td>\n",
       "      <td>27.68</td>\n",
       "      <td>41.369999</td>\n",
       "      <td>119.059998</td>\n",
       "      <td>383.76001</td>\n",
       "      <td>95.751817</td>\n",
       "    </tr>\n",
       "    <tr>\n",
       "      <th rowspan=\"5\" valign=\"top\">Volume</th>\n",
       "      <th>AAPL</th>\n",
       "      <td>4781.0</td>\n",
       "      <td>403190325.831416</td>\n",
       "      <td>24048300.0</td>\n",
       "      <td>108953300.0</td>\n",
       "      <td>258322400.0</td>\n",
       "      <td>581148400.0</td>\n",
       "      <td>3372969600.0</td>\n",
       "      <td>398702935.886029</td>\n",
       "    </tr>\n",
       "    <tr>\n",
       "      <th>AMZN</th>\n",
       "      <td>4781.0</td>\n",
       "      <td>108328400.397406</td>\n",
       "      <td>17626000.0</td>\n",
       "      <td>60214000.0</td>\n",
       "      <td>86388000.0</td>\n",
       "      <td>129110000.0</td>\n",
       "      <td>2086584000.0</td>\n",
       "      <td>91519691.093599</td>\n",
       "    </tr>\n",
       "    <tr>\n",
       "      <th>GOOGL</th>\n",
       "      <td>4781.0</td>\n",
       "      <td>115393301.946873</td>\n",
       "      <td>9312000.0</td>\n",
       "      <td>31586000.0</td>\n",
       "      <td>61402000.0</td>\n",
       "      <td>139016844.0</td>\n",
       "      <td>1643023332.0</td>\n",
       "      <td>142627540.065058</td>\n",
       "    </tr>\n",
       "    <tr>\n",
       "      <th>META</th>\n",
       "      <td>2923.0</td>\n",
       "      <td>30604724.769073</td>\n",
       "      <td>5467500.0</td>\n",
       "      <td>16337300.0</td>\n",
       "      <td>22948700.0</td>\n",
       "      <td>35204400.0</td>\n",
       "      <td>573576400.0</td>\n",
       "      <td>26371567.151792</td>\n",
       "    </tr>\n",
       "    <tr>\n",
       "      <th>MSFT</th>\n",
       "      <td>4781.0</td>\n",
       "      <td>45513886.467266</td>\n",
       "      <td>7425600.0</td>\n",
       "      <td>26091000.0</td>\n",
       "      <td>38153000.0</td>\n",
       "      <td>57376800.0</td>\n",
       "      <td>591052200.0</td>\n",
       "      <td>28421310.332875</td>\n",
       "    </tr>\n",
       "  </tbody>\n",
       "</table>\n",
       "</div>"
      ],
      "text/plain": [
       "                   count                           mean                  min  \\\n",
       "Price     Ticker                                                               \n",
       "Date                4781  2014-07-01 15:02:04.241790208  2005-01-03 00:00:00   \n",
       "Adj Close AAPL    4781.0                      43.406251             0.955513   \n",
       "          AMZN    4781.0                      47.456018               1.3035   \n",
       "          GOOGL   4781.0                      42.617377             4.374109   \n",
       "          META    2923.0                     157.370234             17.69364   \n",
       "          MSFT    4781.0                      85.750155            11.263437   \n",
       "Close     AAPL    4781.0                      45.151456             1.130179   \n",
       "          AMZN    4781.0                      47.456018               1.3035   \n",
       "          GOOGL   4781.0                      42.666289             4.379129   \n",
       "          META    2923.0                      157.69362                17.73   \n",
       "          MSFT    4781.0                      91.896614                15.15   \n",
       "High      AAPL    4781.0                      45.611048             1.159107   \n",
       "          AMZN    4781.0                       48.02516                1.315   \n",
       "          GOOGL   4781.0                      43.102564             4.464464   \n",
       "          META    2923.0                     159.668765                18.27   \n",
       "          MSFT    4781.0                      92.781004                15.62   \n",
       "Low       AAPL    4781.0                      44.649769             1.117857   \n",
       "          AMZN    4781.0                      46.862393                1.288   \n",
       "          GOOGL   4781.0                      42.210375             4.318569   \n",
       "          META    2923.0                     155.638686            17.549999   \n",
       "          MSFT    4781.0                      90.932192                14.87   \n",
       "Open      AAPL    4781.0                      45.120857             1.139107   \n",
       "          AMZN    4781.0                      47.467806               1.3045   \n",
       "          GOOGL   4781.0                      42.655534             4.386887   \n",
       "          META    2923.0                      157.61935                18.08   \n",
       "          MSFT    4781.0                      91.865313                 15.2   \n",
       "Volume    AAPL    4781.0               403190325.831416           24048300.0   \n",
       "          AMZN    4781.0               108328400.397406           17626000.0   \n",
       "          GOOGL   4781.0               115393301.946873            9312000.0   \n",
       "          META    2923.0                30604724.769073            5467500.0   \n",
       "          MSFT    4781.0                45513886.467266            7425600.0   \n",
       "\n",
       "                                  25%                  50%  \\\n",
       "Price     Ticker                                             \n",
       "Date              2009-10-01 00:00:00  2014-07-02 00:00:00   \n",
       "Adj Close AAPL               5.748777            20.945795   \n",
       "          AMZN                 4.7205              16.6425   \n",
       "          GOOGL             13.190316            27.369587   \n",
       "          META              80.604355           153.205185   \n",
       "          MSFT              20.658804            35.504238   \n",
       "Close     AAPL               6.799643            23.620001   \n",
       "          AMZN                 4.7205              16.6425   \n",
       "          GOOGL             13.205455            27.400999   \n",
       "          META              80.769997           153.520004   \n",
       "          MSFT              27.690001            41.459999   \n",
       "High      AAPL               6.881429            23.887501   \n",
       "          AMZN                 4.7925               16.829   \n",
       "          GOOGL             13.343343            27.627001   \n",
       "          META              81.470001           155.589996   \n",
       "          MSFT                  27.93                41.66   \n",
       "Low       AAPL               6.738571            23.407499   \n",
       "          AMZN                 4.6535               16.441   \n",
       "          GOOGL             13.075075               27.222   \n",
       "          META              80.154999           151.660004   \n",
       "          MSFT                  27.41            41.040001   \n",
       "Open      AAPL               6.809286                23.66   \n",
       "          AMZN                 4.7495               16.715   \n",
       "          GOOGL             13.217217                 27.4   \n",
       "          META                  80.77           153.639999   \n",
       "          MSFT                  27.68            41.369999   \n",
       "Volume    AAPL            108953300.0          258322400.0   \n",
       "          AMZN             60214000.0           86388000.0   \n",
       "          GOOGL            31586000.0           61402000.0   \n",
       "          META             16337300.0           22948700.0   \n",
       "          MSFT             26091000.0           38153000.0   \n",
       "\n",
       "                                  75%                  max               std  \n",
       "Price     Ticker                                                              \n",
       "Date              2019-04-02 00:00:00  2023-12-29 00:00:00               NaN  \n",
       "Adj Close AAPL              49.082428           197.589523         53.512731  \n",
       "          AMZN                 88.806           186.570496         54.003279  \n",
       "          GOOGL             58.646194           149.666733         38.617765  \n",
       "          META              204.38501            381.39624           90.7394  \n",
       "          MSFT             113.337273           381.305817         96.422985  \n",
       "Close     AAPL                 50.965           198.110001          53.62873  \n",
       "          AMZN                 88.806           186.570496         54.003279  \n",
       "          GOOGL             58.713501           149.838501         38.662086  \n",
       "          META                204.805           382.179993         90.925863  \n",
       "          MSFT             119.279999           382.700012         95.785255  \n",
       "High      AAPL              51.334999           199.619995         54.173137  \n",
       "          AMZN              89.649498           188.654007         54.674486  \n",
       "          GOOGL                 59.25           151.546494         39.078927  \n",
       "          META             207.645004           384.329987         92.034626  \n",
       "          MSFT             119.589996           384.299988         96.728997  \n",
       "Low       AAPL              50.549999                197.0         53.026181  \n",
       "          AMZN              87.800003           184.839493         53.333407  \n",
       "          GOOGL                58.174           148.899002         38.227936  \n",
       "          META             201.785004           378.809998         89.773014  \n",
       "          MSFT             118.379997           378.160004         94.736781  \n",
       "Open      AAPL              50.865002           198.020004         53.576141  \n",
       "          AMZN              88.786499           187.199997         54.034916  \n",
       "          GOOGL               58.7495               151.25         38.641589  \n",
       "          META             204.214996           381.679993         90.865561  \n",
       "          MSFT             119.059998            383.76001         95.751817  \n",
       "Volume    AAPL            581148400.0         3372969600.0  398702935.886029  \n",
       "          AMZN            129110000.0         2086584000.0   91519691.093599  \n",
       "          GOOGL           139016844.0         1643023332.0  142627540.065058  \n",
       "          META             35204400.0          573576400.0   26371567.151792  \n",
       "          MSFT             57376800.0          591052200.0   28421310.332875  "
      ]
     },
     "execution_count": 65,
     "metadata": {},
     "output_type": "execute_result"
    }
   ],
   "source": [
    "## Inspecting the dataframe visually\n",
    "stocks_data.describe().T"
   ]
  },
  {
   "cell_type": "markdown",
   "metadata": {},
   "source": [
    "> As noticed in the Date columns there is no need for the timestamped column datatype."
   ]
  },
  {
   "cell_type": "markdown",
   "metadata": {},
   "source": [
    "#### **Oil Dataset**"
   ]
  },
  {
   "cell_type": "markdown",
   "metadata": {},
   "source": [
    "##### *Inspecting the dataframe programmatically*\n",
    "To inspect the validity of the dataframe programmatically, let's take a look into the datatypes of the datasets using the `.datatype` attribute of the datasets."
   ]
  },
  {
   "cell_type": "code",
   "execution_count": 66,
   "metadata": {},
   "outputs": [
    {
     "data": {
      "text/plain": [
       "period                object\n",
       "duoarea               object\n",
       "area-name             object\n",
       "product               object\n",
       "product-name          object\n",
       "process               object\n",
       "process-name          object\n",
       "series                object\n",
       "series-description    object\n",
       "dtype: object"
      ]
     },
     "execution_count": 66,
     "metadata": {},
     "output_type": "execute_result"
    }
   ],
   "source": [
    "oil_data.dtypes"
   ]
  },
  {
   "cell_type": "markdown",
   "metadata": {},
   "source": [
    "> All the datatypes in oil data are seen as objects. But as seen in the sample of the data some are dates and bumers."
   ]
  },
  {
   "cell_type": "code",
   "execution_count": 67,
   "metadata": {},
   "outputs": [
    {
     "data": {
      "text/html": [
       "<div>\n",
       "<style scoped>\n",
       "    .dataframe tbody tr th:only-of-type {\n",
       "        vertical-align: middle;\n",
       "    }\n",
       "\n",
       "    .dataframe tbody tr th {\n",
       "        vertical-align: top;\n",
       "    }\n",
       "\n",
       "    .dataframe thead th {\n",
       "        text-align: right;\n",
       "    }\n",
       "</style>\n",
       "<table border=\"1\" class=\"dataframe\">\n",
       "  <thead>\n",
       "    <tr style=\"text-align: right;\">\n",
       "      <th></th>\n",
       "      <th>2014</th>\n",
       "      <th>1381</th>\n",
       "    </tr>\n",
       "  </thead>\n",
       "  <tbody>\n",
       "    <tr>\n",
       "      <th>period</th>\n",
       "      <td>2007-05-25</td>\n",
       "      <td>2006-06-16</td>\n",
       "    </tr>\n",
       "    <tr>\n",
       "      <th>duoarea</th>\n",
       "      <td>Y35NY</td>\n",
       "      <td>RGC</td>\n",
       "    </tr>\n",
       "    <tr>\n",
       "      <th>area-name</th>\n",
       "      <td>NEW YORK CITY</td>\n",
       "      <td>NA</td>\n",
       "    </tr>\n",
       "    <tr>\n",
       "      <th>product</th>\n",
       "      <td>EPD2DXL0</td>\n",
       "      <td>EPJK</td>\n",
       "    </tr>\n",
       "    <tr>\n",
       "      <th>product-name</th>\n",
       "      <td>No 2 Diesel Low Sulfur (0-15 ppm)</td>\n",
       "      <td>Kerosene-Type Jet Fuel</td>\n",
       "    </tr>\n",
       "    <tr>\n",
       "      <th>process</th>\n",
       "      <td>PF4</td>\n",
       "      <td>PF4</td>\n",
       "    </tr>\n",
       "    <tr>\n",
       "      <th>process-name</th>\n",
       "      <td>Spot Price FOB</td>\n",
       "      <td>Spot Price FOB</td>\n",
       "    </tr>\n",
       "    <tr>\n",
       "      <th>series</th>\n",
       "      <td>EER_EPD2DXL0_PF4_Y35NY_DPG</td>\n",
       "      <td>EER_EPJK_PF4_RGC_DPG</td>\n",
       "    </tr>\n",
       "    <tr>\n",
       "      <th>series-description</th>\n",
       "      <td>New York Harbor Ultra-Low Sulfur No 2 Diesel S...</td>\n",
       "      <td>U.S. Gulf Coast Kerosene-Type Jet Fuel Spot Pr...</td>\n",
       "    </tr>\n",
       "  </tbody>\n",
       "</table>\n",
       "</div>"
      ],
      "text/plain": [
       "                                                                 2014  \\\n",
       "period                                                     2007-05-25   \n",
       "duoarea                                                         Y35NY   \n",
       "area-name                                               NEW YORK CITY   \n",
       "product                                                      EPD2DXL0   \n",
       "product-name                        No 2 Diesel Low Sulfur (0-15 ppm)   \n",
       "process                                                           PF4   \n",
       "process-name                                           Spot Price FOB   \n",
       "series                                     EER_EPD2DXL0_PF4_Y35NY_DPG   \n",
       "series-description  New York Harbor Ultra-Low Sulfur No 2 Diesel S...   \n",
       "\n",
       "                                                                 1381  \n",
       "period                                                     2006-06-16  \n",
       "duoarea                                                           RGC  \n",
       "area-name                                                          NA  \n",
       "product                                                          EPJK  \n",
       "product-name                                   Kerosene-Type Jet Fuel  \n",
       "process                                                           PF4  \n",
       "process-name                                           Spot Price FOB  \n",
       "series                                           EER_EPJK_PF4_RGC_DPG  \n",
       "series-description  U.S. Gulf Coast Kerosene-Type Jet Fuel Spot Pr...  "
      ]
     },
     "execution_count": 67,
     "metadata": {},
     "output_type": "execute_result"
    }
   ],
   "source": [
    "oil_data.sample(2).T"
   ]
  },
  {
   "cell_type": "markdown",
   "metadata": {},
   "source": [
    "> So most of the data here are categorical."
   ]
  },
  {
   "cell_type": "code",
   "execution_count": 68,
   "metadata": {},
   "outputs": [
    {
     "data": {
      "text/plain": [
       "period                990\n",
       "duoarea                 6\n",
       "area-name               3\n",
       "product                 9\n",
       "product-name            9\n",
       "process                 1\n",
       "process-name            1\n",
       "series                 11\n",
       "series-description     11\n",
       "dtype: int64"
      ]
     },
     "execution_count": 68,
     "metadata": {},
     "output_type": "execute_result"
    }
   ],
   "source": [
    "oil_data.nunique()"
   ]
  },
  {
   "cell_type": "markdown",
   "metadata": {},
   "source": [
    "> The date column is named period instead of date. Each of the process and the process-name have only one unique value that is, they don't bring a value to the dataset."
   ]
  },
  {
   "cell_type": "markdown",
   "metadata": {},
   "source": [
    "##### *Inspecting the dataframe visually*\n",
    "The inspecting visually is using the summary statistics table."
   ]
  },
  {
   "cell_type": "code",
   "execution_count": 69,
   "metadata": {},
   "outputs": [
    {
     "data": {
      "text/html": [
       "<div>\n",
       "<style scoped>\n",
       "    .dataframe tbody tr th:only-of-type {\n",
       "        vertical-align: middle;\n",
       "    }\n",
       "\n",
       "    .dataframe tbody tr th {\n",
       "        vertical-align: top;\n",
       "    }\n",
       "\n",
       "    .dataframe thead th {\n",
       "        text-align: right;\n",
       "    }\n",
       "</style>\n",
       "<table border=\"1\" class=\"dataframe\">\n",
       "  <thead>\n",
       "    <tr style=\"text-align: right;\">\n",
       "      <th></th>\n",
       "      <th>count</th>\n",
       "      <th>unique</th>\n",
       "      <th>top</th>\n",
       "      <th>freq</th>\n",
       "    </tr>\n",
       "  </thead>\n",
       "  <tbody>\n",
       "    <tr>\n",
       "      <th>period</th>\n",
       "      <td>5000</td>\n",
       "      <td>990</td>\n",
       "      <td>2008-07-25</td>\n",
       "      <td>10</td>\n",
       "    </tr>\n",
       "    <tr>\n",
       "      <th>duoarea</th>\n",
       "      <td>5000</td>\n",
       "      <td>6</td>\n",
       "      <td>Y35NY</td>\n",
       "      <td>1405</td>\n",
       "    </tr>\n",
       "    <tr>\n",
       "      <th>area-name</th>\n",
       "      <td>5000</td>\n",
       "      <td>3</td>\n",
       "      <td>NA</td>\n",
       "      <td>2743</td>\n",
       "    </tr>\n",
       "    <tr>\n",
       "      <th>product</th>\n",
       "      <td>5000</td>\n",
       "      <td>9</td>\n",
       "      <td>EPD2DXL0</td>\n",
       "      <td>892</td>\n",
       "    </tr>\n",
       "    <tr>\n",
       "      <th>product-name</th>\n",
       "      <td>5000</td>\n",
       "      <td>9</td>\n",
       "      <td>No 2 Diesel Low Sulfur (0-15 ppm)</td>\n",
       "      <td>892</td>\n",
       "    </tr>\n",
       "    <tr>\n",
       "      <th>process</th>\n",
       "      <td>5000</td>\n",
       "      <td>1</td>\n",
       "      <td>PF4</td>\n",
       "      <td>5000</td>\n",
       "    </tr>\n",
       "    <tr>\n",
       "      <th>process-name</th>\n",
       "      <td>5000</td>\n",
       "      <td>1</td>\n",
       "      <td>Spot Price FOB</td>\n",
       "      <td>5000</td>\n",
       "    </tr>\n",
       "    <tr>\n",
       "      <th>series</th>\n",
       "      <td>5000</td>\n",
       "      <td>11</td>\n",
       "      <td>RBRTE</td>\n",
       "      <td>530</td>\n",
       "    </tr>\n",
       "    <tr>\n",
       "      <th>series-description</th>\n",
       "      <td>5000</td>\n",
       "      <td>11</td>\n",
       "      <td>Europe Brent Spot Price FOB (Dollars per Barrel)</td>\n",
       "      <td>530</td>\n",
       "    </tr>\n",
       "  </tbody>\n",
       "</table>\n",
       "</div>"
      ],
      "text/plain": [
       "                   count unique  \\\n",
       "period              5000    990   \n",
       "duoarea             5000      6   \n",
       "area-name           5000      3   \n",
       "product             5000      9   \n",
       "product-name        5000      9   \n",
       "process             5000      1   \n",
       "process-name        5000      1   \n",
       "series              5000     11   \n",
       "series-description  5000     11   \n",
       "\n",
       "                                                                 top  freq  \n",
       "period                                                    2008-07-25    10  \n",
       "duoarea                                                        Y35NY  1405  \n",
       "area-name                                                         NA  2743  \n",
       "product                                                     EPD2DXL0   892  \n",
       "product-name                       No 2 Diesel Low Sulfur (0-15 ppm)   892  \n",
       "process                                                          PF4  5000  \n",
       "process-name                                          Spot Price FOB  5000  \n",
       "series                                                         RBRTE   530  \n",
       "series-description  Europe Brent Spot Price FOB (Dollars per Barrel)   530  "
      ]
     },
     "execution_count": 69,
     "metadata": {},
     "output_type": "execute_result"
    }
   ],
   "source": [
    "oil_data.describe().T"
   ]
  },
  {
   "cell_type": "markdown",
   "metadata": {},
   "source": [
    "> Note that we have only one unique value for both of the process name and the process columns, they don't bring a value to the dataset."
   ]
  },
  {
   "cell_type": "markdown",
   "metadata": {
    "id": "lXhGiYyiwwKN"
   },
   "source": [
    "### **Columns Names: (Tidiness Issue #1):**"
   ]
  },
  {
   "cell_type": "markdown",
   "metadata": {},
   "source": [
    "#### **Stocks Dataset**"
   ]
  },
  {
   "cell_type": "markdown",
   "metadata": {},
   "source": [
    "##### *Inspecting the dataframe programmatically*\n",
    "The method used to inspect the dataframe programmatically, is calling the `.columns` attribute to look into the names of the columns."
   ]
  },
  {
   "cell_type": "code",
   "execution_count": 70,
   "metadata": {},
   "outputs": [
    {
     "data": {
      "text/plain": [
       "MultiIndex([(     'Date',      ''),\n",
       "            ('Adj Close',  'AAPL'),\n",
       "            ('Adj Close',  'AMZN'),\n",
       "            ('Adj Close', 'GOOGL'),\n",
       "            ('Adj Close',  'META'),\n",
       "            ('Adj Close',  'MSFT'),\n",
       "            (    'Close',  'AAPL'),\n",
       "            (    'Close',  'AMZN'),\n",
       "            (    'Close', 'GOOGL'),\n",
       "            (    'Close',  'META'),\n",
       "            (    'Close',  'MSFT'),\n",
       "            (     'High',  'AAPL'),\n",
       "            (     'High',  'AMZN'),\n",
       "            (     'High', 'GOOGL'),\n",
       "            (     'High',  'META'),\n",
       "            (     'High',  'MSFT'),\n",
       "            (      'Low',  'AAPL'),\n",
       "            (      'Low',  'AMZN'),\n",
       "            (      'Low', 'GOOGL'),\n",
       "            (      'Low',  'META'),\n",
       "            (      'Low',  'MSFT'),\n",
       "            (     'Open',  'AAPL'),\n",
       "            (     'Open',  'AMZN'),\n",
       "            (     'Open', 'GOOGL'),\n",
       "            (     'Open',  'META'),\n",
       "            (     'Open',  'MSFT'),\n",
       "            (   'Volume',  'AAPL'),\n",
       "            (   'Volume',  'AMZN'),\n",
       "            (   'Volume', 'GOOGL'),\n",
       "            (   'Volume',  'META'),\n",
       "            (   'Volume',  'MSFT')],\n",
       "           names=['Price', 'Ticker'])"
      ]
     },
     "execution_count": 70,
     "metadata": {},
     "output_type": "execute_result"
    }
   ],
   "source": [
    "stocks_data.columns"
   ]
  },
  {
   "cell_type": "markdown",
   "metadata": {},
   "source": [
    "> The columns names have to converted to the appropriate and by the convintion naming of columns."
   ]
  },
  {
   "cell_type": "markdown",
   "metadata": {},
   "source": [
    "#### **Oil Dataset**"
   ]
  },
  {
   "cell_type": "markdown",
   "metadata": {},
   "source": [
    "##### *Inspecting the dataframe programmatically*\n",
    "The method used to inspect the dataframe programmatically, is calling the `.columns` attribute to look into the names of the columns."
   ]
  },
  {
   "cell_type": "code",
   "execution_count": 71,
   "metadata": {},
   "outputs": [
    {
     "data": {
      "text/plain": [
       "Index(['period', 'duoarea', 'area-name', 'product', 'product-name', 'process',\n",
       "       'process-name', 'series', 'series-description'],\n",
       "      dtype='object')"
      ]
     },
     "execution_count": 71,
     "metadata": {},
     "output_type": "execute_result"
    }
   ],
   "source": [
    "oil_data.columns"
   ]
  },
  {
   "cell_type": "markdown",
   "metadata": {},
   "source": [
    "> The names of these columns would be better mapped for the merging, the column of date is named period. other coulmns could use a more meaningful name and using the convention of columns naming."
   ]
  },
  {
   "cell_type": "markdown",
   "metadata": {
    "id": "4ffMoRGSwzYj"
   },
   "source": [
    "### **Indexing (Tidiness Issue #2):**"
   ]
  },
  {
   "cell_type": "markdown",
   "metadata": {},
   "source": [
    "#### **Stocks Dataset**"
   ]
  },
  {
   "cell_type": "markdown",
   "metadata": {},
   "source": [
    "##### *Inspecting the dataframe programmatically*\n",
    "To inspect the dataframe programmatically in terms of indexing two atttributes are called `.index` and `.columns` it is because they can show the columns and the indecies used in the dataframe."
   ]
  },
  {
   "cell_type": "code",
   "execution_count": 72,
   "metadata": {},
   "outputs": [
    {
     "name": "stdout",
     "output_type": "stream",
     "text": [
      "RangeIndex(start=0, stop=4781, step=1)\n"
     ]
    },
    {
     "data": {
      "text/plain": [
       "MultiIndex([(     'Date',      ''),\n",
       "            ('Adj Close',  'AAPL'),\n",
       "            ('Adj Close',  'AMZN'),\n",
       "            ('Adj Close', 'GOOGL'),\n",
       "            ('Adj Close',  'META'),\n",
       "            ('Adj Close',  'MSFT'),\n",
       "            (    'Close',  'AAPL'),\n",
       "            (    'Close',  'AMZN'),\n",
       "            (    'Close', 'GOOGL'),\n",
       "            (    'Close',  'META'),\n",
       "            (    'Close',  'MSFT'),\n",
       "            (     'High',  'AAPL'),\n",
       "            (     'High',  'AMZN'),\n",
       "            (     'High', 'GOOGL'),\n",
       "            (     'High',  'META'),\n",
       "            (     'High',  'MSFT'),\n",
       "            (      'Low',  'AAPL'),\n",
       "            (      'Low',  'AMZN'),\n",
       "            (      'Low', 'GOOGL'),\n",
       "            (      'Low',  'META'),\n",
       "            (      'Low',  'MSFT'),\n",
       "            (     'Open',  'AAPL'),\n",
       "            (     'Open',  'AMZN'),\n",
       "            (     'Open', 'GOOGL'),\n",
       "            (     'Open',  'META'),\n",
       "            (     'Open',  'MSFT'),\n",
       "            (   'Volume',  'AAPL'),\n",
       "            (   'Volume',  'AMZN'),\n",
       "            (   'Volume', 'GOOGL'),\n",
       "            (   'Volume',  'META'),\n",
       "            (   'Volume',  'MSFT')],\n",
       "           names=['Price', 'Ticker'])"
      ]
     },
     "execution_count": 72,
     "metadata": {},
     "output_type": "execute_result"
    }
   ],
   "source": [
    "print(stocks_data.index)\n",
    "stocks_data.columns"
   ]
  },
  {
   "cell_type": "markdown",
   "metadata": {},
   "source": [
    "> This dataset is multi-indexed. It would be difficult to deal with. Since we have to have one observation per row, let's better take the decision to handle this case into one observation per row."
   ]
  },
  {
   "cell_type": "markdown",
   "metadata": {},
   "source": [
    "#### **Oil Dataset**"
   ]
  },
  {
   "cell_type": "markdown",
   "metadata": {},
   "source": [
    "##### *Inspecting the dataframe programmatically*\n",
    "To inspect the dataframe programmatically in terms of indexing two atttributes are called `.index` and `.columns` it is because they can show the columns and the indecies used in the dataframe."
   ]
  },
  {
   "cell_type": "code",
   "execution_count": 73,
   "metadata": {},
   "outputs": [
    {
     "name": "stdout",
     "output_type": "stream",
     "text": [
      "RangeIndex(start=0, stop=5000, step=1)\n"
     ]
    },
    {
     "data": {
      "text/plain": [
       "Index(['period', 'duoarea', 'area-name', 'product', 'product-name', 'process',\n",
       "       'process-name', 'series', 'series-description'],\n",
       "      dtype='object')"
      ]
     },
     "execution_count": 73,
     "metadata": {},
     "output_type": "execute_result"
    }
   ],
   "source": [
    "print(oil_data.index)\n",
    "oil_data.columns"
   ]
  },
  {
   "cell_type": "markdown",
   "metadata": {},
   "source": [
    "> The index of the second dataset is a range index starting from 0 to 5000."
   ]
  },
  {
   "cell_type": "markdown",
   "metadata": {
    "id": "D6gmLnBttpCh"
   },
   "source": [
    "## 5. Clean data\n",
    "It's time to address the issues found during assessment to clean and polish your data.\n",
    "\n",
    "Clean the data to solve the 4 issues corresponding to data quality and tidiness found in the assessing step. **Make sure you include justifications for your cleaning decisions.**\n",
    "\n",
    "After the cleaning for each issue, please use **either** the visually or programatical method to validate the cleaning was succesful.\n",
    "\n",
    "At this stage, you are also expected to remove variables that are unnecessary for your analysis and combine your datasets. Depending on your datasets, you may choose to perform variable combination and elimination before or after the cleaning stage. Your dataset must have **at least** 4 variables after combining the data."
   ]
  },
  {
   "cell_type": "code",
   "execution_count": 74,
   "metadata": {},
   "outputs": [],
   "source": [
    "## Making copies of the datasets to ensure the raw dataframes are not impacted\n",
    "oil_data_cleaned = oil_data.copy()\n",
    "stocks_data_cleaned =stocks_data.copy()"
   ]
  },
  {
   "cell_type": "markdown",
   "metadata": {
    "id": "FmFhN52Yyn3l"
   },
   "source": [
    "### **Completeness (Quality Issue #1):**\n",
    "\n",
    "There was missing values in both of the datasets."
   ]
  },
  {
   "cell_type": "markdown",
   "metadata": {},
   "source": [
    "#### **Stocks Dataset**\n",
    "For the stocks datsaets, the method chosen for handling missing values is to use the fillin method using the backward startegy since as shown in the heatmap for misisng values it(missing values) starts from the first index. "
   ]
  },
  {
   "cell_type": "markdown",
   "metadata": {},
   "source": [
    "> Justification: *For the META facebook before, there seems to be missing values for some reason, however it was checked if the stock nasdaq name used to be FB so did that affect the way the data was gathered and it turned out to not. FB was created in 2005 and it's supposed to have these stocks too,*"
   ]
  },
  {
   "cell_type": "code",
   "execution_count": 129,
   "metadata": {
    "id": "9UejDWrNMW4a"
   },
   "outputs": [
    {
     "name": "stderr",
     "output_type": "stream",
     "text": [
      "C:\\Users\\SS\\AppData\\Local\\Temp\\ipykernel_17492\\3280220914.py:2: FutureWarning: DataFrame.fillna with 'method' is deprecated and will raise in a future version. Use obj.ffill() or obj.bfill() instead.\n",
      "  stocks_data_cleaned.fillna(method='bfill', inplace=True) ## fillna with backward fill for META FB\n"
     ]
    },
    {
     "data": {
      "text/html": [
       "<div>\n",
       "<style scoped>\n",
       "    .dataframe tbody tr th:only-of-type {\n",
       "        vertical-align: middle;\n",
       "    }\n",
       "\n",
       "    .dataframe tbody tr th {\n",
       "        vertical-align: top;\n",
       "    }\n",
       "\n",
       "    .dataframe thead tr th {\n",
       "        text-align: left;\n",
       "    }\n",
       "</style>\n",
       "<table border=\"1\" class=\"dataframe\">\n",
       "  <thead>\n",
       "    <tr>\n",
       "      <th>Price</th>\n",
       "      <th>Date</th>\n",
       "      <th colspan=\"5\" halign=\"left\">Adj Close</th>\n",
       "      <th colspan=\"4\" halign=\"left\">Close</th>\n",
       "      <th>...</th>\n",
       "      <th colspan=\"5\" halign=\"left\">Open</th>\n",
       "      <th colspan=\"5\" halign=\"left\">Volume</th>\n",
       "    </tr>\n",
       "    <tr>\n",
       "      <th>Ticker</th>\n",
       "      <th></th>\n",
       "      <th>AAPL</th>\n",
       "      <th>AMZN</th>\n",
       "      <th>GOOGL</th>\n",
       "      <th>META</th>\n",
       "      <th>MSFT</th>\n",
       "      <th>AAPL</th>\n",
       "      <th>AMZN</th>\n",
       "      <th>GOOGL</th>\n",
       "      <th>META</th>\n",
       "      <th>...</th>\n",
       "      <th>AAPL</th>\n",
       "      <th>AMZN</th>\n",
       "      <th>GOOGL</th>\n",
       "      <th>META</th>\n",
       "      <th>MSFT</th>\n",
       "      <th>AAPL</th>\n",
       "      <th>AMZN</th>\n",
       "      <th>GOOGL</th>\n",
       "      <th>META</th>\n",
       "      <th>MSFT</th>\n",
       "    </tr>\n",
       "  </thead>\n",
       "  <tbody>\n",
       "    <tr>\n",
       "      <th>4139</th>\n",
       "      <td>2021-06-14</td>\n",
       "      <td>128.287369</td>\n",
       "      <td>169.193497</td>\n",
       "      <td>122.305138</td>\n",
       "      <td>336.079346</td>\n",
       "      <td>253.335358</td>\n",
       "      <td>130.479996</td>\n",
       "      <td>169.193497</td>\n",
       "      <td>122.445503</td>\n",
       "      <td>336.769989</td>\n",
       "      <td>...</td>\n",
       "      <td>127.820000</td>\n",
       "      <td>167.341507</td>\n",
       "      <td>121.612999</td>\n",
       "      <td>331.899994</td>\n",
       "      <td>257.899994</td>\n",
       "      <td>96906500</td>\n",
       "      <td>51394000</td>\n",
       "      <td>22098000</td>\n",
       "      <td>12250800.0</td>\n",
       "      <td>19150500</td>\n",
       "    </tr>\n",
       "    <tr>\n",
       "      <th>4758</th>\n",
       "      <td>2023-11-28</td>\n",
       "      <td>189.899765</td>\n",
       "      <td>147.029999</td>\n",
       "      <td>137.042709</td>\n",
       "      <td>338.294800</td>\n",
       "      <td>381.305817</td>\n",
       "      <td>190.399994</td>\n",
       "      <td>147.029999</td>\n",
       "      <td>137.199997</td>\n",
       "      <td>338.989990</td>\n",
       "      <td>...</td>\n",
       "      <td>189.779999</td>\n",
       "      <td>146.979996</td>\n",
       "      <td>136.080002</td>\n",
       "      <td>333.399994</td>\n",
       "      <td>378.350006</td>\n",
       "      <td>38415400</td>\n",
       "      <td>42711700</td>\n",
       "      <td>18730000</td>\n",
       "      <td>12637200.0</td>\n",
       "      <td>20453100</td>\n",
       "    </tr>\n",
       "    <tr>\n",
       "      <th>2893</th>\n",
       "      <td>2016-06-30</td>\n",
       "      <td>21.951824</td>\n",
       "      <td>35.780998</td>\n",
       "      <td>35.136173</td>\n",
       "      <td>114.045647</td>\n",
       "      <td>45.951843</td>\n",
       "      <td>23.900000</td>\n",
       "      <td>35.780998</td>\n",
       "      <td>35.176498</td>\n",
       "      <td>114.279999</td>\n",
       "      <td>...</td>\n",
       "      <td>23.610001</td>\n",
       "      <td>35.860001</td>\n",
       "      <td>34.882500</td>\n",
       "      <td>114.669998</td>\n",
       "      <td>50.720001</td>\n",
       "      <td>143345600</td>\n",
       "      <td>57102000</td>\n",
       "      <td>42250000</td>\n",
       "      <td>23192700.0</td>\n",
       "      <td>28527800</td>\n",
       "    </tr>\n",
       "    <tr>\n",
       "      <th>4681</th>\n",
       "      <td>2023-08-09</td>\n",
       "      <td>177.248672</td>\n",
       "      <td>137.850006</td>\n",
       "      <td>129.511368</td>\n",
       "      <td>304.584076</td>\n",
       "      <td>319.728912</td>\n",
       "      <td>178.190002</td>\n",
       "      <td>137.850006</td>\n",
       "      <td>129.660004</td>\n",
       "      <td>305.209991</td>\n",
       "      <td>...</td>\n",
       "      <td>180.869995</td>\n",
       "      <td>139.970001</td>\n",
       "      <td>131.660004</td>\n",
       "      <td>312.880005</td>\n",
       "      <td>326.470001</td>\n",
       "      <td>60378500</td>\n",
       "      <td>50017300</td>\n",
       "      <td>24912900</td>\n",
       "      <td>19955800.0</td>\n",
       "      <td>22373300</td>\n",
       "    </tr>\n",
       "    <tr>\n",
       "      <th>2030</th>\n",
       "      <td>2013-01-28</td>\n",
       "      <td>13.703119</td>\n",
       "      <td>13.802000</td>\n",
       "      <td>18.765499</td>\n",
       "      <td>32.403412</td>\n",
       "      <td>22.728437</td>\n",
       "      <td>16.065357</td>\n",
       "      <td>13.802000</td>\n",
       "      <td>18.787037</td>\n",
       "      <td>32.470001</td>\n",
       "      <td>...</td>\n",
       "      <td>15.636786</td>\n",
       "      <td>14.189000</td>\n",
       "      <td>18.812813</td>\n",
       "      <td>31.879999</td>\n",
       "      <td>28.010000</td>\n",
       "      <td>785517600</td>\n",
       "      <td>86428000</td>\n",
       "      <td>65018916</td>\n",
       "      <td>59682500.0</td>\n",
       "      <td>56056500</td>\n",
       "    </tr>\n",
       "  </tbody>\n",
       "</table>\n",
       "<p>5 rows × 31 columns</p>\n",
       "</div>"
      ],
      "text/plain": [
       "Price        Date   Adj Close                                                  \\\n",
       "Ticker                   AAPL        AMZN       GOOGL        META        MSFT   \n",
       "4139   2021-06-14  128.287369  169.193497  122.305138  336.079346  253.335358   \n",
       "4758   2023-11-28  189.899765  147.029999  137.042709  338.294800  381.305817   \n",
       "2893   2016-06-30   21.951824   35.780998   35.136173  114.045647   45.951843   \n",
       "4681   2023-08-09  177.248672  137.850006  129.511368  304.584076  319.728912   \n",
       "2030   2013-01-28   13.703119   13.802000   18.765499   32.403412   22.728437   \n",
       "\n",
       "Price        Close                                      ...        Open  \\\n",
       "Ticker        AAPL        AMZN       GOOGL        META  ...        AAPL   \n",
       "4139    130.479996  169.193497  122.445503  336.769989  ...  127.820000   \n",
       "4758    190.399994  147.029999  137.199997  338.989990  ...  189.779999   \n",
       "2893     23.900000   35.780998   35.176498  114.279999  ...   23.610001   \n",
       "4681    178.190002  137.850006  129.660004  305.209991  ...  180.869995   \n",
       "2030     16.065357   13.802000   18.787037   32.470001  ...   15.636786   \n",
       "\n",
       "Price                                                      Volume            \\\n",
       "Ticker        AMZN       GOOGL        META        MSFT       AAPL      AMZN   \n",
       "4139    167.341507  121.612999  331.899994  257.899994   96906500  51394000   \n",
       "4758    146.979996  136.080002  333.399994  378.350006   38415400  42711700   \n",
       "2893     35.860001   34.882500  114.669998   50.720001  143345600  57102000   \n",
       "4681    139.970001  131.660004  312.880005  326.470001   60378500  50017300   \n",
       "2030     14.189000   18.812813   31.879999   28.010000  785517600  86428000   \n",
       "\n",
       "Price                                   \n",
       "Ticker     GOOGL        META      MSFT  \n",
       "4139    22098000  12250800.0  19150500  \n",
       "4758    18730000  12637200.0  20453100  \n",
       "2893    42250000  23192700.0  28527800  \n",
       "4681    24912900  19955800.0  22373300  \n",
       "2030    65018916  59682500.0  56056500  \n",
       "\n",
       "[5 rows x 31 columns]"
      ]
     },
     "execution_count": 129,
     "metadata": {},
     "output_type": "execute_result"
    }
   ],
   "source": [
    "## apply the fill in backward way for META\n",
    "stocks_data_cleaned.fillna(method='bfill', inplace=True) ## fillna with backward fill for META FB\n",
    "stocks_data_cleaned.sample(5)"
   ]
  },
  {
   "cell_type": "code",
   "execution_count": 130,
   "metadata": {
    "id": "oUBee-LPytkv"
   },
   "outputs": [
    {
     "data": {
      "text/plain": [
       "Price      Ticker\n",
       "Date                 0\n",
       "Adj Close  AAPL      0\n",
       "           AMZN      0\n",
       "           GOOGL     0\n",
       "           META      0\n",
       "           MSFT      0\n",
       "Close      AAPL      0\n",
       "           AMZN      0\n",
       "           GOOGL     0\n",
       "           META      0\n",
       "           MSFT      0\n",
       "High       AAPL      0\n",
       "           AMZN      0\n",
       "           GOOGL     0\n",
       "           META      0\n",
       "           MSFT      0\n",
       "Low        AAPL      0\n",
       "           AMZN      0\n",
       "           GOOGL     0\n",
       "           META      0\n",
       "           MSFT      0\n",
       "Open       AAPL      0\n",
       "           AMZN      0\n",
       "           GOOGL     0\n",
       "           META      0\n",
       "           MSFT      0\n",
       "Volume     AAPL      0\n",
       "           AMZN      0\n",
       "           GOOGL     0\n",
       "           META      0\n",
       "           MSFT      0\n",
       "dtype: int64"
      ]
     },
     "execution_count": 130,
     "metadata": {},
     "output_type": "execute_result"
    }
   ],
   "source": [
    "## Let's validate the cleaning was successful\n",
    "stocks_data_cleaned.isin(nan).sum()"
   ]
  },
  {
   "cell_type": "markdown",
   "metadata": {},
   "source": [
    "> Now the dataset contains zero missing values and the completness issue for the first dataset is handled."
   ]
  },
  {
   "cell_type": "markdown",
   "metadata": {},
   "source": [
    "#### **Oil Dataset**\n",
    "For the oil dataset the areas names were missing and this would be handling by the follwing mapping:"
   ]
  },
  {
   "cell_type": "code",
   "execution_count": 100,
   "metadata": {},
   "outputs": [
    {
     "name": "stdout",
     "output_type": "stream",
     "text": [
      "['Y35NY', 'RGC', 'ZEU', 'Y05LA', 'Y44MB', 'YCUOK']\n"
     ]
    },
    {
     "data": {
      "text/plain": [
       "['NEW YORK CITY', 'NA', 'LOS ANGELES']"
      ]
     },
     "execution_count": 100,
     "metadata": {},
     "output_type": "execute_result"
    }
   ],
   "source": [
    "print(list(oil_data_cleaned['duoarea'].unique()))\n",
    "list(oil_data_cleaned['area-name'].unique())"
   ]
  },
  {
   "cell_type": "markdown",
   "metadata": {},
   "source": [
    "> So we have 5 unique duoarea without NA and three unique names. The decision is to map them and fill the missing one using the mapping."
   ]
  },
  {
   "cell_type": "code",
   "execution_count": 101,
   "metadata": {},
   "outputs": [
    {
     "data": {
      "text/plain": [
       "{'Y35NY': 'NEW YORK CITY',\n",
       " 'RGC': 'NA',\n",
       " 'ZEU': 'NA',\n",
       " 'Y05LA': 'LOS ANGELES',\n",
       " 'Y44MB': 'NA',\n",
       " 'YCUOK': 'NA'}"
      ]
     },
     "execution_count": 101,
     "metadata": {},
     "output_type": "execute_result"
    }
   ],
   "source": [
    "duoarea_to_area_name = oil_data_cleaned.dropna(subset=['area-name']).drop_duplicates(subset=['duoarea'])[['duoarea', 'area-name']].set_index('duoarea')['area-name'].to_dict()\n",
    "duoarea_to_area_name"
   ]
  },
  {
   "cell_type": "code",
   "execution_count": 102,
   "metadata": {},
   "outputs": [],
   "source": [
    "duoarea_name_mapping = {'Y35NY': 'NEW YORK CITY',\n",
    " 'RGC': 'UKRAINE',\n",
    " 'ZEU': 'CANADA',\n",
    " 'Y05LA': 'LOS ANGELES',\n",
    " 'Y44MB': 'MONT BELVIEU',\n",
    " 'YCUOK': 'Oklahoma'}"
   ]
  },
  {
   "cell_type": "markdown",
   "metadata": {},
   "source": [
    "> The NA ones are replaced with the actual area names from the internet source."
   ]
  },
  {
   "cell_type": "markdown",
   "metadata": {},
   "source": [
    "> Justification: *because for the duoarea there is no missing values and that is used and utilized to fill in the area names.*"
   ]
  },
  {
   "cell_type": "code",
   "execution_count": 122,
   "metadata": {},
   "outputs": [],
   "source": [
    "def fill_area_name(row):\n",
    "    \"\"\"\n",
    "    \"\"\"\n",
    "    return duoarea_name_mapping.get(row['duoarea'], 'Unknown')"
   ]
  },
  {
   "cell_type": "code",
   "execution_count": 126,
   "metadata": {},
   "outputs": [],
   "source": [
    "## Let's apply the mapping into the area-name column\n",
    "oil_data_cleaned['area-name'] = oil_data_cleaned.apply(fill_area_name, axis=1)"
   ]
  },
  {
   "cell_type": "code",
   "execution_count": 127,
   "metadata": {},
   "outputs": [
    {
     "data": {
      "text/plain": [
       "period                0\n",
       "duoarea               0\n",
       "area-name             0\n",
       "product               0\n",
       "product-name          0\n",
       "process               0\n",
       "process-name          0\n",
       "series                0\n",
       "series-description    0\n",
       "area_name             0\n",
       "dtype: int64"
      ]
     },
     "execution_count": 127,
     "metadata": {},
     "output_type": "execute_result"
    }
   ],
   "source": [
    "## Let's validate the cleaning was successful\n",
    "oil_data_cleaned.isin(nan).sum()"
   ]
  },
  {
   "cell_type": "markdown",
   "metadata": {},
   "source": [
    "> Now the dataset contains zero missing values and the completness issue for the first dataset is handled."
   ]
  },
  {
   "cell_type": "markdown",
   "metadata": {
    "id": "n_DAUbJrymBL"
   },
   "source": [
    "### **Quality Issue 2: FILL IN**"
   ]
  },
  {
   "cell_type": "code",
   "execution_count": 32,
   "metadata": {
    "id": "5Yfb-Yu5MTuE"
   },
   "outputs": [],
   "source": [
    "#FILL IN - Apply the cleaning strategy"
   ]
  },
  {
   "cell_type": "code",
   "execution_count": 33,
   "metadata": {
    "id": "ionB2sRaMUmY"
   },
   "outputs": [],
   "source": [
    "#FILL IN - Validate the cleaning was successful"
   ]
  },
  {
   "cell_type": "markdown",
   "metadata": {},
   "source": [
    "Justification: *FILL IN*"
   ]
  },
  {
   "cell_type": "markdown",
   "metadata": {
    "id": "bIUrrfSNyOPR"
   },
   "source": [
    "### **Tidiness Issue 1: FILL IN**"
   ]
  },
  {
   "cell_type": "code",
   "execution_count": 34,
   "metadata": {
    "id": "fib0zAm333bn"
   },
   "outputs": [],
   "source": [
    "#FILL IN - Apply the cleaning strategy"
   ]
  },
  {
   "cell_type": "code",
   "execution_count": 35,
   "metadata": {
    "id": "yhrnUGY_Nk8B"
   },
   "outputs": [],
   "source": [
    "#FILL IN - Validate the cleaning was successful"
   ]
  },
  {
   "cell_type": "markdown",
   "metadata": {},
   "source": [
    "Justification: *FILL IN*"
   ]
  },
  {
   "cell_type": "markdown",
   "metadata": {
    "id": "o51Bt8kwyTzk"
   },
   "source": [
    "### **Tidiness Issue 2: FILL IN**"
   ]
  },
  {
   "cell_type": "code",
   "execution_count": 36,
   "metadata": {
    "id": "7zW8O5yx4Y9O"
   },
   "outputs": [],
   "source": [
    "#FILL IN - Apply the cleaning strategy"
   ]
  },
  {
   "cell_type": "code",
   "execution_count": 37,
   "metadata": {
    "id": "q6I_Sr7lxXi5"
   },
   "outputs": [],
   "source": [
    "#FILL IN - Validate the cleaning was successful"
   ]
  },
  {
   "cell_type": "markdown",
   "metadata": {},
   "source": [
    "Justification: *FILL IN*"
   ]
  },
  {
   "cell_type": "markdown",
   "metadata": {},
   "source": [
    "### **Remove unnecessary variables and combine datasets**\n",
    "\n",
    "Now let's peform the combination and remove unnecessary variables in the final dataset."
   ]
  },
  {
   "cell_type": "code",
   "execution_count": 38,
   "metadata": {},
   "outputs": [],
   "source": [
    "## visualize using the corrleation matrix to check for correlation and feature selections\n"
   ]
  },
  {
   "cell_type": "code",
   "execution_count": 39,
   "metadata": {},
   "outputs": [],
   "source": [
    "#FILL IN - Remove unnecessary variables and combine datasets\n"
   ]
  },
  {
   "cell_type": "markdown",
   "metadata": {
    "id": "F42urHuzttjF"
   },
   "source": [
    "## 6. Update the data store\n",
    "In this section, the local database/data store in the directory data are updated with the cleaned data too, with best practices for storing cleaned data:\n",
    "- Maintained different instances / versions of data (raw and cleaned data)\n",
    "- Named the dataset files informatively\n",
    "- Ensure both the raw and cleaned data are saved to the database/data store directory."
   ]
  },
  {
   "cell_type": "markdown",
   "metadata": {},
   "source": [
    "> Now the datasets are cleaned they are saved to separete file."
   ]
  },
  {
   "cell_type": "code",
   "execution_count": 40,
   "metadata": {
    "id": "V3uay7EJUV_L"
   },
   "outputs": [],
   "source": [
    "oil_data_cleaned.to_csv('data/oil_data_api_cleaned.csv', index=False) ## store to cvs file"
   ]
  },
  {
   "cell_type": "code",
   "execution_count": 41,
   "metadata": {},
   "outputs": [],
   "source": [
    "stocks_data_cleaned.to_csv('data/stock_data_cleaned.csv', index=False) ## store to cvs file"
   ]
  },
  {
   "cell_type": "markdown",
   "metadata": {
    "id": "cGy_yddGtzhM"
   },
   "source": [
    "## 7. Research\n",
    "\n",
    "### **7.1:** Oil Prices and Big Tech. Stocks \n",
    "In this section the cleaned data copies are reloaded and used to answer the question raised."
   ]
  },
  {
   "cell_type": "markdown",
   "metadata": {
    "id": "gjedE4s4ZkEd"
   },
   "source": [
    "*Research question:* \n",
    "\n",
    "How does the stocks of the big Tech. Companies such as Google and Amazon, META and Micorsoft and prices of oils changes or correlates in the same year?"
   ]
  },
  {
   "cell_type": "code",
   "execution_count": 42,
   "metadata": {
    "id": "Lkw3rW9kZmOm"
   },
   "outputs": [],
   "source": [
    "## Visual 1 - FILL IN\n",
    "## Plotting the corrleation matrix"
   ]
  },
  {
   "cell_type": "markdown",
   "metadata": {},
   "source": [
    "*Answer to research question:* FILL IN"
   ]
  },
  {
   "cell_type": "code",
   "execution_count": 43,
   "metadata": {
    "id": "6fdK_8ZGZm9R"
   },
   "outputs": [],
   "source": [
    "## Visual 2 - FILL IN\n",
    "## Visualizing the stocks and oils as a time line for comparison"
   ]
  },
  {
   "cell_type": "markdown",
   "metadata": {
    "id": "K5RgvMGUZoHn"
   },
   "source": [
    "*Answer to research question:* FILL IN"
   ]
  },
  {
   "cell_type": "markdown",
   "metadata": {
    "id": "0ezWXXZVj-TP"
   },
   "source": [
    "### **7.2:** Reflection\n",
    "In 2-4 sentences, if you had more time to complete the project, what actions would you take? For example, which data quality and structural issues would you look into further, and what research questions would you further explore?"
   ]
  },
  {
   "cell_type": "markdown",
   "metadata": {
    "id": "XB3RBDG5kFe1"
   },
   "source": [
    "*Answer:* FILL IN"
   ]
  }
 ],
 "metadata": {
  "colab": {
   "provenance": []
  },
  "kernelspec": {
   "display_name": "Python 3 (ipykernel)",
   "language": "python",
   "name": "python3"
  },
  "language_info": {
   "codemirror_mode": {
    "name": "ipython",
    "version": 3
   },
   "file_extension": ".py",
   "mimetype": "text/x-python",
   "name": "python",
   "nbconvert_exporter": "python",
   "pygments_lexer": "ipython3",
   "version": "3.11.0"
  }
 },
 "nbformat": 4,
 "nbformat_minor": 1
}
