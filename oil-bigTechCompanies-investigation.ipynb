{
 "cells": [
  {
   "cell_type": "markdown",
   "metadata": {
    "id": "GNIwe5N7s0e_"
   },
   "source": [
    "<div align=\"center\"> \n",
    "\n",
    "# Investigating Oil prices and Big Tech. Companies Stock Market \n",
    "\n",
    "<p>Between 2001-1-1 - 2023-12-31</p>\n",
    "</div>"
   ]
  },
  {
   "cell_type": "markdown",
   "metadata": {
    "id": "_BG63Tpg8ep_"
   },
   "source": [
    "In this project, you will apply the skills you acquired in the course to gather and wrangle real-world data with two datasets of your choice.\n",
    "\n",
    "You will retrieve and extract the data, assess the data programmatically and visually, accross elements of data quality and structure, and implement a cleaning strategy for the data. You will then store the updated data into your selected database/data store, combine the data, and answer a research question with the datasets."
   ]
  },
  {
   "cell_type": "markdown",
   "metadata": {},
   "source": [
    "## Neccessary Imports"
   ]
  },
  {
   "cell_type": "code",
   "execution_count": 2,
   "metadata": {},
   "outputs": [],
   "source": [
    "## Run this cell to successfully run this notebook\n",
    "## !pip install yfinance"
   ]
  },
  {
   "cell_type": "code",
   "execution_count": 3,
   "metadata": {},
   "outputs": [],
   "source": [
    "import requests\n",
    "import pandas as pd\n",
    "import yfinance as yf\n",
    "import requests\n",
    "import config"
   ]
  },
  {
   "cell_type": "markdown",
   "metadata": {},
   "source": [
    "## Pipeline\n",
    "1. Gather Data\n",
    "2. Asses Data\n",
    "3. Clean Data\n",
    "4. Store Data\n",
    "5. Answering Research Questions"
   ]
  },
  {
   "cell_type": "markdown",
   "metadata": {
    "id": "lDYDkH-Zs7Nn"
   },
   "source": [
    "## 1. Gather data\n",
    "\n",
    "In this section, data using two different (data gathering methods) are extractand and then combined. Two different types of data-gathering methods are use:\n",
    "- Programmatically downloading files\n",
    "- Gathering data by accessing APIs"
   ]
  },
  {
   "cell_type": "markdown",
   "metadata": {
    "id": "LbN7z7rcuqpO"
   },
   "source": [
    "### **1.1.** Problem Statement\n",
    "\n",
    "In this reserach, the stock prices of major tech companies (such as Apple, Microsoft, Google, Amazon, and META) and oil prices over the period spanning from January 2001 to December 2023 are investigated. By examining historical data for both sectors, the aim is to uncover insights into how changes in oil prices impact the financial performance of big tech companies, and vice versa.\n",
    "The datasets would include the stock market data for:\n",
    "- META\n",
    "- AMazon\n",
    "- Google\n",
    "- Apple"
   ]
  },
  {
   "cell_type": "markdown",
   "metadata": {
    "id": "8AQfBAdUypMm"
   },
   "source": [
    "### **1.2.** Gathering Data Methods and Code\n",
    "\n",
    "In this project, two types of data gathering are use: \n",
    "- Programmatically downloading files\n",
    "- Gathering data by accessing APIs\n",
    "\n",
    "Each of the datasets have at least two variables, and have greater than 500 data samples within."
   ]
  },
  {
   "cell_type": "markdown",
   "metadata": {
    "id": "7e6gS0wL1KTu"
   },
   "source": [
    "#### **Dataset 1**: Oils and Petroleum dataset \n",
    "\n",
    "**Type:** JSON response\n",
    "\n",
    "**Method:** The data was gathered using the \"by accessing APIs\" method from https://api.eia.gov/v2/petroleum/pri/spt/data/\n",
    "\n",
    "**Dataset variables:**\n",
    "\n",
    "| Column Name | Description |\n",
    "|---|---|\n",
    "| period |  date associated with the data point |\n",
    "| duoarea | identifier for a specific geographical area |\n",
    "| area-name | area name |\n",
    "| product | identifier for the specific petroleum product |\n",
    "| product-name | name of the product |\n",
    "| process | identifier for the specific process |\n",
    "| process-name | The name of the process used |\n",
    "| series | identifier for the specific data series |\n",
    "| series-description | descriptive text name or label for the data |"
   ]
  },
  {
   "cell_type": "markdown",
   "metadata": {},
   "source": [
    "### Gathering by API"
   ]
  },
  {
   "cell_type": "code",
   "execution_count": 6,
   "metadata": {
    "id": "Su8E0uLuYkHU"
   },
   "outputs": [
    {
     "data": {
      "text/html": [
       "<div>\n",
       "<style scoped>\n",
       "    .dataframe tbody tr th:only-of-type {\n",
       "        vertical-align: middle;\n",
       "    }\n",
       "\n",
       "    .dataframe tbody tr th {\n",
       "        vertical-align: top;\n",
       "    }\n",
       "\n",
       "    .dataframe thead th {\n",
       "        text-align: right;\n",
       "    }\n",
       "</style>\n",
       "<table border=\"1\" class=\"dataframe\">\n",
       "  <thead>\n",
       "    <tr style=\"text-align: right;\">\n",
       "      <th></th>\n",
       "      <th>period</th>\n",
       "      <th>duoarea</th>\n",
       "      <th>area-name</th>\n",
       "      <th>product</th>\n",
       "      <th>product-name</th>\n",
       "      <th>process</th>\n",
       "      <th>process-name</th>\n",
       "      <th>series</th>\n",
       "      <th>series-description</th>\n",
       "    </tr>\n",
       "  </thead>\n",
       "  <tbody>\n",
       "    <tr>\n",
       "      <th>4516</th>\n",
       "      <td>2023-08-25</td>\n",
       "      <td>YCUOK</td>\n",
       "      <td>NA</td>\n",
       "      <td>EPCWTI</td>\n",
       "      <td>WTI Crude Oil</td>\n",
       "      <td>PF4</td>\n",
       "      <td>Spot Price FOB</td>\n",
       "      <td>RWTC</td>\n",
       "      <td>Cushing, OK WTI Spot Price FOB (Dollars per Ba...</td>\n",
       "    </tr>\n",
       "    <tr>\n",
       "      <th>152</th>\n",
       "      <td>2014-02-14</td>\n",
       "      <td>Y35NY</td>\n",
       "      <td>NEW YORK CITY</td>\n",
       "      <td>EPD2DXL0</td>\n",
       "      <td>No 2 Diesel Low Sulfur (0-15 ppm)</td>\n",
       "      <td>PF4</td>\n",
       "      <td>Spot Price FOB</td>\n",
       "      <td>EER_EPD2DXL0_PF4_Y35NY_DPG</td>\n",
       "      <td>New York Harbor Ultra-Low Sulfur No 2 Diesel S...</td>\n",
       "    </tr>\n",
       "    <tr>\n",
       "      <th>2520</th>\n",
       "      <td>2008-08-01</td>\n",
       "      <td>RGC</td>\n",
       "      <td>NA</td>\n",
       "      <td>EPMRU</td>\n",
       "      <td>Conventional Regular Gasoline</td>\n",
       "      <td>PF4</td>\n",
       "      <td>Spot Price FOB</td>\n",
       "      <td>EER_EPMRU_PF4_RGC_DPG</td>\n",
       "      <td>U.S. Gulf Coast Conventional Gasoline Regular ...</td>\n",
       "    </tr>\n",
       "    <tr>\n",
       "      <th>3511</th>\n",
       "      <td>2010-11-05</td>\n",
       "      <td>RGC</td>\n",
       "      <td>NA</td>\n",
       "      <td>EPJK</td>\n",
       "      <td>Kerosene-Type Jet Fuel</td>\n",
       "      <td>PF4</td>\n",
       "      <td>Spot Price FOB</td>\n",
       "      <td>EER_EPJK_PF4_RGC_DPG</td>\n",
       "      <td>U.S. Gulf Coast Kerosene-Type Jet Fuel Spot Pr...</td>\n",
       "    </tr>\n",
       "    <tr>\n",
       "      <th>4007</th>\n",
       "      <td>2016-07-29</td>\n",
       "      <td>Y35NY</td>\n",
       "      <td>NEW YORK CITY</td>\n",
       "      <td>EPMRU</td>\n",
       "      <td>Conventional Regular Gasoline</td>\n",
       "      <td>PF4</td>\n",
       "      <td>Spot Price FOB</td>\n",
       "      <td>EER_EPMRU_PF4_Y35NY_DPG</td>\n",
       "      <td>New York Harbor Conventional Gasoline Regular ...</td>\n",
       "    </tr>\n",
       "  </tbody>\n",
       "</table>\n",
       "</div>"
      ],
      "text/plain": [
       "          period duoarea      area-name   product  \\\n",
       "4516  2023-08-25   YCUOK             NA    EPCWTI   \n",
       "152   2014-02-14   Y35NY  NEW YORK CITY  EPD2DXL0   \n",
       "2520  2008-08-01     RGC             NA     EPMRU   \n",
       "3511  2010-11-05     RGC             NA      EPJK   \n",
       "4007  2016-07-29   Y35NY  NEW YORK CITY     EPMRU   \n",
       "\n",
       "                           product-name process    process-name  \\\n",
       "4516                      WTI Crude Oil     PF4  Spot Price FOB   \n",
       "152   No 2 Diesel Low Sulfur (0-15 ppm)     PF4  Spot Price FOB   \n",
       "2520      Conventional Regular Gasoline     PF4  Spot Price FOB   \n",
       "3511             Kerosene-Type Jet Fuel     PF4  Spot Price FOB   \n",
       "4007      Conventional Regular Gasoline     PF4  Spot Price FOB   \n",
       "\n",
       "                          series  \\\n",
       "4516                        RWTC   \n",
       "152   EER_EPD2DXL0_PF4_Y35NY_DPG   \n",
       "2520       EER_EPMRU_PF4_RGC_DPG   \n",
       "3511        EER_EPJK_PF4_RGC_DPG   \n",
       "4007     EER_EPMRU_PF4_Y35NY_DPG   \n",
       "\n",
       "                                     series-description  \n",
       "4516  Cushing, OK WTI Spot Price FOB (Dollars per Ba...  \n",
       "152   New York Harbor Ultra-Low Sulfur No 2 Diesel S...  \n",
       "2520  U.S. Gulf Coast Conventional Gasoline Regular ...  \n",
       "3511  U.S. Gulf Coast Kerosene-Type Jet Fuel Spot Pr...  \n",
       "4007  New York Harbor Conventional Gasoline Regular ...  "
      ]
     },
     "execution_count": 6,
     "metadata": {},
     "output_type": "execute_result"
    }
   ],
   "source": [
    "## Gather the data using the \"Gather data by accessing APIs\" method from https://api.eia.gov\n",
    "api_key = config.EIA_API_KEY\n",
    "url = f'https://api.eia.gov/v2/petroleum/pri/spt/data/?'\n",
    "\n",
    "params = {\n",
    "    'api_key':api_key,\n",
    "    'start':'2001-01-01', \n",
    "    'end':'2023-12-31'\n",
    "}\n",
    "\n",
    "response = requests.get(url, params=params)\n",
    "data = response.json()\n",
    "oil_data =pd.DataFrame(data['response']['data'])\n",
    "oil_data.sample(5)"
   ]
  },
  {
   "cell_type": "code",
   "execution_count": 17,
   "metadata": {},
   "outputs": [
    {
     "data": {
      "text/plain": [
       "(5000, 9)"
      ]
     },
     "execution_count": 17,
     "metadata": {},
     "output_type": "execute_result"
    }
   ],
   "source": [
    "oil_data.shape"
   ]
  },
  {
   "cell_type": "markdown",
   "metadata": {},
   "source": [
    "> The gathered dataset have 5000 rows and 9 features."
   ]
  },
  {
   "cell_type": "code",
   "execution_count": 13,
   "metadata": {},
   "outputs": [],
   "source": [
    "oil_data.to_csv('data/oil_data_api.csv', index=False) ## store to cvs file"
   ]
  },
  {
   "cell_type": "markdown",
   "metadata": {},
   "source": [
    "> Storing step: the dataset is saved to the local data store directory before moving to the next step."
   ]
  },
  {
   "cell_type": "markdown",
   "metadata": {
    "id": "hoUjq1tPzz7P"
   },
   "source": [
    "#### **Dataset 2**: Stocks Dataset\n",
    "\n",
    "**Type:** Pandas.DataFrame\n",
    "\n",
    "**Method:** The data was gathered using the \"Programmatically downloading files\" method from Yahoo Finance using the yfinance library\n",
    "\n",
    "**Dataset variables:**\n",
    "\n",
    "| Column Name | Description |\n",
    "|---|---|\n",
    "| Date | date associated with the data point |\n",
    "| Open | The opening price of the stock on that date. |\n",
    "| High | The highest price reached by the stock on that date. |\n",
    "| Low | The lowest price reached by the stock on that date. |\n",
    "| Close | The closing price of the stock on that date. |\n",
    "| Adj Close | The adjusted closing price, adjusted for dividends and splits. |\n",
    "| Volume | The number of shares traded on that date. |"
   ]
  },
  {
   "cell_type": "markdown",
   "metadata": {},
   "source": [
    "### Gathering by Programmatically Downloading"
   ]
  },
  {
   "cell_type": "code",
   "execution_count": 14,
   "metadata": {
    "id": "6zT0QxRyYmm7"
   },
   "outputs": [
    {
     "name": "stderr",
     "output_type": "stream",
     "text": [
      "[*********************100%%**********************]  5 of 5 completed\n"
     ]
    },
    {
     "data": {
      "text/html": [
       "<div>\n",
       "<style scoped>\n",
       "    .dataframe tbody tr th:only-of-type {\n",
       "        vertical-align: middle;\n",
       "    }\n",
       "\n",
       "    .dataframe tbody tr th {\n",
       "        vertical-align: top;\n",
       "    }\n",
       "\n",
       "    .dataframe thead tr th {\n",
       "        text-align: left;\n",
       "    }\n",
       "</style>\n",
       "<table border=\"1\" class=\"dataframe\">\n",
       "  <thead>\n",
       "    <tr>\n",
       "      <th>Price</th>\n",
       "      <th>Date</th>\n",
       "      <th colspan=\"5\" halign=\"left\">Adj Close</th>\n",
       "      <th colspan=\"4\" halign=\"left\">Close</th>\n",
       "      <th>...</th>\n",
       "      <th colspan=\"5\" halign=\"left\">Open</th>\n",
       "      <th colspan=\"5\" halign=\"left\">Volume</th>\n",
       "    </tr>\n",
       "    <tr>\n",
       "      <th>Ticker</th>\n",
       "      <th></th>\n",
       "      <th>AAPL</th>\n",
       "      <th>AMZN</th>\n",
       "      <th>GOOGL</th>\n",
       "      <th>META</th>\n",
       "      <th>MSFT</th>\n",
       "      <th>AAPL</th>\n",
       "      <th>AMZN</th>\n",
       "      <th>GOOGL</th>\n",
       "      <th>META</th>\n",
       "      <th>...</th>\n",
       "      <th>AAPL</th>\n",
       "      <th>AMZN</th>\n",
       "      <th>GOOGL</th>\n",
       "      <th>META</th>\n",
       "      <th>MSFT</th>\n",
       "      <th>AAPL</th>\n",
       "      <th>AMZN</th>\n",
       "      <th>GOOGL</th>\n",
       "      <th>META</th>\n",
       "      <th>MSFT</th>\n",
       "    </tr>\n",
       "  </thead>\n",
       "  <tbody>\n",
       "    <tr>\n",
       "      <th>4341</th>\n",
       "      <td>2018-04-06</td>\n",
       "      <td>39.862919</td>\n",
       "      <td>70.261497</td>\n",
       "      <td>50.439613</td>\n",
       "      <td>156.877625</td>\n",
       "      <td>84.311478</td>\n",
       "      <td>42.095001</td>\n",
       "      <td>70.261497</td>\n",
       "      <td>50.497501</td>\n",
       "      <td>157.199997</td>\n",
       "      <td>...</td>\n",
       "      <td>42.742500</td>\n",
       "      <td>71.498497</td>\n",
       "      <td>51.154999</td>\n",
       "      <td>157.729996</td>\n",
       "      <td>91.489998</td>\n",
       "      <td>140021200</td>\n",
       "      <td>117646000</td>\n",
       "      <td>40134000.0</td>\n",
       "      <td>41644800.0</td>\n",
       "      <td>38026000</td>\n",
       "    </tr>\n",
       "    <tr>\n",
       "      <th>374</th>\n",
       "      <td>2002-07-03</td>\n",
       "      <td>0.264959</td>\n",
       "      <td>0.712500</td>\n",
       "      <td>NaN</td>\n",
       "      <td>NaN</td>\n",
       "      <td>16.010918</td>\n",
       "      <td>0.313393</td>\n",
       "      <td>0.712500</td>\n",
       "      <td>NaN</td>\n",
       "      <td>NaN</td>\n",
       "      <td>...</td>\n",
       "      <td>0.300179</td>\n",
       "      <td>0.669000</td>\n",
       "      <td>NaN</td>\n",
       "      <td>NaN</td>\n",
       "      <td>25.620001</td>\n",
       "      <td>199029600</td>\n",
       "      <td>154074000</td>\n",
       "      <td>NaN</td>\n",
       "      <td>NaN</td>\n",
       "      <td>80936600</td>\n",
       "    </tr>\n",
       "    <tr>\n",
       "      <th>1595</th>\n",
       "      <td>2007-05-10</td>\n",
       "      <td>3.241103</td>\n",
       "      <td>3.046000</td>\n",
       "      <td>11.535059</td>\n",
       "      <td>NaN</td>\n",
       "      <td>21.949764</td>\n",
       "      <td>3.833571</td>\n",
       "      <td>3.046000</td>\n",
       "      <td>11.548298</td>\n",
       "      <td>NaN</td>\n",
       "      <td>...</td>\n",
       "      <td>3.808214</td>\n",
       "      <td>3.122000</td>\n",
       "      <td>11.687688</td>\n",
       "      <td>NaN</td>\n",
       "      <td>30.680000</td>\n",
       "      <td>1197257600</td>\n",
       "      <td>201040000</td>\n",
       "      <td>147304548.0</td>\n",
       "      <td>NaN</td>\n",
       "      <td>55398600</td>\n",
       "    </tr>\n",
       "    <tr>\n",
       "      <th>4764</th>\n",
       "      <td>2019-12-10</td>\n",
       "      <td>65.218666</td>\n",
       "      <td>86.960503</td>\n",
       "      <td>67.067528</td>\n",
       "      <td>200.458069</td>\n",
       "      <td>145.104050</td>\n",
       "      <td>67.120003</td>\n",
       "      <td>86.960503</td>\n",
       "      <td>67.144501</td>\n",
       "      <td>200.869995</td>\n",
       "      <td>...</td>\n",
       "      <td>67.150002</td>\n",
       "      <td>87.370003</td>\n",
       "      <td>66.997002</td>\n",
       "      <td>201.660004</td>\n",
       "      <td>151.289993</td>\n",
       "      <td>90420400</td>\n",
       "      <td>50286000</td>\n",
       "      <td>17606000.0</td>\n",
       "      <td>9475700.0</td>\n",
       "      <td>16476100</td>\n",
       "    </tr>\n",
       "    <tr>\n",
       "      <th>3881</th>\n",
       "      <td>2016-06-08</td>\n",
       "      <td>22.718761</td>\n",
       "      <td>36.332001</td>\n",
       "      <td>37.103916</td>\n",
       "      <td>118.147209</td>\n",
       "      <td>46.733120</td>\n",
       "      <td>24.735001</td>\n",
       "      <td>36.332001</td>\n",
       "      <td>37.146500</td>\n",
       "      <td>118.389999</td>\n",
       "      <td>...</td>\n",
       "      <td>24.754999</td>\n",
       "      <td>36.320000</td>\n",
       "      <td>36.974998</td>\n",
       "      <td>117.760002</td>\n",
       "      <td>52.020000</td>\n",
       "      <td>83392400</td>\n",
       "      <td>44468000</td>\n",
       "      <td>32314000.0</td>\n",
       "      <td>14505600.0</td>\n",
       "      <td>21149400</td>\n",
       "    </tr>\n",
       "  </tbody>\n",
       "</table>\n",
       "<p>5 rows × 31 columns</p>\n",
       "</div>"
      ],
      "text/plain": [
       "Price        Date  Adj Close                                                \\\n",
       "Ticker                  AAPL       AMZN      GOOGL        META        MSFT   \n",
       "4341   2018-04-06  39.862919  70.261497  50.439613  156.877625   84.311478   \n",
       "374    2002-07-03   0.264959   0.712500        NaN         NaN   16.010918   \n",
       "1595   2007-05-10   3.241103   3.046000  11.535059         NaN   21.949764   \n",
       "4764   2019-12-10  65.218666  86.960503  67.067528  200.458069  145.104050   \n",
       "3881   2016-06-08  22.718761  36.332001  37.103916  118.147209   46.733120   \n",
       "\n",
       "Price       Close                                    ...       Open  \\\n",
       "Ticker       AAPL       AMZN      GOOGL        META  ...       AAPL   \n",
       "4341    42.095001  70.261497  50.497501  157.199997  ...  42.742500   \n",
       "374      0.313393   0.712500        NaN         NaN  ...   0.300179   \n",
       "1595     3.833571   3.046000  11.548298         NaN  ...   3.808214   \n",
       "4764    67.120003  86.960503  67.144501  200.869995  ...  67.150002   \n",
       "3881    24.735001  36.332001  37.146500  118.389999  ...  24.754999   \n",
       "\n",
       "Price                                                     Volume             \\\n",
       "Ticker       AMZN      GOOGL        META        MSFT        AAPL       AMZN   \n",
       "4341    71.498497  51.154999  157.729996   91.489998   140021200  117646000   \n",
       "374      0.669000        NaN         NaN   25.620001   199029600  154074000   \n",
       "1595     3.122000  11.687688         NaN   30.680000  1197257600  201040000   \n",
       "4764    87.370003  66.997002  201.660004  151.289993    90420400   50286000   \n",
       "3881    36.320000  36.974998  117.760002   52.020000    83392400   44468000   \n",
       "\n",
       "Price                                      \n",
       "Ticker        GOOGL        META      MSFT  \n",
       "4341     40134000.0  41644800.0  38026000  \n",
       "374             NaN         NaN  80936600  \n",
       "1595    147304548.0         NaN  55398600  \n",
       "4764     17606000.0   9475700.0  16476100  \n",
       "3881     32314000.0  14505600.0  21149400  \n",
       "\n",
       "[5 rows x 31 columns]"
      ]
     },
     "execution_count": 14,
     "metadata": {},
     "output_type": "execute_result"
    }
   ],
   "source": [
    "## 2nd data gathering was downloaded programitticallly from Yahoo Finance using the yfinance library\n",
    "companies = ['AAPL', 'MSFT', 'GOOGL', 'AMZN', 'META']\n",
    "stocks_data = yf.download(companies, start='2001-01-01', end='2023-12-31')\n",
    "stocks_data.reset_index(inplace=True)\n",
    "stocks_data.sample(5)"
   ]
  },
  {
   "cell_type": "code",
   "execution_count": 18,
   "metadata": {},
   "outputs": [
    {
     "data": {
      "text/plain": [
       "(5785, 31)"
      ]
     },
     "execution_count": 18,
     "metadata": {},
     "output_type": "execute_result"
    }
   ],
   "source": [
    "stocks_data.shape"
   ]
  },
  {
   "cell_type": "markdown",
   "metadata": {},
   "source": [
    "> The gathered data has 5785 data points and 31 features."
   ]
  },
  {
   "cell_type": "code",
   "execution_count": 15,
   "metadata": {},
   "outputs": [],
   "source": [
    "stocks_data.to_csv('data/stock_data.csv', index=False) ## store to cvs file"
   ]
  },
  {
   "cell_type": "markdown",
   "metadata": {},
   "source": [
    "> Storing step: the dataset is saved to the local data store directory before moving to the next step."
   ]
  },
  {
   "cell_type": "markdown",
   "metadata": {
    "id": "QwSWIVmotLgV"
   },
   "source": [
    "## 2. Assess data\n",
    "\n",
    "Assess the data according to data quality and tidiness metrics using the report below.\n",
    "\n",
    "List **two** data quality issues and **two** tidiness issues. Assess each data issue visually **and** programmatically, then briefly describe the issue you find.  **Make sure you include justifications for the methods you use for the assessment.**\n",
    "\n",
    "\n",
    "Now that we have gathered the datasets, let's assess the dataset for data quality and structural issues.\n",
    "\n",
    "Here's a list of the data quality attributes we covered in the course for your reference:\n",
    "\n",
    "    Completeness\n",
    "    Validity\n",
    "    Accuracy\n",
    "    Consistency\n",
    "    Uniqueness"
   ]
  },
  {
   "cell_type": "markdown",
   "metadata": {
    "id": "adaK2iPNzVu4"
   },
   "source": [
    "### Quality Issue 1:"
   ]
  },
  {
   "cell_type": "code",
   "execution_count": null,
   "metadata": {
    "id": "SpW59kh-zl8d"
   },
   "outputs": [],
   "source": [
    "## Inspecting the dataframe visually\n"
   ]
  },
  {
   "cell_type": "code",
   "execution_count": null,
   "metadata": {
    "id": "-qfcocStzsKg"
   },
   "outputs": [],
   "source": [
    "## Inspecting the dataframe programmatically\n"
   ]
  },
  {
   "cell_type": "markdown",
   "metadata": {},
   "source": [
    "Issue and justification: *FILL IN*"
   ]
  },
  {
   "cell_type": "markdown",
   "metadata": {
    "id": "8Be77N4I1AmE"
   },
   "source": [
    "### Quality Issue 2:"
   ]
  },
  {
   "cell_type": "code",
   "execution_count": null,
   "metadata": {
    "id": "iMhHyiyLM2I3"
   },
   "outputs": [],
   "source": [
    "## Inspecting the dataframe visually"
   ]
  },
  {
   "cell_type": "code",
   "execution_count": null,
   "metadata": {
    "id": "bnviRCUI-bb7"
   },
   "outputs": [],
   "source": [
    "## Inspecting the dataframe programmatically"
   ]
  },
  {
   "cell_type": "markdown",
   "metadata": {},
   "source": [
    "Issue and justification: *FILL IN*"
   ]
  },
  {
   "cell_type": "markdown",
   "metadata": {
    "id": "lXhGiYyiwwKN"
   },
   "source": [
    "### Tidiness Issue 1:"
   ]
  },
  {
   "cell_type": "code",
   "execution_count": null,
   "metadata": {
    "id": "fleC5rORI0Xl"
   },
   "outputs": [],
   "source": [
    "## Inspecting the dataframe visually"
   ]
  },
  {
   "cell_type": "code",
   "execution_count": null,
   "metadata": {
    "id": "BTuQw7Rbsio4"
   },
   "outputs": [],
   "source": [
    "## Inspecting the dataframe programmatically"
   ]
  },
  {
   "cell_type": "markdown",
   "metadata": {},
   "source": [
    "Issue and justification: *FILL IN*"
   ]
  },
  {
   "cell_type": "markdown",
   "metadata": {
    "id": "4ffMoRGSwzYj"
   },
   "source": [
    "### Tidiness Issue 2: "
   ]
  },
  {
   "cell_type": "code",
   "execution_count": null,
   "metadata": {
    "id": "XUpeoqokw5Qt"
   },
   "outputs": [],
   "source": [
    "## Inspecting the dataframe visually"
   ]
  },
  {
   "cell_type": "code",
   "execution_count": null,
   "metadata": {
    "id": "c8JK4DoXxtFA"
   },
   "outputs": [],
   "source": [
    "## Inspecting the dataframe programmatically"
   ]
  },
  {
   "cell_type": "markdown",
   "metadata": {},
   "source": [
    "Issue and justification: *FILL IN*"
   ]
  },
  {
   "cell_type": "markdown",
   "metadata": {
    "id": "D6gmLnBttpCh"
   },
   "source": [
    "## 3. Clean data\n",
    "It's time to address the issues found during assessment to clean and polish your data.\n",
    "\n",
    "Clean the data to solve the 4 issues corresponding to data quality and tidiness found in the assessing step. **Make sure you include justifications for your cleaning decisions.**\n",
    "\n",
    "After the cleaning for each issue, please use **either** the visually or programatical method to validate the cleaning was succesful.\n",
    "\n",
    "At this stage, you are also expected to remove variables that are unnecessary for your analysis and combine your datasets. Depending on your datasets, you may choose to perform variable combination and elimination before or after the cleaning stage. Your dataset must have **at least** 4 variables after combining the data."
   ]
  },
  {
   "cell_type": "code",
   "execution_count": null,
   "metadata": {},
   "outputs": [],
   "source": [
    "# FILL IN - Make copies of the datasets to ensure the raw dataframes \n",
    "# are not impacted"
   ]
  },
  {
   "cell_type": "markdown",
   "metadata": {
    "id": "FmFhN52Yyn3l"
   },
   "source": [
    "### **Quality Issue 1: FILL IN**"
   ]
  },
  {
   "cell_type": "code",
   "execution_count": null,
   "metadata": {
    "id": "9UejDWrNMW4a"
   },
   "outputs": [],
   "source": [
    "# FILL IN - Apply the cleaning strategy"
   ]
  },
  {
   "cell_type": "code",
   "execution_count": null,
   "metadata": {
    "id": "oUBee-LPytkv"
   },
   "outputs": [],
   "source": [
    "# FILL IN - Validate the cleaning was successful"
   ]
  },
  {
   "cell_type": "markdown",
   "metadata": {},
   "source": [
    "Justification: *FILL IN*"
   ]
  },
  {
   "cell_type": "markdown",
   "metadata": {
    "id": "n_DAUbJrymBL"
   },
   "source": [
    "### **Quality Issue 2: FILL IN**"
   ]
  },
  {
   "cell_type": "code",
   "execution_count": null,
   "metadata": {
    "id": "5Yfb-Yu5MTuE"
   },
   "outputs": [],
   "source": [
    "#FILL IN - Apply the cleaning strategy"
   ]
  },
  {
   "cell_type": "code",
   "execution_count": null,
   "metadata": {
    "id": "ionB2sRaMUmY"
   },
   "outputs": [],
   "source": [
    "#FILL IN - Validate the cleaning was successful"
   ]
  },
  {
   "cell_type": "markdown",
   "metadata": {},
   "source": [
    "Justification: *FILL IN*"
   ]
  },
  {
   "cell_type": "markdown",
   "metadata": {
    "id": "bIUrrfSNyOPR"
   },
   "source": [
    "### **Tidiness Issue 1: FILL IN**"
   ]
  },
  {
   "cell_type": "code",
   "execution_count": null,
   "metadata": {
    "id": "fib0zAm333bn"
   },
   "outputs": [],
   "source": [
    "#FILL IN - Apply the cleaning strategy"
   ]
  },
  {
   "cell_type": "code",
   "execution_count": null,
   "metadata": {
    "id": "yhrnUGY_Nk8B"
   },
   "outputs": [],
   "source": [
    "#FILL IN - Validate the cleaning was successful"
   ]
  },
  {
   "cell_type": "markdown",
   "metadata": {},
   "source": [
    "Justification: *FILL IN*"
   ]
  },
  {
   "cell_type": "markdown",
   "metadata": {
    "id": "o51Bt8kwyTzk"
   },
   "source": [
    "### **Tidiness Issue 2: FILL IN**"
   ]
  },
  {
   "cell_type": "code",
   "execution_count": null,
   "metadata": {
    "id": "7zW8O5yx4Y9O"
   },
   "outputs": [],
   "source": [
    "#FILL IN - Apply the cleaning strategy"
   ]
  },
  {
   "cell_type": "code",
   "execution_count": null,
   "metadata": {
    "id": "q6I_Sr7lxXi5"
   },
   "outputs": [],
   "source": [
    "#FILL IN - Validate the cleaning was successful"
   ]
  },
  {
   "cell_type": "markdown",
   "metadata": {},
   "source": [
    "Justification: *FILL IN*"
   ]
  },
  {
   "cell_type": "markdown",
   "metadata": {},
   "source": [
    "### **Remove unnecessary variables and combine datasets**\n",
    "\n",
    "Depending on the datasets, you can also peform the combination before the cleaning steps."
   ]
  },
  {
   "cell_type": "code",
   "execution_count": null,
   "metadata": {},
   "outputs": [],
   "source": [
    "#FILL IN - Remove unnecessary variables and combine datasets"
   ]
  },
  {
   "cell_type": "markdown",
   "metadata": {
    "id": "F42urHuzttjF"
   },
   "source": [
    "## 4. Update your data store\n",
    "Update your local database/data store with the cleaned data, following best practices for storing your cleaned data:\n",
    "\n",
    "- Must maintain different instances / versions of data (raw and cleaned data)\n",
    "- Must name the dataset files informatively\n",
    "- Ensure both the raw and cleaned data is saved to your database/data store"
   ]
  },
  {
   "cell_type": "code",
   "execution_count": null,
   "metadata": {
    "id": "V3uay7EJUV_L"
   },
   "outputs": [],
   "source": [
    "oil_data.to_csv('data/oil_data_api_cleaned.csv', index=False) ## store to cvs file"
   ]
  },
  {
   "cell_type": "code",
   "execution_count": null,
   "metadata": {},
   "outputs": [],
   "source": [
    "stocks_data.to_csv('data/stock_data_cleaned.csv', index=False) ## store to cvs file"
   ]
  },
  {
   "cell_type": "markdown",
   "metadata": {
    "id": "cGy_yddGtzhM"
   },
   "source": [
    "## 5. Answer the research question\n",
    "\n",
    "### **5.1:** Define and answer the research question \n",
    "Going back to the problem statement in step 1, use the cleaned data to answer the question you raised. Produce **at least** two visualizations using the cleaned data and explain how they help you answer the question."
   ]
  },
  {
   "cell_type": "markdown",
   "metadata": {
    "id": "gjedE4s4ZkEd"
   },
   "source": [
    "*Research question:* FILL IN from answer to Step 1"
   ]
  },
  {
   "cell_type": "code",
   "execution_count": null,
   "metadata": {
    "id": "Lkw3rW9kZmOm"
   },
   "outputs": [],
   "source": [
    "#Visual 1 - FILL IN"
   ]
  },
  {
   "cell_type": "markdown",
   "metadata": {},
   "source": [
    "*Answer to research question:* FILL IN"
   ]
  },
  {
   "cell_type": "code",
   "execution_count": null,
   "metadata": {
    "id": "6fdK_8ZGZm9R"
   },
   "outputs": [],
   "source": [
    "#Visual 2 - FILL IN"
   ]
  },
  {
   "cell_type": "markdown",
   "metadata": {
    "id": "K5RgvMGUZoHn"
   },
   "source": [
    "*Answer to research question:* FILL IN"
   ]
  },
  {
   "cell_type": "markdown",
   "metadata": {
    "id": "0ezWXXZVj-TP"
   },
   "source": [
    "### **5.2:** Reflection\n",
    "In 2-4 sentences, if you had more time to complete the project, what actions would you take? For example, which data quality and structural issues would you look into further, and what research questions would you further explore?"
   ]
  },
  {
   "cell_type": "markdown",
   "metadata": {
    "id": "XB3RBDG5kFe1"
   },
   "source": [
    "*Answer:* FILL IN"
   ]
  }
 ],
 "metadata": {
  "colab": {
   "provenance": []
  },
  "kernelspec": {
   "display_name": "Python 3 (ipykernel)",
   "language": "python",
   "name": "python3"
  },
  "language_info": {
   "codemirror_mode": {
    "name": "ipython",
    "version": 3
   },
   "file_extension": ".py",
   "mimetype": "text/x-python",
   "name": "python",
   "nbconvert_exporter": "python",
   "pygments_lexer": "ipython3",
   "version": "3.11.0"
  }
 },
 "nbformat": 4,
 "nbformat_minor": 1
}
