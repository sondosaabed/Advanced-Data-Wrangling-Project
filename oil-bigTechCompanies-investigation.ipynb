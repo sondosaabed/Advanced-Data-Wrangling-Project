{
 "cells": [
  {
   "cell_type": "markdown",
   "metadata": {
    "id": "GNIwe5N7s0e_"
   },
   "source": [
    "<div align=\"center\"> \n",
    "\n",
    "# Investigating Oil prices and Big Tech. Companies Stock Market \n",
    "\n",
    "<p>Between 2001-1-1 - 2023-12-31</p>\n",
    "</div>"
   ]
  },
  {
   "cell_type": "markdown",
   "metadata": {
    "id": "_BG63Tpg8ep_"
   },
   "source": [
    "In this project, you will apply the skills you acquired in the course to gather and wrangle real-world data with two datasets of your choice.\n",
    "\n",
    "You will retrieve and extract the data, assess the data programmatically and visually, accross elements of data quality and structure, and implement a cleaning strategy for the data. You will then store the updated data into your selected database/data store, combine the data, and answer a research question with the datasets."
   ]
  },
  {
   "cell_type": "markdown",
   "metadata": {
    "id": "LbN7z7rcuqpO"
   },
   "source": [
    "## **1.** Problem Statement\n",
    "\n",
    "In this reserach, the stock prices of major tech companies (such as Apple, Microsoft, Google, Amazon, and META) and oil prices over the period spanning from January 2001 to December 2023 are investigated. By examining historical data for both sectors, the aim is to uncover insights into how changes in oil prices impact the financial performance of big tech companies, and vice versa.\n",
    "The datasets would include the stock market data for:\n",
    "- META\n",
    "- AMazon\n",
    "- Google\n",
    "- Apple"
   ]
  },
  {
   "cell_type": "markdown",
   "metadata": {},
   "source": [
    "## **2.** Solution Pipeline\n",
    "1. Gather Data\n",
    "2. Asses Data\n",
    "3. Clean Data\n",
    "4. Store Data\n",
    "5. Answering Research Questions"
   ]
  },
  {
   "cell_type": "markdown",
   "metadata": {},
   "source": [
    "### Neccessary Imports"
   ]
  },
  {
   "cell_type": "code",
   "execution_count": 1,
   "metadata": {},
   "outputs": [],
   "source": [
    "## Run this cell to successfully run this notebook\n",
    "## !pip install yfinance"
   ]
  },
  {
   "cell_type": "code",
   "execution_count": 1,
   "metadata": {},
   "outputs": [
    {
     "name": "stderr",
     "output_type": "stream",
     "text": [
      "c:\\Users\\SS\\AppData\\Local\\Programs\\Python\\Python311\\Lib\\site-packages\\scipy\\__init__.py:169: UserWarning: A NumPy version >=1.18.5 and <1.26.0 is required for this version of SciPy (detected version 1.26.4\n",
      "  warnings.warn(f\"A NumPy version >={np_minversion} and <{np_maxversion}\"\n"
     ]
    }
   ],
   "source": [
    "import requests\n",
    "import pandas as pd\n",
    "import yfinance as yf\n",
    "import requests\n",
    "import config\n",
    "import seaborn as sns\n",
    "import matplotlib.pyplot as plt\n",
    "import numpy as np"
   ]
  },
  {
   "cell_type": "markdown",
   "metadata": {
    "id": "lDYDkH-Zs7Nn"
   },
   "source": [
    "## 3. Gather data\n",
    "\n",
    "In this section, data using two different (data gathering methods) are extractand and then combined. Two different types of data-gathering methods are use:\n",
    "- Programmatically downloading files\n",
    "- Gathering data by accessing APIs"
   ]
  },
  {
   "cell_type": "markdown",
   "metadata": {
    "id": "8AQfBAdUypMm"
   },
   "source": [
    "### **3.1.** Gathering Data Methods and Code\n",
    "\n",
    "In this project, two types of data gathering are use: \n",
    "- Programmatically downloading files\n",
    "- Gathering data by accessing APIs\n",
    "\n",
    "Each of the datasets have at least two variables, and have greater than 500 data samples within."
   ]
  },
  {
   "cell_type": "markdown",
   "metadata": {
    "id": "7e6gS0wL1KTu"
   },
   "source": [
    "#### **Dataset 1**: Oils and Petroleum dataset "
   ]
  },
  {
   "cell_type": "markdown",
   "metadata": {},
   "source": [
    "##### *About this dataset*\n",
    "\n",
    "**Type:** JSON response\n",
    "\n",
    "**Method:** The data was gathered using the \"by accessing APIs\" method from https://api.eia.gov/v2/petroleum/pri/spt/data/\n",
    "\n",
    "**Dataset variables:**\n",
    "\n",
    "| Column Name | Description |\n",
    "|---|---|\n",
    "| period |  date associated with the data point |\n",
    "| duoarea | identifier for a specific geographical area |\n",
    "| area-name | area name |\n",
    "| product | identifier for the specific petroleum product |\n",
    "| product-name | name of the product |\n",
    "| process | identifier for the specific process |\n",
    "| process-name | The name of the process used |\n",
    "| series | identifier for the specific data series |\n",
    "| series-description | descriptive text name or label for the data |"
   ]
  },
  {
   "cell_type": "markdown",
   "metadata": {},
   "source": [
    "##### *Gathering by API*"
   ]
  },
  {
   "cell_type": "code",
   "execution_count": 2,
   "metadata": {
    "id": "Su8E0uLuYkHU"
   },
   "outputs": [
    {
     "data": {
      "text/html": [
       "<div>\n",
       "<style scoped>\n",
       "    .dataframe tbody tr th:only-of-type {\n",
       "        vertical-align: middle;\n",
       "    }\n",
       "\n",
       "    .dataframe tbody tr th {\n",
       "        vertical-align: top;\n",
       "    }\n",
       "\n",
       "    .dataframe thead th {\n",
       "        text-align: right;\n",
       "    }\n",
       "</style>\n",
       "<table border=\"1\" class=\"dataframe\">\n",
       "  <thead>\n",
       "    <tr style=\"text-align: right;\">\n",
       "      <th></th>\n",
       "      <th>period</th>\n",
       "      <th>duoarea</th>\n",
       "      <th>area-name</th>\n",
       "      <th>product</th>\n",
       "      <th>product-name</th>\n",
       "      <th>process</th>\n",
       "      <th>process-name</th>\n",
       "      <th>series</th>\n",
       "      <th>series-description</th>\n",
       "    </tr>\n",
       "  </thead>\n",
       "  <tbody>\n",
       "    <tr>\n",
       "      <th>4142</th>\n",
       "      <td>2015-11-20</td>\n",
       "      <td>Y35NY</td>\n",
       "      <td>NEW YORK CITY</td>\n",
       "      <td>EPMRU</td>\n",
       "      <td>Conventional Regular Gasoline</td>\n",
       "      <td>PF4</td>\n",
       "      <td>Spot Price FOB</td>\n",
       "      <td>EER_EPMRU_PF4_Y35NY_DPG</td>\n",
       "      <td>New York Harbor Conventional Gasoline Regular ...</td>\n",
       "    </tr>\n",
       "    <tr>\n",
       "      <th>3675</th>\n",
       "      <td>2010-06-04</td>\n",
       "      <td>Y44MB</td>\n",
       "      <td>NA</td>\n",
       "      <td>EPLLPA</td>\n",
       "      <td>Propane</td>\n",
       "      <td>PF4</td>\n",
       "      <td>Spot Price FOB</td>\n",
       "      <td>EER_EPLLPA_PF4_Y44MB_DPG</td>\n",
       "      <td>Mont Belvieu, TX Propane Spot Price FOB (Dolla...</td>\n",
       "    </tr>\n",
       "    <tr>\n",
       "      <th>2210</th>\n",
       "      <td>2007-09-07</td>\n",
       "      <td>Y05LA</td>\n",
       "      <td>LOS ANGELES</td>\n",
       "      <td>EPMRR</td>\n",
       "      <td>Reformulated Regular Gasoline</td>\n",
       "      <td>PF4</td>\n",
       "      <td>Spot Price FOB</td>\n",
       "      <td>EER_EPMRR_PF4_Y05LA_DPG</td>\n",
       "      <td>Los Angeles Reformulated RBOB Regular Gasoline...</td>\n",
       "    </tr>\n",
       "    <tr>\n",
       "      <th>1172</th>\n",
       "      <td>2018-06-01</td>\n",
       "      <td>ZEU</td>\n",
       "      <td>NA</td>\n",
       "      <td>EPCBRENT</td>\n",
       "      <td>UK Brent Crude Oil</td>\n",
       "      <td>PF4</td>\n",
       "      <td>Spot Price FOB</td>\n",
       "      <td>RBRTE</td>\n",
       "      <td>Europe Brent Spot Price FOB (Dollars per Barrel)</td>\n",
       "    </tr>\n",
       "    <tr>\n",
       "      <th>1686</th>\n",
       "      <td>2019-06-14</td>\n",
       "      <td>Y35NY</td>\n",
       "      <td>NEW YORK CITY</td>\n",
       "      <td>EPD2DXL0</td>\n",
       "      <td>No 2 Diesel Low Sulfur (0-15 ppm)</td>\n",
       "      <td>PF4</td>\n",
       "      <td>Spot Price FOB</td>\n",
       "      <td>EER_EPD2DXL0_PF4_Y35NY_DPG</td>\n",
       "      <td>New York Harbor Ultra-Low Sulfur No 2 Diesel S...</td>\n",
       "    </tr>\n",
       "  </tbody>\n",
       "</table>\n",
       "</div>"
      ],
      "text/plain": [
       "          period duoarea      area-name   product  \\\n",
       "4142  2015-11-20   Y35NY  NEW YORK CITY     EPMRU   \n",
       "3675  2010-06-04   Y44MB             NA    EPLLPA   \n",
       "2210  2007-09-07   Y05LA    LOS ANGELES     EPMRR   \n",
       "1172  2018-06-01     ZEU             NA  EPCBRENT   \n",
       "1686  2019-06-14   Y35NY  NEW YORK CITY  EPD2DXL0   \n",
       "\n",
       "                           product-name process    process-name  \\\n",
       "4142      Conventional Regular Gasoline     PF4  Spot Price FOB   \n",
       "3675                            Propane     PF4  Spot Price FOB   \n",
       "2210      Reformulated Regular Gasoline     PF4  Spot Price FOB   \n",
       "1172                 UK Brent Crude Oil     PF4  Spot Price FOB   \n",
       "1686  No 2 Diesel Low Sulfur (0-15 ppm)     PF4  Spot Price FOB   \n",
       "\n",
       "                          series  \\\n",
       "4142     EER_EPMRU_PF4_Y35NY_DPG   \n",
       "3675    EER_EPLLPA_PF4_Y44MB_DPG   \n",
       "2210     EER_EPMRR_PF4_Y05LA_DPG   \n",
       "1172                       RBRTE   \n",
       "1686  EER_EPD2DXL0_PF4_Y35NY_DPG   \n",
       "\n",
       "                                     series-description  \n",
       "4142  New York Harbor Conventional Gasoline Regular ...  \n",
       "3675  Mont Belvieu, TX Propane Spot Price FOB (Dolla...  \n",
       "2210  Los Angeles Reformulated RBOB Regular Gasoline...  \n",
       "1172   Europe Brent Spot Price FOB (Dollars per Barrel)  \n",
       "1686  New York Harbor Ultra-Low Sulfur No 2 Diesel S...  "
      ]
     },
     "execution_count": 2,
     "metadata": {},
     "output_type": "execute_result"
    }
   ],
   "source": [
    "## Gather the data using the \"Gather data by accessing APIs\" method from https://api.eia.gov\n",
    "api_key = config.EIA_API_KEY\n",
    "url = f'https://api.eia.gov/v2/petroleum/pri/spt/data/?'\n",
    "\n",
    "params = {\n",
    "    'api_key':api_key,\n",
    "    'start':'2001-01-01', \n",
    "    'end':'2023-12-31'\n",
    "}\n",
    "\n",
    "response = requests.get(url, params=params)\n",
    "data = response.json()\n",
    "oil_data =pd.DataFrame(data['response']['data'])\n",
    "oil_data.sample(5)"
   ]
  },
  {
   "cell_type": "code",
   "execution_count": 3,
   "metadata": {},
   "outputs": [
    {
     "data": {
      "text/plain": [
       "(5000, 9)"
      ]
     },
     "execution_count": 3,
     "metadata": {},
     "output_type": "execute_result"
    }
   ],
   "source": [
    "oil_data.shape"
   ]
  },
  {
   "cell_type": "markdown",
   "metadata": {},
   "source": [
    "> The gathered dataset have 5000 rows and 9 features."
   ]
  },
  {
   "cell_type": "code",
   "execution_count": 4,
   "metadata": {},
   "outputs": [],
   "source": [
    "oil_data.to_csv('data/oil_data_api.csv', index=False) ## store to cvs file"
   ]
  },
  {
   "cell_type": "markdown",
   "metadata": {},
   "source": [
    "> Storing step: the dataset is saved to the local data store directory before moving to the next step."
   ]
  },
  {
   "cell_type": "markdown",
   "metadata": {
    "id": "hoUjq1tPzz7P"
   },
   "source": [
    "#### **Dataset 2**: Stocks Dataset"
   ]
  },
  {
   "cell_type": "markdown",
   "metadata": {},
   "source": [
    "##### *About this dataset*\n",
    "**Type:** Pandas.DataFrame\n",
    "\n",
    "**Method:** The data was gathered using the \"Programmatically downloading files\" method from Yahoo Finance using the yfinance library\n",
    "\n",
    "**Dataset variables:**\n",
    "\n",
    "| Column Name | Description |\n",
    "|---|---|\n",
    "| Date | date associated with the data point |\n",
    "| Open | The opening price of the stock on that date. |\n",
    "| High | The highest price reached by the stock on that date. |\n",
    "| Low | The lowest price reached by the stock on that date. |\n",
    "| Close | The closing price of the stock on that date. |\n",
    "| Adj Close | The adjusted closing price, adjusted for dividends and splits. |\n",
    "| Volume | The number of shares traded on that date. |"
   ]
  },
  {
   "cell_type": "markdown",
   "metadata": {},
   "source": [
    "##### *Gathering by Programmatically Downloading*"
   ]
  },
  {
   "cell_type": "code",
   "execution_count": 5,
   "metadata": {
    "id": "6zT0QxRyYmm7"
   },
   "outputs": [
    {
     "name": "stderr",
     "output_type": "stream",
     "text": [
      "[*********************100%%**********************]  5 of 5 completed\n"
     ]
    },
    {
     "data": {
      "text/html": [
       "<div>\n",
       "<style scoped>\n",
       "    .dataframe tbody tr th:only-of-type {\n",
       "        vertical-align: middle;\n",
       "    }\n",
       "\n",
       "    .dataframe tbody tr th {\n",
       "        vertical-align: top;\n",
       "    }\n",
       "\n",
       "    .dataframe thead tr th {\n",
       "        text-align: left;\n",
       "    }\n",
       "</style>\n",
       "<table border=\"1\" class=\"dataframe\">\n",
       "  <thead>\n",
       "    <tr>\n",
       "      <th>Price</th>\n",
       "      <th>Date</th>\n",
       "      <th colspan=\"5\" halign=\"left\">Adj Close</th>\n",
       "      <th colspan=\"4\" halign=\"left\">Close</th>\n",
       "      <th>...</th>\n",
       "      <th colspan=\"5\" halign=\"left\">Open</th>\n",
       "      <th colspan=\"5\" halign=\"left\">Volume</th>\n",
       "    </tr>\n",
       "    <tr>\n",
       "      <th>Ticker</th>\n",
       "      <th></th>\n",
       "      <th>AAPL</th>\n",
       "      <th>AMZN</th>\n",
       "      <th>GOOGL</th>\n",
       "      <th>META</th>\n",
       "      <th>MSFT</th>\n",
       "      <th>AAPL</th>\n",
       "      <th>AMZN</th>\n",
       "      <th>GOOGL</th>\n",
       "      <th>META</th>\n",
       "      <th>...</th>\n",
       "      <th>AAPL</th>\n",
       "      <th>AMZN</th>\n",
       "      <th>GOOGL</th>\n",
       "      <th>META</th>\n",
       "      <th>MSFT</th>\n",
       "      <th>AAPL</th>\n",
       "      <th>AMZN</th>\n",
       "      <th>GOOGL</th>\n",
       "      <th>META</th>\n",
       "      <th>MSFT</th>\n",
       "    </tr>\n",
       "  </thead>\n",
       "  <tbody>\n",
       "    <tr>\n",
       "      <th>4609</th>\n",
       "      <td>2019-05-01</td>\n",
       "      <td>50.598217</td>\n",
       "      <td>95.575996</td>\n",
       "      <td>58.598747</td>\n",
       "      <td>192.634140</td>\n",
       "      <td>121.508820</td>\n",
       "      <td>52.630001</td>\n",
       "      <td>95.575996</td>\n",
       "      <td>58.666000</td>\n",
       "      <td>193.029999</td>\n",
       "      <td>...</td>\n",
       "      <td>52.470001</td>\n",
       "      <td>96.654503</td>\n",
       "      <td>59.875000</td>\n",
       "      <td>194.779999</td>\n",
       "      <td>130.529999</td>\n",
       "      <td>259309200</td>\n",
       "      <td>62340000</td>\n",
       "      <td>74340000.0</td>\n",
       "      <td>15996600.0</td>\n",
       "      <td>26821700</td>\n",
       "    </tr>\n",
       "    <tr>\n",
       "      <th>4412</th>\n",
       "      <td>2018-07-18</td>\n",
       "      <td>45.249828</td>\n",
       "      <td>92.146004</td>\n",
       "      <td>60.575977</td>\n",
       "      <td>208.930664</td>\n",
       "      <td>98.650551</td>\n",
       "      <td>47.599998</td>\n",
       "      <td>92.146004</td>\n",
       "      <td>60.645500</td>\n",
       "      <td>209.360001</td>\n",
       "      <td>...</td>\n",
       "      <td>47.945000</td>\n",
       "      <td>92.400002</td>\n",
       "      <td>60.426498</td>\n",
       "      <td>209.820007</td>\n",
       "      <td>105.940002</td>\n",
       "      <td>65573600</td>\n",
       "      <td>97238000</td>\n",
       "      <td>38948000.0</td>\n",
       "      <td>15334900.0</td>\n",
       "      <td>29493900</td>\n",
       "    </tr>\n",
       "    <tr>\n",
       "      <th>434</th>\n",
       "      <td>2002-09-27</td>\n",
       "      <td>0.222233</td>\n",
       "      <td>0.850500</td>\n",
       "      <td>NaN</td>\n",
       "      <td>NaN</td>\n",
       "      <td>13.975578</td>\n",
       "      <td>0.262857</td>\n",
       "      <td>0.850500</td>\n",
       "      <td>NaN</td>\n",
       "      <td>NaN</td>\n",
       "      <td>...</td>\n",
       "      <td>0.258750</td>\n",
       "      <td>0.842500</td>\n",
       "      <td>NaN</td>\n",
       "      <td>NaN</td>\n",
       "      <td>23.020000</td>\n",
       "      <td>206152800</td>\n",
       "      <td>140674000</td>\n",
       "      <td>NaN</td>\n",
       "      <td>NaN</td>\n",
       "      <td>81011600</td>\n",
       "    </tr>\n",
       "    <tr>\n",
       "      <th>3948</th>\n",
       "      <td>2016-09-13</td>\n",
       "      <td>24.921932</td>\n",
       "      <td>38.050499</td>\n",
       "      <td>39.390793</td>\n",
       "      <td>126.949127</td>\n",
       "      <td>51.081646</td>\n",
       "      <td>26.987499</td>\n",
       "      <td>38.050499</td>\n",
       "      <td>39.436001</td>\n",
       "      <td>127.209999</td>\n",
       "      <td>...</td>\n",
       "      <td>26.877501</td>\n",
       "      <td>38.438499</td>\n",
       "      <td>39.700500</td>\n",
       "      <td>128.029999</td>\n",
       "      <td>56.500000</td>\n",
       "      <td>248704800</td>\n",
       "      <td>62344000</td>\n",
       "      <td>36180000.0</td>\n",
       "      <td>18016200.0</td>\n",
       "      <td>30130200</td>\n",
       "    </tr>\n",
       "    <tr>\n",
       "      <th>3388</th>\n",
       "      <td>2014-06-24</td>\n",
       "      <td>19.963966</td>\n",
       "      <td>16.208000</td>\n",
       "      <td>28.594183</td>\n",
       "      <td>65.585228</td>\n",
       "      <td>35.539406</td>\n",
       "      <td>22.570000</td>\n",
       "      <td>16.208000</td>\n",
       "      <td>28.627001</td>\n",
       "      <td>65.720001</td>\n",
       "      <td>...</td>\n",
       "      <td>22.687500</td>\n",
       "      <td>16.377001</td>\n",
       "      <td>28.711000</td>\n",
       "      <td>65.360001</td>\n",
       "      <td>41.830002</td>\n",
       "      <td>156144000</td>\n",
       "      <td>52532000</td>\n",
       "      <td>56886000.0</td>\n",
       "      <td>57335000.0</td>\n",
       "      <td>26509100</td>\n",
       "    </tr>\n",
       "  </tbody>\n",
       "</table>\n",
       "<p>5 rows × 31 columns</p>\n",
       "</div>"
      ],
      "text/plain": [
       "Price        Date  Adj Close                                                \\\n",
       "Ticker                  AAPL       AMZN      GOOGL        META        MSFT   \n",
       "4609   2019-05-01  50.598217  95.575996  58.598747  192.634140  121.508820   \n",
       "4412   2018-07-18  45.249828  92.146004  60.575977  208.930664   98.650551   \n",
       "434    2002-09-27   0.222233   0.850500        NaN         NaN   13.975578   \n",
       "3948   2016-09-13  24.921932  38.050499  39.390793  126.949127   51.081646   \n",
       "3388   2014-06-24  19.963966  16.208000  28.594183   65.585228   35.539406   \n",
       "\n",
       "Price       Close                                    ...       Open  \\\n",
       "Ticker       AAPL       AMZN      GOOGL        META  ...       AAPL   \n",
       "4609    52.630001  95.575996  58.666000  193.029999  ...  52.470001   \n",
       "4412    47.599998  92.146004  60.645500  209.360001  ...  47.945000   \n",
       "434      0.262857   0.850500        NaN         NaN  ...   0.258750   \n",
       "3948    26.987499  38.050499  39.436001  127.209999  ...  26.877501   \n",
       "3388    22.570000  16.208000  28.627001   65.720001  ...  22.687500   \n",
       "\n",
       "Price                                                    Volume             \\\n",
       "Ticker       AMZN      GOOGL        META        MSFT       AAPL       AMZN   \n",
       "4609    96.654503  59.875000  194.779999  130.529999  259309200   62340000   \n",
       "4412    92.400002  60.426498  209.820007  105.940002   65573600   97238000   \n",
       "434      0.842500        NaN         NaN   23.020000  206152800  140674000   \n",
       "3948    38.438499  39.700500  128.029999   56.500000  248704800   62344000   \n",
       "3388    16.377001  28.711000   65.360001   41.830002  156144000   52532000   \n",
       "\n",
       "Price                                     \n",
       "Ticker       GOOGL        META      MSFT  \n",
       "4609    74340000.0  15996600.0  26821700  \n",
       "4412    38948000.0  15334900.0  29493900  \n",
       "434            NaN         NaN  81011600  \n",
       "3948    36180000.0  18016200.0  30130200  \n",
       "3388    56886000.0  57335000.0  26509100  \n",
       "\n",
       "[5 rows x 31 columns]"
      ]
     },
     "execution_count": 5,
     "metadata": {},
     "output_type": "execute_result"
    }
   ],
   "source": [
    "## 2nd data gathering was downloaded programitticallly from Yahoo Finance using the yfinance library\n",
    "companies = ['AAPL', 'MSFT', 'GOOGL', 'AMZN', 'META']\n",
    "stocks_data = yf.download(companies, start='2001-01-01', end='2023-12-31')\n",
    "stocks_data.reset_index(inplace=True)\n",
    "stocks_data.sample(5)"
   ]
  },
  {
   "cell_type": "code",
   "execution_count": 6,
   "metadata": {},
   "outputs": [
    {
     "data": {
      "text/plain": [
       "(5785, 31)"
      ]
     },
     "execution_count": 6,
     "metadata": {},
     "output_type": "execute_result"
    }
   ],
   "source": [
    "stocks_data.shape"
   ]
  },
  {
   "cell_type": "markdown",
   "metadata": {},
   "source": [
    "> The gathered data has 5785 data points and 31 features."
   ]
  },
  {
   "cell_type": "code",
   "execution_count": 7,
   "metadata": {},
   "outputs": [],
   "source": [
    "stocks_data.to_csv('data/stock_data.csv', index=False) ## store to cvs file"
   ]
  },
  {
   "cell_type": "markdown",
   "metadata": {},
   "source": [
    "> Storing step: the dataset is saved to the local data store directory before moving to the next step."
   ]
  },
  {
   "cell_type": "markdown",
   "metadata": {
    "id": "QwSWIVmotLgV"
   },
   "source": [
    "## 4. Assess data\n",
    "Now that we have gathered the datasets, let's assess the dataset for data quality and structural issues. In this section, the data is assessed according to data quality and tidiness metrics. Where two data quality issues and two tidiness issues are assessed. Each are assess visually and programmatically, then the issue is described. Justifications for the methods used for the assessment are also included.\n",
    "\n",
    "Here's a list of the data quality attributes we covered in the course for your reference:\n",
    "\n",
    "    **Completeness**\n",
    "    **Validity**\n",
    "    Accuracy\n",
    "    Consistency\n",
    "    Uniqueness"
   ]
  },
  {
   "cell_type": "markdown",
   "metadata": {
    "id": "adaK2iPNzVu4"
   },
   "source": [
    "### Completeness (Issue #1):"
   ]
  },
  {
   "cell_type": "markdown",
   "metadata": {},
   "source": [
    "#### Stocks Dataset"
   ]
  },
  {
   "cell_type": "markdown",
   "metadata": {},
   "source": [
    "##### *Inspecting the dataframe visually*\n",
    "\n",
    "To inspcet the data qaulity issue of completeness, let's visualize the ddata frame into a heatmap:"
   ]
  },
  {
   "cell_type": "code",
   "execution_count": 8,
   "metadata": {},
   "outputs": [],
   "source": [
    "nan = ['NA','NaN','-', '0', np.nan] ## possible null vlaues"
   ]
  },
  {
   "cell_type": "code",
   "execution_count": 9,
   "metadata": {},
   "outputs": [
    {
     "data": {
      "image/png": "[encoded data removed]",
      "text/plain": [
       "<Figure size 1000x600 with 2 Axes>"
      ]
     },
     "metadata": {},
     "output_type": "display_data"
    }
   ],
   "source": [
    "plt.figure(figsize=(10,6))\n",
    "sns.heatmap(stocks_data.isin(nan).transpose(), cbar_kws={'label': 'Missing Data'})\n",
    "plt.title('Missing Values from the Stocks Dataframe')\n",
    "plt.xlabel('Values Count');"
   ]
  },
  {
   "cell_type": "markdown",
   "metadata": {},
   "source": [
    "> Almost half of the data from the META company are missing. The other missing values are from Google company."
   ]
  },
  {
   "cell_type": "markdown",
   "metadata": {},
   "source": [
    "##### Inspecting the dataframe programmatically"
   ]
  },
  {
   "cell_type": "code",
   "execution_count": 10,
   "metadata": {
    "id": "SpW59kh-zl8d"
   },
   "outputs": [
    {
     "name": "stdout",
     "output_type": "stream",
     "text": [
      "<class 'pandas.core.frame.DataFrame'>\n",
      "RangeIndex: 5785 entries, 0 to 5784\n",
      "Data columns (total 31 columns):\n",
      " #   Column              Non-Null Count  Dtype         \n",
      "---  ------              --------------  -----         \n",
      " 0   (Date, )            5785 non-null   datetime64[ns]\n",
      " 1   (Adj Close, AAPL)   5785 non-null   float64       \n",
      " 2   (Adj Close, AMZN)   5785 non-null   float64       \n",
      " 3   (Adj Close, GOOGL)  4875 non-null   float64       \n",
      " 4   (Adj Close, META)   2923 non-null   float64       \n",
      " 5   (Adj Close, MSFT)   5785 non-null   float64       \n",
      " 6   (Close, AAPL)       5785 non-null   float64       \n",
      " 7   (Close, AMZN)       5785 non-null   float64       \n",
      " 8   (Close, GOOGL)      4875 non-null   float64       \n",
      " 9   (Close, META)       2923 non-null   float64       \n",
      " 10  (Close, MSFT)       5785 non-null   float64       \n",
      " 11  (High, AAPL)        5785 non-null   float64       \n",
      " 12  (High, AMZN)        5785 non-null   float64       \n",
      " 13  (High, GOOGL)       4875 non-null   float64       \n",
      " 14  (High, META)        2923 non-null   float64       \n",
      " 15  (High, MSFT)        5785 non-null   float64       \n",
      " 16  (Low, AAPL)         5785 non-null   float64       \n",
      " 17  (Low, AMZN)         5785 non-null   float64       \n",
      " 18  (Low, GOOGL)        4875 non-null   float64       \n",
      " 19  (Low, META)         2923 non-null   float64       \n",
      " 20  (Low, MSFT)         5785 non-null   float64       \n",
      " 21  (Open, AAPL)        5785 non-null   float64       \n",
      " 22  (Open, AMZN)        5785 non-null   float64       \n",
      " 23  (Open, GOOGL)       4875 non-null   float64       \n",
      " 24  (Open, META)        2923 non-null   float64       \n",
      " 25  (Open, MSFT)        5785 non-null   float64       \n",
      " 26  (Volume, AAPL)      5785 non-null   int64         \n",
      " 27  (Volume, AMZN)      5785 non-null   int64         \n",
      " 28  (Volume, GOOGL)     4875 non-null   float64       \n",
      " 29  (Volume, META)      2923 non-null   float64       \n",
      " 30  (Volume, MSFT)      5785 non-null   int64         \n",
      "dtypes: datetime64[ns](1), float64(27), int64(3)\n",
      "memory usage: 1.4 MB\n"
     ]
    }
   ],
   "source": [
    "stocks_data.info()"
   ]
  },
  {
   "cell_type": "markdown",
   "metadata": {},
   "source": [
    "> While the range index is from 0 to 5784, some the columns arn't complete such as (Adj Close, GOOGL), (Adj Close, META), (Close, GOOGL), (Close, META),  (High, GOOGL), (High, META),  (Low, GOOGL),  (Low, META), (Open, GOOGL),  (Open, META),  (Volume, GOOGL), (Volume, META) and (Volume, MSFT).\n",
    "> These missing data are specifically in data regarding the Google, and the META big tech companies."
   ]
  },
  {
   "cell_type": "code",
   "execution_count": 11,
   "metadata": {},
   "outputs": [
    {
     "data": {
      "text/plain": [
       "Price      Ticker\n",
       "Date                    0\n",
       "Volume     AMZN         0\n",
       "           AAPL         0\n",
       "Open       MSFT         0\n",
       "           AMZN         0\n",
       "           AAPL         0\n",
       "Low        MSFT         0\n",
       "           AMZN         0\n",
       "           AAPL         0\n",
       "High       AMZN         0\n",
       "           AAPL         0\n",
       "           MSFT         0\n",
       "Adj Close  MSFT         0\n",
       "           AAPL         0\n",
       "           AMZN         0\n",
       "Close      MSFT         0\n",
       "           AAPL         0\n",
       "Volume     MSFT         0\n",
       "Close      AMZN         0\n",
       "Low        GOOGL      910\n",
       "Close      GOOGL      910\n",
       "Open       GOOGL      910\n",
       "Adj Close  GOOGL      910\n",
       "High       GOOGL      910\n",
       "Volume     GOOGL      910\n",
       "Low        META      2862\n",
       "Volume     META      2862\n",
       "Adj Close  META      2862\n",
       "Open       META      2862\n",
       "High       META      2862\n",
       "Close      META      2862\n",
       "dtype: int64"
      ]
     },
     "execution_count": 11,
     "metadata": {},
     "output_type": "execute_result"
    }
   ],
   "source": [
    "stocks_data.isna().sum().sort_values()"
   ]
  },
  {
   "cell_type": "markdown",
   "metadata": {},
   "source": [
    "> There are 910 m,issing records from the Google dataset, and 2862 from the META Dataset."
   ]
  },
  {
   "cell_type": "markdown",
   "metadata": {},
   "source": [
    "#### Oil Dataset"
   ]
  },
  {
   "cell_type": "markdown",
   "metadata": {},
   "source": [
    "##### *Inspecting the dataframe visually*"
   ]
  },
  {
   "cell_type": "code",
   "execution_count": 12,
   "metadata": {},
   "outputs": [
    {
     "data": {
      "image/png": "[encoded data removed]",
      "text/plain": [
       "<Figure size 1000x600 with 2 Axes>"
      ]
     },
     "metadata": {},
     "output_type": "display_data"
    }
   ],
   "source": [
    "plt.figure(figsize=(10,6))\n",
    "sns.heatmap(oil_data.isin(nan).transpose(), cbar_kws={'label': 'Missing Data'})\n",
    "plt.title('Missing Values from the Oils Dataframe')\n",
    "plt.xlabel('Values Count');"
   ]
  },
  {
   "cell_type": "markdown",
   "metadata": {},
   "source": [
    "> The only column that has missing values in the oils dataframe is the area-name. It seems to have missing values alongside diffrent dates."
   ]
  },
  {
   "cell_type": "markdown",
   "metadata": {},
   "source": [
    "##### *Inspecting the dataframe programmatically*"
   ]
  },
  {
   "cell_type": "code",
   "execution_count": 13,
   "metadata": {},
   "outputs": [
    {
     "name": "stdout",
     "output_type": "stream",
     "text": [
      "<class 'pandas.core.frame.DataFrame'>\n",
      "RangeIndex: 5000 entries, 0 to 4999\n",
      "Data columns (total 9 columns):\n",
      " #   Column              Non-Null Count  Dtype \n",
      "---  ------              --------------  ----- \n",
      " 0   period              5000 non-null   object\n",
      " 1   duoarea             5000 non-null   object\n",
      " 2   area-name           5000 non-null   object\n",
      " 3   product             5000 non-null   object\n",
      " 4   product-name        5000 non-null   object\n",
      " 5   process             5000 non-null   object\n",
      " 6   process-name        5000 non-null   object\n",
      " 7   series              5000 non-null   object\n",
      " 8   series-description  5000 non-null   object\n",
      "dtypes: object(9)\n",
      "memory usage: 351.7+ KB\n"
     ]
    }
   ],
   "source": [
    "oil_data.info()"
   ]
  },
  {
   "cell_type": "markdown",
   "metadata": {},
   "source": [
    "> The data have 0 to 4999 indices, and all the columns non-null counts are full. However, it was noticed that there are NA values used to presnet the null values."
   ]
  },
  {
   "cell_type": "code",
   "execution_count": 14,
   "metadata": {},
   "outputs": [
    {
     "data": {
      "text/html": [
       "<div>\n",
       "<style scoped>\n",
       "    .dataframe tbody tr th:only-of-type {\n",
       "        vertical-align: middle;\n",
       "    }\n",
       "\n",
       "    .dataframe tbody tr th {\n",
       "        vertical-align: top;\n",
       "    }\n",
       "\n",
       "    .dataframe thead th {\n",
       "        text-align: right;\n",
       "    }\n",
       "</style>\n",
       "<table border=\"1\" class=\"dataframe\">\n",
       "  <thead>\n",
       "    <tr style=\"text-align: right;\">\n",
       "      <th></th>\n",
       "      <th>period</th>\n",
       "      <th>duoarea</th>\n",
       "      <th>area-name</th>\n",
       "      <th>product</th>\n",
       "      <th>product-name</th>\n",
       "      <th>process</th>\n",
       "      <th>process-name</th>\n",
       "      <th>series</th>\n",
       "      <th>series-description</th>\n",
       "    </tr>\n",
       "  </thead>\n",
       "  <tbody>\n",
       "    <tr>\n",
       "      <th>3997</th>\n",
       "      <td>2017-12-29</td>\n",
       "      <td>RGC</td>\n",
       "      <td>NA</td>\n",
       "      <td>EPMRU</td>\n",
       "      <td>Conventional Regular Gasoline</td>\n",
       "      <td>PF4</td>\n",
       "      <td>Spot Price FOB</td>\n",
       "      <td>EER_EPMRU_PF4_RGC_DPG</td>\n",
       "      <td>U.S. Gulf Coast Conventional Gasoline Regular ...</td>\n",
       "    </tr>\n",
       "    <tr>\n",
       "      <th>4247</th>\n",
       "      <td>2008-04-18</td>\n",
       "      <td>ZEU</td>\n",
       "      <td>NA</td>\n",
       "      <td>EPCBRENT</td>\n",
       "      <td>UK Brent Crude Oil</td>\n",
       "      <td>PF4</td>\n",
       "      <td>Spot Price FOB</td>\n",
       "      <td>RBRTE</td>\n",
       "      <td>Europe Brent Spot Price FOB (Dollars per Barrel)</td>\n",
       "    </tr>\n",
       "    <tr>\n",
       "      <th>4604</th>\n",
       "      <td>2014-01-24</td>\n",
       "      <td>Y05LA</td>\n",
       "      <td>LOS ANGELES</td>\n",
       "      <td>EPD2DC</td>\n",
       "      <td>Carb Diesel</td>\n",
       "      <td>PF4</td>\n",
       "      <td>Spot Price FOB</td>\n",
       "      <td>EER_EPD2DC_PF4_Y05LA_DPG</td>\n",
       "      <td>Los Angeles, CA Ultra-Low Sulfur CARB Diesel S...</td>\n",
       "    </tr>\n",
       "    <tr>\n",
       "      <th>3730</th>\n",
       "      <td>2019-04-26</td>\n",
       "      <td>Y44MB</td>\n",
       "      <td>NA</td>\n",
       "      <td>EPLLPA</td>\n",
       "      <td>Propane</td>\n",
       "      <td>PF4</td>\n",
       "      <td>Spot Price FOB</td>\n",
       "      <td>EER_EPLLPA_PF4_Y44MB_DPG</td>\n",
       "      <td>Mont Belvieu, TX Propane Spot Price FOB (Dolla...</td>\n",
       "    </tr>\n",
       "    <tr>\n",
       "      <th>3539</th>\n",
       "      <td>2014-04-18</td>\n",
       "      <td>RGC</td>\n",
       "      <td>NA</td>\n",
       "      <td>EPJK</td>\n",
       "      <td>Kerosene-Type Jet Fuel</td>\n",
       "      <td>PF4</td>\n",
       "      <td>Spot Price FOB</td>\n",
       "      <td>EER_EPJK_PF4_RGC_DPG</td>\n",
       "      <td>U.S. Gulf Coast Kerosene-Type Jet Fuel Spot Pr...</td>\n",
       "    </tr>\n",
       "  </tbody>\n",
       "</table>\n",
       "</div>"
      ],
      "text/plain": [
       "          period duoarea    area-name   product  \\\n",
       "3997  2017-12-29     RGC           NA     EPMRU   \n",
       "4247  2008-04-18     ZEU           NA  EPCBRENT   \n",
       "4604  2014-01-24   Y05LA  LOS ANGELES    EPD2DC   \n",
       "3730  2019-04-26   Y44MB           NA    EPLLPA   \n",
       "3539  2014-04-18     RGC           NA      EPJK   \n",
       "\n",
       "                       product-name process    process-name  \\\n",
       "3997  Conventional Regular Gasoline     PF4  Spot Price FOB   \n",
       "4247             UK Brent Crude Oil     PF4  Spot Price FOB   \n",
       "4604                    Carb Diesel     PF4  Spot Price FOB   \n",
       "3730                        Propane     PF4  Spot Price FOB   \n",
       "3539         Kerosene-Type Jet Fuel     PF4  Spot Price FOB   \n",
       "\n",
       "                        series  \\\n",
       "3997     EER_EPMRU_PF4_RGC_DPG   \n",
       "4247                     RBRTE   \n",
       "4604  EER_EPD2DC_PF4_Y05LA_DPG   \n",
       "3730  EER_EPLLPA_PF4_Y44MB_DPG   \n",
       "3539      EER_EPJK_PF4_RGC_DPG   \n",
       "\n",
       "                                     series-description  \n",
       "3997  U.S. Gulf Coast Conventional Gasoline Regular ...  \n",
       "4247   Europe Brent Spot Price FOB (Dollars per Barrel)  \n",
       "4604  Los Angeles, CA Ultra-Low Sulfur CARB Diesel S...  \n",
       "3730  Mont Belvieu, TX Propane Spot Price FOB (Dolla...  \n",
       "3539  U.S. Gulf Coast Kerosene-Type Jet Fuel Spot Pr...  "
      ]
     },
     "execution_count": 14,
     "metadata": {},
     "output_type": "execute_result"
    }
   ],
   "source": [
    "oil_data.sample(5)"
   ]
  },
  {
   "cell_type": "code",
   "execution_count": 15,
   "metadata": {},
   "outputs": [
    {
     "data": {
      "text/plain": [
       "period                   0\n",
       "duoarea                  0\n",
       "area-name             2754\n",
       "product                  0\n",
       "product-name             0\n",
       "process                  0\n",
       "process-name             0\n",
       "series                   0\n",
       "series-description       0\n",
       "dtype: int64"
      ]
     },
     "execution_count": 15,
     "metadata": {},
     "output_type": "execute_result"
    }
   ],
   "source": [
    "oil_data.isin(nan).sum()"
   ]
  },
  {
   "cell_type": "markdown",
   "metadata": {},
   "source": [
    "> In the oil dataset there appears to be 2754 NA values from the area-name column. The other columns doesn't have NA values. However, the duoarea have no missing values."
   ]
  },
  {
   "cell_type": "markdown",
   "metadata": {
    "id": "8Be77N4I1AmE"
   },
   "source": [
    "### Validity (Quality Issue #2):"
   ]
  },
  {
   "cell_type": "markdown",
   "metadata": {},
   "source": [
    "#### Stocks Dataset"
   ]
  },
  {
   "cell_type": "markdown",
   "metadata": {},
   "source": [
    "##### *Inspecting the dataframe programmatically*"
   ]
  },
  {
   "cell_type": "code",
   "execution_count": 16,
   "metadata": {},
   "outputs": [
    {
     "data": {
      "text/plain": [
       "Price      Ticker\n",
       "Date                 datetime64[ns]\n",
       "Adj Close  AAPL             float64\n",
       "           AMZN             float64\n",
       "           GOOGL            float64\n",
       "           META             float64\n",
       "           MSFT             float64\n",
       "Close      AAPL             float64\n",
       "           AMZN             float64\n",
       "           GOOGL            float64\n",
       "           META             float64\n",
       "           MSFT             float64\n",
       "High       AAPL             float64\n",
       "           AMZN             float64\n",
       "           GOOGL            float64\n",
       "           META             float64\n",
       "           MSFT             float64\n",
       "Low        AAPL             float64\n",
       "           AMZN             float64\n",
       "           GOOGL            float64\n",
       "           META             float64\n",
       "           MSFT             float64\n",
       "Open       AAPL             float64\n",
       "           AMZN             float64\n",
       "           GOOGL            float64\n",
       "           META             float64\n",
       "           MSFT             float64\n",
       "Volume     AAPL               int64\n",
       "           AMZN               int64\n",
       "           GOOGL            float64\n",
       "           META             float64\n",
       "           MSFT               int64\n",
       "dtype: object"
      ]
     },
     "execution_count": 16,
     "metadata": {},
     "output_type": "execute_result"
    }
   ],
   "source": [
    "stocks_data.dtypes"
   ]
  },
  {
   "cell_type": "markdown",
   "metadata": {},
   "source": [
    "> The datastypes are all valid. Let's take a look into why For the volume some of the columns have integer values."
   ]
  },
  {
   "cell_type": "code",
   "execution_count": 59,
   "metadata": {},
   "outputs": [
    {
     "name": "stdout",
     "output_type": "stream",
     "text": [
      "3173     490294000\n",
      "3991     136575600\n",
      "2021    1047625600\n",
      "4976     262330500\n",
      "458      295836800\n",
      "Name: (Volume, AAPL), dtype: int64\n",
      "4718     49438000\n",
      "1000    504756000\n",
      "3039     74472000\n",
      "1172     88580000\n",
      "2081    188256000\n",
      "Name: (Volume, AMZN), dtype: int64\n",
      "1517    56364300\n",
      "605     83484600\n",
      "2177    49592800\n",
      "4432    29982800\n",
      "3305    30736500\n",
      "Name: (Volume, MSFT), dtype: int64\n"
     ]
    }
   ],
   "source": [
    "int_col= list(stocks_data.dtypes[stocks_data.dtypes == 'int64']['Volume'].index)\n",
    "for col in int_col:\n",
    "    print(stocks_data['Volume',col].sample(5))"
   ]
  },
  {
   "cell_type": "markdown",
   "metadata": {},
   "source": [
    "> The dataset is valid in terms of data types."
   ]
  },
  {
   "cell_type": "markdown",
   "metadata": {},
   "source": [
    "##### *Inspecting the dataframe visually*\n",
    "The visualization used to check for datatypes validity is a summary statics table."
   ]
  },
  {
   "cell_type": "code",
   "execution_count": 61,
   "metadata": {
    "id": "bnviRCUI-bb7"
   },
   "outputs": [
    {
     "data": {
      "text/html": [
       "<div>\n",
       "<style scoped>\n",
       "    .dataframe tbody tr th:only-of-type {\n",
       "        vertical-align: middle;\n",
       "    }\n",
       "\n",
       "    .dataframe tbody tr th {\n",
       "        vertical-align: top;\n",
       "    }\n",
       "\n",
       "    .dataframe thead th {\n",
       "        text-align: right;\n",
       "    }\n",
       "</style>\n",
       "<table border=\"1\" class=\"dataframe\">\n",
       "  <thead>\n",
       "    <tr style=\"text-align: right;\">\n",
       "      <th></th>\n",
       "      <th></th>\n",
       "      <th>count</th>\n",
       "      <th>mean</th>\n",
       "      <th>min</th>\n",
       "      <th>25%</th>\n",
       "      <th>50%</th>\n",
       "      <th>75%</th>\n",
       "      <th>max</th>\n",
       "      <th>std</th>\n",
       "    </tr>\n",
       "    <tr>\n",
       "      <th>Price</th>\n",
       "      <th>Ticker</th>\n",
       "      <th></th>\n",
       "      <th></th>\n",
       "      <th></th>\n",
       "      <th></th>\n",
       "      <th></th>\n",
       "      <th></th>\n",
       "      <th></th>\n",
       "      <th></th>\n",
       "    </tr>\n",
       "  </thead>\n",
       "  <tbody>\n",
       "    <tr>\n",
       "      <th>Date</th>\n",
       "      <th></th>\n",
       "      <td>5785</td>\n",
       "      <td>2012-07-03 03:47:15.816767488</td>\n",
       "      <td>2001-01-02 00:00:00</td>\n",
       "      <td>2006-10-04 00:00:00</td>\n",
       "      <td>2012-07-02 00:00:00</td>\n",
       "      <td>2018-04-03 00:00:00</td>\n",
       "      <td>2023-12-29 00:00:00</td>\n",
       "      <td>NaN</td>\n",
       "    </tr>\n",
       "    <tr>\n",
       "      <th rowspan=\"5\" valign=\"top\">Adj Close</th>\n",
       "      <th>AAPL</th>\n",
       "      <td>5785.0</td>\n",
       "      <td>35.934231</td>\n",
       "      <td>0.198078</td>\n",
       "      <td>2.324391</td>\n",
       "      <td>13.875538</td>\n",
       "      <td>40.82338</td>\n",
       "      <td>197.589523</td>\n",
       "      <td>51.307455</td>\n",
       "    </tr>\n",
       "    <tr>\n",
       "      <th>AMZN</th>\n",
       "      <td>5785.0</td>\n",
       "      <td>39.459062</td>\n",
       "      <td>0.2985</td>\n",
       "      <td>2.3935</td>\n",
       "      <td>11.384</td>\n",
       "      <td>75.0</td>\n",
       "      <td>186.570496</td>\n",
       "      <td>52.103855</td>\n",
       "    </tr>\n",
       "    <tr>\n",
       "      <th>GOOGL</th>\n",
       "      <td>4875.0</td>\n",
       "      <td>41.868792</td>\n",
       "      <td>2.499884</td>\n",
       "      <td>12.89686</td>\n",
       "      <td>27.058945</td>\n",
       "      <td>58.289351</td>\n",
       "      <td>149.666733</td>\n",
       "      <td>38.614639</td>\n",
       "    </tr>\n",
       "    <tr>\n",
       "      <th>META</th>\n",
       "      <td>2923.0</td>\n",
       "      <td>157.370234</td>\n",
       "      <td>17.69364</td>\n",
       "      <td>80.604355</td>\n",
       "      <td>153.205185</td>\n",
       "      <td>204.38501</td>\n",
       "      <td>381.39624</td>\n",
       "      <td>90.7394</td>\n",
       "    </tr>\n",
       "    <tr>\n",
       "      <th>MSFT</th>\n",
       "      <td>5785.0</td>\n",
       "      <td>73.883331</td>\n",
       "      <td>11.263442</td>\n",
       "      <td>18.91785</td>\n",
       "      <td>23.879269</td>\n",
       "      <td>87.665352</td>\n",
       "      <td>381.305847</td>\n",
       "      <td>91.404957</td>\n",
       "    </tr>\n",
       "    <tr>\n",
       "      <th rowspan=\"5\" valign=\"top\">Close</th>\n",
       "      <th>AAPL</th>\n",
       "      <td>5785.0</td>\n",
       "      <td>37.387745</td>\n",
       "      <td>0.234286</td>\n",
       "      <td>2.749286</td>\n",
       "      <td>16.178928</td>\n",
       "      <td>42.962502</td>\n",
       "      <td>198.110001</td>\n",
       "      <td>51.612923</td>\n",
       "    </tr>\n",
       "    <tr>\n",
       "      <th>AMZN</th>\n",
       "      <td>5785.0</td>\n",
       "      <td>39.459062</td>\n",
       "      <td>0.2985</td>\n",
       "      <td>2.3935</td>\n",
       "      <td>11.384</td>\n",
       "      <td>75.0</td>\n",
       "      <td>186.570496</td>\n",
       "      <td>52.103855</td>\n",
       "    </tr>\n",
       "    <tr>\n",
       "      <th>GOOGL</th>\n",
       "      <td>4875.0</td>\n",
       "      <td>41.916845</td>\n",
       "      <td>2.502753</td>\n",
       "      <td>12.911662</td>\n",
       "      <td>27.09</td>\n",
       "      <td>58.356249</td>\n",
       "      <td>149.838501</td>\n",
       "      <td>38.658957</td>\n",
       "    </tr>\n",
       "    <tr>\n",
       "      <th>META</th>\n",
       "      <td>2923.0</td>\n",
       "      <td>157.69362</td>\n",
       "      <td>17.73</td>\n",
       "      <td>80.769997</td>\n",
       "      <td>153.520004</td>\n",
       "      <td>204.805</td>\n",
       "      <td>382.179993</td>\n",
       "      <td>90.925863</td>\n",
       "    </tr>\n",
       "    <tr>\n",
       "      <th>MSFT</th>\n",
       "      <td>5785.0</td>\n",
       "      <td>80.795008</td>\n",
       "      <td>15.15</td>\n",
       "      <td>26.98</td>\n",
       "      <td>31.99</td>\n",
       "      <td>93.919998</td>\n",
       "      <td>382.700012</td>\n",
       "      <td>90.392952</td>\n",
       "    </tr>\n",
       "    <tr>\n",
       "      <th rowspan=\"5\" valign=\"top\">High</th>\n",
       "      <th>AAPL</th>\n",
       "      <td>5785.0</td>\n",
       "      <td>37.768913</td>\n",
       "      <td>0.235536</td>\n",
       "      <td>2.777857</td>\n",
       "      <td>16.346071</td>\n",
       "      <td>43.330002</td>\n",
       "      <td>199.619995</td>\n",
       "      <td>52.136589</td>\n",
       "    </tr>\n",
       "    <tr>\n",
       "      <th>AMZN</th>\n",
       "      <td>5785.0</td>\n",
       "      <td>39.934441</td>\n",
       "      <td>0.305</td>\n",
       "      <td>2.4185</td>\n",
       "      <td>11.546</td>\n",
       "      <td>76.268997</td>\n",
       "      <td>188.654007</td>\n",
       "      <td>52.747331</td>\n",
       "    </tr>\n",
       "    <tr>\n",
       "      <th>GOOGL</th>\n",
       "      <td>4875.0</td>\n",
       "      <td>42.346107</td>\n",
       "      <td>2.546046</td>\n",
       "      <td>13.043293</td>\n",
       "      <td>27.290501</td>\n",
       "      <td>58.834251</td>\n",
       "      <td>151.546494</td>\n",
       "      <td>39.074717</td>\n",
       "    </tr>\n",
       "    <tr>\n",
       "      <th>META</th>\n",
       "      <td>2923.0</td>\n",
       "      <td>159.668765</td>\n",
       "      <td>18.27</td>\n",
       "      <td>81.470001</td>\n",
       "      <td>155.589996</td>\n",
       "      <td>207.645004</td>\n",
       "      <td>384.329987</td>\n",
       "      <td>92.034626</td>\n",
       "    </tr>\n",
       "    <tr>\n",
       "      <th>MSFT</th>\n",
       "      <td>5785.0</td>\n",
       "      <td>81.592889</td>\n",
       "      <td>15.62</td>\n",
       "      <td>27.23</td>\n",
       "      <td>32.299999</td>\n",
       "      <td>95.139999</td>\n",
       "      <td>384.299988</td>\n",
       "      <td>91.270157</td>\n",
       "    </tr>\n",
       "    <tr>\n",
       "      <th rowspan=\"5\" valign=\"top\">Low</th>\n",
       "      <th>AAPL</th>\n",
       "      <td>5785.0</td>\n",
       "      <td>36.971609</td>\n",
       "      <td>0.227143</td>\n",
       "      <td>2.708214</td>\n",
       "      <td>16.051071</td>\n",
       "      <td>42.584999</td>\n",
       "      <td>197.0</td>\n",
       "      <td>51.034225</td>\n",
       "    </tr>\n",
       "    <tr>\n",
       "      <th>AMZN</th>\n",
       "      <td>5785.0</td>\n",
       "      <td>38.963193</td>\n",
       "      <td>0.2755</td>\n",
       "      <td>2.3345</td>\n",
       "      <td>11.2355</td>\n",
       "      <td>73.925003</td>\n",
       "      <td>184.839493</td>\n",
       "      <td>51.4586</td>\n",
       "    </tr>\n",
       "    <tr>\n",
       "      <th>GOOGL</th>\n",
       "      <td>4875.0</td>\n",
       "      <td>41.468347</td>\n",
       "      <td>2.401401</td>\n",
       "      <td>12.781281</td>\n",
       "      <td>26.858</td>\n",
       "      <td>57.57675</td>\n",
       "      <td>148.899002</td>\n",
       "      <td>38.225827</td>\n",
       "    </tr>\n",
       "    <tr>\n",
       "      <th>META</th>\n",
       "      <td>2923.0</td>\n",
       "      <td>155.638686</td>\n",
       "      <td>17.549999</td>\n",
       "      <td>80.154999</td>\n",
       "      <td>151.660004</td>\n",
       "      <td>201.785004</td>\n",
       "      <td>378.809998</td>\n",
       "      <td>89.773014</td>\n",
       "    </tr>\n",
       "    <tr>\n",
       "      <th>MSFT</th>\n",
       "      <td>5785.0</td>\n",
       "      <td>79.932932</td>\n",
       "      <td>14.87</td>\n",
       "      <td>26.74</td>\n",
       "      <td>31.66</td>\n",
       "      <td>92.940002</td>\n",
       "      <td>378.160004</td>\n",
       "      <td>89.414656</td>\n",
       "    </tr>\n",
       "    <tr>\n",
       "      <th rowspan=\"5\" valign=\"top\">Open</th>\n",
       "      <th>AAPL</th>\n",
       "      <td>5785.0</td>\n",
       "      <td>37.362306</td>\n",
       "      <td>0.231964</td>\n",
       "      <td>2.753929</td>\n",
       "      <td>16.249643</td>\n",
       "      <td>43.0</td>\n",
       "      <td>198.020004</td>\n",
       "      <td>51.564069</td>\n",
       "    </tr>\n",
       "    <tr>\n",
       "      <th>AMZN</th>\n",
       "      <td>5785.0</td>\n",
       "      <td>39.468462</td>\n",
       "      <td>0.2955</td>\n",
       "      <td>2.376</td>\n",
       "      <td>11.374</td>\n",
       "      <td>74.766998</td>\n",
       "      <td>187.199997</td>\n",
       "      <td>52.132697</td>\n",
       "    </tr>\n",
       "    <tr>\n",
       "      <th>GOOGL</th>\n",
       "      <td>4875.0</td>\n",
       "      <td>41.906119</td>\n",
       "      <td>2.482232</td>\n",
       "      <td>12.924424</td>\n",
       "      <td>27.104</td>\n",
       "      <td>58.012501</td>\n",
       "      <td>151.25</td>\n",
       "      <td>38.638828</td>\n",
       "    </tr>\n",
       "    <tr>\n",
       "      <th>META</th>\n",
       "      <td>2923.0</td>\n",
       "      <td>157.61935</td>\n",
       "      <td>18.08</td>\n",
       "      <td>80.77</td>\n",
       "      <td>153.639999</td>\n",
       "      <td>204.214996</td>\n",
       "      <td>381.679993</td>\n",
       "      <td>90.865561</td>\n",
       "    </tr>\n",
       "    <tr>\n",
       "      <th>MSFT</th>\n",
       "      <td>5785.0</td>\n",
       "      <td>80.76834</td>\n",
       "      <td>15.2</td>\n",
       "      <td>26.969999</td>\n",
       "      <td>31.969999</td>\n",
       "      <td>94.050003</td>\n",
       "      <td>383.76001</td>\n",
       "      <td>90.360896</td>\n",
       "    </tr>\n",
       "    <tr>\n",
       "      <th rowspan=\"5\" valign=\"top\">Volume</th>\n",
       "      <th>AAPL</th>\n",
       "      <td>5785.0</td>\n",
       "      <td>396258702.402766</td>\n",
       "      <td>24048300.0</td>\n",
       "      <td>124953200.0</td>\n",
       "      <td>274780400.0</td>\n",
       "      <td>535315200.0</td>\n",
       "      <td>3372969600.0</td>\n",
       "      <td>377703850.923873</td>\n",
       "    </tr>\n",
       "    <tr>\n",
       "      <th>AMZN</th>\n",
       "      <td>5785.0</td>\n",
       "      <td>119408724.338807</td>\n",
       "      <td>17626000.0</td>\n",
       "      <td>64442000.0</td>\n",
       "      <td>97472000.0</td>\n",
       "      <td>144002000.0</td>\n",
       "      <td>2086584000.0</td>\n",
       "      <td>96550896.850706</td>\n",
       "    </tr>\n",
       "    <tr>\n",
       "      <th>GOOGL</th>\n",
       "      <td>4875.0</td>\n",
       "      <td>120162133.221744</td>\n",
       "      <td>9312000.0</td>\n",
       "      <td>31764000.0</td>\n",
       "      <td>64127808.0</td>\n",
       "      <td>145897956.0</td>\n",
       "      <td>1643023332.0</td>\n",
       "      <td>149260141.287448</td>\n",
       "    </tr>\n",
       "    <tr>\n",
       "      <th>META</th>\n",
       "      <td>2923.0</td>\n",
       "      <td>30604724.769073</td>\n",
       "      <td>5467500.0</td>\n",
       "      <td>16337300.0</td>\n",
       "      <td>22948700.0</td>\n",
       "      <td>35204400.0</td>\n",
       "      <td>573576400.0</td>\n",
       "      <td>26371567.151792</td>\n",
       "    </tr>\n",
       "    <tr>\n",
       "      <th>MSFT</th>\n",
       "      <td>5785.0</td>\n",
       "      <td>49979496.387208</td>\n",
       "      <td>7425600.0</td>\n",
       "      <td>28042100.0</td>\n",
       "      <td>44648500.0</td>\n",
       "      <td>63775100.0</td>\n",
       "      <td>591052200.0</td>\n",
       "      <td>29711249.575999</td>\n",
       "    </tr>\n",
       "  </tbody>\n",
       "</table>\n",
       "</div>"
      ],
      "text/plain": [
       "                   count                           mean                  min  \\\n",
       "Price     Ticker                                                               \n",
       "Date                5785  2012-07-03 03:47:15.816767488  2001-01-02 00:00:00   \n",
       "Adj Close AAPL    5785.0                      35.934231             0.198078   \n",
       "          AMZN    5785.0                      39.459062               0.2985   \n",
       "          GOOGL   4875.0                      41.868792             2.499884   \n",
       "          META    2923.0                     157.370234             17.69364   \n",
       "          MSFT    5785.0                      73.883331            11.263442   \n",
       "Close     AAPL    5785.0                      37.387745             0.234286   \n",
       "          AMZN    5785.0                      39.459062               0.2985   \n",
       "          GOOGL   4875.0                      41.916845             2.502753   \n",
       "          META    2923.0                      157.69362                17.73   \n",
       "          MSFT    5785.0                      80.795008                15.15   \n",
       "High      AAPL    5785.0                      37.768913             0.235536   \n",
       "          AMZN    5785.0                      39.934441                0.305   \n",
       "          GOOGL   4875.0                      42.346107             2.546046   \n",
       "          META    2923.0                     159.668765                18.27   \n",
       "          MSFT    5785.0                      81.592889                15.62   \n",
       "Low       AAPL    5785.0                      36.971609             0.227143   \n",
       "          AMZN    5785.0                      38.963193               0.2755   \n",
       "          GOOGL   4875.0                      41.468347             2.401401   \n",
       "          META    2923.0                     155.638686            17.549999   \n",
       "          MSFT    5785.0                      79.932932                14.87   \n",
       "Open      AAPL    5785.0                      37.362306             0.231964   \n",
       "          AMZN    5785.0                      39.468462               0.2955   \n",
       "          GOOGL   4875.0                      41.906119             2.482232   \n",
       "          META    2923.0                      157.61935                18.08   \n",
       "          MSFT    5785.0                       80.76834                 15.2   \n",
       "Volume    AAPL    5785.0               396258702.402766           24048300.0   \n",
       "          AMZN    5785.0               119408724.338807           17626000.0   \n",
       "          GOOGL   4875.0               120162133.221744            9312000.0   \n",
       "          META    2923.0                30604724.769073            5467500.0   \n",
       "          MSFT    5785.0                49979496.387208            7425600.0   \n",
       "\n",
       "                                  25%                  50%  \\\n",
       "Price     Ticker                                             \n",
       "Date              2006-10-04 00:00:00  2012-07-02 00:00:00   \n",
       "Adj Close AAPL               2.324391            13.875538   \n",
       "          AMZN                 2.3935               11.384   \n",
       "          GOOGL              12.89686            27.058945   \n",
       "          META              80.604355           153.205185   \n",
       "          MSFT               18.91785            23.879269   \n",
       "Close     AAPL               2.749286            16.178928   \n",
       "          AMZN                 2.3935               11.384   \n",
       "          GOOGL             12.911662                27.09   \n",
       "          META              80.769997           153.520004   \n",
       "          MSFT                  26.98                31.99   \n",
       "High      AAPL               2.777857            16.346071   \n",
       "          AMZN                 2.4185               11.546   \n",
       "          GOOGL             13.043293            27.290501   \n",
       "          META              81.470001           155.589996   \n",
       "          MSFT                  27.23            32.299999   \n",
       "Low       AAPL               2.708214            16.051071   \n",
       "          AMZN                 2.3345              11.2355   \n",
       "          GOOGL             12.781281               26.858   \n",
       "          META              80.154999           151.660004   \n",
       "          MSFT                  26.74                31.66   \n",
       "Open      AAPL               2.753929            16.249643   \n",
       "          AMZN                  2.376               11.374   \n",
       "          GOOGL             12.924424               27.104   \n",
       "          META                  80.77           153.639999   \n",
       "          MSFT              26.969999            31.969999   \n",
       "Volume    AAPL            124953200.0          274780400.0   \n",
       "          AMZN             64442000.0           97472000.0   \n",
       "          GOOGL            31764000.0           64127808.0   \n",
       "          META             16337300.0           22948700.0   \n",
       "          MSFT             28042100.0           44648500.0   \n",
       "\n",
       "                                  75%                  max               std  \n",
       "Price     Ticker                                                              \n",
       "Date              2018-04-03 00:00:00  2023-12-29 00:00:00               NaN  \n",
       "Adj Close AAPL               40.82338           197.589523         51.307455  \n",
       "          AMZN                   75.0           186.570496         52.103855  \n",
       "          GOOGL             58.289351           149.666733         38.614639  \n",
       "          META              204.38501            381.39624           90.7394  \n",
       "          MSFT              87.665352           381.305847         91.404957  \n",
       "Close     AAPL              42.962502           198.110001         51.612923  \n",
       "          AMZN                   75.0           186.570496         52.103855  \n",
       "          GOOGL             58.356249           149.838501         38.658957  \n",
       "          META                204.805           382.179993         90.925863  \n",
       "          MSFT              93.919998           382.700012         90.392952  \n",
       "High      AAPL              43.330002           199.619995         52.136589  \n",
       "          AMZN              76.268997           188.654007         52.747331  \n",
       "          GOOGL             58.834251           151.546494         39.074717  \n",
       "          META             207.645004           384.329987         92.034626  \n",
       "          MSFT              95.139999           384.299988         91.270157  \n",
       "Low       AAPL              42.584999                197.0         51.034225  \n",
       "          AMZN              73.925003           184.839493           51.4586  \n",
       "          GOOGL              57.57675           148.899002         38.225827  \n",
       "          META             201.785004           378.809998         89.773014  \n",
       "          MSFT              92.940002           378.160004         89.414656  \n",
       "Open      AAPL                   43.0           198.020004         51.564069  \n",
       "          AMZN              74.766998           187.199997         52.132697  \n",
       "          GOOGL             58.012501               151.25         38.638828  \n",
       "          META             204.214996           381.679993         90.865561  \n",
       "          MSFT              94.050003            383.76001         90.360896  \n",
       "Volume    AAPL            535315200.0         3372969600.0  377703850.923873  \n",
       "          AMZN            144002000.0         2086584000.0   96550896.850706  \n",
       "          GOOGL           145897956.0         1643023332.0  149260141.287448  \n",
       "          META             35204400.0          573576400.0   26371567.151792  \n",
       "          MSFT             63775100.0          591052200.0   29711249.575999  "
      ]
     },
     "execution_count": 61,
     "metadata": {},
     "output_type": "execute_result"
    }
   ],
   "source": [
    "## Inspecting the dataframe visually\n",
    "stocks_data.describe().T"
   ]
  },
  {
   "cell_type": "markdown",
   "metadata": {},
   "source": [
    "#### Oil Dataset"
   ]
  },
  {
   "cell_type": "markdown",
   "metadata": {},
   "source": [
    "##### *Inspecting the dataframe programmatically*"
   ]
  },
  {
   "cell_type": "code",
   "execution_count": 62,
   "metadata": {},
   "outputs": [
    {
     "data": {
      "text/plain": [
       "period                object\n",
       "duoarea               object\n",
       "area-name             object\n",
       "product               object\n",
       "product-name          object\n",
       "process               object\n",
       "process-name          object\n",
       "series                object\n",
       "series-description    object\n",
       "dtype: object"
      ]
     },
     "execution_count": 62,
     "metadata": {},
     "output_type": "execute_result"
    }
   ],
   "source": [
    "oil_data.dtypes"
   ]
  },
  {
   "cell_type": "markdown",
   "metadata": {},
   "source": [
    "> All the datatypes in oil data are seen as objects. But as seen in the sample of the data some are dates and bumers."
   ]
  },
  {
   "cell_type": "code",
   "execution_count": 70,
   "metadata": {},
   "outputs": [
    {
     "data": {
      "text/html": [
       "<div>\n",
       "<style scoped>\n",
       "    .dataframe tbody tr th:only-of-type {\n",
       "        vertical-align: middle;\n",
       "    }\n",
       "\n",
       "    .dataframe tbody tr th {\n",
       "        vertical-align: top;\n",
       "    }\n",
       "\n",
       "    .dataframe thead th {\n",
       "        text-align: right;\n",
       "    }\n",
       "</style>\n",
       "<table border=\"1\" class=\"dataframe\">\n",
       "  <thead>\n",
       "    <tr style=\"text-align: right;\">\n",
       "      <th></th>\n",
       "      <th>1439</th>\n",
       "      <th>1158</th>\n",
       "    </tr>\n",
       "  </thead>\n",
       "  <tbody>\n",
       "    <tr>\n",
       "      <th>period</th>\n",
       "      <td>2015-01-16</td>\n",
       "      <td>2017-08-25</td>\n",
       "    </tr>\n",
       "    <tr>\n",
       "      <th>duoarea</th>\n",
       "      <td>Y05LA</td>\n",
       "      <td>RGC</td>\n",
       "    </tr>\n",
       "    <tr>\n",
       "      <th>area-name</th>\n",
       "      <td>LOS ANGELES</td>\n",
       "      <td>NA</td>\n",
       "    </tr>\n",
       "    <tr>\n",
       "      <th>product</th>\n",
       "      <td>EPD2DC</td>\n",
       "      <td>EPMRU</td>\n",
       "    </tr>\n",
       "    <tr>\n",
       "      <th>product-name</th>\n",
       "      <td>Carb Diesel</td>\n",
       "      <td>Conventional Regular Gasoline</td>\n",
       "    </tr>\n",
       "    <tr>\n",
       "      <th>process</th>\n",
       "      <td>PF4</td>\n",
       "      <td>PF4</td>\n",
       "    </tr>\n",
       "    <tr>\n",
       "      <th>process-name</th>\n",
       "      <td>Spot Price FOB</td>\n",
       "      <td>Spot Price FOB</td>\n",
       "    </tr>\n",
       "    <tr>\n",
       "      <th>series</th>\n",
       "      <td>EER_EPD2DC_PF4_Y05LA_DPG</td>\n",
       "      <td>EER_EPMRU_PF4_RGC_DPG</td>\n",
       "    </tr>\n",
       "    <tr>\n",
       "      <th>series-description</th>\n",
       "      <td>Los Angeles, CA Ultra-Low Sulfur CARB Diesel S...</td>\n",
       "      <td>U.S. Gulf Coast Conventional Gasoline Regular ...</td>\n",
       "    </tr>\n",
       "  </tbody>\n",
       "</table>\n",
       "</div>"
      ],
      "text/plain": [
       "                                                                 1439  \\\n",
       "period                                                     2015-01-16   \n",
       "duoarea                                                         Y05LA   \n",
       "area-name                                                 LOS ANGELES   \n",
       "product                                                        EPD2DC   \n",
       "product-name                                              Carb Diesel   \n",
       "process                                                           PF4   \n",
       "process-name                                           Spot Price FOB   \n",
       "series                                       EER_EPD2DC_PF4_Y05LA_DPG   \n",
       "series-description  Los Angeles, CA Ultra-Low Sulfur CARB Diesel S...   \n",
       "\n",
       "                                                                 1158  \n",
       "period                                                     2017-08-25  \n",
       "duoarea                                                           RGC  \n",
       "area-name                                                          NA  \n",
       "product                                                         EPMRU  \n",
       "product-name                            Conventional Regular Gasoline  \n",
       "process                                                           PF4  \n",
       "process-name                                           Spot Price FOB  \n",
       "series                                          EER_EPMRU_PF4_RGC_DPG  \n",
       "series-description  U.S. Gulf Coast Conventional Gasoline Regular ...  "
      ]
     },
     "execution_count": 70,
     "metadata": {},
     "output_type": "execute_result"
    }
   ],
   "source": [
    "oil_data.sample(2).T"
   ]
  },
  {
   "cell_type": "markdown",
   "metadata": {},
   "source": [
    "> So most of the data here are categorical."
   ]
  },
  {
   "cell_type": "code",
   "execution_count": 67,
   "metadata": {},
   "outputs": [
    {
     "data": {
      "text/plain": [
       "period                1193\n",
       "duoarea                  6\n",
       "area-name                3\n",
       "product                  9\n",
       "product-name             9\n",
       "process                  1\n",
       "process-name             1\n",
       "series                  11\n",
       "series-description      11\n",
       "dtype: int64"
      ]
     },
     "execution_count": 67,
     "metadata": {},
     "output_type": "execute_result"
    }
   ],
   "source": [
    "oil_data.nunique()"
   ]
  },
  {
   "cell_type": "markdown",
   "metadata": {},
   "source": [
    "> The date column is named period instead of date. Each of the process and the process-name have only one unique value that is, they don't bring a value to the dataset."
   ]
  },
  {
   "cell_type": "markdown",
   "metadata": {},
   "source": [
    "##### *Inspecting the dataframe visually*"
   ]
  },
  {
   "cell_type": "code",
   "execution_count": 72,
   "metadata": {},
   "outputs": [
    {
     "data": {
      "text/html": [
       "<div>\n",
       "<style scoped>\n",
       "    .dataframe tbody tr th:only-of-type {\n",
       "        vertical-align: middle;\n",
       "    }\n",
       "\n",
       "    .dataframe tbody tr th {\n",
       "        vertical-align: top;\n",
       "    }\n",
       "\n",
       "    .dataframe thead th {\n",
       "        text-align: right;\n",
       "    }\n",
       "</style>\n",
       "<table border=\"1\" class=\"dataframe\">\n",
       "  <thead>\n",
       "    <tr style=\"text-align: right;\">\n",
       "      <th></th>\n",
       "      <th>count</th>\n",
       "      <th>unique</th>\n",
       "      <th>top</th>\n",
       "      <th>freq</th>\n",
       "    </tr>\n",
       "  </thead>\n",
       "  <tbody>\n",
       "    <tr>\n",
       "      <th>period</th>\n",
       "      <td>5000</td>\n",
       "      <td>1193</td>\n",
       "      <td>2016-03-11</td>\n",
       "      <td>9</td>\n",
       "    </tr>\n",
       "    <tr>\n",
       "      <th>duoarea</th>\n",
       "      <td>5000</td>\n",
       "      <td>6</td>\n",
       "      <td>RGC</td>\n",
       "      <td>1405</td>\n",
       "    </tr>\n",
       "    <tr>\n",
       "      <th>area-name</th>\n",
       "      <td>5000</td>\n",
       "      <td>3</td>\n",
       "      <td>NA</td>\n",
       "      <td>2778</td>\n",
       "    </tr>\n",
       "    <tr>\n",
       "      <th>product</th>\n",
       "      <td>5000</td>\n",
       "      <td>9</td>\n",
       "      <td>EPMRU</td>\n",
       "      <td>925</td>\n",
       "    </tr>\n",
       "    <tr>\n",
       "      <th>product-name</th>\n",
       "      <td>5000</td>\n",
       "      <td>9</td>\n",
       "      <td>Conventional Regular Gasoline</td>\n",
       "      <td>925</td>\n",
       "    </tr>\n",
       "    <tr>\n",
       "      <th>process</th>\n",
       "      <td>5000</td>\n",
       "      <td>1</td>\n",
       "      <td>PF4</td>\n",
       "      <td>5000</td>\n",
       "    </tr>\n",
       "    <tr>\n",
       "      <th>process-name</th>\n",
       "      <td>5000</td>\n",
       "      <td>1</td>\n",
       "      <td>Spot Price FOB</td>\n",
       "      <td>5000</td>\n",
       "    </tr>\n",
       "    <tr>\n",
       "      <th>series</th>\n",
       "      <td>5000</td>\n",
       "      <td>11</td>\n",
       "      <td>EER_EPD2F_PF4_Y35NY_DPG</td>\n",
       "      <td>603</td>\n",
       "    </tr>\n",
       "    <tr>\n",
       "      <th>series-description</th>\n",
       "      <td>5000</td>\n",
       "      <td>11</td>\n",
       "      <td>New York Harbor No. 2 Heating Oil Spot Price F...</td>\n",
       "      <td>603</td>\n",
       "    </tr>\n",
       "  </tbody>\n",
       "</table>\n",
       "</div>"
      ],
      "text/plain": [
       "                   count unique  \\\n",
       "period              5000   1193   \n",
       "duoarea             5000      6   \n",
       "area-name           5000      3   \n",
       "product             5000      9   \n",
       "product-name        5000      9   \n",
       "process             5000      1   \n",
       "process-name        5000      1   \n",
       "series              5000     11   \n",
       "series-description  5000     11   \n",
       "\n",
       "                                                                  top  freq  \n",
       "period                                                     2016-03-11     9  \n",
       "duoarea                                                           RGC  1405  \n",
       "area-name                                                          NA  2778  \n",
       "product                                                         EPMRU   925  \n",
       "product-name                            Conventional Regular Gasoline   925  \n",
       "process                                                           PF4  5000  \n",
       "process-name                                           Spot Price FOB  5000  \n",
       "series                                        EER_EPD2F_PF4_Y35NY_DPG   603  \n",
       "series-description  New York Harbor No. 2 Heating Oil Spot Price F...   603  "
      ]
     },
     "execution_count": 72,
     "metadata": {},
     "output_type": "execute_result"
    }
   ],
   "source": [
    "oil_data.describe().T"
   ]
  },
  {
   "cell_type": "markdown",
   "metadata": {
    "id": "lXhGiYyiwwKN"
   },
   "source": [
    "### Columns Names: (Tidiness Issue #1):"
   ]
  },
  {
   "cell_type": "markdown",
   "metadata": {},
   "source": [
    "#### Stocks Dataset"
   ]
  },
  {
   "cell_type": "markdown",
   "metadata": {},
   "source": [
    "##### *Inspecting the dataframe programmatically*"
   ]
  },
  {
   "cell_type": "code",
   "execution_count": 21,
   "metadata": {},
   "outputs": [
    {
     "data": {
      "text/plain": [
       "MultiIndex([(     'Date',      ''),\n",
       "            ('Adj Close',  'AAPL'),\n",
       "            ('Adj Close',  'AMZN'),\n",
       "            ('Adj Close', 'GOOGL'),\n",
       "            ('Adj Close',  'META'),\n",
       "            ('Adj Close',  'MSFT'),\n",
       "            (    'Close',  'AAPL'),\n",
       "            (    'Close',  'AMZN'),\n",
       "            (    'Close', 'GOOGL'),\n",
       "            (    'Close',  'META'),\n",
       "            (    'Close',  'MSFT'),\n",
       "            (     'High',  'AAPL'),\n",
       "            (     'High',  'AMZN'),\n",
       "            (     'High', 'GOOGL'),\n",
       "            (     'High',  'META'),\n",
       "            (     'High',  'MSFT'),\n",
       "            (      'Low',  'AAPL'),\n",
       "            (      'Low',  'AMZN'),\n",
       "            (      'Low', 'GOOGL'),\n",
       "            (      'Low',  'META'),\n",
       "            (      'Low',  'MSFT'),\n",
       "            (     'Open',  'AAPL'),\n",
       "            (     'Open',  'AMZN'),\n",
       "            (     'Open', 'GOOGL'),\n",
       "            (     'Open',  'META'),\n",
       "            (     'Open',  'MSFT'),\n",
       "            (   'Volume',  'AAPL'),\n",
       "            (   'Volume',  'AMZN'),\n",
       "            (   'Volume', 'GOOGL'),\n",
       "            (   'Volume',  'META'),\n",
       "            (   'Volume',  'MSFT')],\n",
       "           names=['Price', 'Ticker'])"
      ]
     },
     "execution_count": 21,
     "metadata": {},
     "output_type": "execute_result"
    }
   ],
   "source": [
    "stocks_data.columns"
   ]
  },
  {
   "cell_type": "markdown",
   "metadata": {},
   "source": [
    "> The columns names have to converted to the appropriate and by the convintion naming of columns."
   ]
  },
  {
   "cell_type": "markdown",
   "metadata": {},
   "source": [
    "#### Oil Dataset"
   ]
  },
  {
   "cell_type": "markdown",
   "metadata": {},
   "source": [
    "##### *Inspecting the dataframe programmatically*"
   ]
  },
  {
   "cell_type": "code",
   "execution_count": 22,
   "metadata": {},
   "outputs": [
    {
     "data": {
      "text/plain": [
       "Index(['period', 'duoarea', 'area-name', 'product', 'product-name', 'process',\n",
       "       'process-name', 'series', 'series-description'],\n",
       "      dtype='object')"
      ]
     },
     "execution_count": 22,
     "metadata": {},
     "output_type": "execute_result"
    }
   ],
   "source": [
    "oil_data.columns"
   ]
  },
  {
   "cell_type": "markdown",
   "metadata": {},
   "source": [
    "> The names of these columns would be better mapped for the merging, the column of date is named period. other coulmns could use a more meaningful name and using the convention of columns naming."
   ]
  },
  {
   "cell_type": "markdown",
   "metadata": {
    "id": "4ffMoRGSwzYj"
   },
   "source": [
    "### Indexing (Tidiness Issue #2): "
   ]
  },
  {
   "cell_type": "markdown",
   "metadata": {},
   "source": [
    "#### Stocks Dataset"
   ]
  },
  {
   "cell_type": "markdown",
   "metadata": {},
   "source": [
    "##### *Inspecting the dataframe programmatically*"
   ]
  },
  {
   "cell_type": "code",
   "execution_count": 31,
   "metadata": {},
   "outputs": [
    {
     "data": {
      "text/plain": [
       "MultiIndex([(     'Date',      ''),\n",
       "            ('Adj Close',  'AAPL'),\n",
       "            ('Adj Close',  'AMZN'),\n",
       "            ('Adj Close', 'GOOGL'),\n",
       "            ('Adj Close',  'META'),\n",
       "            ('Adj Close',  'MSFT'),\n",
       "            (    'Close',  'AAPL'),\n",
       "            (    'Close',  'AMZN'),\n",
       "            (    'Close', 'GOOGL'),\n",
       "            (    'Close',  'META'),\n",
       "            (    'Close',  'MSFT'),\n",
       "            (     'High',  'AAPL'),\n",
       "            (     'High',  'AMZN'),\n",
       "            (     'High', 'GOOGL'),\n",
       "            (     'High',  'META'),\n",
       "            (     'High',  'MSFT'),\n",
       "            (      'Low',  'AAPL'),\n",
       "            (      'Low',  'AMZN'),\n",
       "            (      'Low', 'GOOGL'),\n",
       "            (      'Low',  'META'),\n",
       "            (      'Low',  'MSFT'),\n",
       "            (     'Open',  'AAPL'),\n",
       "            (     'Open',  'AMZN'),\n",
       "            (     'Open', 'GOOGL'),\n",
       "            (     'Open',  'META'),\n",
       "            (     'Open',  'MSFT'),\n",
       "            (   'Volume',  'AAPL'),\n",
       "            (   'Volume',  'AMZN'),\n",
       "            (   'Volume', 'GOOGL'),\n",
       "            (   'Volume',  'META'),\n",
       "            (   'Volume',  'MSFT')],\n",
       "           names=['Price', 'Ticker'])"
      ]
     },
     "execution_count": 31,
     "metadata": {},
     "output_type": "execute_result"
    }
   ],
   "source": [
    "stocks_data.columns"
   ]
  },
  {
   "cell_type": "markdown",
   "metadata": {},
   "source": [
    "> This dataset is multi-indexed. It would be difficult to deal with. Since we have to have one observation per row, let's better take the decision to handle this case into one observation per row."
   ]
  },
  {
   "cell_type": "markdown",
   "metadata": {},
   "source": [
    "#### Oil Dataset"
   ]
  },
  {
   "cell_type": "markdown",
   "metadata": {},
   "source": [
    "##### *Inspecting the dataframe programmatically*"
   ]
  },
  {
   "cell_type": "code",
   "execution_count": 34,
   "metadata": {},
   "outputs": [
    {
     "data": {
      "text/plain": [
       "RangeIndex(start=0, stop=5000, step=1)"
      ]
     },
     "execution_count": 34,
     "metadata": {},
     "output_type": "execute_result"
    }
   ],
   "source": [
    "oil_data.index"
   ]
  },
  {
   "cell_type": "markdown",
   "metadata": {},
   "source": [
    "> The index of the second dataset is a range index starting from 0 to 5000."
   ]
  },
  {
   "cell_type": "markdown",
   "metadata": {
    "id": "D6gmLnBttpCh"
   },
   "source": [
    "## 5. Clean data\n",
    "It's time to address the issues found during assessment to clean and polish your data.\n",
    "\n",
    "Clean the data to solve the 4 issues corresponding to data quality and tidiness found in the assessing step. **Make sure you include justifications for your cleaning decisions.**\n",
    "\n",
    "After the cleaning for each issue, please use **either** the visually or programatical method to validate the cleaning was succesful.\n",
    "\n",
    "At this stage, you are also expected to remove variables that are unnecessary for your analysis and combine your datasets. Depending on your datasets, you may choose to perform variable combination and elimination before or after the cleaning stage. Your dataset must have **at least** 4 variables after combining the data."
   ]
  },
  {
   "cell_type": "code",
   "execution_count": 20,
   "metadata": {},
   "outputs": [],
   "source": [
    "## Making copies of the datasets to ensure the raw dataframes are not impacted\n",
    "oil_data_cleaned = oil_data.copy()\n",
    "stocks_data_cleaned =stocks_data.copy()"
   ]
  },
  {
   "cell_type": "markdown",
   "metadata": {
    "id": "FmFhN52Yyn3l"
   },
   "source": [
    "### **Quality Issue 1: FILL IN**"
   ]
  },
  {
   "cell_type": "code",
   "execution_count": 21,
   "metadata": {
    "id": "9UejDWrNMW4a"
   },
   "outputs": [],
   "source": [
    "# FILL IN - Apply the cleaning strategy"
   ]
  },
  {
   "cell_type": "code",
   "execution_count": 22,
   "metadata": {
    "id": "oUBee-LPytkv"
   },
   "outputs": [],
   "source": [
    "# FILL IN - Validate the cleaning was successful"
   ]
  },
  {
   "cell_type": "markdown",
   "metadata": {},
   "source": [
    "Justification: *FILL IN*"
   ]
  },
  {
   "cell_type": "markdown",
   "metadata": {
    "id": "n_DAUbJrymBL"
   },
   "source": [
    "### **Quality Issue 2: FILL IN**"
   ]
  },
  {
   "cell_type": "code",
   "execution_count": 23,
   "metadata": {
    "id": "5Yfb-Yu5MTuE"
   },
   "outputs": [],
   "source": [
    "#FILL IN - Apply the cleaning strategy"
   ]
  },
  {
   "cell_type": "code",
   "execution_count": 24,
   "metadata": {
    "id": "ionB2sRaMUmY"
   },
   "outputs": [],
   "source": [
    "#FILL IN - Validate the cleaning was successful"
   ]
  },
  {
   "cell_type": "markdown",
   "metadata": {},
   "source": [
    "Justification: *FILL IN*"
   ]
  },
  {
   "cell_type": "markdown",
   "metadata": {
    "id": "bIUrrfSNyOPR"
   },
   "source": [
    "### **Tidiness Issue 1: FILL IN**"
   ]
  },
  {
   "cell_type": "code",
   "execution_count": 25,
   "metadata": {
    "id": "fib0zAm333bn"
   },
   "outputs": [],
   "source": [
    "#FILL IN - Apply the cleaning strategy"
   ]
  },
  {
   "cell_type": "code",
   "execution_count": 26,
   "metadata": {
    "id": "yhrnUGY_Nk8B"
   },
   "outputs": [],
   "source": [
    "#FILL IN - Validate the cleaning was successful"
   ]
  },
  {
   "cell_type": "markdown",
   "metadata": {},
   "source": [
    "Justification: *FILL IN*"
   ]
  },
  {
   "cell_type": "markdown",
   "metadata": {
    "id": "o51Bt8kwyTzk"
   },
   "source": [
    "### **Tidiness Issue 2: FILL IN**"
   ]
  },
  {
   "cell_type": "code",
   "execution_count": 27,
   "metadata": {
    "id": "7zW8O5yx4Y9O"
   },
   "outputs": [],
   "source": [
    "#FILL IN - Apply the cleaning strategy"
   ]
  },
  {
   "cell_type": "code",
   "execution_count": 28,
   "metadata": {
    "id": "q6I_Sr7lxXi5"
   },
   "outputs": [],
   "source": [
    "#FILL IN - Validate the cleaning was successful"
   ]
  },
  {
   "cell_type": "markdown",
   "metadata": {},
   "source": [
    "Justification: *FILL IN*"
   ]
  },
  {
   "cell_type": "markdown",
   "metadata": {},
   "source": [
    "### **Remove unnecessary variables and combine datasets**\n",
    "\n",
    "Depending on the datasets, you can also peform the combination before the cleaning steps."
   ]
  },
  {
   "cell_type": "code",
   "execution_count": 29,
   "metadata": {},
   "outputs": [],
   "source": [
    "## visualize using the corrleation matrix to check for correlation and feature selections"
   ]
  },
  {
   "cell_type": "code",
   "execution_count": 30,
   "metadata": {},
   "outputs": [],
   "source": [
    "#FILL IN - Remove unnecessary variables and combine datasets"
   ]
  },
  {
   "cell_type": "markdown",
   "metadata": {
    "id": "F42urHuzttjF"
   },
   "source": [
    "## 6. Update the data store\n",
    "In this section, the local database/data store in the directory data are updated with the cleaned data too, with best practices for storing cleaned data:\n",
    "- Maintained different instances / versions of data (raw and cleaned data)\n",
    "- Named the dataset files informatively\n",
    "- Ensure both the raw and cleaned data are saved to the database/data store directory."
   ]
  },
  {
   "cell_type": "markdown",
   "metadata": {},
   "source": [
    "> Now the datasets are cleaned they are saved to separete file."
   ]
  },
  {
   "cell_type": "code",
   "execution_count": 31,
   "metadata": {
    "id": "V3uay7EJUV_L"
   },
   "outputs": [],
   "source": [
    "oil_data_cleaned.to_csv('data/oil_data_api_cleaned.csv', index=False) ## store to cvs file"
   ]
  },
  {
   "cell_type": "code",
   "execution_count": 32,
   "metadata": {},
   "outputs": [],
   "source": [
    "stocks_data_cleaned.to_csv('data/stock_data_cleaned.csv', index=False) ## store to cvs file"
   ]
  },
  {
   "cell_type": "markdown",
   "metadata": {
    "id": "cGy_yddGtzhM"
   },
   "source": [
    "## 7. Research\n",
    "\n",
    "### **7.1:** Oil Prices and Big Tech. Stocks \n",
    "In this section the cleaned data copies are reloaded and used to answer the question raised."
   ]
  },
  {
   "cell_type": "markdown",
   "metadata": {
    "id": "gjedE4s4ZkEd"
   },
   "source": [
    "*Research question:* \n",
    "\n",
    "How does the stocks of the big Tech. Companies such as Google and Amazon, META and Micorsoft and prices of oils changes or correlates in the same year?"
   ]
  },
  {
   "cell_type": "code",
   "execution_count": 73,
   "metadata": {
    "id": "Lkw3rW9kZmOm"
   },
   "outputs": [],
   "source": [
    "## Visual 1 - FILL IN\n",
    "## Plotting the corrleation matrix"
   ]
  },
  {
   "cell_type": "markdown",
   "metadata": {},
   "source": [
    "*Answer to research question:* FILL IN"
   ]
  },
  {
   "cell_type": "code",
   "execution_count": 34,
   "metadata": {
    "id": "6fdK_8ZGZm9R"
   },
   "outputs": [],
   "source": [
    "## Visual 2 - FILL IN\n",
    "## Visualizing the stocks and oils as a time line for comparison"
   ]
  },
  {
   "cell_type": "markdown",
   "metadata": {
    "id": "K5RgvMGUZoHn"
   },
   "source": [
    "*Answer to research question:* FILL IN"
   ]
  },
  {
   "cell_type": "markdown",
   "metadata": {
    "id": "0ezWXXZVj-TP"
   },
   "source": [
    "### **7.2:** Reflection\n",
    "In 2-4 sentences, if you had more time to complete the project, what actions would you take? For example, which data quality and structural issues would you look into further, and what research questions would you further explore?"
   ]
  },
  {
   "cell_type": "markdown",
   "metadata": {
    "id": "XB3RBDG5kFe1"
   },
   "source": [
    "*Answer:* FILL IN"
   ]
  }
 ],
 "metadata": {
  "colab": {
   "provenance": []
  },
  "kernelspec": {
   "display_name": "Python 3 (ipykernel)",
   "language": "python",
   "name": "python3"
  },
  "language_info": {
   "codemirror_mode": {
    "name": "ipython",
    "version": 3
   },
   "file_extension": ".py",
   "mimetype": "text/x-python",
   "name": "python",
   "nbconvert_exporter": "python",
   "pygments_lexer": "ipython3",
   "version": "3.11.0"
  }
 },
 "nbformat": 4,
 "nbformat_minor": 1
}
