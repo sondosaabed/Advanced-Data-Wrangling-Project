{
 "cells": [
  {
   "cell_type": "markdown",
   "metadata": {
    "id": "GNIwe5N7s0e_"
   },
   "source": [
    "<div align=\"center\"> \n",
    "\n",
    "# Investigating Oil prices and Big Tech. Companies Stock Market \n",
    "\n",
    "<p>Between 2001-1-1 - 2023-12-31</p>\n",
    "</div>"
   ]
  },
  {
   "cell_type": "markdown",
   "metadata": {
    "id": "_BG63Tpg8ep_"
   },
   "source": [
    "In this project, you will apply the skills you acquired in the course to gather and wrangle real-world data with two datasets of your choice.\n",
    "\n",
    "You will retrieve and extract the data, assess the data programmatically and visually, accross elements of data quality and structure, and implement a cleaning strategy for the data. You will then store the updated data into your selected database/data store, combine the data, and answer a research question with the datasets."
   ]
  },
  {
   "cell_type": "markdown",
   "metadata": {},
   "source": [
    "## Neccessary Imports"
   ]
  },
  {
   "cell_type": "code",
   "execution_count": 1,
   "metadata": {},
   "outputs": [],
   "source": [
    "## Run this cell to successfully run this notebook\n",
    "## !pip install yfinance"
   ]
  },
  {
   "cell_type": "code",
   "execution_count": 2,
   "metadata": {},
   "outputs": [],
   "source": [
    "import requests\n",
    "import pandas as pd\n",
    "import yfinance as yf\n",
    "import requests\n",
    "import config"
   ]
  },
  {
   "cell_type": "markdown",
   "metadata": {},
   "source": [
    "## Pipeline\n",
    "1. Gather Data\n",
    "2. Asses Data\n",
    "3. Clean Data\n",
    "4. Store Data\n",
    "5. Answering Research Questions"
   ]
  },
  {
   "cell_type": "markdown",
   "metadata": {
    "id": "lDYDkH-Zs7Nn"
   },
   "source": [
    "## 1. Gather data\n",
    "\n",
    "In this section, data using two different (data gathering methods) are extractand and then combined. Two different types of data-gathering methods are use:\n",
    "- Programmatically downloading files\n",
    "- Gathering data by accessing APIs"
   ]
  },
  {
   "cell_type": "markdown",
   "metadata": {
    "id": "LbN7z7rcuqpO"
   },
   "source": [
    "### **1.1.** Problem Statement\n",
    "\n",
    "In this reserach, the stock prices of major tech companies (such as Apple, Microsoft, Google, Amazon, and META) and oil prices over the period spanning from January 2001 to December 2023 are investigated. By examining historical data for both sectors, the aim is to uncover insights into how changes in oil prices impact the financial performance of big tech companies, and vice versa.\n",
    "The datasets would include the stock market data for:\n",
    "- META\n",
    "- AMazon\n",
    "- Google\n",
    "- Apple"
   ]
  },
  {
   "cell_type": "markdown",
   "metadata": {
    "id": "8AQfBAdUypMm"
   },
   "source": [
    "### **1.2.** Gathering Data Methods and Code\n",
    "\n",
    "In this project, two types of data gathering are use: \n",
    "- Programmatically downloading files\n",
    "- Gathering data by accessing APIs\n",
    "\n",
    "Each of the datasets have at least two variables, and have greater than 500 data samples within."
   ]
  },
  {
   "cell_type": "markdown",
   "metadata": {
    "id": "7e6gS0wL1KTu"
   },
   "source": [
    "#### **Dataset 1**: Oils and Petroleum dataset \n",
    "\n",
    "**Type:** JSON response\n",
    "\n",
    "**Method:** The data was gathered using the \"by accessing APIs\" method from https://api.eia.gov/v2/petroleum/pri/spt/data/\n",
    "\n",
    "**Dataset variables:**\n",
    "\n",
    "| Column Name | Description |\n",
    "|---|---|\n",
    "| period |  date associated with the data point |\n",
    "| duoarea | identifier for a specific geographical area |\n",
    "| area-name | area name |\n",
    "| product | identifier for the specific petroleum product |\n",
    "| product-name | name of the product |\n",
    "| process | identifier for the specific process |\n",
    "| process-name | The name of the process used |\n",
    "| series | identifier for the specific data series |\n",
    "| series-description | descriptive text name or label for the data |"
   ]
  },
  {
   "cell_type": "markdown",
   "metadata": {},
   "source": [
    "### Gathering by API"
   ]
  },
  {
   "cell_type": "code",
   "execution_count": 3,
   "metadata": {
    "id": "Su8E0uLuYkHU"
   },
   "outputs": [
    {
     "data": {
      "text/html": [
       "<div>\n",
       "<style scoped>\n",
       "    .dataframe tbody tr th:only-of-type {\n",
       "        vertical-align: middle;\n",
       "    }\n",
       "\n",
       "    .dataframe tbody tr th {\n",
       "        vertical-align: top;\n",
       "    }\n",
       "\n",
       "    .dataframe thead th {\n",
       "        text-align: right;\n",
       "    }\n",
       "</style>\n",
       "<table border=\"1\" class=\"dataframe\">\n",
       "  <thead>\n",
       "    <tr style=\"text-align: right;\">\n",
       "      <th></th>\n",
       "      <th>period</th>\n",
       "      <th>duoarea</th>\n",
       "      <th>area-name</th>\n",
       "      <th>product</th>\n",
       "      <th>product-name</th>\n",
       "      <th>process</th>\n",
       "      <th>process-name</th>\n",
       "      <th>series</th>\n",
       "      <th>series-description</th>\n",
       "    </tr>\n",
       "  </thead>\n",
       "  <tbody>\n",
       "    <tr>\n",
       "      <th>2498</th>\n",
       "      <td>2002-03-08</td>\n",
       "      <td>Y35NY</td>\n",
       "      <td>NEW YORK CITY</td>\n",
       "      <td>EPMRU</td>\n",
       "      <td>Conventional Regular Gasoline</td>\n",
       "      <td>PF4</td>\n",
       "      <td>Spot Price FOB</td>\n",
       "      <td>EER_EPMRU_PF4_Y35NY_DPG</td>\n",
       "      <td>New York Harbor Conventional Gasoline Regular ...</td>\n",
       "    </tr>\n",
       "    <tr>\n",
       "      <th>2375</th>\n",
       "      <td>2006-04-21</td>\n",
       "      <td>RGC</td>\n",
       "      <td>NA</td>\n",
       "      <td>EPMRU</td>\n",
       "      <td>Conventional Regular Gasoline</td>\n",
       "      <td>PF4</td>\n",
       "      <td>Spot Price FOB</td>\n",
       "      <td>EER_EPMRU_PF4_RGC_DPG</td>\n",
       "      <td>U.S. Gulf Coast Conventional Gasoline Regular ...</td>\n",
       "    </tr>\n",
       "    <tr>\n",
       "      <th>558</th>\n",
       "      <td>2009-11-06</td>\n",
       "      <td>Y44MB</td>\n",
       "      <td>NA</td>\n",
       "      <td>EPLLPA</td>\n",
       "      <td>Propane</td>\n",
       "      <td>PF4</td>\n",
       "      <td>Spot Price FOB</td>\n",
       "      <td>EER_EPLLPA_PF4_Y44MB_DPG</td>\n",
       "      <td>Mont Belvieu, TX Propane Spot Price FOB (Dolla...</td>\n",
       "    </tr>\n",
       "    <tr>\n",
       "      <th>1779</th>\n",
       "      <td>2011-09-23</td>\n",
       "      <td>Y35NY</td>\n",
       "      <td>NEW YORK CITY</td>\n",
       "      <td>EPD2F</td>\n",
       "      <td>No 2 Fuel Oil / Heating Oil</td>\n",
       "      <td>PF4</td>\n",
       "      <td>Spot Price FOB</td>\n",
       "      <td>EER_EPD2F_PF4_Y35NY_DPG</td>\n",
       "      <td>New York Harbor No. 2 Heating Oil Spot Price F...</td>\n",
       "    </tr>\n",
       "    <tr>\n",
       "      <th>2166</th>\n",
       "      <td>2021-05-28</td>\n",
       "      <td>Y44MB</td>\n",
       "      <td>NA</td>\n",
       "      <td>EPLLPA</td>\n",
       "      <td>Propane</td>\n",
       "      <td>PF4</td>\n",
       "      <td>Spot Price FOB</td>\n",
       "      <td>EER_EPLLPA_PF4_Y44MB_DPG</td>\n",
       "      <td>Mont Belvieu, TX Propane Spot Price FOB (Dolla...</td>\n",
       "    </tr>\n",
       "  </tbody>\n",
       "</table>\n",
       "</div>"
      ],
      "text/plain": [
       "          period duoarea      area-name product  \\\n",
       "2498  2002-03-08   Y35NY  NEW YORK CITY   EPMRU   \n",
       "2375  2006-04-21     RGC             NA   EPMRU   \n",
       "558   2009-11-06   Y44MB             NA  EPLLPA   \n",
       "1779  2011-09-23   Y35NY  NEW YORK CITY   EPD2F   \n",
       "2166  2021-05-28   Y44MB             NA  EPLLPA   \n",
       "\n",
       "                       product-name process    process-name  \\\n",
       "2498  Conventional Regular Gasoline     PF4  Spot Price FOB   \n",
       "2375  Conventional Regular Gasoline     PF4  Spot Price FOB   \n",
       "558                         Propane     PF4  Spot Price FOB   \n",
       "1779    No 2 Fuel Oil / Heating Oil     PF4  Spot Price FOB   \n",
       "2166                        Propane     PF4  Spot Price FOB   \n",
       "\n",
       "                        series  \\\n",
       "2498   EER_EPMRU_PF4_Y35NY_DPG   \n",
       "2375     EER_EPMRU_PF4_RGC_DPG   \n",
       "558   EER_EPLLPA_PF4_Y44MB_DPG   \n",
       "1779   EER_EPD2F_PF4_Y35NY_DPG   \n",
       "2166  EER_EPLLPA_PF4_Y44MB_DPG   \n",
       "\n",
       "                                     series-description  \n",
       "2498  New York Harbor Conventional Gasoline Regular ...  \n",
       "2375  U.S. Gulf Coast Conventional Gasoline Regular ...  \n",
       "558   Mont Belvieu, TX Propane Spot Price FOB (Dolla...  \n",
       "1779  New York Harbor No. 2 Heating Oil Spot Price F...  \n",
       "2166  Mont Belvieu, TX Propane Spot Price FOB (Dolla...  "
      ]
     },
     "execution_count": 3,
     "metadata": {},
     "output_type": "execute_result"
    }
   ],
   "source": [
    "## Gather the data using the \"Gather data by accessing APIs\" method from https://api.eia.gov\n",
    "api_key = config.EIA_API_KEY\n",
    "url = f'https://api.eia.gov/v2/petroleum/pri/spt/data/?'\n",
    "\n",
    "params = {\n",
    "    'api_key':api_key,\n",
    "    'start':'2001-01-01', \n",
    "    'end':'2023-12-31'\n",
    "}\n",
    "\n",
    "response = requests.get(url, params=params)\n",
    "data = response.json()\n",
    "oil_data =pd.DataFrame(data['response']['data'])\n",
    "oil_data.sample(5)"
   ]
  },
  {
   "cell_type": "code",
   "execution_count": 4,
   "metadata": {},
   "outputs": [
    {
     "data": {
      "text/plain": [
       "(5000, 9)"
      ]
     },
     "execution_count": 4,
     "metadata": {},
     "output_type": "execute_result"
    }
   ],
   "source": [
    "oil_data.shape"
   ]
  },
  {
   "cell_type": "markdown",
   "metadata": {},
   "source": [
    "> The gathered dataset have 5000 rows and 9 features."
   ]
  },
  {
   "cell_type": "code",
   "execution_count": 5,
   "metadata": {},
   "outputs": [],
   "source": [
    "oil_data.to_csv('data/oil_data_api.csv', index=False) ## store to cvs file"
   ]
  },
  {
   "cell_type": "markdown",
   "metadata": {},
   "source": [
    "> Storing step: the dataset is saved to the local data store directory before moving to the next step."
   ]
  },
  {
   "cell_type": "markdown",
   "metadata": {
    "id": "hoUjq1tPzz7P"
   },
   "source": [
    "#### **Dataset 2**: Stocks Dataset\n",
    "\n",
    "**Type:** Pandas.DataFrame\n",
    "\n",
    "**Method:** The data was gathered using the \"Programmatically downloading files\" method from Yahoo Finance using the yfinance library\n",
    "\n",
    "**Dataset variables:**\n",
    "\n",
    "| Column Name | Description |\n",
    "|---|---|\n",
    "| Date | date associated with the data point |\n",
    "| Open | The opening price of the stock on that date. |\n",
    "| High | The highest price reached by the stock on that date. |\n",
    "| Low | The lowest price reached by the stock on that date. |\n",
    "| Close | The closing price of the stock on that date. |\n",
    "| Adj Close | The adjusted closing price, adjusted for dividends and splits. |\n",
    "| Volume | The number of shares traded on that date. |"
   ]
  },
  {
   "cell_type": "markdown",
   "metadata": {},
   "source": [
    "### Gathering by Programmatically Downloading"
   ]
  },
  {
   "cell_type": "code",
   "execution_count": 6,
   "metadata": {
    "id": "6zT0QxRyYmm7"
   },
   "outputs": [
    {
     "name": "stderr",
     "output_type": "stream",
     "text": [
      "[*********************100%%**********************]  5 of 5 completed\n"
     ]
    },
    {
     "data": {
      "text/html": [
       "<div>\n",
       "<style scoped>\n",
       "    .dataframe tbody tr th:only-of-type {\n",
       "        vertical-align: middle;\n",
       "    }\n",
       "\n",
       "    .dataframe tbody tr th {\n",
       "        vertical-align: top;\n",
       "    }\n",
       "\n",
       "    .dataframe thead tr th {\n",
       "        text-align: left;\n",
       "    }\n",
       "</style>\n",
       "<table border=\"1\" class=\"dataframe\">\n",
       "  <thead>\n",
       "    <tr>\n",
       "      <th>Price</th>\n",
       "      <th>Date</th>\n",
       "      <th colspan=\"5\" halign=\"left\">Adj Close</th>\n",
       "      <th colspan=\"4\" halign=\"left\">Close</th>\n",
       "      <th>...</th>\n",
       "      <th colspan=\"5\" halign=\"left\">Open</th>\n",
       "      <th colspan=\"5\" halign=\"left\">Volume</th>\n",
       "    </tr>\n",
       "    <tr>\n",
       "      <th>Ticker</th>\n",
       "      <th></th>\n",
       "      <th>AAPL</th>\n",
       "      <th>AMZN</th>\n",
       "      <th>GOOGL</th>\n",
       "      <th>META</th>\n",
       "      <th>MSFT</th>\n",
       "      <th>AAPL</th>\n",
       "      <th>AMZN</th>\n",
       "      <th>GOOGL</th>\n",
       "      <th>META</th>\n",
       "      <th>...</th>\n",
       "      <th>AAPL</th>\n",
       "      <th>AMZN</th>\n",
       "      <th>GOOGL</th>\n",
       "      <th>META</th>\n",
       "      <th>MSFT</th>\n",
       "      <th>AAPL</th>\n",
       "      <th>AMZN</th>\n",
       "      <th>GOOGL</th>\n",
       "      <th>META</th>\n",
       "      <th>MSFT</th>\n",
       "    </tr>\n",
       "  </thead>\n",
       "  <tbody>\n",
       "    <tr>\n",
       "      <th>4348</th>\n",
       "      <td>2018-04-17</td>\n",
       "      <td>42.197220</td>\n",
       "      <td>75.191498</td>\n",
       "      <td>53.906132</td>\n",
       "      <td>168.314133</td>\n",
       "      <td>89.768417</td>\n",
       "      <td>44.560001</td>\n",
       "      <td>75.191498</td>\n",
       "      <td>53.967999</td>\n",
       "      <td>168.660004</td>\n",
       "      <td>...</td>\n",
       "      <td>44.122501</td>\n",
       "      <td>73.114998</td>\n",
       "      <td>53.060001</td>\n",
       "      <td>165.830002</td>\n",
       "      <td>95.000000</td>\n",
       "      <td>106421600</td>\n",
       "      <td>102288000</td>\n",
       "      <td>54584000.0</td>\n",
       "      <td>22743000.0</td>\n",
       "      <td>26771000</td>\n",
       "    </tr>\n",
       "    <tr>\n",
       "      <th>945</th>\n",
       "      <td>2004-10-08</td>\n",
       "      <td>0.589703</td>\n",
       "      <td>2.000000</td>\n",
       "      <td>3.442746</td>\n",
       "      <td>NaN</td>\n",
       "      <td>17.493927</td>\n",
       "      <td>0.697500</td>\n",
       "      <td>2.000000</td>\n",
       "      <td>3.446697</td>\n",
       "      <td>NaN</td>\n",
       "      <td>...</td>\n",
       "      <td>0.706429</td>\n",
       "      <td>2.047000</td>\n",
       "      <td>3.471471</td>\n",
       "      <td>NaN</td>\n",
       "      <td>28.100000</td>\n",
       "      <td>359228800</td>\n",
       "      <td>170924000</td>\n",
       "      <td>221390388.0</td>\n",
       "      <td>NaN</td>\n",
       "      <td>49556600</td>\n",
       "    </tr>\n",
       "    <tr>\n",
       "      <th>3336</th>\n",
       "      <td>2014-04-09</td>\n",
       "      <td>16.660049</td>\n",
       "      <td>16.590500</td>\n",
       "      <td>28.319498</td>\n",
       "      <td>62.282017</td>\n",
       "      <td>34.208485</td>\n",
       "      <td>18.940001</td>\n",
       "      <td>16.590500</td>\n",
       "      <td>28.351999</td>\n",
       "      <td>62.410000</td>\n",
       "      <td>...</td>\n",
       "      <td>18.665714</td>\n",
       "      <td>16.423500</td>\n",
       "      <td>28.292000</td>\n",
       "      <td>59.630001</td>\n",
       "      <td>39.930000</td>\n",
       "      <td>206169600</td>\n",
       "      <td>101132000</td>\n",
       "      <td>60632000.0</td>\n",
       "      <td>100215000.0</td>\n",
       "      <td>27398700</td>\n",
       "    </tr>\n",
       "    <tr>\n",
       "      <th>602</th>\n",
       "      <td>2003-05-30</td>\n",
       "      <td>0.270998</td>\n",
       "      <td>1.794500</td>\n",
       "      <td>NaN</td>\n",
       "      <td>NaN</td>\n",
       "      <td>15.250608</td>\n",
       "      <td>0.320536</td>\n",
       "      <td>1.794500</td>\n",
       "      <td>NaN</td>\n",
       "      <td>NaN</td>\n",
       "      <td>...</td>\n",
       "      <td>0.323571</td>\n",
       "      <td>1.780500</td>\n",
       "      <td>NaN</td>\n",
       "      <td>NaN</td>\n",
       "      <td>24.730000</td>\n",
       "      <td>382748800</td>\n",
       "      <td>203806000</td>\n",
       "      <td>NaN</td>\n",
       "      <td>NaN</td>\n",
       "      <td>85096700</td>\n",
       "    </tr>\n",
       "    <tr>\n",
       "      <th>3317</th>\n",
       "      <td>2014-03-13</td>\n",
       "      <td>16.670410</td>\n",
       "      <td>18.575500</td>\n",
       "      <td>29.722145</td>\n",
       "      <td>68.688850</td>\n",
       "      <td>32.027672</td>\n",
       "      <td>18.951786</td>\n",
       "      <td>18.575500</td>\n",
       "      <td>29.756256</td>\n",
       "      <td>68.830002</td>\n",
       "      <td>...</td>\n",
       "      <td>19.194286</td>\n",
       "      <td>18.830999</td>\n",
       "      <td>30.228979</td>\n",
       "      <td>71.290001</td>\n",
       "      <td>38.419998</td>\n",
       "      <td>257742800</td>\n",
       "      <td>136580000</td>\n",
       "      <td>93730176.0</td>\n",
       "      <td>57091000.0</td>\n",
       "      <td>32169700</td>\n",
       "    </tr>\n",
       "  </tbody>\n",
       "</table>\n",
       "<p>5 rows × 31 columns</p>\n",
       "</div>"
      ],
      "text/plain": [
       "Price        Date  Adj Close                                               \\\n",
       "Ticker                  AAPL       AMZN      GOOGL        META       MSFT   \n",
       "4348   2018-04-17  42.197220  75.191498  53.906132  168.314133  89.768417   \n",
       "945    2004-10-08   0.589703   2.000000   3.442746         NaN  17.493927   \n",
       "3336   2014-04-09  16.660049  16.590500  28.319498   62.282017  34.208485   \n",
       "602    2003-05-30   0.270998   1.794500        NaN         NaN  15.250608   \n",
       "3317   2014-03-13  16.670410  18.575500  29.722145   68.688850  32.027672   \n",
       "\n",
       "Price       Close                                    ...       Open  \\\n",
       "Ticker       AAPL       AMZN      GOOGL        META  ...       AAPL   \n",
       "4348    44.560001  75.191498  53.967999  168.660004  ...  44.122501   \n",
       "945      0.697500   2.000000   3.446697         NaN  ...   0.706429   \n",
       "3336    18.940001  16.590500  28.351999   62.410000  ...  18.665714   \n",
       "602      0.320536   1.794500        NaN         NaN  ...   0.323571   \n",
       "3317    18.951786  18.575500  29.756256   68.830002  ...  19.194286   \n",
       "\n",
       "Price                                                   Volume             \\\n",
       "Ticker       AMZN      GOOGL        META       MSFT       AAPL       AMZN   \n",
       "4348    73.114998  53.060001  165.830002  95.000000  106421600  102288000   \n",
       "945      2.047000   3.471471         NaN  28.100000  359228800  170924000   \n",
       "3336    16.423500  28.292000   59.630001  39.930000  206169600  101132000   \n",
       "602      1.780500        NaN         NaN  24.730000  382748800  203806000   \n",
       "3317    18.830999  30.228979   71.290001  38.419998  257742800  136580000   \n",
       "\n",
       "Price                                       \n",
       "Ticker        GOOGL         META      MSFT  \n",
       "4348     54584000.0   22743000.0  26771000  \n",
       "945     221390388.0          NaN  49556600  \n",
       "3336     60632000.0  100215000.0  27398700  \n",
       "602             NaN          NaN  85096700  \n",
       "3317     93730176.0   57091000.0  32169700  \n",
       "\n",
       "[5 rows x 31 columns]"
      ]
     },
     "execution_count": 6,
     "metadata": {},
     "output_type": "execute_result"
    }
   ],
   "source": [
    "## 2nd data gathering was downloaded programitticallly from Yahoo Finance using the yfinance library\n",
    "companies = ['AAPL', 'MSFT', 'GOOGL', 'AMZN', 'META']\n",
    "stocks_data = yf.download(companies, start='2001-01-01', end='2023-12-31')\n",
    "stocks_data.reset_index(inplace=True)\n",
    "stocks_data.sample(5)"
   ]
  },
  {
   "cell_type": "code",
   "execution_count": 7,
   "metadata": {},
   "outputs": [
    {
     "data": {
      "text/plain": [
       "(5785, 31)"
      ]
     },
     "execution_count": 7,
     "metadata": {},
     "output_type": "execute_result"
    }
   ],
   "source": [
    "stocks_data.shape"
   ]
  },
  {
   "cell_type": "markdown",
   "metadata": {},
   "source": [
    "> The gathered data has 5785 data points and 31 features."
   ]
  },
  {
   "cell_type": "code",
   "execution_count": 8,
   "metadata": {},
   "outputs": [],
   "source": [
    "stocks_data.to_csv('data/stock_data.csv', index=False) ## store to cvs file"
   ]
  },
  {
   "cell_type": "markdown",
   "metadata": {},
   "source": [
    "> Storing step: the dataset is saved to the local data store directory before moving to the next step."
   ]
  },
  {
   "cell_type": "markdown",
   "metadata": {
    "id": "QwSWIVmotLgV"
   },
   "source": [
    "## 2. Assess data\n",
    "\n",
    "Assess the data according to data quality and tidiness metrics using the report below.\n",
    "\n",
    "List **two** data quality issues and **two** tidiness issues. Assess each data issue visually **and** programmatically, then briefly describe the issue you find.  **Make sure you include justifications for the methods you use for the assessment.**\n",
    "\n",
    "\n",
    "Now that we have gathered the datasets, let's assess the dataset for data quality and structural issues.\n",
    "\n",
    "Here's a list of the data quality attributes we covered in the course for your reference:\n",
    "\n",
    "    Completeness\n",
    "    Validity\n",
    "    Accuracy\n",
    "    Consistency\n",
    "    Uniqueness"
   ]
  },
  {
   "cell_type": "markdown",
   "metadata": {
    "id": "adaK2iPNzVu4"
   },
   "source": [
    "### Completeness (Issue #1):"
   ]
  },
  {
   "cell_type": "markdown",
   "metadata": {},
   "source": [
    "#### Stocks Dataset"
   ]
  },
  {
   "cell_type": "markdown",
   "metadata": {},
   "source": [
    "Inspecting the dataframe programmatically"
   ]
  },
  {
   "cell_type": "code",
   "execution_count": 18,
   "metadata": {
    "id": "SpW59kh-zl8d"
   },
   "outputs": [
    {
     "name": "stdout",
     "output_type": "stream",
     "text": [
      "<class 'pandas.core.frame.DataFrame'>\n",
      "RangeIndex: 5785 entries, 0 to 5784\n",
      "Data columns (total 31 columns):\n",
      " #   Column              Non-Null Count  Dtype         \n",
      "---  ------              --------------  -----         \n",
      " 0   (Date, )            5785 non-null   datetime64[ns]\n",
      " 1   (Adj Close, AAPL)   5785 non-null   float64       \n",
      " 2   (Adj Close, AMZN)   5785 non-null   float64       \n",
      " 3   (Adj Close, GOOGL)  4875 non-null   float64       \n",
      " 4   (Adj Close, META)   2923 non-null   float64       \n",
      " 5   (Adj Close, MSFT)   5785 non-null   float64       \n",
      " 6   (Close, AAPL)       5785 non-null   float64       \n",
      " 7   (Close, AMZN)       5785 non-null   float64       \n",
      " 8   (Close, GOOGL)      4875 non-null   float64       \n",
      " 9   (Close, META)       2923 non-null   float64       \n",
      " 10  (Close, MSFT)       5785 non-null   float64       \n",
      " 11  (High, AAPL)        5785 non-null   float64       \n",
      " 12  (High, AMZN)        5785 non-null   float64       \n",
      " 13  (High, GOOGL)       4875 non-null   float64       \n",
      " 14  (High, META)        2923 non-null   float64       \n",
      " 15  (High, MSFT)        5785 non-null   float64       \n",
      " 16  (Low, AAPL)         5785 non-null   float64       \n",
      " 17  (Low, AMZN)         5785 non-null   float64       \n",
      " 18  (Low, GOOGL)        4875 non-null   float64       \n",
      " 19  (Low, META)         2923 non-null   float64       \n",
      " 20  (Low, MSFT)         5785 non-null   float64       \n",
      " 21  (Open, AAPL)        5785 non-null   float64       \n",
      " 22  (Open, AMZN)        5785 non-null   float64       \n",
      " 23  (Open, GOOGL)       4875 non-null   float64       \n",
      " 24  (Open, META)        2923 non-null   float64       \n",
      " 25  (Open, MSFT)        5785 non-null   float64       \n",
      " 26  (Volume, AAPL)      5785 non-null   int64         \n",
      " 27  (Volume, AMZN)      5785 non-null   int64         \n",
      " 28  (Volume, GOOGL)     4875 non-null   float64       \n",
      " 29  (Volume, META)      2923 non-null   float64       \n",
      " 30  (Volume, MSFT)      5785 non-null   int64         \n",
      "dtypes: datetime64[ns](1), float64(27), int64(3)\n",
      "memory usage: 1.4 MB\n"
     ]
    }
   ],
   "source": [
    "stocks_data.info()"
   ]
  },
  {
   "cell_type": "markdown",
   "metadata": {},
   "source": [
    "> While the range index is from 0 to 5784, some the columns arn't complete such as (Adj Close, GOOGL), (Adj Close, META), (Close, GOOGL), (Close, META),  (High, GOOGL), (High, META),  (Low, GOOGL),  (Low, META), (Open, GOOGL),  (Open, META),  (Volume, GOOGL), (Volume, META) and (Volume, MSFT).\n",
    "> These missing data are specifically in data regarding the Google, and the META big tech companies."
   ]
  },
  {
   "cell_type": "code",
   "execution_count": 24,
   "metadata": {},
   "outputs": [
    {
     "data": {
      "text/plain": [
       "Price      Ticker\n",
       "Date                    0\n",
       "Volume     AMZN         0\n",
       "           AAPL         0\n",
       "Open       MSFT         0\n",
       "           AMZN         0\n",
       "           AAPL         0\n",
       "Low        MSFT         0\n",
       "           AMZN         0\n",
       "           AAPL         0\n",
       "High       AMZN         0\n",
       "           AAPL         0\n",
       "           MSFT         0\n",
       "Adj Close  MSFT         0\n",
       "           AAPL         0\n",
       "           AMZN         0\n",
       "Close      MSFT         0\n",
       "           AAPL         0\n",
       "Volume     MSFT         0\n",
       "Close      AMZN         0\n",
       "Low        GOOGL      910\n",
       "Close      GOOGL      910\n",
       "Open       GOOGL      910\n",
       "Adj Close  GOOGL      910\n",
       "High       GOOGL      910\n",
       "Volume     GOOGL      910\n",
       "Low        META      2862\n",
       "Volume     META      2862\n",
       "Adj Close  META      2862\n",
       "Open       META      2862\n",
       "High       META      2862\n",
       "Close      META      2862\n",
       "dtype: int64"
      ]
     },
     "execution_count": 24,
     "metadata": {},
     "output_type": "execute_result"
    }
   ],
   "source": [
    "stocks_data.isna().sum().sort_values()"
   ]
  },
  {
   "cell_type": "markdown",
   "metadata": {},
   "source": [
    "> There are 910 m,issing records from the Google dataset, and 2862 from the META Dataset."
   ]
  },
  {
   "cell_type": "markdown",
   "metadata": {},
   "source": [
    "Inspecting the dataframe visually"
   ]
  },
  {
   "cell_type": "code",
   "execution_count": null,
   "metadata": {},
   "outputs": [],
   "source": []
  },
  {
   "cell_type": "markdown",
   "metadata": {},
   "source": [
    "#### Oil Dataset"
   ]
  },
  {
   "cell_type": "markdown",
   "metadata": {},
   "source": [
    "Inspecting the dataframe programmatically"
   ]
  },
  {
   "cell_type": "code",
   "execution_count": 25,
   "metadata": {},
   "outputs": [
    {
     "name": "stdout",
     "output_type": "stream",
     "text": [
      "<class 'pandas.core.frame.DataFrame'>\n",
      "RangeIndex: 5000 entries, 0 to 4999\n",
      "Data columns (total 9 columns):\n",
      " #   Column              Non-Null Count  Dtype \n",
      "---  ------              --------------  ----- \n",
      " 0   period              5000 non-null   object\n",
      " 1   duoarea             5000 non-null   object\n",
      " 2   area-name           5000 non-null   object\n",
      " 3   product             5000 non-null   object\n",
      " 4   product-name        5000 non-null   object\n",
      " 5   process             5000 non-null   object\n",
      " 6   process-name        5000 non-null   object\n",
      " 7   series              5000 non-null   object\n",
      " 8   series-description  5000 non-null   object\n",
      "dtypes: object(9)\n",
      "memory usage: 351.7+ KB\n"
     ]
    }
   ],
   "source": [
    "oil_data.info()"
   ]
  },
  {
   "cell_type": "markdown",
   "metadata": {},
   "source": [
    "> The data have 0 to 4999 indices, and all the columns non-null counts are full. However, it was noticed that there are NA values used to presnet the null values."
   ]
  },
  {
   "cell_type": "code",
   "execution_count": 29,
   "metadata": {},
   "outputs": [
    {
     "data": {
      "text/html": [
       "<div>\n",
       "<style scoped>\n",
       "    .dataframe tbody tr th:only-of-type {\n",
       "        vertical-align: middle;\n",
       "    }\n",
       "\n",
       "    .dataframe tbody tr th {\n",
       "        vertical-align: top;\n",
       "    }\n",
       "\n",
       "    .dataframe thead th {\n",
       "        text-align: right;\n",
       "    }\n",
       "</style>\n",
       "<table border=\"1\" class=\"dataframe\">\n",
       "  <thead>\n",
       "    <tr style=\"text-align: right;\">\n",
       "      <th></th>\n",
       "      <th>period</th>\n",
       "      <th>duoarea</th>\n",
       "      <th>area-name</th>\n",
       "      <th>product</th>\n",
       "      <th>product-name</th>\n",
       "      <th>process</th>\n",
       "      <th>process-name</th>\n",
       "      <th>series</th>\n",
       "      <th>series-description</th>\n",
       "    </tr>\n",
       "  </thead>\n",
       "  <tbody>\n",
       "    <tr>\n",
       "      <th>4126</th>\n",
       "      <td>2014-02-21</td>\n",
       "      <td>Y35NY</td>\n",
       "      <td>NEW YORK CITY</td>\n",
       "      <td>EPMRU</td>\n",
       "      <td>Conventional Regular Gasoline</td>\n",
       "      <td>PF4</td>\n",
       "      <td>Spot Price FOB</td>\n",
       "      <td>EER_EPMRU_PF4_Y35NY_DPG</td>\n",
       "      <td>New York Harbor Conventional Gasoline Regular ...</td>\n",
       "    </tr>\n",
       "    <tr>\n",
       "      <th>4546</th>\n",
       "      <td>2005-05-06</td>\n",
       "      <td>Y05LA</td>\n",
       "      <td>LOS ANGELES</td>\n",
       "      <td>EPD2DC</td>\n",
       "      <td>Carb Diesel</td>\n",
       "      <td>PF4</td>\n",
       "      <td>Spot Price FOB</td>\n",
       "      <td>EER_EPD2DC_PF4_Y05LA_DPG</td>\n",
       "      <td>Los Angeles, CA Ultra-Low Sulfur CARB Diesel S...</td>\n",
       "    </tr>\n",
       "    <tr>\n",
       "      <th>128</th>\n",
       "      <td>2009-08-14</td>\n",
       "      <td>Y35NY</td>\n",
       "      <td>NEW YORK CITY</td>\n",
       "      <td>EPD2DXL0</td>\n",
       "      <td>No 2 Diesel Low Sulfur (0-15 ppm)</td>\n",
       "      <td>PF4</td>\n",
       "      <td>Spot Price FOB</td>\n",
       "      <td>EER_EPD2DXL0_PF4_Y35NY_DPG</td>\n",
       "      <td>New York Harbor Ultra-Low Sulfur No 2 Diesel S...</td>\n",
       "    </tr>\n",
       "    <tr>\n",
       "      <th>1562</th>\n",
       "      <td>2015-11-13</td>\n",
       "      <td>RGC</td>\n",
       "      <td>NA</td>\n",
       "      <td>EPD2DXL0</td>\n",
       "      <td>No 2 Diesel Low Sulfur (0-15 ppm)</td>\n",
       "      <td>PF4</td>\n",
       "      <td>Spot Price FOB</td>\n",
       "      <td>EER_EPD2DXL0_PF4_RGC_DPG</td>\n",
       "      <td>U.S. Gulf Coast Ultra-Low Sulfur No 2 Diesel S...</td>\n",
       "    </tr>\n",
       "    <tr>\n",
       "      <th>2015</th>\n",
       "      <td>2023-04-28</td>\n",
       "      <td>RGC</td>\n",
       "      <td>NA</td>\n",
       "      <td>EPJK</td>\n",
       "      <td>Kerosene-Type Jet Fuel</td>\n",
       "      <td>PF4</td>\n",
       "      <td>Spot Price FOB</td>\n",
       "      <td>EER_EPJK_PF4_RGC_DPG</td>\n",
       "      <td>U.S. Gulf Coast Kerosene-Type Jet Fuel Spot Pr...</td>\n",
       "    </tr>\n",
       "  </tbody>\n",
       "</table>\n",
       "</div>"
      ],
      "text/plain": [
       "          period duoarea      area-name   product  \\\n",
       "4126  2014-02-21   Y35NY  NEW YORK CITY     EPMRU   \n",
       "4546  2005-05-06   Y05LA    LOS ANGELES    EPD2DC   \n",
       "128   2009-08-14   Y35NY  NEW YORK CITY  EPD2DXL0   \n",
       "1562  2015-11-13     RGC             NA  EPD2DXL0   \n",
       "2015  2023-04-28     RGC             NA      EPJK   \n",
       "\n",
       "                           product-name process    process-name  \\\n",
       "4126      Conventional Regular Gasoline     PF4  Spot Price FOB   \n",
       "4546                        Carb Diesel     PF4  Spot Price FOB   \n",
       "128   No 2 Diesel Low Sulfur (0-15 ppm)     PF4  Spot Price FOB   \n",
       "1562  No 2 Diesel Low Sulfur (0-15 ppm)     PF4  Spot Price FOB   \n",
       "2015             Kerosene-Type Jet Fuel     PF4  Spot Price FOB   \n",
       "\n",
       "                          series  \\\n",
       "4126     EER_EPMRU_PF4_Y35NY_DPG   \n",
       "4546    EER_EPD2DC_PF4_Y05LA_DPG   \n",
       "128   EER_EPD2DXL0_PF4_Y35NY_DPG   \n",
       "1562    EER_EPD2DXL0_PF4_RGC_DPG   \n",
       "2015        EER_EPJK_PF4_RGC_DPG   \n",
       "\n",
       "                                     series-description  \n",
       "4126  New York Harbor Conventional Gasoline Regular ...  \n",
       "4546  Los Angeles, CA Ultra-Low Sulfur CARB Diesel S...  \n",
       "128   New York Harbor Ultra-Low Sulfur No 2 Diesel S...  \n",
       "1562  U.S. Gulf Coast Ultra-Low Sulfur No 2 Diesel S...  \n",
       "2015  U.S. Gulf Coast Kerosene-Type Jet Fuel Spot Pr...  "
      ]
     },
     "execution_count": 29,
     "metadata": {},
     "output_type": "execute_result"
    }
   ],
   "source": [
    "oil_data.sample(5)"
   ]
  },
  {
   "cell_type": "code",
   "execution_count": 59,
   "metadata": {},
   "outputs": [
    {
     "data": {
      "text/plain": [
       "period                   0\n",
       "duoarea                  0\n",
       "area-name             2754\n",
       "product                  0\n",
       "product-name             0\n",
       "process                  0\n",
       "process-name             0\n",
       "series                   0\n",
       "series-description       0\n",
       "dtype: int64"
      ]
     },
     "execution_count": 59,
     "metadata": {},
     "output_type": "execute_result"
    }
   ],
   "source": [
    "nan = ['NA','NaN','-', '0']\n",
    "oil_data.isin(nan).sum()"
   ]
  },
  {
   "cell_type": "markdown",
   "metadata": {},
   "source": [
    "> In the oil dataset there appears to be 2754 NA values from the area-name column. The other columns doesn't have NA values."
   ]
  },
  {
   "cell_type": "markdown",
   "metadata": {},
   "source": [
    "Inspecting the dataframe visually"
   ]
  },
  {
   "cell_type": "code",
   "execution_count": null,
   "metadata": {},
   "outputs": [],
   "source": []
  },
  {
   "cell_type": "markdown",
   "metadata": {},
   "source": [
    "Issue and justification: *FILL IN*"
   ]
  },
  {
   "cell_type": "markdown",
   "metadata": {
    "id": "8Be77N4I1AmE"
   },
   "source": [
    "### Quality Issue 2:"
   ]
  },
  {
   "cell_type": "markdown",
   "metadata": {},
   "source": [
    "#### Stocks Dataset"
   ]
  },
  {
   "cell_type": "markdown",
   "metadata": {},
   "source": [
    "Inspecting the dataframe visually"
   ]
  },
  {
   "cell_type": "code",
   "execution_count": null,
   "metadata": {
    "id": "iMhHyiyLM2I3"
   },
   "outputs": [],
   "source": [
    "## Inspecting the dataframe visually"
   ]
  },
  {
   "cell_type": "code",
   "execution_count": null,
   "metadata": {},
   "outputs": [
    {
     "data": {
      "text/plain": [
       "Price      Ticker\n",
       "Date                 datetime64[ns]\n",
       "Adj Close  AAPL             float64\n",
       "           AMZN             float64\n",
       "           GOOGL            float64\n",
       "           META             float64\n",
       "           MSFT             float64\n",
       "Close      AAPL             float64\n",
       "           AMZN             float64\n",
       "           GOOGL            float64\n",
       "           META             float64\n",
       "           MSFT             float64\n",
       "High       AAPL             float64\n",
       "           AMZN             float64\n",
       "           GOOGL            float64\n",
       "           META             float64\n",
       "           MSFT             float64\n",
       "Low        AAPL             float64\n",
       "           AMZN             float64\n",
       "           GOOGL            float64\n",
       "           META             float64\n",
       "           MSFT             float64\n",
       "Open       AAPL             float64\n",
       "           AMZN             float64\n",
       "           GOOGL            float64\n",
       "           META             float64\n",
       "           MSFT             float64\n",
       "Volume     AAPL               int64\n",
       "           AMZN               int64\n",
       "           GOOGL            float64\n",
       "           META             float64\n",
       "           MSFT               int64\n",
       "dtype: object"
      ]
     },
     "metadata": {},
     "output_type": "display_data"
    }
   ],
   "source": [
    "stocks_data.dtypes"
   ]
  },
  {
   "cell_type": "markdown",
   "metadata": {},
   "source": [
    "Inspecting the dataframe programmatically"
   ]
  },
  {
   "cell_type": "code",
   "execution_count": null,
   "metadata": {
    "id": "bnviRCUI-bb7"
   },
   "outputs": [],
   "source": [
    "## Inspecting the dataframe programmatically"
   ]
  },
  {
   "cell_type": "markdown",
   "metadata": {},
   "source": [
    "#### Oil Dataset"
   ]
  },
  {
   "cell_type": "markdown",
   "metadata": {},
   "source": [
    "Inspecting the dataframe programmatically"
   ]
  },
  {
   "cell_type": "code",
   "execution_count": null,
   "metadata": {},
   "outputs": [],
   "source": []
  },
  {
   "cell_type": "markdown",
   "metadata": {},
   "source": [
    "Inspecting the dataframe visually"
   ]
  },
  {
   "cell_type": "code",
   "execution_count": null,
   "metadata": {},
   "outputs": [],
   "source": []
  },
  {
   "cell_type": "markdown",
   "metadata": {
    "id": "lXhGiYyiwwKN"
   },
   "source": [
    "### Tidiness Issue 1:"
   ]
  },
  {
   "cell_type": "markdown",
   "metadata": {},
   "source": [
    "Inspecting the dataframe programmatically"
   ]
  },
  {
   "cell_type": "code",
   "execution_count": null,
   "metadata": {
    "id": "fleC5rORI0Xl"
   },
   "outputs": [],
   "source": [
    "## Inspecting the dataframe visually"
   ]
  },
  {
   "cell_type": "markdown",
   "metadata": {},
   "source": [
    "Inspecting the dataframe visually"
   ]
  },
  {
   "cell_type": "code",
   "execution_count": null,
   "metadata": {
    "id": "BTuQw7Rbsio4"
   },
   "outputs": [],
   "source": [
    "## Inspecting the dataframe programmatically"
   ]
  },
  {
   "cell_type": "markdown",
   "metadata": {},
   "source": [
    "Issue and justification: *FILL IN*"
   ]
  },
  {
   "cell_type": "markdown",
   "metadata": {
    "id": "4ffMoRGSwzYj"
   },
   "source": [
    "### Tidiness Issue 2: "
   ]
  },
  {
   "cell_type": "markdown",
   "metadata": {},
   "source": [
    "Inspecting the dataframe programmatically"
   ]
  },
  {
   "cell_type": "code",
   "execution_count": null,
   "metadata": {
    "id": "XUpeoqokw5Qt"
   },
   "outputs": [],
   "source": [
    "## Inspecting the dataframe visually"
   ]
  },
  {
   "cell_type": "markdown",
   "metadata": {},
   "source": [
    "Inspecting the dataframe visually"
   ]
  },
  {
   "cell_type": "code",
   "execution_count": null,
   "metadata": {
    "id": "c8JK4DoXxtFA"
   },
   "outputs": [],
   "source": [
    "## Inspecting the dataframe programmatically"
   ]
  },
  {
   "cell_type": "markdown",
   "metadata": {},
   "source": [
    "Issue and justification: *FILL IN*"
   ]
  },
  {
   "cell_type": "markdown",
   "metadata": {
    "id": "D6gmLnBttpCh"
   },
   "source": [
    "## 3. Clean data\n",
    "It's time to address the issues found during assessment to clean and polish your data.\n",
    "\n",
    "Clean the data to solve the 4 issues corresponding to data quality and tidiness found in the assessing step. **Make sure you include justifications for your cleaning decisions.**\n",
    "\n",
    "After the cleaning for each issue, please use **either** the visually or programatical method to validate the cleaning was succesful.\n",
    "\n",
    "At this stage, you are also expected to remove variables that are unnecessary for your analysis and combine your datasets. Depending on your datasets, you may choose to perform variable combination and elimination before or after the cleaning stage. Your dataset must have **at least** 4 variables after combining the data."
   ]
  },
  {
   "cell_type": "code",
   "execution_count": null,
   "metadata": {},
   "outputs": [],
   "source": [
    "# FILL IN - Make copies of the datasets to ensure the raw dataframes \n",
    "# are not impacted"
   ]
  },
  {
   "cell_type": "markdown",
   "metadata": {
    "id": "FmFhN52Yyn3l"
   },
   "source": [
    "### **Quality Issue 1: FILL IN**"
   ]
  },
  {
   "cell_type": "code",
   "execution_count": null,
   "metadata": {
    "id": "9UejDWrNMW4a"
   },
   "outputs": [],
   "source": [
    "# FILL IN - Apply the cleaning strategy"
   ]
  },
  {
   "cell_type": "code",
   "execution_count": null,
   "metadata": {
    "id": "oUBee-LPytkv"
   },
   "outputs": [],
   "source": [
    "# FILL IN - Validate the cleaning was successful"
   ]
  },
  {
   "cell_type": "markdown",
   "metadata": {},
   "source": [
    "Justification: *FILL IN*"
   ]
  },
  {
   "cell_type": "markdown",
   "metadata": {
    "id": "n_DAUbJrymBL"
   },
   "source": [
    "### **Quality Issue 2: FILL IN**"
   ]
  },
  {
   "cell_type": "code",
   "execution_count": null,
   "metadata": {
    "id": "5Yfb-Yu5MTuE"
   },
   "outputs": [],
   "source": [
    "#FILL IN - Apply the cleaning strategy"
   ]
  },
  {
   "cell_type": "code",
   "execution_count": null,
   "metadata": {
    "id": "ionB2sRaMUmY"
   },
   "outputs": [],
   "source": [
    "#FILL IN - Validate the cleaning was successful"
   ]
  },
  {
   "cell_type": "markdown",
   "metadata": {},
   "source": [
    "Justification: *FILL IN*"
   ]
  },
  {
   "cell_type": "markdown",
   "metadata": {
    "id": "bIUrrfSNyOPR"
   },
   "source": [
    "### **Tidiness Issue 1: FILL IN**"
   ]
  },
  {
   "cell_type": "code",
   "execution_count": null,
   "metadata": {
    "id": "fib0zAm333bn"
   },
   "outputs": [],
   "source": [
    "#FILL IN - Apply the cleaning strategy"
   ]
  },
  {
   "cell_type": "code",
   "execution_count": null,
   "metadata": {
    "id": "yhrnUGY_Nk8B"
   },
   "outputs": [],
   "source": [
    "#FILL IN - Validate the cleaning was successful"
   ]
  },
  {
   "cell_type": "markdown",
   "metadata": {},
   "source": [
    "Justification: *FILL IN*"
   ]
  },
  {
   "cell_type": "markdown",
   "metadata": {
    "id": "o51Bt8kwyTzk"
   },
   "source": [
    "### **Tidiness Issue 2: FILL IN**"
   ]
  },
  {
   "cell_type": "code",
   "execution_count": null,
   "metadata": {
    "id": "7zW8O5yx4Y9O"
   },
   "outputs": [],
   "source": [
    "#FILL IN - Apply the cleaning strategy"
   ]
  },
  {
   "cell_type": "code",
   "execution_count": null,
   "metadata": {
    "id": "q6I_Sr7lxXi5"
   },
   "outputs": [],
   "source": [
    "#FILL IN - Validate the cleaning was successful"
   ]
  },
  {
   "cell_type": "markdown",
   "metadata": {},
   "source": [
    "Justification: *FILL IN*"
   ]
  },
  {
   "cell_type": "markdown",
   "metadata": {},
   "source": [
    "### **Remove unnecessary variables and combine datasets**\n",
    "\n",
    "Depending on the datasets, you can also peform the combination before the cleaning steps."
   ]
  },
  {
   "cell_type": "code",
   "execution_count": null,
   "metadata": {},
   "outputs": [],
   "source": [
    "#FILL IN - Remove unnecessary variables and combine datasets"
   ]
  },
  {
   "cell_type": "markdown",
   "metadata": {
    "id": "F42urHuzttjF"
   },
   "source": [
    "## 4. Update the data store\n",
    "In this section, the local database/data store in the directory data are updated with the cleaned data too, with best practices for storing cleaned data:\n",
    "- Maintained different instances / versions of data (raw and cleaned data)\n",
    "- Named the dataset files informatively\n",
    "- Ensure both the raw and cleaned data are saved to the database/data store directory."
   ]
  },
  {
   "cell_type": "markdown",
   "metadata": {},
   "source": [
    "> Now the datasets are cleaned they are saved to separete file."
   ]
  },
  {
   "cell_type": "code",
   "execution_count": null,
   "metadata": {
    "id": "V3uay7EJUV_L"
   },
   "outputs": [],
   "source": [
    "oil_data.to_csv('data/oil_data_api_cleaned.csv', index=False) ## store to cvs file"
   ]
  },
  {
   "cell_type": "code",
   "execution_count": null,
   "metadata": {},
   "outputs": [],
   "source": [
    "stocks_data.to_csv('data/stock_data_cleaned.csv', index=False) ## store to cvs file"
   ]
  },
  {
   "cell_type": "markdown",
   "metadata": {
    "id": "cGy_yddGtzhM"
   },
   "source": [
    "## 5. Answer the research question\n",
    "\n",
    "### **5.1:** Define and answer the research question \n",
    "Going back to the problem statement in step 1, use the cleaned data to answer the question you raised. Produce **at least** two visualizations using the cleaned data and explain how they help you answer the question."
   ]
  },
  {
   "cell_type": "markdown",
   "metadata": {
    "id": "gjedE4s4ZkEd"
   },
   "source": [
    "*Research question:* FILL IN from answer to Step 1"
   ]
  },
  {
   "cell_type": "code",
   "execution_count": null,
   "metadata": {
    "id": "Lkw3rW9kZmOm"
   },
   "outputs": [],
   "source": [
    "#Visual 1 - FILL IN"
   ]
  },
  {
   "cell_type": "markdown",
   "metadata": {},
   "source": [
    "*Answer to research question:* FILL IN"
   ]
  },
  {
   "cell_type": "code",
   "execution_count": null,
   "metadata": {
    "id": "6fdK_8ZGZm9R"
   },
   "outputs": [],
   "source": [
    "#Visual 2 - FILL IN"
   ]
  },
  {
   "cell_type": "markdown",
   "metadata": {
    "id": "K5RgvMGUZoHn"
   },
   "source": [
    "*Answer to research question:* FILL IN"
   ]
  },
  {
   "cell_type": "markdown",
   "metadata": {
    "id": "0ezWXXZVj-TP"
   },
   "source": [
    "### **5.2:** Reflection\n",
    "In 2-4 sentences, if you had more time to complete the project, what actions would you take? For example, which data quality and structural issues would you look into further, and what research questions would you further explore?"
   ]
  },
  {
   "cell_type": "markdown",
   "metadata": {
    "id": "XB3RBDG5kFe1"
   },
   "source": [
    "*Answer:* FILL IN"
   ]
  }
 ],
 "metadata": {
  "colab": {
   "provenance": []
  },
  "kernelspec": {
   "display_name": "Python 3 (ipykernel)",
   "language": "python",
   "name": "python3"
  },
  "language_info": {
   "codemirror_mode": {
    "name": "ipython",
    "version": 3
   },
   "file_extension": ".py",
   "mimetype": "text/x-python",
   "name": "python",
   "nbconvert_exporter": "python",
   "pygments_lexer": "ipython3",
   "version": "3.11.0"
  }
 },
 "nbformat": 4,
 "nbformat_minor": 1
}
